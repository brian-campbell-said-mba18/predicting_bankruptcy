{
 "cells": [
  {
   "cell_type": "markdown",
   "metadata": {},
   "source": [
    "# Capstone Project: The Efficacy of Multilayer Perceptron Algorithms in Predicting Bankruptcy, The Models"
   ]
  },
  {
   "cell_type": "markdown",
   "metadata": {},
   "source": [
    "## Table of Contents"
   ]
  },
  {
   "cell_type": "markdown",
   "metadata": {},
   "source": [
    "<ul>\n",
    "<li><a href=\"#DISCLOSURE\">DISCLOSURE</a></li>\n",
    "<li><a href=\"#introduction\">INTRODUCTION</a></li>\n",
    "<li><a href=\"#Benchmark Logistic Regression\">Benchmark Logistic Regression</a></li>\n",
    "<li><a href=\"#MLP Model\">MLP Model</a></li>\n",
    "<li><a href=\"#references\">References</a></li>\n",
    "</ul>"
   ]
  },
  {
   "cell_type": "markdown",
   "metadata": {},
   "source": [
    "<a id='DISCLOSURE'></a>\n",
    "## DISCLOSURE\n",
    "Please note, that this notebook, \"bankruptcy-model.ipynb\" ONLY COVERS the modeling of the data. Simply, the jupyter notebook, \"bankruptcy-data.ipynb\" was too big to include the models."
   ]
  },
  {
   "cell_type": "markdown",
   "metadata": {},
   "source": [
    "<a id='introduction'></a>\n",
    "## INTRODUCTION\n",
    "This part of the analyis loads the preprocessed data: a dataset with no null values (\"No Nulls\"), a dataset with imputed null values (\"Nulls Only'), a dataset that has a dummy variable for each feature variable that signals whether a value in the feature column is null (\"One Hot\"), and a dataset with imputed null values and a variable that counts the number of null values in a given row of data (\"Sum\"). Logistic regression models are applied to these four datasets as the benchmark models. Next, Multi Layer Perceptron (MLP) models are made for the four datasets. The AUC scores are calculated for all the models. The conclusion compares the AUC scores of the MLP models to the Logistic Regression models, and offers additional insight into these models."
   ]
  },
  {
   "cell_type": "markdown",
   "metadata": {},
   "source": [
    "<a id='Benchmark Logistic Regression'></a>\n",
    "## Benchmark Logistic Regression\n",
    "Logistic regression servers as a good benchmark model for predicting bankruptcies. It's a basic model that analyzes a binary target variable (bankrupt vs not bankrupt)."
   ]
  },
  {
   "cell_type": "code",
   "execution_count": 1,
   "metadata": {},
   "outputs": [],
   "source": [
    "# This imports the necessary libraries for the logistic regression models.\n",
    "from sklearn.linear_model import LogisticRegression\n",
    "\n",
    "# This imports the AUC score for scoring the models.\n",
    "# This comes from Reference 27 in References.\n",
    "from sklearn.metrics import roc_auc_score\n",
    "\n",
    "# These are libraries that will be needed to organize data,\n",
    "# graph data, and change the working directory.\n",
    "import numpy as np \n",
    "import pandas as pd\n",
    "import matplotlib.pyplot as plt\n",
    "import seaborn as sns\n",
    "import os\n",
    "%matplotlib inline\n"
   ]
  },
  {
   "cell_type": "markdown",
   "metadata": {},
   "source": [
    "### Load Data: No Nulls"
   ]
  },
  {
   "cell_type": "code",
   "execution_count": 2,
   "metadata": {},
   "outputs": [],
   "source": [
    "# This loads the no_nulls X training and testing data\n",
    "# from the CSVs and converts the data to np.arrays.\n",
    "Xtrain_nonulls = pd.read_csv('no-peaking/Xtrain_nonulls.csv')\n",
    "Xtrain_nonulls = np.array(Xtrain_nonulls)\n",
    "Xtest_nonulls = pd.read_csv('no-peaking/Xtest_nonulls.csv')\n",
    "Xtest_nonulls = np.array(Xtest_nonulls)\n",
    "\n",
    "# This loads the no_nulls Y training and tesing data\n",
    "# from the CSVs. It also ravels the y_data, so only \n",
    "# rows are shown, not columns.\n",
    "Ytrain_nonulls = pd.read_csv('no-peaking/Ytrain_nonulls.csv')\n",
    "Ytrain_nonulls = np.array(Ytrain_nonulls)\n",
    "Ytrain_nonulls = Ytrain_nonulls.ravel() \n",
    "Ytest_nonulls = pd.read_csv('no-peaking/Ytest_nonulls.csv')\n",
    "Ytest_nonulls = np.array(Ytest_nonulls)\n",
    "Ytest_nonulls = Ytest_nonulls.ravel()"
   ]
  },
  {
   "cell_type": "markdown",
   "metadata": {},
   "source": [
    "### Performing Hold-out Cross-Validation on just the training set\n",
    "K-fold Cross-Validation is a standard method for preventing a logistic regression model from overfitting. However, because the testing set, the fifth year of the dataset, is arbitrarily chosen (not random), K-fold Cross-Validation cannot be applied to the dataset (Reference 3). K-fold Cross-Validation would corrupt the testing set with data leakage considering that the dataset is a time-series set (Reference 3). To prevent data leakage, Hold-out cross-Validation will only be applied to the training set (References 3 & 4). Hold-out Cross-Validation takes a percentage of the training set as a validation set to test the accuracy of the model during the training stage. This method of cross validation, like all methods, is used to prevent the overfitting of a model and poor accuracy performance when applying the testing data to the fitted model (Reference 3)."
   ]
  },
  {
   "cell_type": "markdown",
   "metadata": {},
   "source": [
    "### No Nulls Logistic Regression Benchmark"
   ]
  },
  {
   "cell_type": "code",
   "execution_count": 3,
   "metadata": {},
   "outputs": [],
   "source": [
    "# This import train_test_split from sklearn.\n",
    "from sklearn.model_selection import train_test_split"
   ]
  },
  {
   "cell_type": "code",
   "execution_count": 4,
   "metadata": {},
   "outputs": [],
   "source": [
    "# This creates the hold-out validation set for the logistic regression model\n",
    "# for the No Nulls dataset.\n",
    "# This comes from Reference 4 in References.\n",
    "Xtrain_nonulls, Xval_nonulls, Ytrain_nonulls, Yval_nonulls = train_test_split(\n",
    "                    Xtrain_nonulls, Ytrain_nonulls, test_size = 0.2, random_state = 13)"
   ]
  },
  {
   "cell_type": "code",
   "execution_count": 5,
   "metadata": {},
   "outputs": [
    {
     "name": "stderr",
     "output_type": "stream",
     "text": [
      "C:\\Users\\bgcam\\Anaconda3\\envs\\py36\\lib\\site-packages\\sklearn\\linear_model\\logistic.py:432: FutureWarning: Default solver will be changed to 'lbfgs' in 0.22. Specify a solver to silence this warning.\n",
      "  FutureWarning)\n"
     ]
    },
    {
     "data": {
      "text/plain": [
       "0.8493093121316346"
      ]
     },
     "execution_count": 5,
     "metadata": {},
     "output_type": "execute_result"
    }
   ],
   "source": [
    "# This creates the logistic regression model for the No Nulls Dataset.\n",
    "log_nonulls = LogisticRegression(penalty='l2', max_iter=1000)\n",
    "\n",
    "# This fits the log_nonulls model with the training data.\n",
    "log_nonulls.fit(Xtrain_nonulls,Ytrain_nonulls)\n",
    "\n",
    "# This predicts the y values from the Xval dataset.\n",
    "yval_pred_nonulls = log_nonulls.predict(Xval_nonulls)\n",
    "\n",
    "# This returns the validation AUC score.\n",
    "VAL_auc_nonulls = roc_auc_score(Yval_nonulls, yval_pred_nonulls)\n",
    "VAL_auc_nonulls"
   ]
  },
  {
   "cell_type": "code",
   "execution_count": 6,
   "metadata": {
    "scrolled": true
   },
   "outputs": [
    {
     "name": "stdout",
     "output_type": "stream",
     "text": [
      "The AUC score for the model is 0.3675.\n"
     ]
    }
   ],
   "source": [
    "# This tests the model, built on the training data, with the\n",
    "# testing data from year 5.\n",
    "ytest_pred_nonulls = log_nonulls.predict(Xtest_nonulls)\n",
    "TEST_auc_nonulls = roc_auc_score(Ytest_nonulls, ytest_pred_nonulls)\n",
    "print(\"The AUC score for the model is %.4f.\" % TEST_auc_nonulls)"
   ]
  },
  {
   "cell_type": "markdown",
   "metadata": {},
   "source": [
    "### Load Data: Nulls only"
   ]
  },
  {
   "cell_type": "code",
   "execution_count": 7,
   "metadata": {},
   "outputs": [],
   "source": [
    "# This loads the Nulls only training and testing data\n",
    "# from the CSVs and converts the data to np.arrays.\n",
    "Xtrain_nullsonly = pd.read_csv('no-peaking/Xtrain_sum.csv')\n",
    "Xtrain_nullsonly = Xtrain_nullsonly.drop(\n",
    "    Xtrain_nullsonly.columns[64], axis=1)\n",
    "Xtrain_nullsonly = np.array(Xtrain_nullsonly)\n",
    "Xtest_nullsonly = pd.read_csv('no-peaking/Xtest_sum.csv')\n",
    "Xtest_nullsonly = Xtest_nullsonly.drop(\n",
    "    Xtest_nullsonly.columns[64], axis=1)\n",
    "Xtest_nullsonly = np.array(Xtest_nullsonly)\n",
    "\n",
    "# This loads the Nulls only Y training and tesing data\n",
    "# from the CSVs. It also ravels the y_data, so only \n",
    "# rows are shown, not columns.\n",
    "Ytrain_nullsonly = pd.read_csv('no-peaking/Ytrain_sum.csv')\n",
    "Ytrain_nullsonly = np.array(Ytrain_nullsonly)\n",
    "Ytrain_nullsonly = Ytrain_nullsonly.ravel() \n",
    "Ytest_nullsonly = pd.read_csv('no-peaking/Ytest_sum.csv')\n",
    "Ytest_nullsonly = np.array(Ytest_nullsonly)\n",
    "Ytest_nullsonly = Ytest_nullsonly.ravel()"
   ]
  },
  {
   "cell_type": "markdown",
   "metadata": {},
   "source": [
    "### Nulls Only Logistic Regression Benchmark"
   ]
  },
  {
   "cell_type": "code",
   "execution_count": 8,
   "metadata": {},
   "outputs": [],
   "source": [
    "# This creates the hold-out validation set for the logistic regression model\n",
    "# for the Nulls Only dataset.\n",
    "# This comes from Reference 4 in References.\n",
    "Xtrain_nullsonly, Xval_nullsonly, Ytrain_nullsonly, Yval_nullsonly = train_test_split(\n",
    "                    Xtrain_nullsonly, Ytrain_nullsonly, test_size = 0.2, random_state = 13)"
   ]
  },
  {
   "cell_type": "code",
   "execution_count": 9,
   "metadata": {},
   "outputs": [
    {
     "name": "stderr",
     "output_type": "stream",
     "text": [
      "C:\\Users\\bgcam\\Anaconda3\\envs\\py36\\lib\\site-packages\\sklearn\\linear_model\\logistic.py:432: FutureWarning: Default solver will be changed to 'lbfgs' in 0.22. Specify a solver to silence this warning.\n",
      "  FutureWarning)\n"
     ]
    },
    {
     "data": {
      "text/plain": [
       "0.7335101563282769"
      ]
     },
     "execution_count": 9,
     "metadata": {},
     "output_type": "execute_result"
    }
   ],
   "source": [
    "# This creates the logistic regression model for the Nulls Only Dataset.\n",
    "log_nullsonly = LogisticRegression(penalty='l2', max_iter=1000)\n",
    "\n",
    "# This fits the Log_nullsonly model with the training data.\n",
    "log_nullsonly.fit(Xtrain_nullsonly,Ytrain_nullsonly)\n",
    "\n",
    "# This predicts the y values from the Xval dataset.\n",
    "yval_pred_nullsonly = log_nullsonly.predict(Xval_nullsonly)\n",
    "\n",
    "# This returns the validation AUC score.\n",
    "VAL_auc_nullsonly = roc_auc_score(Yval_nullsonly, yval_pred_nullsonly)\n",
    "VAL_auc_nullsonly"
   ]
  },
  {
   "cell_type": "code",
   "execution_count": 10,
   "metadata": {
    "scrolled": true
   },
   "outputs": [
    {
     "name": "stdout",
     "output_type": "stream",
     "text": [
      "The AUC score for the model is 0.6903.\n"
     ]
    }
   ],
   "source": [
    "# This tests the model, built on the training data, with the\n",
    "# testing data from year 5.\n",
    "ytest_pred_nullsonly = log_nullsonly.predict(Xtest_nullsonly)\n",
    "TEST_auc_nullsonly = roc_auc_score(Ytest_nullsonly, ytest_pred_nullsonly)\n",
    "print(\"The AUC score for the model is %.4f.\" % TEST_auc_nullsonly)"
   ]
  },
  {
   "cell_type": "markdown",
   "metadata": {},
   "source": [
    "### Load Data: Onehot"
   ]
  },
  {
   "cell_type": "code",
   "execution_count": 11,
   "metadata": {},
   "outputs": [],
   "source": [
    "# This loads the one hot X training and testing data\n",
    "# from the CSVs and converts the data to np.arrays.\n",
    "Xtrain_onehot = pd.read_csv('no-peaking/Xtrain_onehot.csv')\n",
    "Xtrain_onehot = np.array(Xtrain_onehot)\n",
    "Xtest_onehot = pd.read_csv('no-peaking/Xtest_onehot.csv')\n",
    "Xtest_onehot = np.array(Xtest_onehot)\n",
    "\n",
    "# This loads the one hot Y training and tesing data\n",
    "# from the CSVs. It also ravels the y_data, so only \n",
    "# rows are shown, not columns.\n",
    "Ytrain_onehot = pd.read_csv('no-peaking/Ytrain_onehot.csv')\n",
    "Ytrain_onehot = np.array(Ytrain_onehot)\n",
    "Ytrain_onehot = Ytrain_onehot.ravel() \n",
    "Ytest_onehot = pd.read_csv('no-peaking/Ytest_onehot.csv')\n",
    "Ytest_onehot = np.array(Ytest_onehot)\n",
    "Ytest_onehot = Ytest_onehot.ravel()"
   ]
  },
  {
   "cell_type": "markdown",
   "metadata": {},
   "source": [
    "### One Hot Logistic Regression Benchmark"
   ]
  },
  {
   "cell_type": "code",
   "execution_count": 12,
   "metadata": {},
   "outputs": [],
   "source": [
    "# This creates the hold-out validation set for the logistic regression model\n",
    "# for the One Hot dataset.\n",
    "# This comes from Reference 4 in References.\n",
    "Xtrain_onehot, Xval_onehot, Ytrain_onehot, Yval_onehot = train_test_split(\n",
    "                    Xtrain_onehot, Ytrain_onehot, test_size = 0.2, random_state = 13)"
   ]
  },
  {
   "cell_type": "code",
   "execution_count": 13,
   "metadata": {},
   "outputs": [
    {
     "name": "stderr",
     "output_type": "stream",
     "text": [
      "C:\\Users\\bgcam\\Anaconda3\\envs\\py36\\lib\\site-packages\\sklearn\\linear_model\\logistic.py:432: FutureWarning: Default solver will be changed to 'lbfgs' in 0.22. Specify a solver to silence this warning.\n",
      "  FutureWarning)\n"
     ]
    },
    {
     "data": {
      "text/plain": [
       "0.866889447207181"
      ]
     },
     "execution_count": 13,
     "metadata": {},
     "output_type": "execute_result"
    }
   ],
   "source": [
    "# This creates the logistic regression model for the One Hot Dataset.\n",
    "log_onehot = LogisticRegression(penalty='l2', max_iter=1000)\n",
    "\n",
    "# This fits the log_onehot model with the training data.\n",
    "log_onehot.fit(Xtrain_onehot,Ytrain_onehot)\n",
    "\n",
    "# This predicts the y values from the Xval dataset.\n",
    "yval_pred_onehot = log_onehot.predict(Xval_onehot)\n",
    "\n",
    "# This returns the validation AUC score.\n",
    "VAL_auc_onehot = roc_auc_score(Yval_onehot, yval_pred_onehot)\n",
    "VAL_auc_onehot"
   ]
  },
  {
   "cell_type": "code",
   "execution_count": 14,
   "metadata": {},
   "outputs": [
    {
     "name": "stdout",
     "output_type": "stream",
     "text": [
      "The AUC score for the model is 0.6872.\n"
     ]
    }
   ],
   "source": [
    "# This tests the model, built on the training data, with the\n",
    "# testing data from year 5.\n",
    "ytest_pred_onehot = log_onehot.predict(Xtest_onehot)\n",
    "TEST_auc_onehot = roc_auc_score(Ytest_onehot, ytest_pred_onehot)\n",
    "print(\"The AUC score for the model is %.4f.\" % TEST_auc_onehot)"
   ]
  },
  {
   "cell_type": "markdown",
   "metadata": {},
   "source": [
    "### Load Data: Sum"
   ]
  },
  {
   "cell_type": "code",
   "execution_count": 15,
   "metadata": {},
   "outputs": [],
   "source": [
    "# This loads the SUM X training and testing data\n",
    "# from the CSVs and converts the data to np.arrays.\n",
    "Xtrain_sum = pd.read_csv('no-peaking/Xtrain_sum.csv')\n",
    "Xtrain_sum = np.array(Xtrain_sum)\n",
    "Xtest_sum = pd.read_csv('no-peaking/Xtest_sum.csv')\n",
    "Xtest_sum = np.array(Xtest_sum)\n",
    "\n",
    "# This loads the SUM Y training and tesing data\n",
    "# from the CSVs. It also ravels the y_data, so only \n",
    "# rows are shown, not columns.\n",
    "Ytrain_sum = pd.read_csv('no-peaking/Ytrain_sum.csv')\n",
    "Ytrain_sum = np.array(Ytrain_sum)\n",
    "Ytrain_sum = Ytrain_sum.ravel() \n",
    "Ytest_sum = pd.read_csv('no-peaking/Ytest_sum.csv')\n",
    "Ytest_sum = np.array(Ytest_sum)\n",
    "Ytest_sum = Ytest_sum.ravel()"
   ]
  },
  {
   "cell_type": "markdown",
   "metadata": {},
   "source": [
    "### Sum Logistic Regression Benchmark"
   ]
  },
  {
   "cell_type": "code",
   "execution_count": 16,
   "metadata": {},
   "outputs": [],
   "source": [
    "# This creates the hold-out validation set for the logistic regression model\n",
    "# for the Sum dataset.\n",
    "# This comes from Reference 4 in References.\n",
    "Xtrain_sum, Xval_sum, Ytrain_sum, Yval_sum = train_test_split(\n",
    "                    Xtrain_sum, Ytrain_sum, test_size = 0.2, random_state = 13)"
   ]
  },
  {
   "cell_type": "code",
   "execution_count": 17,
   "metadata": {},
   "outputs": [
    {
     "name": "stderr",
     "output_type": "stream",
     "text": [
      "C:\\Users\\bgcam\\Anaconda3\\envs\\py36\\lib\\site-packages\\sklearn\\linear_model\\logistic.py:432: FutureWarning: Default solver will be changed to 'lbfgs' in 0.22. Specify a solver to silence this warning.\n",
      "  FutureWarning)\n"
     ]
    },
    {
     "data": {
      "text/plain": [
       "0.7454176998689093"
      ]
     },
     "execution_count": 17,
     "metadata": {},
     "output_type": "execute_result"
    }
   ],
   "source": [
    "# This creates the logistic regression model for the Sum Dataset.\n",
    "log_sum = LogisticRegression(penalty='l2', max_iter=1000)\n",
    "\n",
    "# This fits the log_sun model with the training data.\n",
    "log_sum.fit(Xtrain_sum,Ytrain_sum)\n",
    "\n",
    "# This predicts the y values from the Xval dataset.c\n",
    "yval_pred_sum = log_sum.predict(Xval_sum)\n",
    "\n",
    "# This returns the validation AUC score.\n",
    "VAL_auc_sum = roc_auc_score(Yval_sum, yval_pred_sum)\n",
    "VAL_auc_sum"
   ]
  },
  {
   "cell_type": "code",
   "execution_count": 18,
   "metadata": {},
   "outputs": [
    {
     "name": "stdout",
     "output_type": "stream",
     "text": [
      "The AUC score for the model is 0.6822.\n"
     ]
    }
   ],
   "source": [
    "# This tests the model, built on the training data, with the\n",
    "# testing data from year 5.\n",
    "ytest_pred_sum = log_sum.predict(Xtest_sum)\n",
    "TEST_auc_sum = roc_auc_score(Ytest_sum, ytest_pred_sum)\n",
    "print(\"The AUC score for the model is %.4f.\" % TEST_auc_sum)"
   ]
  },
  {
   "cell_type": "markdown",
   "metadata": {},
   "source": [
    "<a id='MLP Model'></a>\n",
    "## MLP Model"
   ]
  },
  {
   "cell_type": "markdown",
   "metadata": {},
   "source": [
    "## MLP Model No Nulls"
   ]
  },
  {
   "cell_type": "code",
   "execution_count": 19,
   "metadata": {},
   "outputs": [
    {
     "name": "stdout",
     "output_type": "stream",
     "text": [
      "Directory already exists.\n"
     ]
    }
   ],
   "source": [
    "# This creates a directory to save the best models for the MLP.\n",
    "# This comes from Reference 13 in References.\n",
    "import os\n",
    "if not os.path.exists('saved_models'):\n",
    "    os.mkdir('saved_models')\n",
    "else:\n",
    "    print(\"Directory already exists.\")"
   ]
  },
  {
   "cell_type": "code",
   "execution_count": 20,
   "metadata": {},
   "outputs": [
    {
     "name": "stderr",
     "output_type": "stream",
     "text": [
      "Using TensorFlow backend.\n"
     ]
    }
   ],
   "source": [
    "# This imports the necessary libraries for the MLP.\n",
    "\n",
    "# This imports the sequential model, the layers,\n",
    "# the SGD optimizer, the regularizers from keras.\n",
    "# This comes from Reference 5 in Referenes.\n",
    "from keras.models import Sequential\n",
    "from keras.layers import Dense, Dropout, Activation\n",
    "from keras.optimizers import SGD, RMSprop, Nadam\n",
    "from keras import regularizers\n",
    "\n",
    "# This imports checkpointer, which records the best weights\n",
    "# for the algorithm.\n",
    "# This comes from Reference 6 in References.\n",
    "from keras.callbacks import ModelCheckpoint\n",
    "import matplotlib.pyplot as plt"
   ]
  },
  {
   "cell_type": "code",
   "execution_count": 21,
   "metadata": {},
   "outputs": [],
   "source": [
    "def build_model(drop_rate, l2_factor, first_dense, second_dense,\n",
    "                third_dense, hidden_act, out_act, x):\n",
    "    dim_int = int(np.size(x,1))\n",
    "    # This defines the model as a sequential model.\n",
    "    # This comes from References 1 in References.\n",
    "    model = Sequential()\n",
    "\n",
    "    # This is the input layer.\n",
    "    # This comes from References 1 & 3 in References.\n",
    "    model.add(Dense(first_dense, activation = hidden_act,\n",
    "        kernel_regularizer = regularizers.l2(l2_factor),\n",
    "        input_dim = dim_int))\n",
    "    model.add(Dropout(drop_rate))\n",
    "\n",
    "    # This creates the first hidden layer.\n",
    "    # This comes from Reference 7 in References.\n",
    "    model.add(Dense(second_dense,\n",
    "        activation = hidden_act,\n",
    "        kernel_regularizer = regularizers.l2(l2_factor)))\n",
    "    model.add(Dropout(drop_rate))\n",
    "    \n",
    "    # This creates the second hidden layer.\n",
    "    # This comes from Reference 7 in References.\n",
    "    model.add(Dense(third_dense,\n",
    "        activation = hidden_act,\n",
    "        kernel_regularizer = regularizers.l2(l2_factor)))\n",
    "    model.add(Dropout(drop_rate))\n",
    "\n",
    "    # This creates the output layer.\n",
    "    # This comes from Reference 7 in References.\n",
    "    model.add(Dense(1, activation=out_act))\n",
    "    # This returns the model.\n",
    "    return model"
   ]
  },
  {
   "cell_type": "markdown",
   "metadata": {},
   "source": [
    "### MLP NO Nulls, default learning rate in Stochastic Loss Optimizer\n",
    "This is a comparison MLP model that uses the default learning rate of 0.01 to descend down the loss gradient in an attempt to find the global minimum (Reference 14)."
   ]
  },
  {
   "cell_type": "code",
   "execution_count": 162,
   "metadata": {},
   "outputs": [],
   "source": [
    "# This comes from Reference 7 in References.\n",
    "n_epochs = 75\n",
    "size_of_batch = 50\n",
    "stochastic = SGD(lr=0.001)\n",
    "DEFAULT_stochastic = SGD()\n",
    "nad = Nadam()\n",
    "RMS = RMSprop()\n",
    "\n",
    "# This builds the MLP model for No NULLS.\n",
    "mlp_nonulls_DEFAULT = build_model(drop_rate=0.5,\n",
    "                            l2_factor=0.001,\n",
    "                             first_dense=32,\n",
    "                             second_dense=16,\n",
    "                             third_dense=8,\n",
    "                            hidden_act='relu',\n",
    "                            out_act='sigmoid',\n",
    "                            x=Xtrain_nonulls)"
   ]
  },
  {
   "cell_type": "code",
   "execution_count": 163,
   "metadata": {},
   "outputs": [],
   "source": [
    "# This compiles the MLP model for the No Nulls data.\n",
    "# This comes from Reference 13 in References.\n",
    "mlp_nonulls_DEFAULT.compile(loss='binary_crossentropy',\n",
    "              optimizer= DEFAULT_stochastic,\n",
    "              metrics=['accuracy'])"
   ]
  },
  {
   "cell_type": "code",
   "execution_count": 164,
   "metadata": {},
   "outputs": [],
   "source": [
    "# This creates checkpointer, which uses ModelCheckpoint to store the\n",
    "# best weights of the model.\n",
    "# This comes from References 6 in References.\n",
    "checkpoint = ModelCheckpoint(filepath='saved_models/weights.best.mlp_nonulls_DEFAULT.hdf5',\n",
    "                             verbose=1, save_best_only=True)"
   ]
  },
  {
   "cell_type": "code",
   "execution_count": 165,
   "metadata": {
    "scrolled": true
   },
   "outputs": [
    {
     "name": "stdout",
     "output_type": "stream",
     "text": [
      "Train on 12592 samples, validate on 3148 samples\n",
      "Epoch 1/75\n",
      "12592/12592 [==============================] - 3s 248us/step - loss: 0.8101 - acc: 0.5098 - val_loss: 0.7591 - val_acc: 0.5743\n",
      "\n",
      "Epoch 00001: val_loss improved from inf to 0.75911, saving model to saved_models/weights.best.mlp_nonulls_DEFAULT.hdf5\n",
      "Epoch 2/75\n",
      "12592/12592 [==============================] - 1s 69us/step - loss: 0.7705 - acc: 0.5314 - val_loss: 0.7473 - val_acc: 0.6836\n",
      "\n",
      "Epoch 00002: val_loss improved from 0.75911 to 0.74732, saving model to saved_models/weights.best.mlp_nonulls_DEFAULT.hdf5\n",
      "Epoch 3/75\n",
      "12592/12592 [==============================] - 1s 78us/step - loss: 0.7572 - acc: 0.5441 - val_loss: 0.7323 - val_acc: 0.7456\n",
      "\n",
      "Epoch 00003: val_loss improved from 0.74732 to 0.73229, saving model to saved_models/weights.best.mlp_nonulls_DEFAULT.hdf5\n",
      "Epoch 4/75\n",
      "12592/12592 [==============================] - 1s 70us/step - loss: 0.7433 - acc: 0.5570 - val_loss: 0.7154 - val_acc: 0.7678\n",
      "\n",
      "Epoch 00004: val_loss improved from 0.73229 to 0.71539, saving model to saved_models/weights.best.mlp_nonulls_DEFAULT.hdf5\n",
      "Epoch 5/75\n",
      "12592/12592 [==============================] - 1s 74us/step - loss: 0.7249 - acc: 0.5747 - val_loss: 0.6928 - val_acc: 0.7649\n",
      "\n",
      "Epoch 00005: val_loss improved from 0.71539 to 0.69282, saving model to saved_models/weights.best.mlp_nonulls_DEFAULT.hdf5\n",
      "Epoch 6/75\n",
      "12592/12592 [==============================] - 1s 72us/step - loss: 0.7084 - acc: 0.5906 - val_loss: 0.6691 - val_acc: 0.7633\n",
      "\n",
      "Epoch 00006: val_loss improved from 0.69282 to 0.66910, saving model to saved_models/weights.best.mlp_nonulls_DEFAULT.hdf5\n",
      "Epoch 7/75\n",
      "12592/12592 [==============================] - 1s 74us/step - loss: 0.6985 - acc: 0.6008 - val_loss: 0.6486 - val_acc: 0.7678\n",
      "\n",
      "Epoch 00007: val_loss improved from 0.66910 to 0.64861, saving model to saved_models/weights.best.mlp_nonulls_DEFAULT.hdf5\n",
      "Epoch 8/75\n",
      "12592/12592 [==============================] - 1s 70us/step - loss: 0.6911 - acc: 0.6221 - val_loss: 0.6339 - val_acc: 0.7697\n",
      "\n",
      "Epoch 00008: val_loss improved from 0.64861 to 0.63387, saving model to saved_models/weights.best.mlp_nonulls_DEFAULT.hdf5\n",
      "Epoch 9/75\n",
      "12592/12592 [==============================] - 1s 73us/step - loss: 0.6805 - acc: 0.6430 - val_loss: 0.6165 - val_acc: 0.7802\n",
      "\n",
      "Epoch 00009: val_loss improved from 0.63387 to 0.61650, saving model to saved_models/weights.best.mlp_nonulls_DEFAULT.hdf5\n",
      "Epoch 10/75\n",
      "12592/12592 [==============================] - 1s 70us/step - loss: 0.6630 - acc: 0.6620 - val_loss: 0.5969 - val_acc: 0.7821\n",
      "\n",
      "Epoch 00010: val_loss improved from 0.61650 to 0.59692, saving model to saved_models/weights.best.mlp_nonulls_DEFAULT.hdf5\n",
      "Epoch 11/75\n",
      "12592/12592 [==============================] - 1s 69us/step - loss: 0.6556 - acc: 0.6691 - val_loss: 0.5816 - val_acc: 0.7881\n",
      "\n",
      "Epoch 00011: val_loss improved from 0.59692 to 0.58163, saving model to saved_models/weights.best.mlp_nonulls_DEFAULT.hdf5\n",
      "Epoch 12/75\n",
      "12592/12592 [==============================] - 1s 75us/step - loss: 0.6441 - acc: 0.6842 - val_loss: 0.5673 - val_acc: 0.7935\n",
      "\n",
      "Epoch 00012: val_loss improved from 0.58163 to 0.56734, saving model to saved_models/weights.best.mlp_nonulls_DEFAULT.hdf5\n",
      "Epoch 13/75\n",
      "12592/12592 [==============================] - 1s 70us/step - loss: 0.6280 - acc: 0.7023 - val_loss: 0.5526 - val_acc: 0.7992\n",
      "\n",
      "Epoch 00013: val_loss improved from 0.56734 to 0.55261, saving model to saved_models/weights.best.mlp_nonulls_DEFAULT.hdf5\n",
      "Epoch 14/75\n",
      "12592/12592 [==============================] - 1s 69us/step - loss: 0.6274 - acc: 0.7044 - val_loss: 0.5394 - val_acc: 0.8059\n",
      "\n",
      "Epoch 00014: val_loss improved from 0.55261 to 0.53936, saving model to saved_models/weights.best.mlp_nonulls_DEFAULT.hdf5\n",
      "Epoch 15/75\n",
      "12592/12592 [==============================] - 1s 77us/step - loss: 0.6092 - acc: 0.7162 - val_loss: 0.5247 - val_acc: 0.8116\n",
      "\n",
      "Epoch 00015: val_loss improved from 0.53936 to 0.52467, saving model to saved_models/weights.best.mlp_nonulls_DEFAULT.hdf5\n",
      "Epoch 16/75\n",
      "12592/12592 [==============================] - 1s 70us/step - loss: 0.6054 - acc: 0.7182 - val_loss: 0.5151 - val_acc: 0.8129\n",
      "\n",
      "Epoch 00016: val_loss improved from 0.52467 to 0.51509, saving model to saved_models/weights.best.mlp_nonulls_DEFAULT.hdf5\n",
      "Epoch 17/75\n",
      "12592/12592 [==============================] - 1s 72us/step - loss: 0.5974 - acc: 0.7273 - val_loss: 0.5037 - val_acc: 0.8202\n",
      "\n",
      "Epoch 00017: val_loss improved from 0.51509 to 0.50373, saving model to saved_models/weights.best.mlp_nonulls_DEFAULT.hdf5\n",
      "Epoch 18/75\n",
      "12592/12592 [==============================] - 1s 68us/step - loss: 0.5776 - acc: 0.7421 - val_loss: 0.4886 - val_acc: 0.8240\n",
      "\n",
      "Epoch 00018: val_loss improved from 0.50373 to 0.48859, saving model to saved_models/weights.best.mlp_nonulls_DEFAULT.hdf5\n",
      "Epoch 19/75\n",
      "12592/12592 [==============================] - 1s 73us/step - loss: 0.5748 - acc: 0.7432 - val_loss: 0.4757 - val_acc: 0.8291\n",
      "\n",
      "Epoch 00019: val_loss improved from 0.48859 to 0.47568, saving model to saved_models/weights.best.mlp_nonulls_DEFAULT.hdf5\n",
      "Epoch 20/75\n",
      "12592/12592 [==============================] - 1s 74us/step - loss: 0.5622 - acc: 0.7515 - val_loss: 0.4667 - val_acc: 0.8297\n",
      "\n",
      "Epoch 00020: val_loss improved from 0.47568 to 0.46666, saving model to saved_models/weights.best.mlp_nonulls_DEFAULT.hdf5\n",
      "Epoch 21/75\n",
      "12592/12592 [==============================] - 1s 68us/step - loss: 0.5540 - acc: 0.7582 - val_loss: 0.4583 - val_acc: 0.8304\n",
      "\n",
      "Epoch 00021: val_loss improved from 0.46666 to 0.45826, saving model to saved_models/weights.best.mlp_nonulls_DEFAULT.hdf5\n",
      "Epoch 22/75\n",
      "12592/12592 [==============================] - 1s 71us/step - loss: 0.5510 - acc: 0.7555 - val_loss: 0.4517 - val_acc: 0.8355\n",
      "\n",
      "Epoch 00022: val_loss improved from 0.45826 to 0.45175, saving model to saved_models/weights.best.mlp_nonulls_DEFAULT.hdf5\n",
      "Epoch 23/75\n",
      "12592/12592 [==============================] - 1s 72us/step - loss: 0.5416 - acc: 0.7644 - val_loss: 0.4425 - val_acc: 0.8351\n",
      "\n",
      "Epoch 00023: val_loss improved from 0.45175 to 0.44252, saving model to saved_models/weights.best.mlp_nonulls_DEFAULT.hdf5\n",
      "Epoch 24/75\n",
      "12592/12592 [==============================] - 1s 66us/step - loss: 0.5344 - acc: 0.7651 - val_loss: 0.4381 - val_acc: 0.8358\n",
      "\n",
      "Epoch 00024: val_loss improved from 0.44252 to 0.43813, saving model to saved_models/weights.best.mlp_nonulls_DEFAULT.hdf5\n",
      "Epoch 25/75\n",
      "12592/12592 [==============================] - 1s 66us/step - loss: 0.5319 - acc: 0.7697 - val_loss: 0.4295 - val_acc: 0.8440\n",
      "\n",
      "Epoch 00025: val_loss improved from 0.43813 to 0.42948, saving model to saved_models/weights.best.mlp_nonulls_DEFAULT.hdf5\n",
      "Epoch 26/75\n",
      "12592/12592 [==============================] - 1s 67us/step - loss: 0.5222 - acc: 0.7733 - val_loss: 0.4245 - val_acc: 0.8475\n",
      "\n",
      "Epoch 00026: val_loss improved from 0.42948 to 0.42449, saving model to saved_models/weights.best.mlp_nonulls_DEFAULT.hdf5\n",
      "Epoch 27/75\n",
      "12592/12592 [==============================] - 1s 66us/step - loss: 0.5178 - acc: 0.7776 - val_loss: 0.4192 - val_acc: 0.8466\n",
      "\n",
      "Epoch 00027: val_loss improved from 0.42449 to 0.41920, saving model to saved_models/weights.best.mlp_nonulls_DEFAULT.hdf5\n",
      "Epoch 28/75\n",
      "12592/12592 [==============================] - 1s 66us/step - loss: 0.5112 - acc: 0.7819 - val_loss: 0.4138 - val_acc: 0.8513\n",
      "\n",
      "Epoch 00028: val_loss improved from 0.41920 to 0.41378, saving model to saved_models/weights.best.mlp_nonulls_DEFAULT.hdf5\n",
      "Epoch 29/75\n",
      "12592/12592 [==============================] - 1s 67us/step - loss: 0.5085 - acc: 0.7849 - val_loss: 0.4086 - val_acc: 0.8507\n",
      "\n",
      "Epoch 00029: val_loss improved from 0.41378 to 0.40861, saving model to saved_models/weights.best.mlp_nonulls_DEFAULT.hdf5\n",
      "Epoch 30/75\n",
      "12592/12592 [==============================] - 1s 66us/step - loss: 0.4975 - acc: 0.7921 - val_loss: 0.4063 - val_acc: 0.8567\n",
      "\n",
      "Epoch 00030: val_loss improved from 0.40861 to 0.40630, saving model to saved_models/weights.best.mlp_nonulls_DEFAULT.hdf5\n",
      "Epoch 31/75\n",
      "12592/12592 [==============================] - 1s 66us/step - loss: 0.4878 - acc: 0.7945 - val_loss: 0.3993 - val_acc: 0.8583\n",
      "\n",
      "Epoch 00031: val_loss improved from 0.40630 to 0.39930, saving model to saved_models/weights.best.mlp_nonulls_DEFAULT.hdf5\n",
      "Epoch 32/75\n"
     ]
    },
    {
     "name": "stdout",
     "output_type": "stream",
     "text": [
      "12592/12592 [==============================] - 1s 66us/step - loss: 0.4943 - acc: 0.7888 - val_loss: 0.3956 - val_acc: 0.8621\n",
      "\n",
      "Epoch 00032: val_loss improved from 0.39930 to 0.39560, saving model to saved_models/weights.best.mlp_nonulls_DEFAULT.hdf5\n",
      "Epoch 33/75\n",
      "12592/12592 [==============================] - 1s 67us/step - loss: 0.4873 - acc: 0.7957 - val_loss: 0.3924 - val_acc: 0.8602\n",
      "\n",
      "Epoch 00033: val_loss improved from 0.39560 to 0.39245, saving model to saved_models/weights.best.mlp_nonulls_DEFAULT.hdf5\n",
      "Epoch 34/75\n",
      "12592/12592 [==============================] - 1s 72us/step - loss: 0.4857 - acc: 0.8008 - val_loss: 0.3925 - val_acc: 0.8567\n",
      "\n",
      "Epoch 00034: val_loss did not improve from 0.39245\n",
      "Epoch 35/75\n",
      "12592/12592 [==============================] - 1s 70us/step - loss: 0.4784 - acc: 0.8065 - val_loss: 0.3870 - val_acc: 0.8669\n",
      "\n",
      "Epoch 00035: val_loss improved from 0.39245 to 0.38702, saving model to saved_models/weights.best.mlp_nonulls_DEFAULT.hdf5\n",
      "Epoch 36/75\n",
      "12592/12592 [==============================] - 1s 70us/step - loss: 0.4734 - acc: 0.8049 - val_loss: 0.3855 - val_acc: 0.8679\n",
      "\n",
      "Epoch 00036: val_loss improved from 0.38702 to 0.38547, saving model to saved_models/weights.best.mlp_nonulls_DEFAULT.hdf5\n",
      "Epoch 37/75\n",
      "12592/12592 [==============================] - 1s 67us/step - loss: 0.4724 - acc: 0.8051 - val_loss: 0.3829 - val_acc: 0.8644\n",
      "\n",
      "Epoch 00037: val_loss improved from 0.38547 to 0.38292, saving model to saved_models/weights.best.mlp_nonulls_DEFAULT.hdf5\n",
      "Epoch 38/75\n",
      "12592/12592 [==============================] - 1s 67us/step - loss: 0.4687 - acc: 0.8073 - val_loss: 0.3774 - val_acc: 0.8707\n",
      "\n",
      "Epoch 00038: val_loss improved from 0.38292 to 0.37743, saving model to saved_models/weights.best.mlp_nonulls_DEFAULT.hdf5\n",
      "Epoch 39/75\n",
      "12592/12592 [==============================] - 1s 67us/step - loss: 0.4663 - acc: 0.8132 - val_loss: 0.3742 - val_acc: 0.8675\n",
      "\n",
      "Epoch 00039: val_loss improved from 0.37743 to 0.37420, saving model to saved_models/weights.best.mlp_nonulls_DEFAULT.hdf5\n",
      "Epoch 40/75\n",
      "12592/12592 [==============================] - 1s 71us/step - loss: 0.4601 - acc: 0.8132 - val_loss: 0.3731 - val_acc: 0.8720\n",
      "\n",
      "Epoch 00040: val_loss improved from 0.37420 to 0.37306, saving model to saved_models/weights.best.mlp_nonulls_DEFAULT.hdf5\n",
      "Epoch 41/75\n",
      "12592/12592 [==============================] - 1s 73us/step - loss: 0.4573 - acc: 0.8154 - val_loss: 0.3716 - val_acc: 0.8688\n",
      "\n",
      "Epoch 00041: val_loss improved from 0.37306 to 0.37159, saving model to saved_models/weights.best.mlp_nonulls_DEFAULT.hdf5\n",
      "Epoch 42/75\n",
      "12592/12592 [==============================] - 1s 68us/step - loss: 0.4563 - acc: 0.8193 - val_loss: 0.3702 - val_acc: 0.8701\n",
      "\n",
      "Epoch 00042: val_loss improved from 0.37159 to 0.37017, saving model to saved_models/weights.best.mlp_nonulls_DEFAULT.hdf5\n",
      "Epoch 43/75\n",
      "12592/12592 [==============================] - 1s 68us/step - loss: 0.4589 - acc: 0.8186 - val_loss: 0.3667 - val_acc: 0.8742\n",
      "\n",
      "Epoch 00043: val_loss improved from 0.37017 to 0.36668, saving model to saved_models/weights.best.mlp_nonulls_DEFAULT.hdf5\n",
      "Epoch 44/75\n",
      "12592/12592 [==============================] - 1s 73us/step - loss: 0.4474 - acc: 0.8260 - val_loss: 0.3650 - val_acc: 0.8729\n",
      "\n",
      "Epoch 00044: val_loss improved from 0.36668 to 0.36505, saving model to saved_models/weights.best.mlp_nonulls_DEFAULT.hdf5\n",
      "Epoch 45/75\n",
      "12592/12592 [==============================] - 1s 72us/step - loss: 0.4413 - acc: 0.8266 - val_loss: 0.3623 - val_acc: 0.8745\n",
      "\n",
      "Epoch 00045: val_loss improved from 0.36505 to 0.36230, saving model to saved_models/weights.best.mlp_nonulls_DEFAULT.hdf5\n",
      "Epoch 46/75\n",
      "12592/12592 [==============================] - 1s 75us/step - loss: 0.4435 - acc: 0.8253 - val_loss: 0.3638 - val_acc: 0.8713\n",
      "\n",
      "Epoch 00046: val_loss did not improve from 0.36230\n",
      "Epoch 47/75\n",
      "12592/12592 [==============================] - 1s 79us/step - loss: 0.4348 - acc: 0.8303 - val_loss: 0.3616 - val_acc: 0.8704\n",
      "\n",
      "Epoch 00047: val_loss improved from 0.36230 to 0.36158, saving model to saved_models/weights.best.mlp_nonulls_DEFAULT.hdf5\n",
      "Epoch 48/75\n",
      "12592/12592 [==============================] - 1s 74us/step - loss: 0.4339 - acc: 0.8264 - val_loss: 0.3507 - val_acc: 0.8809\n",
      "\n",
      "Epoch 00048: val_loss improved from 0.36158 to 0.35070, saving model to saved_models/weights.best.mlp_nonulls_DEFAULT.hdf5\n",
      "Epoch 49/75\n",
      "12592/12592 [==============================] - 1s 78us/step - loss: 0.4335 - acc: 0.8294 - val_loss: 0.3541 - val_acc: 0.8787\n",
      "\n",
      "Epoch 00049: val_loss did not improve from 0.35070\n",
      "Epoch 50/75\n",
      "12592/12592 [==============================] - 1s 78us/step - loss: 0.4309 - acc: 0.8323 - val_loss: 0.3504 - val_acc: 0.8771\n",
      "\n",
      "Epoch 00050: val_loss improved from 0.35070 to 0.35043, saving model to saved_models/weights.best.mlp_nonulls_DEFAULT.hdf5\n",
      "Epoch 51/75\n",
      "12592/12592 [==============================] - 1s 75us/step - loss: 0.4274 - acc: 0.8326 - val_loss: 0.3507 - val_acc: 0.8799\n",
      "\n",
      "Epoch 00051: val_loss did not improve from 0.35043\n",
      "Epoch 52/75\n",
      "12592/12592 [==============================] - 1s 75us/step - loss: 0.4256 - acc: 0.8342 - val_loss: 0.3463 - val_acc: 0.8818\n",
      "\n",
      "Epoch 00052: val_loss improved from 0.35043 to 0.34628, saving model to saved_models/weights.best.mlp_nonulls_DEFAULT.hdf5\n",
      "Epoch 53/75\n",
      "12592/12592 [==============================] - 1s 76us/step - loss: 0.4241 - acc: 0.8331 - val_loss: 0.3462 - val_acc: 0.8834\n",
      "\n",
      "Epoch 00053: val_loss improved from 0.34628 to 0.34615, saving model to saved_models/weights.best.mlp_nonulls_DEFAULT.hdf5\n",
      "Epoch 54/75\n",
      "12592/12592 [==============================] - 1s 85us/step - loss: 0.4189 - acc: 0.8384 - val_loss: 0.3389 - val_acc: 0.8942\n",
      "\n",
      "Epoch 00054: val_loss improved from 0.34615 to 0.33887, saving model to saved_models/weights.best.mlp_nonulls_DEFAULT.hdf5\n",
      "Epoch 55/75\n",
      "12592/12592 [==============================] - 1s 79us/step - loss: 0.4213 - acc: 0.8398 - val_loss: 0.3383 - val_acc: 0.8882\n",
      "\n",
      "Epoch 00055: val_loss improved from 0.33887 to 0.33832, saving model to saved_models/weights.best.mlp_nonulls_DEFAULT.hdf5\n",
      "Epoch 56/75\n",
      "12592/12592 [==============================] - 1s 89us/step - loss: 0.4206 - acc: 0.8400 - val_loss: 0.3439 - val_acc: 0.8815\n",
      "\n",
      "Epoch 00056: val_loss did not improve from 0.33832\n",
      "Epoch 57/75\n",
      "12592/12592 [==============================] - 1s 78us/step - loss: 0.4144 - acc: 0.8411 - val_loss: 0.3330 - val_acc: 0.8936\n",
      "\n",
      "Epoch 00057: val_loss improved from 0.33832 to 0.33295, saving model to saved_models/weights.best.mlp_nonulls_DEFAULT.hdf5\n",
      "Epoch 58/75\n",
      "12592/12592 [==============================] - 1s 77us/step - loss: 0.4106 - acc: 0.8479 - val_loss: 0.3340 - val_acc: 0.8914\n",
      "\n",
      "Epoch 00058: val_loss did not improve from 0.33295\n",
      "Epoch 59/75\n",
      "12592/12592 [==============================] - 1s 73us/step - loss: 0.4110 - acc: 0.8408 - val_loss: 0.3329 - val_acc: 0.8869\n",
      "\n",
      "Epoch 00059: val_loss improved from 0.33295 to 0.33288, saving model to saved_models/weights.best.mlp_nonulls_DEFAULT.hdf5\n",
      "Epoch 60/75\n",
      "12592/12592 [==============================] - 1s 83us/step - loss: 0.4052 - acc: 0.8417 - val_loss: 0.3326 - val_acc: 0.8898\n",
      "\n",
      "Epoch 00060: val_loss improved from 0.33288 to 0.33255, saving model to saved_models/weights.best.mlp_nonulls_DEFAULT.hdf5\n",
      "Epoch 61/75\n",
      "12592/12592 [==============================] - 1s 82us/step - loss: 0.4071 - acc: 0.8438 - val_loss: 0.3276 - val_acc: 0.8926\n",
      "\n",
      "Epoch 00061: val_loss improved from 0.33255 to 0.32756, saving model to saved_models/weights.best.mlp_nonulls_DEFAULT.hdf5\n",
      "Epoch 62/75\n",
      "12592/12592 [==============================] - 1s 78us/step - loss: 0.4086 - acc: 0.8421 - val_loss: 0.3266 - val_acc: 0.8898\n",
      "\n",
      "Epoch 00062: val_loss improved from 0.32756 to 0.32665, saving model to saved_models/weights.best.mlp_nonulls_DEFAULT.hdf5\n",
      "Epoch 63/75\n",
      "12592/12592 [==============================] - 1s 80us/step - loss: 0.4018 - acc: 0.8474 - val_loss: 0.3267 - val_acc: 0.8882\n",
      "\n",
      "Epoch 00063: val_loss did not improve from 0.32665\n",
      "Epoch 64/75\n",
      "12592/12592 [==============================] - 1s 81us/step - loss: 0.3981 - acc: 0.8520 - val_loss: 0.3220 - val_acc: 0.8920\n",
      "\n",
      "Epoch 00064: val_loss improved from 0.32665 to 0.32200, saving model to saved_models/weights.best.mlp_nonulls_DEFAULT.hdf5\n",
      "Epoch 65/75\n"
     ]
    },
    {
     "name": "stdout",
     "output_type": "stream",
     "text": [
      "12592/12592 [==============================] - 1s 76us/step - loss: 0.3987 - acc: 0.8450 - val_loss: 0.3238 - val_acc: 0.8907\n",
      "\n",
      "Epoch 00065: val_loss did not improve from 0.32200\n",
      "Epoch 66/75\n",
      "12592/12592 [==============================] - 1s 79us/step - loss: 0.3967 - acc: 0.8486 - val_loss: 0.3194 - val_acc: 0.8929\n",
      "\n",
      "Epoch 00066: val_loss improved from 0.32200 to 0.31942, saving model to saved_models/weights.best.mlp_nonulls_DEFAULT.hdf5\n",
      "Epoch 67/75\n",
      "12592/12592 [==============================] - 1s 76us/step - loss: 0.3941 - acc: 0.8517 - val_loss: 0.3203 - val_acc: 0.8920\n",
      "\n",
      "Epoch 00067: val_loss did not improve from 0.31942\n",
      "Epoch 68/75\n",
      "12592/12592 [==============================] - 1s 79us/step - loss: 0.3924 - acc: 0.8528 - val_loss: 0.3157 - val_acc: 0.8990\n",
      "\n",
      "Epoch 00068: val_loss improved from 0.31942 to 0.31573, saving model to saved_models/weights.best.mlp_nonulls_DEFAULT.hdf5\n",
      "Epoch 69/75\n",
      "12592/12592 [==============================] - 1s 79us/step - loss: 0.3919 - acc: 0.8547 - val_loss: 0.3167 - val_acc: 0.8971\n",
      "\n",
      "Epoch 00069: val_loss did not improve from 0.31573\n",
      "Epoch 70/75\n",
      "12592/12592 [==============================] - 1s 80us/step - loss: 0.3937 - acc: 0.8497 - val_loss: 0.3128 - val_acc: 0.9003\n",
      "\n",
      "Epoch 00070: val_loss improved from 0.31573 to 0.31277, saving model to saved_models/weights.best.mlp_nonulls_DEFAULT.hdf5\n",
      "Epoch 71/75\n",
      "12592/12592 [==============================] - 1s 83us/step - loss: 0.3885 - acc: 0.8548 - val_loss: 0.3083 - val_acc: 0.9012\n",
      "\n",
      "Epoch 00071: val_loss improved from 0.31277 to 0.30832, saving model to saved_models/weights.best.mlp_nonulls_DEFAULT.hdf5\n",
      "Epoch 72/75\n",
      "12592/12592 [==============================] - 1s 80us/step - loss: 0.3876 - acc: 0.8529 - val_loss: 0.3101 - val_acc: 0.8996\n",
      "\n",
      "Epoch 00072: val_loss did not improve from 0.30832\n",
      "Epoch 73/75\n",
      "12592/12592 [==============================] - 1s 83us/step - loss: 0.3860 - acc: 0.8548 - val_loss: 0.3108 - val_acc: 0.8949\n",
      "\n",
      "Epoch 00073: val_loss did not improve from 0.30832\n",
      "Epoch 74/75\n",
      "12592/12592 [==============================] - 1s 78us/step - loss: 0.3867 - acc: 0.8559 - val_loss: 0.3092 - val_acc: 0.9009\n",
      "\n",
      "Epoch 00074: val_loss did not improve from 0.30832\n",
      "Epoch 75/75\n",
      "12592/12592 [==============================] - 1s 79us/step - loss: 0.3876 - acc: 0.8518 - val_loss: 0.3032 - val_acc: 0.9079\n",
      "\n",
      "Epoch 00075: val_loss improved from 0.30832 to 0.30324, saving model to saved_models/weights.best.mlp_nonulls_DEFAULT.hdf5\n"
     ]
    },
    {
     "data": {
      "text/plain": [
       "<keras.callbacks.History at 0x26b85563048>"
      ]
     },
     "execution_count": 165,
     "metadata": {},
     "output_type": "execute_result"
    }
   ],
   "source": [
    "# This fits the model and runs it for 100 epochs.\n",
    "mlp_nonulls_DEFAULT.fit(Xtrain_nonulls, Ytrain_nonulls, validation_split=0.20,\n",
    "                epochs=n_epochs, batch_size=size_of_batch, \n",
    "                callbacks = [checkpoint], verbose=1)"
   ]
  },
  {
   "cell_type": "code",
   "execution_count": 166,
   "metadata": {
    "scrolled": true
   },
   "outputs": [],
   "source": [
    "# This loads the best weights from the model.\n",
    "# This comes from Reference 6 in References.\n",
    "mlp_nonulls_DEFAULT.load_weights('saved_models/weights.best.mlp_nonulls_DEFAULT.hdf5')"
   ]
  },
  {
   "cell_type": "code",
   "execution_count": 167,
   "metadata": {},
   "outputs": [
    {
     "name": "stdout",
     "output_type": "stream",
     "text": [
      "Test acuracy: 96.6277%\n"
     ]
    }
   ],
   "source": [
    "# This prints the accuracy of the model.\n",
    "# This comes from Reference 9 in References.\n",
    "score = mlp_nonulls_DEFAULT.evaluate(Xtest_nonulls, Ytest_nonulls, verbose=0)\n",
    "accuracy = 100*score[1]\n",
    "print('Test acuracy: %.4f%%' %accuracy)"
   ]
  },
  {
   "cell_type": "code",
   "execution_count": 168,
   "metadata": {
    "scrolled": true
   },
   "outputs": [
    {
     "name": "stdout",
     "output_type": "stream",
     "text": [
      "The AUC score for the model is 0.5000.\n"
     ]
    }
   ],
   "source": [
    "# This prints the AUC score for the model.\n",
    "Ypred_nonulls_DEFAULT = mlp_nonulls_DEFAULT.predict(Xtest_nonulls)\n",
    "mlp_nonulls_ROC_DEFAULT = roc_auc_score(Ytest_nonulls, Ypred_nonulls_DEFAULT)\n",
    "print(\"The AUC score for the model is %.4f.\" % mlp_nonulls_ROC_DEFAULT)"
   ]
  },
  {
   "cell_type": "code",
   "execution_count": 169,
   "metadata": {},
   "outputs": [],
   "source": [
    "# This imports the necessary library for the ROC Curve.\n",
    "from sklearn import metrics\n",
    "\n",
    "def roc_plot(model, x_test, y_test, title):\n",
    "    '''\n",
    "    This function plots ROC curves. It takes in\n",
    "    the model, title, x_test, y_test as arguments.\n",
    "    '''\n",
    "    # This sets the size of the plot\n",
    "    # This comes from Reference 12 in References\n",
    "    plt.figure(figsize=(6.0,6.0))\n",
    "    \n",
    "    # This finds the predicted values of y from the x_test\n",
    "    # data.\n",
    "    # This comes from Reference 11 in References.\n",
    "    pred_probs = model.predict_proba(x_test)\n",
    "    \n",
    "    # This finds the false and true positive rates for\n",
    "    # the ROC Curve.\n",
    "    # This comes from Reference 11 in References.\n",
    "    fpr, tpr, _ = metrics.roc_curve(y_test, pred_probs)\n",
    "    \n",
    "    # This finds the AUC score.\n",
    "    # This comes from Reference 11 in References.\n",
    "    auc = metrics.roc_auc_score(y_test, pred_probs)\n",
    "    auc = str(auc)\n",
    "    auc = auc[0:6]\n",
    "    \n",
    "    # This plots the ROC Curve with the AUC label.\n",
    "    plt.plot(fpr,tpr,label='auc: ' + auc)\n",
    "    plt.legend(loc=4)\n",
    "    plt.title(title)\n",
    "    plt.xlabel(\"False Positive Rate\")\n",
    "    plt.ylabel(\"True Positive Rate\")\n",
    "    plt.show()"
   ]
  },
  {
   "cell_type": "code",
   "execution_count": 170,
   "metadata": {},
   "outputs": [
    {
     "data": {
      "image/png": "[encoded data removed]",
      "text/plain": [
       "<Figure size 432x432 with 1 Axes>"
      ]
     },
     "metadata": {
      "needs_background": "light"
     },
     "output_type": "display_data"
    }
   ],
   "source": [
    "# This plots the ROC curve for the model.\n",
    "roc_plot(model=mlp_nonulls_DEFAULT, x_test=Xtest_nonulls,\n",
    "        y_test=Ytest_nonulls,title=\"ROC: MLP No Nulls\")"
   ]
  },
  {
   "cell_type": "markdown",
   "metadata": {},
   "source": [
    "## MLP Model No Nulls Final\n",
    "This model is the final MLP No Nulls Model."
   ]
  },
  {
   "cell_type": "code",
   "execution_count": 171,
   "metadata": {},
   "outputs": [],
   "source": [
    "# This comes from Reference 7 in References.\n",
    "n_epochs = 75\n",
    "size_of_batch = 50\n",
    "stochastic = SGD(lr=0.001)\n",
    "nad = Nadam()\n",
    "RMS = RMSprop()\n",
    "\n",
    "# This builds the MLP model for No NULLS.\n",
    "mlp_nonulls = build_model(drop_rate=0.5,\n",
    "                            l2_factor=0.001,\n",
    "                             first_dense=32,\n",
    "                             second_dense=16,\n",
    "                             third_dense=8,\n",
    "                            hidden_act='relu',\n",
    "                            out_act='sigmoid',\n",
    "                            x=Xtrain_nonulls)"
   ]
  },
  {
   "cell_type": "code",
   "execution_count": 172,
   "metadata": {},
   "outputs": [],
   "source": [
    "# This compiles the MLP model for the No Nulls data.\n",
    "# This comes from Reference 13 in References.\n",
    "mlp_nonulls.compile(loss='binary_crossentropy',\n",
    "              optimizer= stochastic,\n",
    "              metrics=['accuracy'])"
   ]
  },
  {
   "cell_type": "code",
   "execution_count": 173,
   "metadata": {},
   "outputs": [],
   "source": [
    "# This creates checkpointer, which uses ModelCheckpoint to store the\n",
    "# best weights of the model.\n",
    "# This comes from References 6 in References.\n",
    "checkpoint = ModelCheckpoint(filepath='saved_models/weights.best.mlp_nonulls.hdf5',\n",
    "                             verbose=1, save_best_only=True)"
   ]
  },
  {
   "cell_type": "code",
   "execution_count": 174,
   "metadata": {
    "scrolled": true
   },
   "outputs": [
    {
     "name": "stdout",
     "output_type": "stream",
     "text": [
      "Train on 12592 samples, validate on 3148 samples\n",
      "Epoch 1/75\n",
      "12592/12592 [==============================] - 3s 267us/step - loss: 0.8004 - acc: 0.5268 - val_loss: 0.7558 - val_acc: 0.5915\n",
      "\n",
      "Epoch 00001: val_loss improved from inf to 0.75576, saving model to saved_models/weights.best.mlp_nonulls.hdf5\n",
      "Epoch 2/75\n",
      "12592/12592 [==============================] - 1s 81us/step - loss: 0.7943 - acc: 0.5328 - val_loss: 0.7526 - val_acc: 0.6064\n",
      "\n",
      "Epoch 00002: val_loss improved from 0.75576 to 0.75262, saving model to saved_models/weights.best.mlp_nonulls.hdf5\n",
      "Epoch 3/75\n",
      "12592/12592 [==============================] - 1s 90us/step - loss: 0.7837 - acc: 0.5361 - val_loss: 0.7505 - val_acc: 0.6172\n",
      "\n",
      "Epoch 00003: val_loss improved from 0.75262 to 0.75054, saving model to saved_models/weights.best.mlp_nonulls.hdf5\n",
      "Epoch 4/75\n",
      "12592/12592 [==============================] - 1s 96us/step - loss: 0.7823 - acc: 0.5417 - val_loss: 0.7489 - val_acc: 0.6223\n",
      "\n",
      "Epoch 00004: val_loss improved from 0.75054 to 0.74894, saving model to saved_models/weights.best.mlp_nonulls.hdf5\n",
      "Epoch 5/75\n",
      "12592/12592 [==============================] - 1s 93us/step - loss: 0.7737 - acc: 0.5462 - val_loss: 0.7472 - val_acc: 0.6321\n",
      "\n",
      "Epoch 00005: val_loss improved from 0.74894 to 0.74721, saving model to saved_models/weights.best.mlp_nonulls.hdf5\n",
      "Epoch 6/75\n",
      "12592/12592 [==============================] - 1s 86us/step - loss: 0.7780 - acc: 0.5392 - val_loss: 0.7458 - val_acc: 0.6391\n",
      "\n",
      "Epoch 00006: val_loss improved from 0.74721 to 0.74575, saving model to saved_models/weights.best.mlp_nonulls.hdf5\n",
      "Epoch 7/75\n",
      "12592/12592 [==============================] - 1s 79us/step - loss: 0.7704 - acc: 0.5574 - val_loss: 0.7442 - val_acc: 0.6464\n",
      "\n",
      "Epoch 00007: val_loss improved from 0.74575 to 0.74416, saving model to saved_models/weights.best.mlp_nonulls.hdf5\n",
      "Epoch 8/75\n",
      "12592/12592 [==============================] - 1s 84us/step - loss: 0.7682 - acc: 0.5470 - val_loss: 0.7430 - val_acc: 0.6537\n",
      "\n",
      "Epoch 00008: val_loss improved from 0.74416 to 0.74302, saving model to saved_models/weights.best.mlp_nonulls.hdf5\n",
      "Epoch 9/75\n",
      "12592/12592 [==============================] - 1s 80us/step - loss: 0.7676 - acc: 0.5572 - val_loss: 0.7419 - val_acc: 0.6630\n",
      "\n",
      "Epoch 00009: val_loss improved from 0.74302 to 0.74185, saving model to saved_models/weights.best.mlp_nonulls.hdf5\n",
      "Epoch 10/75\n",
      "12592/12592 [==============================] - 1s 82us/step - loss: 0.7620 - acc: 0.5549 - val_loss: 0.7406 - val_acc: 0.6680\n",
      "\n",
      "Epoch 00010: val_loss improved from 0.74185 to 0.74057, saving model to saved_models/weights.best.mlp_nonulls.hdf5\n",
      "Epoch 11/75\n",
      "12592/12592 [==============================] - 1s 85us/step - loss: 0.7620 - acc: 0.5566 - val_loss: 0.7394 - val_acc: 0.6773\n",
      "\n",
      "Epoch 00011: val_loss improved from 0.74057 to 0.73939, saving model to saved_models/weights.best.mlp_nonulls.hdf5\n",
      "Epoch 12/75\n",
      "12592/12592 [==============================] - 1s 78us/step - loss: 0.7597 - acc: 0.5673 - val_loss: 0.7383 - val_acc: 0.6849\n",
      "\n",
      "Epoch 00012: val_loss improved from 0.73939 to 0.73828, saving model to saved_models/weights.best.mlp_nonulls.hdf5\n",
      "Epoch 13/75\n",
      "12592/12592 [==============================] - 1s 76us/step - loss: 0.7595 - acc: 0.5643 - val_loss: 0.7372 - val_acc: 0.6884\n",
      "\n",
      "Epoch 00013: val_loss improved from 0.73828 to 0.73724, saving model to saved_models/weights.best.mlp_nonulls.hdf5\n",
      "Epoch 14/75\n",
      "12592/12592 [==============================] - 1s 75us/step - loss: 0.7511 - acc: 0.5753 - val_loss: 0.7358 - val_acc: 0.6903\n",
      "\n",
      "Epoch 00014: val_loss improved from 0.73724 to 0.73578, saving model to saved_models/weights.best.mlp_nonulls.hdf5\n",
      "Epoch 15/75\n",
      "12592/12592 [==============================] - 1s 80us/step - loss: 0.7511 - acc: 0.5777 - val_loss: 0.7343 - val_acc: 0.6938\n",
      "\n",
      "Epoch 00015: val_loss improved from 0.73578 to 0.73433, saving model to saved_models/weights.best.mlp_nonulls.hdf5\n",
      "Epoch 16/75\n",
      "12592/12592 [==============================] - 1s 84us/step - loss: 0.7481 - acc: 0.5723 - val_loss: 0.7329 - val_acc: 0.6985\n",
      "\n",
      "Epoch 00016: val_loss improved from 0.73433 to 0.73285, saving model to saved_models/weights.best.mlp_nonulls.hdf5\n",
      "Epoch 17/75\n",
      "12592/12592 [==============================] - 1s 79us/step - loss: 0.7504 - acc: 0.5858 - val_loss: 0.7314 - val_acc: 0.7024\n",
      "\n",
      "Epoch 00017: val_loss improved from 0.73285 to 0.73143, saving model to saved_models/weights.best.mlp_nonulls.hdf5\n",
      "Epoch 18/75\n",
      "12592/12592 [==============================] - 1s 75us/step - loss: 0.7525 - acc: 0.5823 - val_loss: 0.7300 - val_acc: 0.7052\n",
      "\n",
      "Epoch 00018: val_loss improved from 0.73143 to 0.73003, saving model to saved_models/weights.best.mlp_nonulls.hdf5\n",
      "Epoch 19/75\n",
      "12592/12592 [==============================] - 1s 75us/step - loss: 0.7486 - acc: 0.5898 - val_loss: 0.7286 - val_acc: 0.7100\n",
      "\n",
      "Epoch 00019: val_loss improved from 0.73003 to 0.72863, saving model to saved_models/weights.best.mlp_nonulls.hdf5\n",
      "Epoch 20/75\n",
      "12592/12592 [==============================] - 1s 76us/step - loss: 0.7477 - acc: 0.5882 - val_loss: 0.7271 - val_acc: 0.7106\n",
      "\n",
      "Epoch 00020: val_loss improved from 0.72863 to 0.72708, saving model to saved_models/weights.best.mlp_nonulls.hdf5\n",
      "Epoch 21/75\n",
      "12592/12592 [==============================] - 1s 76us/step - loss: 0.7455 - acc: 0.5898 - val_loss: 0.7255 - val_acc: 0.7147\n",
      "\n",
      "Epoch 00021: val_loss improved from 0.72708 to 0.72550, saving model to saved_models/weights.best.mlp_nonulls.hdf5\n",
      "Epoch 22/75\n",
      "12592/12592 [==============================] - 1s 79us/step - loss: 0.7459 - acc: 0.5951 - val_loss: 0.7241 - val_acc: 0.7170\n",
      "\n",
      "Epoch 00022: val_loss improved from 0.72550 to 0.72406, saving model to saved_models/weights.best.mlp_nonulls.hdf5\n",
      "Epoch 23/75\n",
      "12592/12592 [==============================] - ETA: 0s - loss: 0.7453 - acc: 0.591 - 1s 76us/step - loss: 0.7454 - acc: 0.5913 - val_loss: 0.7227 - val_acc: 0.7192\n",
      "\n",
      "Epoch 00023: val_loss improved from 0.72406 to 0.72268, saving model to saved_models/weights.best.mlp_nonulls.hdf5\n",
      "Epoch 24/75\n",
      "12592/12592 [==============================] - 1s 76us/step - loss: 0.7381 - acc: 0.5955 - val_loss: 0.7209 - val_acc: 0.7205\n",
      "\n",
      "Epoch 00024: val_loss improved from 0.72268 to 0.72085, saving model to saved_models/weights.best.mlp_nonulls.hdf5\n",
      "Epoch 25/75\n",
      "12592/12592 [==============================] - 1s 76us/step - loss: 0.7387 - acc: 0.6003 - val_loss: 0.7192 - val_acc: 0.7195\n",
      "\n",
      "Epoch 00025: val_loss improved from 0.72085 to 0.71916, saving model to saved_models/weights.best.mlp_nonulls.hdf5\n",
      "Epoch 26/75\n",
      "12592/12592 [==============================] - 1s 75us/step - loss: 0.7400 - acc: 0.5951 - val_loss: 0.7175 - val_acc: 0.7236\n",
      "\n",
      "Epoch 00026: val_loss improved from 0.71916 to 0.71749, saving model to saved_models/weights.best.mlp_nonulls.hdf5\n",
      "Epoch 27/75\n",
      "12592/12592 [==============================] - 1s 75us/step - loss: 0.7364 - acc: 0.6032 - val_loss: 0.7155 - val_acc: 0.7233\n",
      "\n",
      "Epoch 00027: val_loss improved from 0.71749 to 0.71554, saving model to saved_models/weights.best.mlp_nonulls.hdf5\n",
      "Epoch 28/75\n",
      "12592/12592 [==============================] - 1s 76us/step - loss: 0.7332 - acc: 0.6082 - val_loss: 0.7134 - val_acc: 0.7240\n",
      "\n",
      "Epoch 00028: val_loss improved from 0.71554 to 0.71343, saving model to saved_models/weights.best.mlp_nonulls.hdf5\n",
      "Epoch 29/75\n",
      "12592/12592 [==============================] - 1s 75us/step - loss: 0.7337 - acc: 0.6123 - val_loss: 0.7117 - val_acc: 0.7262\n",
      "\n",
      "Epoch 00029: val_loss improved from 0.71343 to 0.71170, saving model to saved_models/weights.best.mlp_nonulls.hdf5\n",
      "Epoch 30/75\n",
      "12592/12592 [==============================] - 1s 76us/step - loss: 0.7340 - acc: 0.6108 - val_loss: 0.7097 - val_acc: 0.7281\n",
      "\n",
      "Epoch 00030: val_loss improved from 0.71170 to 0.70971, saving model to saved_models/weights.best.mlp_nonulls.hdf5\n",
      "Epoch 31/75\n",
      "12592/12592 [==============================] - 1s 75us/step - loss: 0.7309 - acc: 0.6090 - val_loss: 0.7079 - val_acc: 0.7284\n",
      "\n",
      "Epoch 00031: val_loss improved from 0.70971 to 0.70792, saving model to saved_models/weights.best.mlp_nonulls.hdf5\n",
      "Epoch 32/75\n",
      "12592/12592 [==============================] - 1s 83us/step - loss: 0.7311 - acc: 0.6190 - val_loss: 0.7062 - val_acc: 0.7287\n",
      "\n",
      "Epoch 00032: val_loss improved from 0.70792 to 0.70619, saving model to saved_models/weights.best.mlp_nonulls.hdf5\n"
     ]
    },
    {
     "name": "stdout",
     "output_type": "stream",
     "text": [
      "Epoch 33/75\n",
      "12592/12592 [==============================] - 1s 93us/step - loss: 0.7296 - acc: 0.6105 - val_loss: 0.7045 - val_acc: 0.7316\n",
      "\n",
      "Epoch 00033: val_loss improved from 0.70619 to 0.70451, saving model to saved_models/weights.best.mlp_nonulls.hdf5\n",
      "Epoch 34/75\n",
      "12592/12592 [==============================] - 1s 85us/step - loss: 0.7258 - acc: 0.6139 - val_loss: 0.7027 - val_acc: 0.7360\n",
      "\n",
      "Epoch 00034: val_loss improved from 0.70451 to 0.70272, saving model to saved_models/weights.best.mlp_nonulls.hdf5\n",
      "Epoch 35/75\n",
      "12592/12592 [==============================] - 1s 90us/step - loss: 0.7259 - acc: 0.6207 - val_loss: 0.7008 - val_acc: 0.7370\n",
      "\n",
      "Epoch 00035: val_loss improved from 0.70272 to 0.70080, saving model to saved_models/weights.best.mlp_nonulls.hdf5\n",
      "Epoch 36/75\n",
      "12592/12592 [==============================] - 1s 84us/step - loss: 0.7232 - acc: 0.6201 - val_loss: 0.6987 - val_acc: 0.7386\n",
      "\n",
      "Epoch 00036: val_loss improved from 0.70080 to 0.69873, saving model to saved_models/weights.best.mlp_nonulls.hdf5\n",
      "Epoch 37/75\n",
      "12592/12592 [==============================] - 1s 82us/step - loss: 0.7198 - acc: 0.6244 - val_loss: 0.6966 - val_acc: 0.7392\n",
      "\n",
      "Epoch 00037: val_loss improved from 0.69873 to 0.69655, saving model to saved_models/weights.best.mlp_nonulls.hdf5\n",
      "Epoch 38/75\n",
      "12592/12592 [==============================] - 1s 86us/step - loss: 0.7229 - acc: 0.6247 - val_loss: 0.6945 - val_acc: 0.7408\n",
      "\n",
      "Epoch 00038: val_loss improved from 0.69655 to 0.69454, saving model to saved_models/weights.best.mlp_nonulls.hdf5\n",
      "Epoch 39/75\n",
      "12592/12592 [==============================] - 1s 88us/step - loss: 0.7220 - acc: 0.6209 - val_loss: 0.6929 - val_acc: 0.7421\n",
      "\n",
      "Epoch 00039: val_loss improved from 0.69454 to 0.69289, saving model to saved_models/weights.best.mlp_nonulls.hdf5\n",
      "Epoch 40/75\n",
      "12592/12592 [==============================] - 1s 76us/step - loss: 0.7205 - acc: 0.6228 - val_loss: 0.6907 - val_acc: 0.7411\n",
      "\n",
      "Epoch 00040: val_loss improved from 0.69289 to 0.69070, saving model to saved_models/weights.best.mlp_nonulls.hdf5\n",
      "Epoch 41/75\n",
      "12592/12592 [==============================] - 1s 76us/step - loss: 0.7185 - acc: 0.6252 - val_loss: 0.6888 - val_acc: 0.7430\n",
      "\n",
      "Epoch 00041: val_loss improved from 0.69070 to 0.68880, saving model to saved_models/weights.best.mlp_nonulls.hdf5\n",
      "Epoch 42/75\n",
      "12592/12592 [==============================] - 1s 75us/step - loss: 0.7134 - acc: 0.6292 - val_loss: 0.6864 - val_acc: 0.7424\n",
      "\n",
      "Epoch 00042: val_loss improved from 0.68880 to 0.68645, saving model to saved_models/weights.best.mlp_nonulls.hdf5\n",
      "Epoch 43/75\n",
      "12592/12592 [==============================] - 1s 75us/step - loss: 0.7134 - acc: 0.6373 - val_loss: 0.6844 - val_acc: 0.7443\n",
      "\n",
      "Epoch 00043: val_loss improved from 0.68645 to 0.68436, saving model to saved_models/weights.best.mlp_nonulls.hdf5\n",
      "Epoch 44/75\n",
      "12592/12592 [==============================] - 1s 75us/step - loss: 0.7131 - acc: 0.6315 - val_loss: 0.6822 - val_acc: 0.7462\n",
      "\n",
      "Epoch 00044: val_loss improved from 0.68436 to 0.68219, saving model to saved_models/weights.best.mlp_nonulls.hdf5\n",
      "Epoch 45/75\n",
      "12592/12592 [==============================] - 1s 76us/step - loss: 0.7098 - acc: 0.6345 - val_loss: 0.6801 - val_acc: 0.7490\n",
      "\n",
      "Epoch 00045: val_loss improved from 0.68219 to 0.68011, saving model to saved_models/weights.best.mlp_nonulls.hdf5\n",
      "Epoch 46/75\n",
      "12592/12592 [==============================] - 1s 76us/step - loss: 0.7056 - acc: 0.6372 - val_loss: 0.6779 - val_acc: 0.7490\n",
      "\n",
      "Epoch 00046: val_loss improved from 0.68011 to 0.67787, saving model to saved_models/weights.best.mlp_nonulls.hdf5\n",
      "Epoch 47/75\n",
      "12592/12592 [==============================] - 1s 74us/step - loss: 0.7068 - acc: 0.6344 - val_loss: 0.6756 - val_acc: 0.7490\n",
      "\n",
      "Epoch 00047: val_loss improved from 0.67787 to 0.67556, saving model to saved_models/weights.best.mlp_nonulls.hdf5\n",
      "Epoch 48/75\n",
      "12592/12592 [==============================] - 1s 75us/step - loss: 0.7132 - acc: 0.6337 - val_loss: 0.6737 - val_acc: 0.7484\n",
      "\n",
      "Epoch 00048: val_loss improved from 0.67556 to 0.67370, saving model to saved_models/weights.best.mlp_nonulls.hdf5\n",
      "Epoch 49/75\n",
      "12592/12592 [==============================] - 1s 75us/step - loss: 0.7031 - acc: 0.6386 - val_loss: 0.6711 - val_acc: 0.7487\n",
      "\n",
      "Epoch 00049: val_loss improved from 0.67370 to 0.67108, saving model to saved_models/weights.best.mlp_nonulls.hdf5\n",
      "Epoch 50/75\n",
      "12592/12592 [==============================] - 1s 76us/step - loss: 0.7030 - acc: 0.6391 - val_loss: 0.6688 - val_acc: 0.7494\n",
      "\n",
      "Epoch 00050: val_loss improved from 0.67108 to 0.66878, saving model to saved_models/weights.best.mlp_nonulls.hdf5\n",
      "Epoch 51/75\n",
      "12592/12592 [==============================] - 1s 76us/step - loss: 0.7044 - acc: 0.6456 - val_loss: 0.6669 - val_acc: 0.7487\n",
      "\n",
      "Epoch 00051: val_loss improved from 0.66878 to 0.66691, saving model to saved_models/weights.best.mlp_nonulls.hdf5\n",
      "Epoch 52/75\n",
      "12592/12592 [==============================] - 1s 75us/step - loss: 0.6988 - acc: 0.6406 - val_loss: 0.6648 - val_acc: 0.7484\n",
      "\n",
      "Epoch 00052: val_loss improved from 0.66691 to 0.66476, saving model to saved_models/weights.best.mlp_nonulls.hdf5\n",
      "Epoch 53/75\n",
      "12592/12592 [==============================] - 1s 75us/step - loss: 0.6993 - acc: 0.6452 - val_loss: 0.6625 - val_acc: 0.7490\n",
      "\n",
      "Epoch 00053: val_loss improved from 0.66476 to 0.66249, saving model to saved_models/weights.best.mlp_nonulls.hdf5\n",
      "Epoch 54/75\n",
      "12592/12592 [==============================] - 1s 75us/step - loss: 0.7032 - acc: 0.6477 - val_loss: 0.6606 - val_acc: 0.7506\n",
      "\n",
      "Epoch 00054: val_loss improved from 0.66249 to 0.66064, saving model to saved_models/weights.best.mlp_nonulls.hdf5\n",
      "Epoch 55/75\n",
      "12592/12592 [==============================] - 1s 75us/step - loss: 0.6981 - acc: 0.6466 - val_loss: 0.6588 - val_acc: 0.7516\n",
      "\n",
      "Epoch 00055: val_loss improved from 0.66064 to 0.65884, saving model to saved_models/weights.best.mlp_nonulls.hdf5\n",
      "Epoch 56/75\n",
      "12592/12592 [==============================] - 1s 76us/step - loss: 0.6961 - acc: 0.6525 - val_loss: 0.6567 - val_acc: 0.7522\n",
      "\n",
      "Epoch 00056: val_loss improved from 0.65884 to 0.65674, saving model to saved_models/weights.best.mlp_nonulls.hdf5\n",
      "Epoch 57/75\n",
      "12592/12592 [==============================] - 1s 75us/step - loss: 0.6958 - acc: 0.6513 - val_loss: 0.6549 - val_acc: 0.7535\n",
      "\n",
      "Epoch 00057: val_loss improved from 0.65674 to 0.65489, saving model to saved_models/weights.best.mlp_nonulls.hdf5\n",
      "Epoch 58/75\n",
      "12592/12592 [==============================] - 1s 75us/step - loss: 0.6925 - acc: 0.6590 - val_loss: 0.6528 - val_acc: 0.7541\n",
      "\n",
      "Epoch 00058: val_loss improved from 0.65489 to 0.65279, saving model to saved_models/weights.best.mlp_nonulls.hdf5\n",
      "Epoch 59/75\n",
      "12592/12592 [==============================] - 1s 78us/step - loss: 0.6902 - acc: 0.6542 - val_loss: 0.6509 - val_acc: 0.7554\n",
      "\n",
      "Epoch 00059: val_loss improved from 0.65279 to 0.65090, saving model to saved_models/weights.best.mlp_nonulls.hdf5\n",
      "Epoch 60/75\n",
      "12592/12592 [==============================] - 1s 76us/step - loss: 0.6944 - acc: 0.6539 - val_loss: 0.6495 - val_acc: 0.7564\n",
      "\n",
      "Epoch 00060: val_loss improved from 0.65090 to 0.64948, saving model to saved_models/weights.best.mlp_nonulls.hdf5\n",
      "Epoch 61/75\n",
      "12592/12592 [==============================] - 1s 76us/step - loss: 0.6909 - acc: 0.6556 - val_loss: 0.6473 - val_acc: 0.7570\n",
      "\n",
      "Epoch 00061: val_loss improved from 0.64948 to 0.64733, saving model to saved_models/weights.best.mlp_nonulls.hdf5\n",
      "Epoch 62/75\n",
      "12592/12592 [==============================] - 1s 75us/step - loss: 0.6860 - acc: 0.6541 - val_loss: 0.6451 - val_acc: 0.7567\n",
      "\n",
      "Epoch 00062: val_loss improved from 0.64733 to 0.64514, saving model to saved_models/weights.best.mlp_nonulls.hdf5\n",
      "Epoch 63/75\n",
      "12592/12592 [==============================] - 1s 77us/step - loss: 0.6843 - acc: 0.6597 - val_loss: 0.6431 - val_acc: 0.7557\n",
      "\n",
      "Epoch 00063: val_loss improved from 0.64514 to 0.64305, saving model to saved_models/weights.best.mlp_nonulls.hdf5\n",
      "Epoch 64/75\n",
      "12592/12592 [==============================] - 1s 77us/step - loss: 0.6826 - acc: 0.6606 - val_loss: 0.6411 - val_acc: 0.7554\n",
      "\n",
      "Epoch 00064: val_loss improved from 0.64305 to 0.64111, saving model to saved_models/weights.best.mlp_nonulls.hdf5\n",
      "Epoch 65/75\n"
     ]
    },
    {
     "name": "stdout",
     "output_type": "stream",
     "text": [
      "12592/12592 [==============================] - 1s 88us/step - loss: 0.6858 - acc: 0.6597 - val_loss: 0.6394 - val_acc: 0.7576\n",
      "\n",
      "Epoch 00065: val_loss improved from 0.64111 to 0.63944, saving model to saved_models/weights.best.mlp_nonulls.hdf5\n",
      "Epoch 66/75\n",
      "12592/12592 [==============================] - 1s 85us/step - loss: 0.6820 - acc: 0.6626 - val_loss: 0.6378 - val_acc: 0.7583\n",
      "\n",
      "Epoch 00066: val_loss improved from 0.63944 to 0.63777, saving model to saved_models/weights.best.mlp_nonulls.hdf5\n",
      "Epoch 67/75\n",
      "12592/12592 [==============================] - 1s 84us/step - loss: 0.6816 - acc: 0.6652 - val_loss: 0.6359 - val_acc: 0.7586\n",
      "\n",
      "Epoch 00067: val_loss improved from 0.63777 to 0.63589, saving model to saved_models/weights.best.mlp_nonulls.hdf5\n",
      "Epoch 68/75\n",
      "12592/12592 [==============================] - 1s 86us/step - loss: 0.6816 - acc: 0.6673 - val_loss: 0.6341 - val_acc: 0.7595\n",
      "\n",
      "Epoch 00068: val_loss improved from 0.63589 to 0.63411, saving model to saved_models/weights.best.mlp_nonulls.hdf5\n",
      "Epoch 69/75\n",
      "12592/12592 [==============================] - 1s 83us/step - loss: 0.6734 - acc: 0.6692 - val_loss: 0.6322 - val_acc: 0.7579\n",
      "\n",
      "Epoch 00069: val_loss improved from 0.63411 to 0.63218, saving model to saved_models/weights.best.mlp_nonulls.hdf5\n",
      "Epoch 70/75\n",
      "12592/12592 [==============================] - 1s 82us/step - loss: 0.6829 - acc: 0.6626 - val_loss: 0.6310 - val_acc: 0.7586\n",
      "\n",
      "Epoch 00070: val_loss improved from 0.63218 to 0.63101, saving model to saved_models/weights.best.mlp_nonulls.hdf5\n",
      "Epoch 71/75\n",
      "12592/12592 [==============================] - 1s 80us/step - loss: 0.6769 - acc: 0.6568 - val_loss: 0.6292 - val_acc: 0.7586\n",
      "\n",
      "Epoch 00071: val_loss improved from 0.63101 to 0.62916, saving model to saved_models/weights.best.mlp_nonulls.hdf5\n",
      "Epoch 72/75\n",
      "12592/12592 [==============================] - 1s 81us/step - loss: 0.6759 - acc: 0.6636 - val_loss: 0.6276 - val_acc: 0.7589\n",
      "\n",
      "Epoch 00072: val_loss improved from 0.62916 to 0.62756, saving model to saved_models/weights.best.mlp_nonulls.hdf5\n",
      "Epoch 73/75\n",
      "12592/12592 [==============================] - 1s 85us/step - loss: 0.6782 - acc: 0.6661 - val_loss: 0.6261 - val_acc: 0.7602\n",
      "\n",
      "Epoch 00073: val_loss improved from 0.62756 to 0.62606, saving model to saved_models/weights.best.mlp_nonulls.hdf5\n",
      "Epoch 74/75\n",
      "12592/12592 [==============================] - 1s 79us/step - loss: 0.6733 - acc: 0.6745 - val_loss: 0.6243 - val_acc: 0.7598\n",
      "\n",
      "Epoch 00074: val_loss improved from 0.62606 to 0.62429, saving model to saved_models/weights.best.mlp_nonulls.hdf5\n",
      "Epoch 75/75\n",
      "12592/12592 [==============================] - 1s 80us/step - loss: 0.6650 - acc: 0.6730 - val_loss: 0.6219 - val_acc: 0.7605\n",
      "\n",
      "Epoch 00075: val_loss improved from 0.62429 to 0.62193, saving model to saved_models/weights.best.mlp_nonulls.hdf5\n"
     ]
    },
    {
     "data": {
      "text/plain": [
       "<keras.callbacks.History at 0x26b85c17390>"
      ]
     },
     "execution_count": 174,
     "metadata": {},
     "output_type": "execute_result"
    }
   ],
   "source": [
    "# This fits the model and runs it for 100 epochs.\n",
    "mlp_nonulls.fit(Xtrain_nonulls, Ytrain_nonulls, validation_split=0.20,\n",
    "                epochs=n_epochs, batch_size=size_of_batch, \n",
    "                callbacks = [checkpoint], verbose=1)"
   ]
  },
  {
   "cell_type": "code",
   "execution_count": 175,
   "metadata": {
    "scrolled": true
   },
   "outputs": [],
   "source": [
    "# This loads the best weights from the model.\n",
    "# This comes from Reference 6 in References.\n",
    "mlp_nonulls.load_weights('saved_models/weights.best.mlp_nonulls.hdf5')"
   ]
  },
  {
   "cell_type": "code",
   "execution_count": 176,
   "metadata": {},
   "outputs": [
    {
     "name": "stdout",
     "output_type": "stream",
     "text": [
      "Test acuracy: 87.8464%\n"
     ]
    }
   ],
   "source": [
    "# This prints the accuracy of the model.\n",
    "# This comes from Reference 9 in References.\n",
    "score = mlp_nonulls.evaluate(Xtest_nonulls, Ytest_nonulls, verbose=0)\n",
    "accuracy = 100*score[1]\n",
    "print('Test acuracy: %.4f%%' %accuracy)"
   ]
  },
  {
   "cell_type": "code",
   "execution_count": 177,
   "metadata": {
    "scrolled": true
   },
   "outputs": [
    {
     "name": "stdout",
     "output_type": "stream",
     "text": [
      "The AUC score for the model is 0.5890.\n"
     ]
    }
   ],
   "source": [
    "# This prints the AUC score for the model.\n",
    "Ypred_nonulls = mlp_nonulls.predict(Xtest_nonulls)\n",
    "mlp_nonulls_ROC = roc_auc_score(Ytest_nonulls, Ypred_nonulls)\n",
    "print(\"The AUC score for the model is %.4f.\" % mlp_nonulls_ROC)"
   ]
  },
  {
   "cell_type": "code",
   "execution_count": 178,
   "metadata": {},
   "outputs": [
    {
     "data": {
      "image/png": "[encoded data removed]",
      "text/plain": [
       "<Figure size 432x432 with 1 Axes>"
      ]
     },
     "metadata": {
      "needs_background": "light"
     },
     "output_type": "display_data"
    }
   ],
   "source": [
    "# This plots the ROC curve for the model.\n",
    "roc_plot(model=mlp_nonulls, x_test=Xtest_nonulls,\n",
    "        y_test=Ytest_nonulls,title=\"ROC: MLP No Nulls\")"
   ]
  },
  {
   "cell_type": "markdown",
   "metadata": {},
   "source": [
    "### MLP Model Nulls Only"
   ]
  },
  {
   "cell_type": "markdown",
   "metadata": {},
   "source": [
    "### MLP Model Nulls Only, default learning rate in Stochastic Gradient Loss Optimizer\n",
    "This is a comparison MLP model that uses the default learning rate of 0.01 to descend down the loss gradient in an attempt to find the global minimum (Reference 14)."
   ]
  },
  {
   "cell_type": "code",
   "execution_count": 179,
   "metadata": {},
   "outputs": [],
   "source": [
    "\n",
    "\n",
    "# This comes from Reference 7 in References.\n",
    "n_epochs = 75\n",
    "size_of_batch = 50\n",
    "stochastic = SGD(lr=0.001)\n",
    "DEFAULT_stochastic = SGD()\n",
    "nad = Nadam()\n",
    "RMS = RMSprop()\n",
    "\n",
    "# This builds the MLP model for Nulls Only.\n",
    "mlp_nullsonly_DEFAULT = build_model(drop_rate=0.5,\n",
    "                            l2_factor=0.001,\n",
    "                             first_dense=32,\n",
    "                             second_dense=16,\n",
    "                             third_dense=8,\n",
    "                            hidden_act='relu',\n",
    "                            out_act='sigmoid',\n",
    "                            x=Xtrain_nullsonly)"
   ]
  },
  {
   "cell_type": "code",
   "execution_count": 180,
   "metadata": {},
   "outputs": [],
   "source": [
    "# This compiles the MLP model for the Nulls Only data.\n",
    "# This comes from Reference 13 in References.\n",
    "mlp_nullsonly_DEFAULT.compile(loss='binary_crossentropy',\n",
    "              optimizer= DEFAULT_stochastic,\n",
    "              metrics=['accuracy'])"
   ]
  },
  {
   "cell_type": "code",
   "execution_count": 181,
   "metadata": {},
   "outputs": [],
   "source": [
    "# This creates checkpointer, which uses ModelCheckpoint to store the\n",
    "# best weights of the model.\n",
    "# This comes from References 6 in References.\n",
    "checkpoint = ModelCheckpoint(filepath='saved_models/weights.best.mlp_nullsonly_DEFAULT.hdf5',\n",
    "                             verbose=1, save_best_only=True)"
   ]
  },
  {
   "cell_type": "code",
   "execution_count": 182,
   "metadata": {
    "scrolled": true
   },
   "outputs": [
    {
     "name": "stdout",
     "output_type": "stream",
     "text": [
      "Train on 52409 samples, validate on 13103 samples\n",
      "Epoch 1/75\n",
      "52409/52409 [==============================] - 7s 125us/step - loss: 0.7574 - acc: 0.5874 - val_loss: 0.6973 - val_acc: 0.6956\n",
      "\n",
      "Epoch 00001: val_loss improved from inf to 0.69728, saving model to saved_models/weights.best.mlp_nullsonly_DEFAULT.hdf5\n",
      "Epoch 2/75\n",
      "52409/52409 [==============================] - 4s 73us/step - loss: 0.7235 - acc: 0.6290 - val_loss: 0.6755 - val_acc: 0.6985\n",
      "\n",
      "Epoch 00002: val_loss improved from 0.69728 to 0.67552, saving model to saved_models/weights.best.mlp_nullsonly_DEFAULT.hdf5\n",
      "Epoch 3/75\n",
      "52409/52409 [==============================] - 4s 72us/step - loss: 0.7099 - acc: 0.6392 - val_loss: 0.6660 - val_acc: 0.7005\n",
      "\n",
      "Epoch 00003: val_loss improved from 0.67552 to 0.66599, saving model to saved_models/weights.best.mlp_nullsonly_DEFAULT.hdf5\n",
      "Epoch 4/75\n",
      "52409/52409 [==============================] - 4s 72us/step - loss: 0.7008 - acc: 0.6480 - val_loss: 0.6544 - val_acc: 0.7028\n",
      "\n",
      "Epoch 00004: val_loss improved from 0.66599 to 0.65442, saving model to saved_models/weights.best.mlp_nullsonly_DEFAULT.hdf5\n",
      "Epoch 5/75\n",
      "52409/52409 [==============================] - 4s 71us/step - loss: 0.6925 - acc: 0.6494 - val_loss: 0.6443 - val_acc: 0.7075\n",
      "\n",
      "Epoch 00005: val_loss improved from 0.65442 to 0.64429, saving model to saved_models/weights.best.mlp_nullsonly_DEFAULT.hdf5\n",
      "Epoch 6/75\n",
      "52409/52409 [==============================] - 4s 72us/step - loss: 0.6831 - acc: 0.6561 - val_loss: 0.6367 - val_acc: 0.7150\n",
      "\n",
      "Epoch 00006: val_loss improved from 0.64429 to 0.63670, saving model to saved_models/weights.best.mlp_nullsonly_DEFAULT.hdf5\n",
      "Epoch 7/75\n",
      "52409/52409 [==============================] - 4s 69us/step - loss: 0.6744 - acc: 0.6638 - val_loss: 0.6275 - val_acc: 0.7230\n",
      "\n",
      "Epoch 00007: val_loss improved from 0.63670 to 0.62754, saving model to saved_models/weights.best.mlp_nullsonly_DEFAULT.hdf5\n",
      "Epoch 8/75\n",
      "52409/52409 [==============================] - 4s 70us/step - loss: 0.6658 - acc: 0.6675 - val_loss: 0.6171 - val_acc: 0.7275\n",
      "\n",
      "Epoch 00008: val_loss improved from 0.62754 to 0.61707, saving model to saved_models/weights.best.mlp_nullsonly_DEFAULT.hdf5\n",
      "Epoch 9/75\n",
      "52409/52409 [==============================] - 4s 69us/step - loss: 0.6597 - acc: 0.6742 - val_loss: 0.6109 - val_acc: 0.7341\n",
      "\n",
      "Epoch 00009: val_loss improved from 0.61707 to 0.61085, saving model to saved_models/weights.best.mlp_nullsonly_DEFAULT.hdf5\n",
      "Epoch 10/75\n",
      "52409/52409 [==============================] - 4s 74us/step - loss: 0.6535 - acc: 0.6825 - val_loss: 0.6029 - val_acc: 0.7465\n",
      "\n",
      "Epoch 00010: val_loss improved from 0.61085 to 0.60288, saving model to saved_models/weights.best.mlp_nullsonly_DEFAULT.hdf5\n",
      "Epoch 11/75\n",
      "52409/52409 [==============================] - 4s 77us/step - loss: 0.6479 - acc: 0.6860 - val_loss: 0.5979 - val_acc: 0.7476\n",
      "\n",
      "Epoch 00011: val_loss improved from 0.60288 to 0.59789, saving model to saved_models/weights.best.mlp_nullsonly_DEFAULT.hdf5\n",
      "Epoch 12/75\n",
      "52409/52409 [==============================] - 4s 77us/step - loss: 0.6418 - acc: 0.6910 - val_loss: 0.5896 - val_acc: 0.7407\n",
      "\n",
      "Epoch 00012: val_loss improved from 0.59789 to 0.58961, saving model to saved_models/weights.best.mlp_nullsonly_DEFAULT.hdf5\n",
      "Epoch 13/75\n",
      "52409/52409 [==============================] - 4s 79us/step - loss: 0.6368 - acc: 0.6958 - val_loss: 0.5838 - val_acc: 0.7486\n",
      "\n",
      "Epoch 00013: val_loss improved from 0.58961 to 0.58382, saving model to saved_models/weights.best.mlp_nullsonly_DEFAULT.hdf5\n",
      "Epoch 14/75\n",
      "52409/52409 [==============================] - 4s 79us/step - loss: 0.6342 - acc: 0.7007 - val_loss: 0.5806 - val_acc: 0.7560\n",
      "\n",
      "Epoch 00014: val_loss improved from 0.58382 to 0.58062, saving model to saved_models/weights.best.mlp_nullsonly_DEFAULT.hdf5\n",
      "Epoch 15/75\n",
      "52409/52409 [==============================] - 4s 82us/step - loss: 0.6286 - acc: 0.7039 - val_loss: 0.5786 - val_acc: 0.7541\n",
      "\n",
      "Epoch 00015: val_loss improved from 0.58062 to 0.57860, saving model to saved_models/weights.best.mlp_nullsonly_DEFAULT.hdf5\n",
      "Epoch 16/75\n",
      "52409/52409 [==============================] - 4s 80us/step - loss: 0.6267 - acc: 0.7033 - val_loss: 0.5724 - val_acc: 0.7568\n",
      "\n",
      "Epoch 00016: val_loss improved from 0.57860 to 0.57237, saving model to saved_models/weights.best.mlp_nullsonly_DEFAULT.hdf5\n",
      "Epoch 17/75\n",
      "52409/52409 [==============================] - 4s 82us/step - loss: 0.6234 - acc: 0.7059 - val_loss: 0.5724 - val_acc: 0.7591\n",
      "\n",
      "Epoch 00017: val_loss did not improve from 0.57237\n",
      "Epoch 18/75\n",
      "52409/52409 [==============================] - 4s 83us/step - loss: 0.6201 - acc: 0.7088 - val_loss: 0.5661 - val_acc: 0.7612\n",
      "\n",
      "Epoch 00018: val_loss improved from 0.57237 to 0.56608, saving model to saved_models/weights.best.mlp_nullsonly_DEFAULT.hdf5\n",
      "Epoch 19/75\n",
      "52409/52409 [==============================] - 5s 91us/step - loss: 0.6163 - acc: 0.7111 - val_loss: 0.5633 - val_acc: 0.7607\n",
      "\n",
      "Epoch 00019: val_loss improved from 0.56608 to 0.56331, saving model to saved_models/weights.best.mlp_nullsonly_DEFAULT.hdf5\n",
      "Epoch 20/75\n",
      "52409/52409 [==============================] - 5s 87us/step - loss: 0.6102 - acc: 0.7158 - val_loss: 0.5592 - val_acc: 0.7618\n",
      "\n",
      "Epoch 00020: val_loss improved from 0.56331 to 0.55917, saving model to saved_models/weights.best.mlp_nullsonly_DEFAULT.hdf5\n",
      "Epoch 21/75\n",
      "52409/52409 [==============================] - 4s 83us/step - loss: 0.6098 - acc: 0.7167 - val_loss: 0.5576 - val_acc: 0.7644\n",
      "\n",
      "Epoch 00021: val_loss improved from 0.55917 to 0.55758, saving model to saved_models/weights.best.mlp_nullsonly_DEFAULT.hdf5\n",
      "Epoch 22/75\n",
      "52409/52409 [==============================] - 4s 84us/step - loss: 0.6032 - acc: 0.7182 - val_loss: 0.5564 - val_acc: 0.7655\n",
      "\n",
      "Epoch 00022: val_loss improved from 0.55758 to 0.55641, saving model to saved_models/weights.best.mlp_nullsonly_DEFAULT.hdf5\n",
      "Epoch 23/75\n",
      "52409/52409 [==============================] - 5s 88us/step - loss: 0.6034 - acc: 0.7200 - val_loss: 0.5525 - val_acc: 0.7646\n",
      "\n",
      "Epoch 00023: val_loss improved from 0.55641 to 0.55247, saving model to saved_models/weights.best.mlp_nullsonly_DEFAULT.hdf5\n",
      "Epoch 24/75\n",
      "52409/52409 [==============================] - 4s 81us/step - loss: 0.6028 - acc: 0.7192 - val_loss: 0.5491 - val_acc: 0.7643\n",
      "\n",
      "Epoch 00024: val_loss improved from 0.55247 to 0.54914, saving model to saved_models/weights.best.mlp_nullsonly_DEFAULT.hdf5\n",
      "Epoch 25/75\n",
      "52409/52409 [==============================] - 4s 84us/step - loss: 0.6018 - acc: 0.7217 - val_loss: 0.5468 - val_acc: 0.7678\n",
      "\n",
      "Epoch 00025: val_loss improved from 0.54914 to 0.54685, saving model to saved_models/weights.best.mlp_nullsonly_DEFAULT.hdf5\n",
      "Epoch 26/75\n",
      "52409/52409 [==============================] - 5s 91us/step - loss: 0.5976 - acc: 0.7216 - val_loss: 0.5448 - val_acc: 0.7684\n",
      "\n",
      "Epoch 00026: val_loss improved from 0.54685 to 0.54476, saving model to saved_models/weights.best.mlp_nullsonly_DEFAULT.hdf5\n",
      "Epoch 27/75\n",
      "52409/52409 [==============================] - 4s 84us/step - loss: 0.5987 - acc: 0.7225 - val_loss: 0.5519 - val_acc: 0.7645\n",
      "\n",
      "Epoch 00027: val_loss did not improve from 0.54476\n",
      "Epoch 28/75\n",
      "52409/52409 [==============================] - 4s 85us/step - loss: 0.5951 - acc: 0.7246 - val_loss: 0.5415 - val_acc: 0.7731\n",
      "\n",
      "Epoch 00028: val_loss improved from 0.54476 to 0.54147, saving model to saved_models/weights.best.mlp_nullsonly_DEFAULT.hdf5\n",
      "Epoch 29/75\n",
      "52409/52409 [==============================] - 4s 84us/step - loss: 0.5947 - acc: 0.7251 - val_loss: 0.5448 - val_acc: 0.7697\n",
      "\n",
      "Epoch 00029: val_loss did not improve from 0.54147\n",
      "Epoch 30/75\n",
      "52409/52409 [==============================] - 4s 78us/step - loss: 0.5896 - acc: 0.7279 - val_loss: 0.5378 - val_acc: 0.7745\n",
      "\n",
      "Epoch 00030: val_loss improved from 0.54147 to 0.53783, saving model to saved_models/weights.best.mlp_nullsonly_DEFAULT.hdf5\n",
      "Epoch 31/75\n",
      "52409/52409 [==============================] - 4s 82us/step - loss: 0.5915 - acc: 0.7275 - val_loss: 0.5343 - val_acc: 0.7753\n",
      "\n",
      "Epoch 00031: val_loss improved from 0.53783 to 0.53434, saving model to saved_models/weights.best.mlp_nullsonly_DEFAULT.hdf5\n",
      "Epoch 32/75\n",
      "52409/52409 [==============================] - 4s 83us/step - loss: 0.5896 - acc: 0.7271 - val_loss: 0.5328 - val_acc: 0.7736\n",
      "\n",
      "Epoch 00032: val_loss improved from 0.53434 to 0.53277, saving model to saved_models/weights.best.mlp_nullsonly_DEFAULT.hdf5\n",
      "Epoch 33/75\n"
     ]
    },
    {
     "name": "stdout",
     "output_type": "stream",
     "text": [
      "52409/52409 [==============================] - 4s 82us/step - loss: 0.5855 - acc: 0.7297 - val_loss: 0.5329 - val_acc: 0.7694\n",
      "\n",
      "Epoch 00033: val_loss did not improve from 0.53277\n",
      "Epoch 34/75\n",
      "52409/52409 [==============================] - 4s 76us/step - loss: 0.5841 - acc: 0.7285 - val_loss: 0.5288 - val_acc: 0.7838\n",
      "\n",
      "Epoch 00034: val_loss improved from 0.53277 to 0.52880, saving model to saved_models/weights.best.mlp_nullsonly_DEFAULT.hdf5\n",
      "Epoch 35/75\n",
      "52409/52409 [==============================] - 4s 76us/step - loss: 0.5797 - acc: 0.7320 - val_loss: 0.5217 - val_acc: 0.7804\n",
      "\n",
      "Epoch 00035: val_loss improved from 0.52880 to 0.52166, saving model to saved_models/weights.best.mlp_nullsonly_DEFAULT.hdf5\n",
      "Epoch 36/75\n",
      "52409/52409 [==============================] - 4s 77us/step - loss: 0.5815 - acc: 0.7327 - val_loss: 0.5309 - val_acc: 0.7853\n",
      "\n",
      "Epoch 00036: val_loss did not improve from 0.52166\n",
      "Epoch 37/75\n",
      "52409/52409 [==============================] - 4s 77us/step - loss: 0.5815 - acc: 0.7325 - val_loss: 0.5260 - val_acc: 0.7867\n",
      "\n",
      "Epoch 00037: val_loss did not improve from 0.52166\n",
      "Epoch 38/75\n",
      "52409/52409 [==============================] - 4s 76us/step - loss: 0.5788 - acc: 0.7329 - val_loss: 0.5334 - val_acc: 0.7694\n",
      "\n",
      "Epoch 00038: val_loss did not improve from 0.52166\n",
      "Epoch 39/75\n",
      "52409/52409 [==============================] - 4s 76us/step - loss: 0.5776 - acc: 0.7336 - val_loss: 0.5196 - val_acc: 0.7858\n",
      "\n",
      "Epoch 00039: val_loss improved from 0.52166 to 0.51959, saving model to saved_models/weights.best.mlp_nullsonly_DEFAULT.hdf5\n",
      "Epoch 40/75\n",
      "52409/52409 [==============================] - 4s 77us/step - loss: 0.5758 - acc: 0.7369 - val_loss: 0.5373 - val_acc: 0.7630\n",
      "\n",
      "Epoch 00040: val_loss did not improve from 0.51959\n",
      "Epoch 41/75\n",
      "52409/52409 [==============================] - 4s 79us/step - loss: 0.5762 - acc: 0.7336 - val_loss: 0.5167 - val_acc: 0.7923\n",
      "\n",
      "Epoch 00041: val_loss improved from 0.51959 to 0.51668, saving model to saved_models/weights.best.mlp_nullsonly_DEFAULT.hdf5\n",
      "Epoch 42/75\n",
      "52409/52409 [==============================] - 4s 77us/step - loss: 0.5727 - acc: 0.7380 - val_loss: 0.5182 - val_acc: 0.7679\n",
      "\n",
      "Epoch 00042: val_loss did not improve from 0.51668\n",
      "Epoch 43/75\n",
      "52409/52409 [==============================] - 4s 76us/step - loss: 0.5716 - acc: 0.7397 - val_loss: 0.5163 - val_acc: 0.7953\n",
      "\n",
      "Epoch 00043: val_loss improved from 0.51668 to 0.51626, saving model to saved_models/weights.best.mlp_nullsonly_DEFAULT.hdf5\n",
      "Epoch 44/75\n",
      "52409/52409 [==============================] - 4s 80us/step - loss: 0.5697 - acc: 0.7394 - val_loss: 0.5380 - val_acc: 0.7603\n",
      "\n",
      "Epoch 00044: val_loss did not improve from 0.51626\n",
      "Epoch 45/75\n",
      "52409/52409 [==============================] - 4s 81us/step - loss: 0.5687 - acc: 0.7394 - val_loss: 0.5083 - val_acc: 0.7987\n",
      "\n",
      "Epoch 00045: val_loss improved from 0.51626 to 0.50834, saving model to saved_models/weights.best.mlp_nullsonly_DEFAULT.hdf5\n",
      "Epoch 46/75\n",
      "52409/52409 [==============================] - 4s 79us/step - loss: 0.5674 - acc: 0.7431 - val_loss: 0.5098 - val_acc: 0.7953\n",
      "\n",
      "Epoch 00046: val_loss did not improve from 0.50834\n",
      "Epoch 47/75\n",
      "52409/52409 [==============================] - 4s 80us/step - loss: 0.5673 - acc: 0.7419 - val_loss: 0.5035 - val_acc: 0.7945\n",
      "\n",
      "Epoch 00047: val_loss improved from 0.50834 to 0.50354, saving model to saved_models/weights.best.mlp_nullsonly_DEFAULT.hdf5\n",
      "Epoch 48/75\n",
      "52409/52409 [==============================] - 4s 79us/step - loss: 0.5663 - acc: 0.7433 - val_loss: 0.5826 - val_acc: 0.6920\n",
      "\n",
      "Epoch 00048: val_loss did not improve from 0.50354\n",
      "Epoch 49/75\n",
      "52409/52409 [==============================] - 4s 78us/step - loss: 0.5654 - acc: 0.7424 - val_loss: 0.5179 - val_acc: 0.7895\n",
      "\n",
      "Epoch 00049: val_loss did not improve from 0.50354\n",
      "Epoch 50/75\n",
      "52409/52409 [==============================] - 4s 78us/step - loss: 0.5628 - acc: 0.7436 - val_loss: 0.5162 - val_acc: 0.7630\n",
      "\n",
      "Epoch 00050: val_loss did not improve from 0.50354\n",
      "Epoch 51/75\n",
      "52409/52409 [==============================] - 4s 78us/step - loss: 0.5619 - acc: 0.7453 - val_loss: 0.4990 - val_acc: 0.7982\n",
      "\n",
      "Epoch 00051: val_loss improved from 0.50354 to 0.49896, saving model to saved_models/weights.best.mlp_nullsonly_DEFAULT.hdf5\n",
      "Epoch 52/75\n",
      "52409/52409 [==============================] - 4s 78us/step - loss: 0.5620 - acc: 0.7466 - val_loss: 0.5009 - val_acc: 0.8067\n",
      "\n",
      "Epoch 00052: val_loss did not improve from 0.49896\n",
      "Epoch 53/75\n",
      "52409/52409 [==============================] - 4s 82us/step - loss: 0.5594 - acc: 0.7482 - val_loss: 0.5034 - val_acc: 0.7997\n",
      "\n",
      "Epoch 00053: val_loss did not improve from 0.49896\n",
      "Epoch 54/75\n",
      "52409/52409 [==============================] - 4s 79us/step - loss: 0.5626 - acc: 0.7490 - val_loss: 0.4953 - val_acc: 0.7956\n",
      "\n",
      "Epoch 00054: val_loss improved from 0.49896 to 0.49527, saving model to saved_models/weights.best.mlp_nullsonly_DEFAULT.hdf5\n",
      "Epoch 55/75\n",
      "52409/52409 [==============================] - 4s 84us/step - loss: 0.5569 - acc: 0.7499 - val_loss: 0.5078 - val_acc: 0.7847\n",
      "\n",
      "Epoch 00055: val_loss did not improve from 0.49527\n",
      "Epoch 56/75\n",
      "52409/52409 [==============================] - 4s 79us/step - loss: 0.5572 - acc: 0.7494 - val_loss: 0.4935 - val_acc: 0.8088\n",
      "\n",
      "Epoch 00056: val_loss improved from 0.49527 to 0.49350, saving model to saved_models/weights.best.mlp_nullsonly_DEFAULT.hdf5\n",
      "Epoch 57/75\n",
      "52409/52409 [==============================] - 4s 78us/step - loss: 0.5577 - acc: 0.7509 - val_loss: 0.4980 - val_acc: 0.8063\n",
      "\n",
      "Epoch 00057: val_loss did not improve from 0.49350\n",
      "Epoch 58/75\n",
      "52409/52409 [==============================] - 4s 78us/step - loss: 0.5580 - acc: 0.7495 - val_loss: 0.4880 - val_acc: 0.8045\n",
      "\n",
      "Epoch 00058: val_loss improved from 0.49350 to 0.48800, saving model to saved_models/weights.best.mlp_nullsonly_DEFAULT.hdf5\n",
      "Epoch 59/75\n",
      "52409/52409 [==============================] - 4s 78us/step - loss: 0.5576 - acc: 0.7499 - val_loss: 0.4905 - val_acc: 0.8140\n",
      "\n",
      "Epoch 00059: val_loss did not improve from 0.48800\n",
      "Epoch 60/75\n",
      "52409/52409 [==============================] - 4s 78us/step - loss: 0.5531 - acc: 0.7539 - val_loss: 0.4883 - val_acc: 0.8020\n",
      "\n",
      "Epoch 00060: val_loss did not improve from 0.48800\n",
      "Epoch 61/75\n",
      "52409/52409 [==============================] - 4s 78us/step - loss: 0.5545 - acc: 0.7525 - val_loss: 0.5243 - val_acc: 0.7498\n",
      "\n",
      "Epoch 00061: val_loss did not improve from 0.48800\n",
      "Epoch 62/75\n",
      "52409/52409 [==============================] - 4s 83us/step - loss: 0.5529 - acc: 0.7537 - val_loss: 0.4952 - val_acc: 0.7866\n",
      "\n",
      "Epoch 00062: val_loss did not improve from 0.48800\n",
      "Epoch 63/75\n",
      "52409/52409 [==============================] - 4s 79us/step - loss: 0.5582 - acc: 0.7545 - val_loss: 0.4938 - val_acc: 0.7849\n",
      "\n",
      "Epoch 00063: val_loss did not improve from 0.48800\n",
      "Epoch 64/75\n",
      "52409/52409 [==============================] - 4s 83us/step - loss: 0.5535 - acc: 0.7540 - val_loss: 0.4948 - val_acc: 0.8118\n",
      "\n",
      "Epoch 00064: val_loss did not improve from 0.48800\n",
      "Epoch 65/75\n",
      "52409/52409 [==============================] - 4s 81us/step - loss: 0.5506 - acc: 0.7552 - val_loss: 0.4770 - val_acc: 0.8134\n",
      "\n",
      "Epoch 00065: val_loss improved from 0.48800 to 0.47698, saving model to saved_models/weights.best.mlp_nullsonly_DEFAULT.hdf5\n",
      "Epoch 66/75\n",
      "52409/52409 [==============================] - 4s 80us/step - loss: 0.5506 - acc: 0.7559 - val_loss: 0.5120 - val_acc: 0.7627\n",
      "\n",
      "Epoch 00066: val_loss did not improve from 0.47698\n",
      "Epoch 67/75\n",
      "52409/52409 [==============================] - 4s 78us/step - loss: 0.5524 - acc: 0.7569 - val_loss: 0.4850 - val_acc: 0.8111\n",
      "\n",
      "Epoch 00067: val_loss did not improve from 0.47698\n",
      "Epoch 68/75\n",
      "52409/52409 [==============================] - 4s 79us/step - loss: 0.5504 - acc: 0.7609 - val_loss: 0.4717 - val_acc: 0.8130\n",
      "\n",
      "Epoch 00068: val_loss improved from 0.47698 to 0.47170, saving model to saved_models/weights.best.mlp_nullsonly_DEFAULT.hdf5\n",
      "Epoch 69/75\n",
      "52409/52409 [==============================] - 4s 82us/step - loss: 0.5530 - acc: 0.7587 - val_loss: 0.5621 - val_acc: 0.7143\n",
      "\n",
      "Epoch 00069: val_loss did not improve from 0.47170\n",
      "Epoch 70/75\n",
      "52409/52409 [==============================] - 4s 79us/step - loss: 0.5559 - acc: 0.7525 - val_loss: 0.4819 - val_acc: 0.8015\n",
      "\n",
      "Epoch 00070: val_loss did not improve from 0.47170\n",
      "Epoch 71/75\n"
     ]
    },
    {
     "name": "stdout",
     "output_type": "stream",
     "text": [
      "52409/52409 [==============================] - 4s 77us/step - loss: 0.5505 - acc: 0.7570 - val_loss: 0.4904 - val_acc: 0.8100\n",
      "\n",
      "Epoch 00071: val_loss did not improve from 0.47170\n",
      "Epoch 72/75\n",
      "52409/52409 [==============================] - 4s 80us/step - loss: 0.5479 - acc: 0.7579 - val_loss: 0.5192 - val_acc: 0.7655\n",
      "\n",
      "Epoch 00072: val_loss did not improve from 0.47170\n",
      "Epoch 73/75\n",
      "52409/52409 [==============================] - 4s 82us/step - loss: 0.5473 - acc: 0.7601 - val_loss: 0.4904 - val_acc: 0.8005\n",
      "\n",
      "Epoch 00073: val_loss did not improve from 0.47170\n",
      "Epoch 74/75\n",
      "52409/52409 [==============================] - 4s 80us/step - loss: 0.5463 - acc: 0.7627 - val_loss: 0.4913 - val_acc: 0.7978\n",
      "\n",
      "Epoch 00074: val_loss did not improve from 0.47170\n",
      "Epoch 75/75\n",
      "52409/52409 [==============================] - 4s 82us/step - loss: 0.5526 - acc: 0.7563 - val_loss: 0.4853 - val_acc: 0.8112\n",
      "\n",
      "Epoch 00075: val_loss did not improve from 0.47170\n"
     ]
    },
    {
     "data": {
      "text/plain": [
       "<keras.callbacks.History at 0x26b88ef9438>"
      ]
     },
     "execution_count": 182,
     "metadata": {},
     "output_type": "execute_result"
    }
   ],
   "source": [
    "# This fits the model and runs it for 100 epochs.\n",
    "mlp_nullsonly_DEFAULT.fit(Xtrain_nullsonly, Ytrain_nullsonly, validation_split=0.20,\n",
    "                epochs=n_epochs, batch_size=size_of_batch, \n",
    "                callbacks = [checkpoint], verbose=1)"
   ]
  },
  {
   "cell_type": "code",
   "execution_count": 183,
   "metadata": {
    "scrolled": true
   },
   "outputs": [],
   "source": [
    "# This loads the best weights from the model.\n",
    "# This comes from Reference 6 in References.\n",
    "mlp_nullsonly_DEFAULT.load_weights('saved_models/weights.best.mlp_nullsonly_DEFAULT.hdf5')"
   ]
  },
  {
   "cell_type": "code",
   "execution_count": 184,
   "metadata": {},
   "outputs": [
    {
     "name": "stdout",
     "output_type": "stream",
     "text": [
      "Test acuracy: 89.7496%\n"
     ]
    }
   ],
   "source": [
    "# This prints the accuracy of the model.\n",
    "# This comes from Reference 9 in References.\n",
    "score = mlp_nullsonly_DEFAULT.evaluate(Xtest_nullsonly, Ytest_nullsonly, verbose=0)\n",
    "accuracy = 100*score[1]\n",
    "print('Test acuracy: %.4f%%' %accuracy)"
   ]
  },
  {
   "cell_type": "code",
   "execution_count": 185,
   "metadata": {
    "scrolled": true
   },
   "outputs": [
    {
     "name": "stdout",
     "output_type": "stream",
     "text": [
      "The AUC score for the model is 0.3151.\n"
     ]
    }
   ],
   "source": [
    "# This prints the AUC score for the model.\n",
    "Ypred_nullsonly_DEFAULT= mlp_nullsonly_DEFAULT.predict(Xtest_nullsonly)\n",
    "mlp_nullsonly_ROC_DEFAULT = roc_auc_score(Ytest_nullsonly, Ypred_nullsonly_DEFAULT)\n",
    "print(\"The AUC score for the model is %.4f.\" % mlp_nullsonly_ROC_DEFAULT)"
   ]
  },
  {
   "cell_type": "code",
   "execution_count": 186,
   "metadata": {
    "scrolled": false
   },
   "outputs": [
    {
     "data": {
      "image/png": "[encoded data removed]",
      "text/plain": [
       "<Figure size 432x432 with 1 Axes>"
      ]
     },
     "metadata": {
      "needs_background": "light"
     },
     "output_type": "display_data"
    }
   ],
   "source": [
    "# This plots the ROC curve for the model.\n",
    "roc_plot(model=mlp_nullsonly_DEFAULT, x_test=Xtest_nullsonly,\n",
    "        y_test=Ytest_nullsonly,title=\"ROC: MLP Nulls Only\")"
   ]
  },
  {
   "cell_type": "markdown",
   "metadata": {},
   "source": [
    "### Model Nulls Only Final Model\n",
    "This is the only model in which the the higher learning rate resulted in a higher AUC score."
   ]
  },
  {
   "cell_type": "code",
   "execution_count": 187,
   "metadata": {},
   "outputs": [],
   "source": [
    "\n",
    "\n",
    "# This comes from Reference 7 in References.\n",
    "n_epochs = 75\n",
    "size_of_batch = 50\n",
    "stochastic = SGD(lr=0.001)\n",
    "nad = Nadam()\n",
    "RMS = RMSprop()\n",
    "\n",
    "# This builds the MLP model for Nulls Only.\n",
    "mlp_nullsonly = build_model(drop_rate=0.5,\n",
    "                            l2_factor=0.001,\n",
    "                             first_dense=32,\n",
    "                             second_dense=16,\n",
    "                             third_dense=8,\n",
    "                            hidden_act='relu',\n",
    "                            out_act='sigmoid',\n",
    "                            x=Xtrain_nullsonly)"
   ]
  },
  {
   "cell_type": "code",
   "execution_count": 188,
   "metadata": {},
   "outputs": [],
   "source": [
    "# This compiles the MLP model for the Nulls Only data.\n",
    "# This comes from Reference 13 in References.\n",
    "mlp_nullsonly.compile(loss='binary_crossentropy',\n",
    "              optimizer= stochastic,\n",
    "              metrics=['accuracy'])"
   ]
  },
  {
   "cell_type": "code",
   "execution_count": 189,
   "metadata": {},
   "outputs": [],
   "source": [
    "# This creates checkpointer, which uses ModelCheckpoint to store the\n",
    "# best weights of the model.\n",
    "# This comes from References 6 in References.\n",
    "checkpoint = ModelCheckpoint(filepath='saved_models/weights.best.mlp_nullsonly.hdf5',\n",
    "                             verbose=1, save_best_only=True)"
   ]
  },
  {
   "cell_type": "code",
   "execution_count": 190,
   "metadata": {
    "scrolled": true
   },
   "outputs": [
    {
     "name": "stdout",
     "output_type": "stream",
     "text": [
      "Train on 52409 samples, validate on 13103 samples\n",
      "Epoch 1/75\n",
      "52409/52409 [==============================] - 6s 116us/step - loss: 0.7809 - acc: 0.5059 - val_loss: 0.7655 - val_acc: 0.6433\n",
      "\n",
      "Epoch 00001: val_loss improved from inf to 0.76545, saving model to saved_models/weights.best.mlp_nullsonly.hdf5\n",
      "Epoch 2/75\n",
      "52409/52409 [==============================] - 4s 71us/step - loss: 0.7717 - acc: 0.5361 - val_loss: 0.7609 - val_acc: 0.6576\n",
      "\n",
      "Epoch 00002: val_loss improved from 0.76545 to 0.76087, saving model to saved_models/weights.best.mlp_nullsonly.hdf5\n",
      "Epoch 3/75\n",
      "52409/52409 [==============================] - 4s 73us/step - loss: 0.7646 - acc: 0.5596 - val_loss: 0.7559 - val_acc: 0.6695\n",
      "\n",
      "Epoch 00003: val_loss improved from 0.76087 to 0.75586, saving model to saved_models/weights.best.mlp_nullsonly.hdf5\n",
      "Epoch 4/75\n",
      "52409/52409 [==============================] - 4s 70us/step - loss: 0.7605 - acc: 0.5823 - val_loss: 0.7504 - val_acc: 0.6786\n",
      "\n",
      "Epoch 00004: val_loss improved from 0.75586 to 0.75041, saving model to saved_models/weights.best.mlp_nullsonly.hdf5\n",
      "Epoch 5/75\n",
      "52409/52409 [==============================] - 4s 71us/step - loss: 0.7565 - acc: 0.5875 - val_loss: 0.7449 - val_acc: 0.6834\n",
      "\n",
      "Epoch 00005: val_loss improved from 0.75041 to 0.74489, saving model to saved_models/weights.best.mlp_nullsonly.hdf5\n",
      "Epoch 6/75\n",
      "52409/52409 [==============================] - 4s 71us/step - loss: 0.7523 - acc: 0.5929 - val_loss: 0.7396 - val_acc: 0.6852\n",
      "\n",
      "Epoch 00006: val_loss improved from 0.74489 to 0.73956, saving model to saved_models/weights.best.mlp_nullsonly.hdf5\n",
      "Epoch 7/75\n",
      "52409/52409 [==============================] - 4s 71us/step - loss: 0.7485 - acc: 0.5997 - val_loss: 0.7341 - val_acc: 0.6854\n",
      "\n",
      "Epoch 00007: val_loss improved from 0.73956 to 0.73411, saving model to saved_models/weights.best.mlp_nullsonly.hdf5\n",
      "Epoch 8/75\n",
      "52409/52409 [==============================] - 4s 72us/step - loss: 0.7451 - acc: 0.6029 - val_loss: 0.7292 - val_acc: 0.6872\n",
      "\n",
      "Epoch 00008: val_loss improved from 0.73411 to 0.72916, saving model to saved_models/weights.best.mlp_nullsonly.hdf5\n",
      "Epoch 9/75\n",
      "52409/52409 [==============================] - 4s 78us/step - loss: 0.7398 - acc: 0.6080 - val_loss: 0.7240 - val_acc: 0.6876\n",
      "\n",
      "Epoch 00009: val_loss improved from 0.72916 to 0.72401, saving model to saved_models/weights.best.mlp_nullsonly.hdf5\n",
      "Epoch 10/75\n",
      "52409/52409 [==============================] - 4s 78us/step - loss: 0.7394 - acc: 0.6072 - val_loss: 0.7192 - val_acc: 0.6869\n",
      "\n",
      "Epoch 00010: val_loss improved from 0.72401 to 0.71920, saving model to saved_models/weights.best.mlp_nullsonly.hdf5\n",
      "Epoch 11/75\n",
      "52409/52409 [==============================] - 4s 78us/step - loss: 0.7360 - acc: 0.6101 - val_loss: 0.7149 - val_acc: 0.6867\n",
      "\n",
      "Epoch 00011: val_loss improved from 0.71920 to 0.71486, saving model to saved_models/weights.best.mlp_nullsonly.hdf5\n",
      "Epoch 12/75\n",
      "52409/52409 [==============================] - 4s 82us/step - loss: 0.7349 - acc: 0.6109 - val_loss: 0.7107 - val_acc: 0.6876\n",
      "\n",
      "Epoch 00012: val_loss improved from 0.71486 to 0.71074, saving model to saved_models/weights.best.mlp_nullsonly.hdf5\n",
      "Epoch 13/75\n",
      "52409/52409 [==============================] - 4s 82us/step - loss: 0.7305 - acc: 0.6156 - val_loss: 0.7068 - val_acc: 0.6880\n",
      "\n",
      "Epoch 00013: val_loss improved from 0.71074 to 0.70676, saving model to saved_models/weights.best.mlp_nullsonly.hdf5\n",
      "Epoch 14/75\n",
      "52409/52409 [==============================] - 4s 80us/step - loss: 0.7273 - acc: 0.6165 - val_loss: 0.7029 - val_acc: 0.6888\n",
      "\n",
      "Epoch 00014: val_loss improved from 0.70676 to 0.70295, saving model to saved_models/weights.best.mlp_nullsonly.hdf5\n",
      "Epoch 15/75\n",
      "52409/52409 [==============================] - 4s 80us/step - loss: 0.7275 - acc: 0.6167 - val_loss: 0.6998 - val_acc: 0.6892\n",
      "\n",
      "Epoch 00015: val_loss improved from 0.70295 to 0.69984, saving model to saved_models/weights.best.mlp_nullsonly.hdf5\n",
      "Epoch 16/75\n",
      "52409/52409 [==============================] - 4s 80us/step - loss: 0.7233 - acc: 0.6191 - val_loss: 0.6968 - val_acc: 0.6896\n",
      "\n",
      "Epoch 00016: val_loss improved from 0.69984 to 0.69677, saving model to saved_models/weights.best.mlp_nullsonly.hdf5\n",
      "Epoch 17/75\n",
      "52409/52409 [==============================] - 4s 81us/step - loss: 0.7235 - acc: 0.6203 - val_loss: 0.6944 - val_acc: 0.6901\n",
      "\n",
      "Epoch 00017: val_loss improved from 0.69677 to 0.69436, saving model to saved_models/weights.best.mlp_nullsonly.hdf5\n",
      "Epoch 18/75\n",
      "52409/52409 [==============================] - 4s 82us/step - loss: 0.7198 - acc: 0.6270 - val_loss: 0.6916 - val_acc: 0.6905\n",
      "\n",
      "Epoch 00018: val_loss improved from 0.69436 to 0.69159, saving model to saved_models/weights.best.mlp_nullsonly.hdf5\n",
      "Epoch 19/75\n",
      "52409/52409 [==============================] - 4s 82us/step - loss: 0.7202 - acc: 0.6242 - val_loss: 0.6896 - val_acc: 0.6906\n",
      "\n",
      "Epoch 00019: val_loss improved from 0.69159 to 0.68960, saving model to saved_models/weights.best.mlp_nullsonly.hdf5\n",
      "Epoch 20/75\n",
      "52409/52409 [==============================] - 4s 82us/step - loss: 0.7180 - acc: 0.6273 - val_loss: 0.6871 - val_acc: 0.6909\n",
      "\n",
      "Epoch 00020: val_loss improved from 0.68960 to 0.68710, saving model to saved_models/weights.best.mlp_nullsonly.hdf5\n",
      "Epoch 21/75\n",
      "52409/52409 [==============================] - 4s 81us/step - loss: 0.7179 - acc: 0.6307 - val_loss: 0.6854 - val_acc: 0.6917\n",
      "\n",
      "Epoch 00021: val_loss improved from 0.68710 to 0.68538, saving model to saved_models/weights.best.mlp_nullsonly.hdf5\n",
      "Epoch 22/75\n",
      "52409/52409 [==============================] - 4s 79us/step - loss: 0.7162 - acc: 0.6332 - val_loss: 0.6841 - val_acc: 0.6925\n",
      "\n",
      "Epoch 00022: val_loss improved from 0.68538 to 0.68408, saving model to saved_models/weights.best.mlp_nullsonly.hdf5\n",
      "Epoch 23/75\n",
      "52409/52409 [==============================] - 4s 83us/step - loss: 0.7162 - acc: 0.6348 - val_loss: 0.6826 - val_acc: 0.6926\n",
      "\n",
      "Epoch 00023: val_loss improved from 0.68408 to 0.68265, saving model to saved_models/weights.best.mlp_nullsonly.hdf5\n",
      "Epoch 24/75\n",
      "52409/52409 [==============================] - 4s 82us/step - loss: 0.7132 - acc: 0.6358 - val_loss: 0.6809 - val_acc: 0.6923\n",
      "\n",
      "Epoch 00024: val_loss improved from 0.68265 to 0.68089, saving model to saved_models/weights.best.mlp_nullsonly.hdf5\n",
      "Epoch 25/75\n",
      "52409/52409 [==============================] - 4s 79us/step - loss: 0.7136 - acc: 0.6353 - val_loss: 0.6798 - val_acc: 0.6932\n",
      "\n",
      "Epoch 00025: val_loss improved from 0.68089 to 0.67980, saving model to saved_models/weights.best.mlp_nullsonly.hdf5\n",
      "Epoch 26/75\n",
      "52409/52409 [==============================] - 4s 86us/step - loss: 0.7134 - acc: 0.6368 - val_loss: 0.6781 - val_acc: 0.6930\n",
      "\n",
      "Epoch 00026: val_loss improved from 0.67980 to 0.67810, saving model to saved_models/weights.best.mlp_nullsonly.hdf5\n",
      "Epoch 27/75\n",
      "52409/52409 [==============================] - 4s 80us/step - loss: 0.7119 - acc: 0.6403 - val_loss: 0.6768 - val_acc: 0.6934\n",
      "\n",
      "Epoch 00027: val_loss improved from 0.67810 to 0.67678, saving model to saved_models/weights.best.mlp_nullsonly.hdf5\n",
      "Epoch 28/75\n",
      "52409/52409 [==============================] - 4s 83us/step - loss: 0.7079 - acc: 0.6416 - val_loss: 0.6750 - val_acc: 0.6941\n",
      "\n",
      "Epoch 00028: val_loss improved from 0.67678 to 0.67499, saving model to saved_models/weights.best.mlp_nullsonly.hdf5\n",
      "Epoch 29/75\n",
      "52409/52409 [==============================] - 4s 80us/step - loss: 0.7084 - acc: 0.6380 - val_loss: 0.6741 - val_acc: 0.6940\n",
      "\n",
      "Epoch 00029: val_loss improved from 0.67499 to 0.67405, saving model to saved_models/weights.best.mlp_nullsonly.hdf5\n",
      "Epoch 30/75\n",
      "52409/52409 [==============================] - 4s 79us/step - loss: 0.7072 - acc: 0.6441 - val_loss: 0.6728 - val_acc: 0.6942\n",
      "\n",
      "Epoch 00030: val_loss improved from 0.67405 to 0.67277, saving model to saved_models/weights.best.mlp_nullsonly.hdf5\n",
      "Epoch 31/75\n",
      "52409/52409 [==============================] - 4s 79us/step - loss: 0.7083 - acc: 0.6454 - val_loss: 0.6719 - val_acc: 0.6943\n",
      "\n",
      "Epoch 00031: val_loss improved from 0.67277 to 0.67191, saving model to saved_models/weights.best.mlp_nullsonly.hdf5\n",
      "Epoch 32/75\n",
      "52409/52409 [==============================] - 4s 80us/step - loss: 0.7069 - acc: 0.6473 - val_loss: 0.6707 - val_acc: 0.6947\n",
      "\n",
      "Epoch 00032: val_loss improved from 0.67191 to 0.67073, saving model to saved_models/weights.best.mlp_nullsonly.hdf5\n",
      "Epoch 33/75\n"
     ]
    },
    {
     "name": "stdout",
     "output_type": "stream",
     "text": [
      "52409/52409 [==============================] - 4s 79us/step - loss: 0.7055 - acc: 0.6464 - val_loss: 0.6693 - val_acc: 0.6952\n",
      "\n",
      "Epoch 00033: val_loss improved from 0.67073 to 0.66934, saving model to saved_models/weights.best.mlp_nullsonly.hdf5\n",
      "Epoch 34/75\n",
      "52409/52409 [==============================] - 4s 80us/step - loss: 0.7047 - acc: 0.6487 - val_loss: 0.6684 - val_acc: 0.6956\n",
      "\n",
      "Epoch 00034: val_loss improved from 0.66934 to 0.66839, saving model to saved_models/weights.best.mlp_nullsonly.hdf5\n",
      "Epoch 35/75\n",
      "52409/52409 [==============================] - 4s 81us/step - loss: 0.7024 - acc: 0.6483 - val_loss: 0.6674 - val_acc: 0.6956\n",
      "\n",
      "Epoch 00035: val_loss improved from 0.66839 to 0.66741, saving model to saved_models/weights.best.mlp_nullsonly.hdf5\n",
      "Epoch 36/75\n",
      "52409/52409 [==============================] - 4s 80us/step - loss: 0.7012 - acc: 0.6502 - val_loss: 0.6663 - val_acc: 0.6959\n",
      "\n",
      "Epoch 00036: val_loss improved from 0.66741 to 0.66633, saving model to saved_models/weights.best.mlp_nullsonly.hdf5\n",
      "Epoch 37/75\n",
      "52409/52409 [==============================] - 4s 78us/step - loss: 0.7027 - acc: 0.6484 - val_loss: 0.6656 - val_acc: 0.6963\n",
      "\n",
      "Epoch 00037: val_loss improved from 0.66633 to 0.66558, saving model to saved_models/weights.best.mlp_nullsonly.hdf5\n",
      "Epoch 38/75\n",
      "52409/52409 [==============================] - 4s 80us/step - loss: 0.6996 - acc: 0.6507 - val_loss: 0.6646 - val_acc: 0.6966\n",
      "\n",
      "Epoch 00038: val_loss improved from 0.66558 to 0.66459, saving model to saved_models/weights.best.mlp_nullsonly.hdf5\n",
      "Epoch 39/75\n",
      "52409/52409 [==============================] - 4s 78us/step - loss: 0.6993 - acc: 0.6503 - val_loss: 0.6632 - val_acc: 0.6965\n",
      "\n",
      "Epoch 00039: val_loss improved from 0.66459 to 0.66317, saving model to saved_models/weights.best.mlp_nullsonly.hdf5\n",
      "Epoch 40/75\n",
      "52409/52409 [==============================] - 4s 78us/step - loss: 0.6970 - acc: 0.6522 - val_loss: 0.6619 - val_acc: 0.6964\n",
      "\n",
      "Epoch 00040: val_loss improved from 0.66317 to 0.66195, saving model to saved_models/weights.best.mlp_nullsonly.hdf5\n",
      "Epoch 41/75\n",
      "52409/52409 [==============================] - 4s 78us/step - loss: 0.7004 - acc: 0.6506 - val_loss: 0.6616 - val_acc: 0.6963\n",
      "\n",
      "Epoch 00041: val_loss improved from 0.66195 to 0.66155, saving model to saved_models/weights.best.mlp_nullsonly.hdf5\n",
      "Epoch 42/75\n",
      "52409/52409 [==============================] - 4s 78us/step - loss: 0.6989 - acc: 0.6530 - val_loss: 0.6608 - val_acc: 0.6963\n",
      "\n",
      "Epoch 00042: val_loss improved from 0.66155 to 0.66078, saving model to saved_models/weights.best.mlp_nullsonly.hdf5\n",
      "Epoch 43/75\n",
      "52409/52409 [==============================] - 4s 78us/step - loss: 0.6975 - acc: 0.6525 - val_loss: 0.6600 - val_acc: 0.6962\n",
      "\n",
      "Epoch 00043: val_loss improved from 0.66078 to 0.66005, saving model to saved_models/weights.best.mlp_nullsonly.hdf5\n",
      "Epoch 44/75\n",
      "52409/52409 [==============================] - 4s 79us/step - loss: 0.6961 - acc: 0.6542 - val_loss: 0.6591 - val_acc: 0.6963\n",
      "\n",
      "Epoch 00044: val_loss improved from 0.66005 to 0.65911, saving model to saved_models/weights.best.mlp_nullsonly.hdf5\n",
      "Epoch 45/75\n",
      "52409/52409 [==============================] - 4s 79us/step - loss: 0.6951 - acc: 0.6542 - val_loss: 0.6581 - val_acc: 0.6965\n",
      "\n",
      "Epoch 00045: val_loss improved from 0.65911 to 0.65813, saving model to saved_models/weights.best.mlp_nullsonly.hdf5\n",
      "Epoch 46/75\n",
      "52409/52409 [==============================] - 4s 79us/step - loss: 0.6947 - acc: 0.6556 - val_loss: 0.6574 - val_acc: 0.6966\n",
      "\n",
      "Epoch 00046: val_loss improved from 0.65813 to 0.65745, saving model to saved_models/weights.best.mlp_nullsonly.hdf5\n",
      "Epoch 47/75\n",
      "52409/52409 [==============================] - 4s 84us/step - loss: 0.6935 - acc: 0.6566 - val_loss: 0.6565 - val_acc: 0.6966\n",
      "\n",
      "Epoch 00047: val_loss improved from 0.65745 to 0.65652, saving model to saved_models/weights.best.mlp_nullsonly.hdf5\n",
      "Epoch 48/75\n",
      "52409/52409 [==============================] - 4s 81us/step - loss: 0.6912 - acc: 0.6581 - val_loss: 0.6555 - val_acc: 0.6966\n",
      "\n",
      "Epoch 00048: val_loss improved from 0.65652 to 0.65550, saving model to saved_models/weights.best.mlp_nullsonly.hdf5\n",
      "Epoch 49/75\n",
      "52409/52409 [==============================] - 4s 79us/step - loss: 0.6925 - acc: 0.6589 - val_loss: 0.6545 - val_acc: 0.6966\n",
      "\n",
      "Epoch 00049: val_loss improved from 0.65550 to 0.65449, saving model to saved_models/weights.best.mlp_nullsonly.hdf5\n",
      "Epoch 50/75\n",
      "52409/52409 [==============================] - 4s 81us/step - loss: 0.6935 - acc: 0.6553 - val_loss: 0.6540 - val_acc: 0.6969\n",
      "\n",
      "Epoch 00050: val_loss improved from 0.65449 to 0.65400, saving model to saved_models/weights.best.mlp_nullsonly.hdf5\n",
      "Epoch 51/75\n",
      "52409/52409 [==============================] - 4s 79us/step - loss: 0.6922 - acc: 0.6564 - val_loss: 0.6536 - val_acc: 0.6972\n",
      "\n",
      "Epoch 00051: val_loss improved from 0.65400 to 0.65361, saving model to saved_models/weights.best.mlp_nullsonly.hdf5\n",
      "Epoch 52/75\n",
      "52409/52409 [==============================] - 4s 79us/step - loss: 0.6886 - acc: 0.6590 - val_loss: 0.6528 - val_acc: 0.6971\n",
      "\n",
      "Epoch 00052: val_loss improved from 0.65361 to 0.65276, saving model to saved_models/weights.best.mlp_nullsonly.hdf5\n",
      "Epoch 53/75\n",
      "52409/52409 [==============================] - 4s 82us/step - loss: 0.6882 - acc: 0.6557 - val_loss: 0.6519 - val_acc: 0.6974\n",
      "\n",
      "Epoch 00053: val_loss improved from 0.65276 to 0.65187, saving model to saved_models/weights.best.mlp_nullsonly.hdf5\n",
      "Epoch 54/75\n",
      "52409/52409 [==============================] - 5s 93us/step - loss: 0.6900 - acc: 0.6583 - val_loss: 0.6511 - val_acc: 0.6982\n",
      "\n",
      "Epoch 00054: val_loss improved from 0.65187 to 0.65105, saving model to saved_models/weights.best.mlp_nullsonly.hdf5\n",
      "Epoch 55/75\n",
      "52409/52409 [==============================] - 5s 86us/step - loss: 0.6870 - acc: 0.6608 - val_loss: 0.6501 - val_acc: 0.6984\n",
      "\n",
      "Epoch 00055: val_loss improved from 0.65105 to 0.65012, saving model to saved_models/weights.best.mlp_nullsonly.hdf5\n",
      "Epoch 56/75\n",
      "52409/52409 [==============================] - 4s 80us/step - loss: 0.6869 - acc: 0.6608 - val_loss: 0.6491 - val_acc: 0.6983\n",
      "\n",
      "Epoch 00056: val_loss improved from 0.65012 to 0.64907, saving model to saved_models/weights.best.mlp_nullsonly.hdf5\n",
      "Epoch 57/75\n",
      "52409/52409 [==============================] - 4s 80us/step - loss: 0.6866 - acc: 0.6616 - val_loss: 0.6483 - val_acc: 0.6990\n",
      "\n",
      "Epoch 00057: val_loss improved from 0.64907 to 0.64825, saving model to saved_models/weights.best.mlp_nullsonly.hdf5\n",
      "Epoch 58/75\n",
      "52409/52409 [==============================] - 4s 79us/step - loss: 0.6867 - acc: 0.6597 - val_loss: 0.6477 - val_acc: 0.6986\n",
      "\n",
      "Epoch 00058: val_loss improved from 0.64825 to 0.64766, saving model to saved_models/weights.best.mlp_nullsonly.hdf5\n",
      "Epoch 59/75\n",
      "52409/52409 [==============================] - 4s 81us/step - loss: 0.6863 - acc: 0.6603 - val_loss: 0.6468 - val_acc: 0.6988\n",
      "\n",
      "Epoch 00059: val_loss improved from 0.64766 to 0.64685, saving model to saved_models/weights.best.mlp_nullsonly.hdf5\n",
      "Epoch 60/75\n",
      "52409/52409 [==============================] - 4s 79us/step - loss: 0.6841 - acc: 0.6634 - val_loss: 0.6458 - val_acc: 0.6995\n",
      "\n",
      "Epoch 00060: val_loss improved from 0.64685 to 0.64582, saving model to saved_models/weights.best.mlp_nullsonly.hdf5\n",
      "Epoch 61/75\n",
      "52409/52409 [==============================] - 4s 79us/step - loss: 0.6836 - acc: 0.6633 - val_loss: 0.6449 - val_acc: 0.6999\n",
      "\n",
      "Epoch 00061: val_loss improved from 0.64582 to 0.64494, saving model to saved_models/weights.best.mlp_nullsonly.hdf5\n",
      "Epoch 62/75\n",
      "52409/52409 [==============================] - 4s 79us/step - loss: 0.6839 - acc: 0.6617 - val_loss: 0.6443 - val_acc: 0.6998\n",
      "\n",
      "Epoch 00062: val_loss improved from 0.64494 to 0.64429, saving model to saved_models/weights.best.mlp_nullsonly.hdf5\n",
      "Epoch 63/75\n",
      "52409/52409 [==============================] - 4s 82us/step - loss: 0.6815 - acc: 0.6636 - val_loss: 0.6430 - val_acc: 0.7005\n",
      "\n",
      "Epoch 00063: val_loss improved from 0.64429 to 0.64295, saving model to saved_models/weights.best.mlp_nullsonly.hdf5\n",
      "Epoch 64/75\n",
      "52409/52409 [==============================] - 4s 79us/step - loss: 0.6803 - acc: 0.6636 - val_loss: 0.6422 - val_acc: 0.7008\n",
      "\n",
      "Epoch 00064: val_loss improved from 0.64295 to 0.64218, saving model to saved_models/weights.best.mlp_nullsonly.hdf5\n",
      "Epoch 65/75\n"
     ]
    },
    {
     "name": "stdout",
     "output_type": "stream",
     "text": [
      "52409/52409 [==============================] - 4s 79us/step - loss: 0.6813 - acc: 0.6650 - val_loss: 0.6415 - val_acc: 0.7003\n",
      "\n",
      "Epoch 00065: val_loss improved from 0.64218 to 0.64145, saving model to saved_models/weights.best.mlp_nullsonly.hdf5\n",
      "Epoch 66/75\n",
      "52409/52409 [==============================] - 4s 77us/step - loss: 0.6798 - acc: 0.6639 - val_loss: 0.6406 - val_acc: 0.7008\n",
      "\n",
      "Epoch 00066: val_loss improved from 0.64145 to 0.64060, saving model to saved_models/weights.best.mlp_nullsonly.hdf5\n",
      "Epoch 67/75\n",
      "52409/52409 [==============================] - 4s 77us/step - loss: 0.6786 - acc: 0.6644 - val_loss: 0.6395 - val_acc: 0.7013\n",
      "\n",
      "Epoch 00067: val_loss improved from 0.64060 to 0.63954, saving model to saved_models/weights.best.mlp_nullsonly.hdf5\n",
      "Epoch 68/75\n",
      "52409/52409 [==============================] - 4s 78us/step - loss: 0.6759 - acc: 0.6659 - val_loss: 0.6384 - val_acc: 0.7017\n",
      "\n",
      "Epoch 00068: val_loss improved from 0.63954 to 0.63839, saving model to saved_models/weights.best.mlp_nullsonly.hdf5\n",
      "Epoch 69/75\n",
      "52409/52409 [==============================] - 4s 78us/step - loss: 0.6817 - acc: 0.6655 - val_loss: 0.6382 - val_acc: 0.7019\n",
      "\n",
      "Epoch 00069: val_loss improved from 0.63839 to 0.63822, saving model to saved_models/weights.best.mlp_nullsonly.hdf5\n",
      "Epoch 70/75\n",
      "52409/52409 [==============================] - 4s 78us/step - loss: 0.6765 - acc: 0.6678 - val_loss: 0.6372 - val_acc: 0.7027\n",
      "\n",
      "Epoch 00070: val_loss improved from 0.63822 to 0.63724, saving model to saved_models/weights.best.mlp_nullsonly.hdf5\n",
      "Epoch 71/75\n",
      "52409/52409 [==============================] - 4s 81us/step - loss: 0.6746 - acc: 0.6669 - val_loss: 0.6361 - val_acc: 0.7034\n",
      "\n",
      "Epoch 00071: val_loss improved from 0.63724 to 0.63606, saving model to saved_models/weights.best.mlp_nullsonly.hdf5\n",
      "Epoch 72/75\n",
      "52409/52409 [==============================] - 4s 80us/step - loss: 0.6767 - acc: 0.6660 - val_loss: 0.6356 - val_acc: 0.7039\n",
      "\n",
      "Epoch 00072: val_loss improved from 0.63606 to 0.63563, saving model to saved_models/weights.best.mlp_nullsonly.hdf5\n",
      "Epoch 73/75\n",
      "52409/52409 [==============================] - 4s 79us/step - loss: 0.6749 - acc: 0.6684 - val_loss: 0.6345 - val_acc: 0.7040\n",
      "\n",
      "Epoch 00073: val_loss improved from 0.63563 to 0.63455, saving model to saved_models/weights.best.mlp_nullsonly.hdf5\n",
      "Epoch 74/75\n",
      "52409/52409 [==============================] - 4s 80us/step - loss: 0.6760 - acc: 0.6670 - val_loss: 0.6339 - val_acc: 0.7056\n",
      "\n",
      "Epoch 00074: val_loss improved from 0.63455 to 0.63394, saving model to saved_models/weights.best.mlp_nullsonly.hdf5\n",
      "Epoch 75/75\n",
      "52409/52409 [==============================] - 4s 80us/step - loss: 0.6742 - acc: 0.6677 - val_loss: 0.6329 - val_acc: 0.7056\n",
      "\n",
      "Epoch 00075: val_loss improved from 0.63394 to 0.63294, saving model to saved_models/weights.best.mlp_nullsonly.hdf5\n"
     ]
    },
    {
     "data": {
      "text/plain": [
       "<keras.callbacks.History at 0x26b87762940>"
      ]
     },
     "execution_count": 190,
     "metadata": {},
     "output_type": "execute_result"
    }
   ],
   "source": [
    "# This fits the model and runs it for 100 epochs.\n",
    "mlp_nullsonly.fit(Xtrain_nullsonly, Ytrain_nullsonly, validation_split=0.20,\n",
    "                epochs=n_epochs, batch_size=size_of_batch, \n",
    "                callbacks = [checkpoint], verbose=1)"
   ]
  },
  {
   "cell_type": "code",
   "execution_count": 191,
   "metadata": {
    "scrolled": true
   },
   "outputs": [],
   "source": [
    "# This loads the best weights from the model.\n",
    "# This comes from Reference 6 in References.\n",
    "mlp_nullsonly.load_weights('saved_models/weights.best.mlp_nullsonly.hdf5')"
   ]
  },
  {
   "cell_type": "code",
   "execution_count": 192,
   "metadata": {},
   "outputs": [
    {
     "name": "stdout",
     "output_type": "stream",
     "text": [
      "Test acuracy: 62.2371%\n"
     ]
    }
   ],
   "source": [
    "# This prints the accuracy of the model.\n",
    "# This comes from Reference 9 in References.\n",
    "score = mlp_nullsonly.evaluate(Xtest_nullsonly, Ytest_nullsonly, verbose=0)\n",
    "accuracy = 100*score[1]\n",
    "print('Test acuracy: %.4f%%' %accuracy)"
   ]
  },
  {
   "cell_type": "code",
   "execution_count": 193,
   "metadata": {},
   "outputs": [
    {
     "name": "stdout",
     "output_type": "stream",
     "text": [
      "The AUC score for the model is 0.6703.\n"
     ]
    }
   ],
   "source": [
    "# This prints the AUC score for the model.\n",
    "Ypred_nullsonly= mlp_nullsonly.predict(Xtest_nullsonly)\n",
    "mlp_nullsonly_ROC = roc_auc_score(Ytest_nullsonly, Ypred_nullsonly)\n",
    "print(\"The AUC score for the model is %.4f.\" % mlp_nullsonly_ROC)"
   ]
  },
  {
   "cell_type": "code",
   "execution_count": 194,
   "metadata": {
    "scrolled": false
   },
   "outputs": [
    {
     "data": {
      "image/png": "[encoded data removed]",
      "text/plain": [
       "<Figure size 432x432 with 1 Axes>"
      ]
     },
     "metadata": {
      "needs_background": "light"
     },
     "output_type": "display_data"
    }
   ],
   "source": [
    "# This plots the ROC curve for the model.\n",
    "roc_plot(model=mlp_nullsonly, x_test=Xtest_nullsonly,\n",
    "        y_test=Ytest_nullsonly,title=\"ROC: MLP Nulls Only\")"
   ]
  },
  {
   "cell_type": "markdown",
   "metadata": {},
   "source": [
    "### MLP Model One Hot"
   ]
  },
  {
   "cell_type": "markdown",
   "metadata": {},
   "source": [
    "### MLP Model One Hot, default learning rate in Stochastic Gradient Descent Optimizer.\n",
    "This is a comparison MLP model that uses the default learning rate of 0.01 to descend down the loss gradient in an attempt to find the global minimum (Reference 14)."
   ]
  },
  {
   "cell_type": "code",
   "execution_count": 195,
   "metadata": {},
   "outputs": [],
   "source": [
    "# This comes from Reference 7 in References.\n",
    "n_epochs = 75\n",
    "size_of_batch = 50\n",
    "stochastic = SGD(lr=0.001)\n",
    "DEFAULT_stochastic = SGD()\n",
    "nad = Nadam()\n",
    "RMS = RMSprop()\n",
    "\n",
    "# This builds the MLP model for One Hot.\n",
    "mlp_onehot_DEFAULT = build_model(drop_rate=0.5,\n",
    "                            l2_factor=0.001,\n",
    "                             first_dense=64,\n",
    "                             second_dense=32,\n",
    "                             third_dense=16,\n",
    "                            hidden_act='relu',\n",
    "                            out_act='sigmoid',\n",
    "                            x=Xtrain_onehot)"
   ]
  },
  {
   "cell_type": "code",
   "execution_count": 196,
   "metadata": {},
   "outputs": [],
   "source": [
    "# This compiles the MLP model for the One Hot data.\n",
    "# This comes from Reference 13 in References.\n",
    "mlp_onehot_DEFAULT.compile(loss='binary_crossentropy',\n",
    "              optimizer= DEFAULT_stochastic,\n",
    "              metrics=['accuracy'])"
   ]
  },
  {
   "cell_type": "code",
   "execution_count": 197,
   "metadata": {},
   "outputs": [],
   "source": [
    "# This creates checkpointer, which uses ModelCheckpoint to store the\n",
    "# best weights of the model.\n",
    "# This comes from References 6 in References.\n",
    "checkpoint = ModelCheckpoint(filepath='saved_models/weights.best.mlp_onehot_DEFAULT.hdf5',\n",
    "                             verbose=1, save_best_only=True)"
   ]
  },
  {
   "cell_type": "code",
   "execution_count": 198,
   "metadata": {
    "scrolled": true
   },
   "outputs": [
    {
     "name": "stdout",
     "output_type": "stream",
     "text": [
      "Train on 52409 samples, validate on 13103 samples\n",
      "Epoch 1/75\n",
      "52409/52409 [==============================] - 7s 126us/step - loss: 0.7457 - acc: 0.6983 - val_loss: 0.5843 - val_acc: 0.8394\n",
      "\n",
      "Epoch 00001: val_loss improved from inf to 0.58428, saving model to saved_models/weights.best.mlp_onehot_DEFAULT.hdf5\n",
      "Epoch 2/75\n",
      "52409/52409 [==============================] - 4s 80us/step - loss: 0.6212 - acc: 0.7979 - val_loss: 0.5187 - val_acc: 0.8484\n",
      "\n",
      "Epoch 00002: val_loss improved from 0.58428 to 0.51874, saving model to saved_models/weights.best.mlp_onehot_DEFAULT.hdf5\n",
      "Epoch 3/75\n",
      "52409/52409 [==============================] - 4s 80us/step - loss: 0.5730 - acc: 0.8217 - val_loss: 0.4967 - val_acc: 0.8544\n",
      "\n",
      "Epoch 00003: val_loss improved from 0.51874 to 0.49673, saving model to saved_models/weights.best.mlp_onehot_DEFAULT.hdf5\n",
      "Epoch 4/75\n",
      "52409/52409 [==============================] - 4s 79us/step - loss: 0.5448 - acc: 0.8315 - val_loss: 0.4767 - val_acc: 0.8575\n",
      "\n",
      "Epoch 00004: val_loss improved from 0.49673 to 0.47675, saving model to saved_models/weights.best.mlp_onehot_DEFAULT.hdf5\n",
      "Epoch 5/75\n",
      "52409/52409 [==============================] - 4s 79us/step - loss: 0.5212 - acc: 0.8375 - val_loss: 0.4640 - val_acc: 0.8584\n",
      "\n",
      "Epoch 00005: val_loss improved from 0.47675 to 0.46405, saving model to saved_models/weights.best.mlp_onehot_DEFAULT.hdf5\n",
      "Epoch 6/75\n",
      "52409/52409 [==============================] - 5s 87us/step - loss: 0.5049 - acc: 0.8408 - val_loss: 0.4566 - val_acc: 0.8610\n",
      "\n",
      "Epoch 00006: val_loss improved from 0.46405 to 0.45665, saving model to saved_models/weights.best.mlp_onehot_DEFAULT.hdf5\n",
      "Epoch 7/75\n",
      "52409/52409 [==============================] - 5s 93us/step - loss: 0.4948 - acc: 0.8434 - val_loss: 0.4440 - val_acc: 0.8620\n",
      "\n",
      "Epoch 00007: val_loss improved from 0.45665 to 0.44399, saving model to saved_models/weights.best.mlp_onehot_DEFAULT.hdf5\n",
      "Epoch 8/75\n",
      "52409/52409 [==============================] - 5s 92us/step - loss: 0.4861 - acc: 0.8459 - val_loss: 0.4370 - val_acc: 0.8652\n",
      "\n",
      "Epoch 00008: val_loss improved from 0.44399 to 0.43703, saving model to saved_models/weights.best.mlp_onehot_DEFAULT.hdf5\n",
      "Epoch 9/75\n",
      "52409/52409 [==============================] - 5s 92us/step - loss: 0.4751 - acc: 0.8469 - val_loss: 0.4299 - val_acc: 0.8664\n",
      "\n",
      "Epoch 00009: val_loss improved from 0.43703 to 0.42994, saving model to saved_models/weights.best.mlp_onehot_DEFAULT.hdf5\n",
      "Epoch 10/75\n",
      "52409/52409 [==============================] - 5s 89us/step - loss: 0.4669 - acc: 0.8488 - val_loss: 0.4216 - val_acc: 0.8680\n",
      "\n",
      "Epoch 00010: val_loss improved from 0.42994 to 0.42159, saving model to saved_models/weights.best.mlp_onehot_DEFAULT.hdf5\n",
      "Epoch 11/75\n",
      "52409/52409 [==============================] - 5s 88us/step - loss: 0.4599 - acc: 0.8504 - val_loss: 0.4248 - val_acc: 0.8662\n",
      "\n",
      "Epoch 00011: val_loss did not improve from 0.42159\n",
      "Epoch 12/75\n",
      "52409/52409 [==============================] - 5s 88us/step - loss: 0.4525 - acc: 0.8520 - val_loss: 0.4115 - val_acc: 0.8673\n",
      "\n",
      "Epoch 00012: val_loss improved from 0.42159 to 0.41151, saving model to saved_models/weights.best.mlp_onehot_DEFAULT.hdf5\n",
      "Epoch 13/75\n",
      "52409/52409 [==============================] - 5s 91us/step - loss: 0.4479 - acc: 0.8533 - val_loss: 0.4091 - val_acc: 0.8672\n",
      "\n",
      "Epoch 00013: val_loss improved from 0.41151 to 0.40911, saving model to saved_models/weights.best.mlp_onehot_DEFAULT.hdf5\n",
      "Epoch 14/75\n",
      "52409/52409 [==============================] - 5s 90us/step - loss: 0.4401 - acc: 0.8550 - val_loss: 0.4029 - val_acc: 0.8672\n",
      "\n",
      "Epoch 00014: val_loss improved from 0.40911 to 0.40287, saving model to saved_models/weights.best.mlp_onehot_DEFAULT.hdf5\n",
      "Epoch 15/75\n",
      "52409/52409 [==============================] - 5s 89us/step - loss: 0.4357 - acc: 0.8550 - val_loss: 0.3968 - val_acc: 0.8687\n",
      "\n",
      "Epoch 00015: val_loss improved from 0.40287 to 0.39677, saving model to saved_models/weights.best.mlp_onehot_DEFAULT.hdf5\n",
      "Epoch 16/75\n",
      "52409/52409 [==============================] - 5s 88us/step - loss: 0.4292 - acc: 0.8551 - val_loss: 0.3930 - val_acc: 0.8696\n",
      "\n",
      "Epoch 00016: val_loss improved from 0.39677 to 0.39303, saving model to saved_models/weights.best.mlp_onehot_DEFAULT.hdf5\n",
      "Epoch 17/75\n",
      "52409/52409 [==============================] - 5s 91us/step - loss: 0.4288 - acc: 0.8555 - val_loss: 0.3895 - val_acc: 0.8700\n",
      "\n",
      "Epoch 00017: val_loss improved from 0.39303 to 0.38954, saving model to saved_models/weights.best.mlp_onehot_DEFAULT.hdf5\n",
      "Epoch 18/75\n",
      "52409/52409 [==============================] - 5s 103us/step - loss: 0.4217 - acc: 0.8565 - val_loss: 0.3859 - val_acc: 0.8693\n",
      "\n",
      "Epoch 00018: val_loss improved from 0.38954 to 0.38586, saving model to saved_models/weights.best.mlp_onehot_DEFAULT.hdf5\n",
      "Epoch 19/75\n",
      "52409/52409 [==============================] - 5s 94us/step - loss: 0.4200 - acc: 0.8574 - val_loss: 0.3818 - val_acc: 0.8708\n",
      "\n",
      "Epoch 00019: val_loss improved from 0.38586 to 0.38176, saving model to saved_models/weights.best.mlp_onehot_DEFAULT.hdf5\n",
      "Epoch 20/75\n",
      "52409/52409 [==============================] - 5s 90us/step - loss: 0.4153 - acc: 0.8578 - val_loss: 0.3781 - val_acc: 0.8713\n",
      "\n",
      "Epoch 00020: val_loss improved from 0.38176 to 0.37808, saving model to saved_models/weights.best.mlp_onehot_DEFAULT.hdf5\n",
      "Epoch 21/75\n",
      "52409/52409 [==============================] - 5s 92us/step - loss: 0.4113 - acc: 0.8574 - val_loss: 0.3746 - val_acc: 0.8706\n",
      "\n",
      "Epoch 00021: val_loss improved from 0.37808 to 0.37460, saving model to saved_models/weights.best.mlp_onehot_DEFAULT.hdf5\n",
      "Epoch 22/75\n",
      "52409/52409 [==============================] - 5s 90us/step - loss: 0.4081 - acc: 0.8577 - val_loss: 0.3749 - val_acc: 0.8703\n",
      "\n",
      "Epoch 00022: val_loss did not improve from 0.37460\n",
      "Epoch 23/75\n",
      "52409/52409 [==============================] - 5s 89us/step - loss: 0.4045 - acc: 0.8585 - val_loss: 0.3713 - val_acc: 0.8705\n",
      "\n",
      "Epoch 00023: val_loss improved from 0.37460 to 0.37128, saving model to saved_models/weights.best.mlp_onehot_DEFAULT.hdf5\n",
      "Epoch 24/75\n",
      "52409/52409 [==============================] - 5s 98us/step - loss: 0.4022 - acc: 0.8581 - val_loss: 0.3688 - val_acc: 0.8706\n",
      "\n",
      "Epoch 00024: val_loss improved from 0.37128 to 0.36884, saving model to saved_models/weights.best.mlp_onehot_DEFAULT.hdf5\n",
      "Epoch 25/75\n",
      "52409/52409 [==============================] - 5s 90us/step - loss: 0.3964 - acc: 0.8608 - val_loss: 0.3660 - val_acc: 0.8709\n",
      "\n",
      "Epoch 00025: val_loss improved from 0.36884 to 0.36605, saving model to saved_models/weights.best.mlp_onehot_DEFAULT.hdf5\n",
      "Epoch 26/75\n",
      "52409/52409 [==============================] - 5s 89us/step - loss: 0.3964 - acc: 0.8588 - val_loss: 0.3621 - val_acc: 0.8708\n",
      "\n",
      "Epoch 00026: val_loss improved from 0.36605 to 0.36205, saving model to saved_models/weights.best.mlp_onehot_DEFAULT.hdf5\n",
      "Epoch 27/75\n",
      "52409/52409 [==============================] - 5s 94us/step - loss: 0.3937 - acc: 0.8598 - val_loss: 0.3665 - val_acc: 0.8710\n",
      "\n",
      "Epoch 00027: val_loss did not improve from 0.36205\n",
      "Epoch 28/75\n",
      "52409/52409 [==============================] - 5s 89us/step - loss: 0.3911 - acc: 0.8608 - val_loss: 0.3573 - val_acc: 0.8738\n",
      "\n",
      "Epoch 00028: val_loss improved from 0.36205 to 0.35729, saving model to saved_models/weights.best.mlp_onehot_DEFAULT.hdf5\n",
      "Epoch 29/75\n",
      "52409/52409 [==============================] - 5s 87us/step - loss: 0.3906 - acc: 0.8606 - val_loss: 0.3579 - val_acc: 0.8721\n",
      "\n",
      "Epoch 00029: val_loss did not improve from 0.35729\n",
      "Epoch 30/75\n",
      "52409/52409 [==============================] - 5s 88us/step - loss: 0.3887 - acc: 0.8613 - val_loss: 0.3537 - val_acc: 0.8719\n",
      "\n",
      "Epoch 00030: val_loss improved from 0.35729 to 0.35373, saving model to saved_models/weights.best.mlp_onehot_DEFAULT.hdf5\n",
      "Epoch 31/75\n",
      "52409/52409 [==============================] - 5s 89us/step - loss: 0.3841 - acc: 0.8617 - val_loss: 0.3553 - val_acc: 0.8721\n",
      "\n",
      "Epoch 00031: val_loss did not improve from 0.35373\n",
      "Epoch 32/75\n",
      "52409/52409 [==============================] - 5s 88us/step - loss: 0.3822 - acc: 0.8605 - val_loss: 0.3513 - val_acc: 0.8727\n",
      "\n",
      "Epoch 00032: val_loss improved from 0.35373 to 0.35125, saving model to saved_models/weights.best.mlp_onehot_DEFAULT.hdf5\n",
      "Epoch 33/75\n",
      "52409/52409 [==============================] - 5s 88us/step - loss: 0.3823 - acc: 0.8604 - val_loss: 0.3514 - val_acc: 0.8718\n",
      "\n",
      "Epoch 00033: val_loss did not improve from 0.35125\n",
      "Epoch 34/75\n"
     ]
    },
    {
     "name": "stdout",
     "output_type": "stream",
     "text": [
      "52409/52409 [==============================] - 4s 85us/step - loss: 0.3802 - acc: 0.8603 - val_loss: 0.3491 - val_acc: 0.8720\n",
      "\n",
      "Epoch 00034: val_loss improved from 0.35125 to 0.34908, saving model to saved_models/weights.best.mlp_onehot_DEFAULT.hdf5\n",
      "Epoch 35/75\n",
      "52409/52409 [==============================] - 4s 86us/step - loss: 0.3786 - acc: 0.8607 - val_loss: 0.3451 - val_acc: 0.8737\n",
      "\n",
      "Epoch 00035: val_loss improved from 0.34908 to 0.34509, saving model to saved_models/weights.best.mlp_onehot_DEFAULT.hdf5\n",
      "Epoch 36/75\n",
      "52409/52409 [==============================] - 5s 88us/step - loss: 0.3786 - acc: 0.8610 - val_loss: 0.3426 - val_acc: 0.8753\n",
      "\n",
      "Epoch 00036: val_loss improved from 0.34509 to 0.34264, saving model to saved_models/weights.best.mlp_onehot_DEFAULT.hdf5\n",
      "Epoch 37/75\n",
      "52409/52409 [==============================] - 5s 92us/step - loss: 0.3740 - acc: 0.8615 - val_loss: 0.3440 - val_acc: 0.8731\n",
      "\n",
      "Epoch 00037: val_loss did not improve from 0.34264\n",
      "Epoch 38/75\n",
      "52409/52409 [==============================] - 5s 99us/step - loss: 0.3736 - acc: 0.8619 - val_loss: 0.3442 - val_acc: 0.8731\n",
      "\n",
      "Epoch 00038: val_loss did not improve from 0.34264\n",
      "Epoch 39/75\n",
      "52409/52409 [==============================] - 5s 93us/step - loss: 0.3760 - acc: 0.8608 - val_loss: 0.3401 - val_acc: 0.8725\n",
      "\n",
      "Epoch 00039: val_loss improved from 0.34264 to 0.34007, saving model to saved_models/weights.best.mlp_onehot_DEFAULT.hdf5\n",
      "Epoch 40/75\n",
      "52409/52409 [==============================] - 5s 91us/step - loss: 0.3721 - acc: 0.8628 - val_loss: 0.3383 - val_acc: 0.8748\n",
      "\n",
      "Epoch 00040: val_loss improved from 0.34007 to 0.33830, saving model to saved_models/weights.best.mlp_onehot_DEFAULT.hdf5\n",
      "Epoch 41/75\n",
      "52409/52409 [==============================] - 5s 86us/step - loss: 0.3696 - acc: 0.8628 - val_loss: 0.3404 - val_acc: 0.8732\n",
      "\n",
      "Epoch 00041: val_loss did not improve from 0.33830\n",
      "Epoch 42/75\n",
      "52409/52409 [==============================] - 5s 96us/step - loss: 0.3667 - acc: 0.8621 - val_loss: 0.3418 - val_acc: 0.8709\n",
      "\n",
      "Epoch 00042: val_loss did not improve from 0.33830\n",
      "Epoch 43/75\n",
      "52409/52409 [==============================] - 5s 96us/step - loss: 0.3669 - acc: 0.8633 - val_loss: 0.3345 - val_acc: 0.8741\n",
      "\n",
      "Epoch 00043: val_loss improved from 0.33830 to 0.33451, saving model to saved_models/weights.best.mlp_onehot_DEFAULT.hdf5\n",
      "Epoch 44/75\n",
      "52409/52409 [==============================] - 5s 94us/step - loss: 0.3661 - acc: 0.8613 - val_loss: 0.3345 - val_acc: 0.8743\n",
      "\n",
      "Epoch 00044: val_loss improved from 0.33451 to 0.33449, saving model to saved_models/weights.best.mlp_onehot_DEFAULT.hdf5\n",
      "Epoch 45/75\n",
      "52409/52409 [==============================] - 5s 96us/step - loss: 0.3664 - acc: 0.8624 - val_loss: 0.3315 - val_acc: 0.8743\n",
      "\n",
      "Epoch 00045: val_loss improved from 0.33449 to 0.33149, saving model to saved_models/weights.best.mlp_onehot_DEFAULT.hdf5\n",
      "Epoch 46/75\n",
      "52409/52409 [==============================] - 5s 100us/step - loss: 0.3636 - acc: 0.8621 - val_loss: 0.3345 - val_acc: 0.8723\n",
      "\n",
      "Epoch 00046: val_loss did not improve from 0.33149\n",
      "Epoch 47/75\n",
      "52409/52409 [==============================] - 5s 96us/step - loss: 0.3642 - acc: 0.8614 - val_loss: 0.3311 - val_acc: 0.8750\n",
      "\n",
      "Epoch 00047: val_loss improved from 0.33149 to 0.33113, saving model to saved_models/weights.best.mlp_onehot_DEFAULT.hdf5\n",
      "Epoch 48/75\n",
      "52409/52409 [==============================] - 5s 97us/step - loss: 0.3594 - acc: 0.8645 - val_loss: 0.3307 - val_acc: 0.8727\n",
      "\n",
      "Epoch 00048: val_loss improved from 0.33113 to 0.33068, saving model to saved_models/weights.best.mlp_onehot_DEFAULT.hdf5\n",
      "Epoch 49/75\n",
      "52409/52409 [==============================] - 5s 96us/step - loss: 0.3596 - acc: 0.8641 - val_loss: 0.3336 - val_acc: 0.8719\n",
      "\n",
      "Epoch 00049: val_loss did not improve from 0.33068\n",
      "Epoch 50/75\n",
      "52409/52409 [==============================] - 5s 90us/step - loss: 0.3627 - acc: 0.8620 - val_loss: 0.3325 - val_acc: 0.8724\n",
      "\n",
      "Epoch 00050: val_loss did not improve from 0.33068\n",
      "Epoch 51/75\n",
      "52409/52409 [==============================] - 5s 88us/step - loss: 0.3639 - acc: 0.8620 - val_loss: 0.3314 - val_acc: 0.8737\n",
      "\n",
      "Epoch 00051: val_loss did not improve from 0.33068\n",
      "Epoch 52/75\n",
      "52409/52409 [==============================] - 5s 93us/step - loss: 0.3604 - acc: 0.8616 - val_loss: 0.3286 - val_acc: 0.8752\n",
      "\n",
      "Epoch 00052: val_loss improved from 0.33068 to 0.32862, saving model to saved_models/weights.best.mlp_onehot_DEFAULT.hdf5\n",
      "Epoch 53/75\n",
      "52409/52409 [==============================] - 5s 90us/step - loss: 0.3604 - acc: 0.8623 - val_loss: 0.3312 - val_acc: 0.8713\n",
      "\n",
      "Epoch 00053: val_loss did not improve from 0.32862\n",
      "Epoch 54/75\n",
      "52409/52409 [==============================] - 5s 88us/step - loss: 0.3568 - acc: 0.8637 - val_loss: 0.3362 - val_acc: 0.8655\n",
      "\n",
      "Epoch 00054: val_loss did not improve from 0.32862\n",
      "Epoch 55/75\n",
      "52409/52409 [==============================] - 5s 88us/step - loss: 0.3569 - acc: 0.8624 - val_loss: 0.3266 - val_acc: 0.8738\n",
      "\n",
      "Epoch 00055: val_loss improved from 0.32862 to 0.32656, saving model to saved_models/weights.best.mlp_onehot_DEFAULT.hdf5\n",
      "Epoch 56/75\n",
      "52409/52409 [==============================] - 5s 88us/step - loss: 0.3537 - acc: 0.8636 - val_loss: 0.3301 - val_acc: 0.8702\n",
      "\n",
      "Epoch 00056: val_loss did not improve from 0.32656\n",
      "Epoch 57/75\n",
      "52409/52409 [==============================] - 5s 92us/step - loss: 0.3556 - acc: 0.8642 - val_loss: 0.3275 - val_acc: 0.8738\n",
      "\n",
      "Epoch 00057: val_loss did not improve from 0.32656\n",
      "Epoch 58/75\n",
      "52409/52409 [==============================] - 5s 89us/step - loss: 0.3556 - acc: 0.8645 - val_loss: 0.3267 - val_acc: 0.8709\n",
      "\n",
      "Epoch 00058: val_loss did not improve from 0.32656\n",
      "Epoch 59/75\n",
      "52409/52409 [==============================] - 5s 89us/step - loss: 0.3548 - acc: 0.8637 - val_loss: 0.3229 - val_acc: 0.8745\n",
      "\n",
      "Epoch 00059: val_loss improved from 0.32656 to 0.32294, saving model to saved_models/weights.best.mlp_onehot_DEFAULT.hdf5\n",
      "Epoch 60/75\n",
      "52409/52409 [==============================] - 5s 90us/step - loss: 0.3558 - acc: 0.8634 - val_loss: 0.3274 - val_acc: 0.8705\n",
      "\n",
      "Epoch 00060: val_loss did not improve from 0.32294\n",
      "Epoch 61/75\n",
      "52409/52409 [==============================] - 5s 89us/step - loss: 0.3522 - acc: 0.8645 - val_loss: 0.3208 - val_acc: 0.8755\n",
      "\n",
      "Epoch 00061: val_loss improved from 0.32294 to 0.32076, saving model to saved_models/weights.best.mlp_onehot_DEFAULT.hdf5\n",
      "Epoch 62/75\n",
      "52409/52409 [==============================] - 5s 89us/step - loss: 0.3548 - acc: 0.8623 - val_loss: 0.3219 - val_acc: 0.8751\n",
      "\n",
      "Epoch 00062: val_loss did not improve from 0.32076\n",
      "Epoch 63/75\n",
      "52409/52409 [==============================] - 5s 88us/step - loss: 0.3517 - acc: 0.8638 - val_loss: 0.3244 - val_acc: 0.8738\n",
      "\n",
      "Epoch 00063: val_loss did not improve from 0.32076\n",
      "Epoch 64/75\n",
      "52409/52409 [==============================] - 5s 89us/step - loss: 0.3529 - acc: 0.8633 - val_loss: 0.3205 - val_acc: 0.8754\n",
      "\n",
      "Epoch 00064: val_loss improved from 0.32076 to 0.32051, saving model to saved_models/weights.best.mlp_onehot_DEFAULT.hdf5\n",
      "Epoch 65/75\n",
      "52409/52409 [==============================] - 5s 88us/step - loss: 0.3520 - acc: 0.8640 - val_loss: 0.3219 - val_acc: 0.8745\n",
      "\n",
      "Epoch 00065: val_loss did not improve from 0.32051\n",
      "Epoch 66/75\n",
      "52409/52409 [==============================] - 5s 87us/step - loss: 0.3488 - acc: 0.8655 - val_loss: 0.3191 - val_acc: 0.8756\n",
      "\n",
      "Epoch 00066: val_loss improved from 0.32051 to 0.31907, saving model to saved_models/weights.best.mlp_onehot_DEFAULT.hdf5\n",
      "Epoch 67/75\n",
      "52409/52409 [==============================] - 5s 89us/step - loss: 0.3488 - acc: 0.8642 - val_loss: 0.3200 - val_acc: 0.8731\n",
      "\n",
      "Epoch 00067: val_loss did not improve from 0.31907\n",
      "Epoch 68/75\n",
      "52409/52409 [==============================] - 5s 90us/step - loss: 0.3465 - acc: 0.8647 - val_loss: 0.3190 - val_acc: 0.8751\n",
      "\n",
      "Epoch 00068: val_loss improved from 0.31907 to 0.31898, saving model to saved_models/weights.best.mlp_onehot_DEFAULT.hdf5\n",
      "Epoch 69/75\n",
      "52409/52409 [==============================] - 5s 91us/step - loss: 0.3484 - acc: 0.8644 - val_loss: 0.3193 - val_acc: 0.8748\n",
      "\n",
      "Epoch 00069: val_loss did not improve from 0.31898\n",
      "Epoch 70/75\n",
      "52409/52409 [==============================] - 5s 92us/step - loss: 0.3508 - acc: 0.8636 - val_loss: 0.3183 - val_acc: 0.8754\n",
      "\n",
      "Epoch 00070: val_loss improved from 0.31898 to 0.31832, saving model to saved_models/weights.best.mlp_onehot_DEFAULT.hdf5\n",
      "Epoch 71/75\n"
     ]
    },
    {
     "name": "stdout",
     "output_type": "stream",
     "text": [
      "52409/52409 [==============================] - 5s 87us/step - loss: 0.3473 - acc: 0.8643 - val_loss: 0.3224 - val_acc: 0.8726\n",
      "\n",
      "Epoch 00071: val_loss did not improve from 0.31832\n",
      "Epoch 72/75\n",
      "52409/52409 [==============================] - 5s 88us/step - loss: 0.3465 - acc: 0.8651 - val_loss: 0.3174 - val_acc: 0.8763\n",
      "\n",
      "Epoch 00072: val_loss improved from 0.31832 to 0.31741, saving model to saved_models/weights.best.mlp_onehot_DEFAULT.hdf5\n",
      "Epoch 73/75\n",
      "52409/52409 [==============================] - 5s 90us/step - loss: 0.3463 - acc: 0.8646 - val_loss: 0.3185 - val_acc: 0.8755\n",
      "\n",
      "Epoch 00073: val_loss did not improve from 0.31741\n",
      "Epoch 74/75\n",
      "52409/52409 [==============================] - 5s 94us/step - loss: 0.3466 - acc: 0.8644 - val_loss: 0.3198 - val_acc: 0.8758\n",
      "\n",
      "Epoch 00074: val_loss did not improve from 0.31741\n",
      "Epoch 75/75\n",
      "52409/52409 [==============================] - 5s 88us/step - loss: 0.3459 - acc: 0.8645 - val_loss: 0.3141 - val_acc: 0.8779\n",
      "\n",
      "Epoch 00075: val_loss improved from 0.31741 to 0.31410, saving model to saved_models/weights.best.mlp_onehot_DEFAULT.hdf5\n"
     ]
    },
    {
     "data": {
      "text/plain": [
       "<keras.callbacks.History at 0x26b8e6ecdd8>"
      ]
     },
     "execution_count": 198,
     "metadata": {},
     "output_type": "execute_result"
    }
   ],
   "source": [
    "# This fits the model and runs it for 100 epochs.\n",
    "mlp_onehot_DEFAULT.fit(Xtrain_onehot, Ytrain_onehot, validation_split=0.20,\n",
    "                epochs=n_epochs, batch_size=size_of_batch, \n",
    "                callbacks = [checkpoint], verbose=1)"
   ]
  },
  {
   "cell_type": "code",
   "execution_count": 199,
   "metadata": {
    "scrolled": true
   },
   "outputs": [],
   "source": [
    "# This loads the best weights from the model.\n",
    "# This comes from Reference 6 in References.\n",
    "mlp_onehot_DEFAULT.load_weights('saved_models/weights.best.mlp_onehot_DEFAULT.hdf5')"
   ]
  },
  {
   "cell_type": "code",
   "execution_count": 200,
   "metadata": {},
   "outputs": [
    {
     "name": "stdout",
     "output_type": "stream",
     "text": [
      "Test acuracy: 96.3272%\n"
     ]
    }
   ],
   "source": [
    "# This prints the accuracy of the model.\n",
    "# This comes from Reference 9 in References.\n",
    "score = mlp_onehot_DEFAULT.evaluate(Xtest_onehot, Ytest_onehot, verbose=0)\n",
    "accuracy = 100*score[1]\n",
    "print('Test acuracy: %.4f%%' %accuracy)"
   ]
  },
  {
   "cell_type": "code",
   "execution_count": 201,
   "metadata": {
    "scrolled": true
   },
   "outputs": [
    {
     "name": "stdout",
     "output_type": "stream",
     "text": [
      "The AUC score for the model is 0.4917.\n"
     ]
    }
   ],
   "source": [
    "# This prints the AUC score for the model.\n",
    "Ypred_onehot_DEFAULT = mlp_onehot_DEFAULT.predict(Xtest_onehot)\n",
    "ROC_mlp_onehot_DEFAULT = roc_auc_score(Ytest_onehot, Ypred_onehot_DEFAULT)\n",
    "print(\"The AUC score for the model is %.4f.\" % ROC_mlp_onehot_DEFAULT)"
   ]
  },
  {
   "cell_type": "code",
   "execution_count": 202,
   "metadata": {
    "scrolled": false
   },
   "outputs": [
    {
     "data": {
      "image/png": "[encoded data removed]",
      "text/plain": [
       "<Figure size 432x432 with 1 Axes>"
      ]
     },
     "metadata": {
      "needs_background": "light"
     },
     "output_type": "display_data"
    }
   ],
   "source": [
    "# This plots the ROC curve for the model.\n",
    "roc_plot(model=mlp_onehot_DEFAULT, x_test=Xtest_onehot,\n",
    "        y_test=Ytest_onehot,title=\"ROC: MLP One Hot\")"
   ]
  },
  {
   "cell_type": "markdown",
   "metadata": {},
   "source": [
    "### MLP Model One Hot Final"
   ]
  },
  {
   "cell_type": "code",
   "execution_count": 203,
   "metadata": {},
   "outputs": [],
   "source": [
    "# This comes from Reference 7 in References.\n",
    "n_epochs = 75\n",
    "size_of_batch = 50\n",
    "stochastic = SGD(lr=0.001)\n",
    "nad = Nadam()\n",
    "RMS = RMSprop()\n",
    "\n",
    "# This builds the MLP model for One Hot.\n",
    "mlp_onehot = build_model(drop_rate=0.5,\n",
    "                            l2_factor=0.001,\n",
    "                             first_dense=64,\n",
    "                             second_dense=32,\n",
    "                             third_dense=16,\n",
    "                            hidden_act='relu',\n",
    "                            out_act='sigmoid',\n",
    "                            x=Xtrain_onehot)"
   ]
  },
  {
   "cell_type": "code",
   "execution_count": 204,
   "metadata": {},
   "outputs": [],
   "source": [
    "# This compiles the MLP model for the One Hot data.\n",
    "# This comes from Reference 13 in References.\n",
    "mlp_onehot.compile(loss='binary_crossentropy',\n",
    "              optimizer= stochastic,\n",
    "              metrics=['accuracy'])"
   ]
  },
  {
   "cell_type": "code",
   "execution_count": 205,
   "metadata": {},
   "outputs": [],
   "source": [
    "# This creates checkpointer, which uses ModelCheckpoint to store the\n",
    "# best weights of the model.\n",
    "# This comes from References 6 in References.\n",
    "checkpoint = ModelCheckpoint(filepath='saved_models/weights.best.mlp_onehot.hdf5',\n",
    "                             verbose=1, save_best_only=True)"
   ]
  },
  {
   "cell_type": "code",
   "execution_count": 206,
   "metadata": {
    "scrolled": true
   },
   "outputs": [
    {
     "name": "stdout",
     "output_type": "stream",
     "text": [
      "Train on 52409 samples, validate on 13103 samples\n",
      "Epoch 1/75\n",
      "52409/52409 [==============================] - 7s 128us/step - loss: 0.8980 - acc: 0.5074 - val_loss: 0.7918 - val_acc: 0.7289\n",
      "\n",
      "Epoch 00001: val_loss improved from inf to 0.79181, saving model to saved_models/weights.best.mlp_onehot.hdf5\n",
      "Epoch 2/75\n",
      "52409/52409 [==============================] - 4s 79us/step - loss: 0.8239 - acc: 0.6052 - val_loss: 0.7734 - val_acc: 0.6786\n",
      "\n",
      "Epoch 00002: val_loss improved from 0.79181 to 0.77342, saving model to saved_models/weights.best.mlp_onehot.hdf5\n",
      "Epoch 3/75\n",
      "52409/52409 [==============================] - 4s 81us/step - loss: 0.8073 - acc: 0.6518 - val_loss: 0.7634 - val_acc: 0.6863\n",
      "\n",
      "Epoch 00003: val_loss improved from 0.77342 to 0.76344, saving model to saved_models/weights.best.mlp_onehot.hdf5\n",
      "Epoch 4/75\n",
      "52409/52409 [==============================] - 4s 79us/step - loss: 0.7913 - acc: 0.6760 - val_loss: 0.7548 - val_acc: 0.6921\n",
      "\n",
      "Epoch 00004: val_loss improved from 0.76344 to 0.75482, saving model to saved_models/weights.best.mlp_onehot.hdf5\n",
      "Epoch 5/75\n",
      "52409/52409 [==============================] - 4s 81us/step - loss: 0.7791 - acc: 0.6914 - val_loss: 0.7442 - val_acc: 0.7058\n",
      "\n",
      "Epoch 00005: val_loss improved from 0.75482 to 0.74424, saving model to saved_models/weights.best.mlp_onehot.hdf5\n",
      "Epoch 6/75\n",
      "52409/52409 [==============================] - 5s 91us/step - loss: 0.7640 - acc: 0.7048 - val_loss: 0.7324 - val_acc: 0.7359\n",
      "\n",
      "Epoch 00006: val_loss improved from 0.74424 to 0.73244, saving model to saved_models/weights.best.mlp_onehot.hdf5\n",
      "Epoch 7/75\n",
      "52409/52409 [==============================] - 5s 103us/step - loss: 0.7597 - acc: 0.7123 - val_loss: 0.7229 - val_acc: 0.7425\n",
      "\n",
      "Epoch 00007: val_loss improved from 0.73244 to 0.72295, saving model to saved_models/weights.best.mlp_onehot.hdf5\n",
      "Epoch 8/75\n",
      "52409/52409 [==============================] - 5s 99us/step - loss: 0.7492 - acc: 0.7162 - val_loss: 0.7123 - val_acc: 0.7745\n",
      "\n",
      "Epoch 00008: val_loss improved from 0.72295 to 0.71231, saving model to saved_models/weights.best.mlp_onehot.hdf5\n",
      "Epoch 9/75\n",
      "52409/52409 [==============================] - 5s 93us/step - loss: 0.7396 - acc: 0.7266 - val_loss: 0.7007 - val_acc: 0.7759\n",
      "\n",
      "Epoch 00009: val_loss improved from 0.71231 to 0.70072, saving model to saved_models/weights.best.mlp_onehot.hdf5\n",
      "Epoch 10/75\n",
      "52409/52409 [==============================] - 5s 100us/step - loss: 0.7272 - acc: 0.7304 - val_loss: 0.6900 - val_acc: 0.7763\n",
      "\n",
      "Epoch 00010: val_loss improved from 0.70072 to 0.69005, saving model to saved_models/weights.best.mlp_onehot.hdf5\n",
      "Epoch 11/75\n",
      "52409/52409 [==============================] - 6s 111us/step - loss: 0.7202 - acc: 0.7364 - val_loss: 0.6754 - val_acc: 0.7771\n",
      "\n",
      "Epoch 00011: val_loss improved from 0.69005 to 0.67543, saving model to saved_models/weights.best.mlp_onehot.hdf5\n",
      "Epoch 12/75\n",
      "52409/52409 [==============================] - 5s 88us/step - loss: 0.7083 - acc: 0.7454 - val_loss: 0.6618 - val_acc: 0.7779\n",
      "\n",
      "Epoch 00012: val_loss improved from 0.67543 to 0.66179, saving model to saved_models/weights.best.mlp_onehot.hdf5\n",
      "Epoch 13/75\n",
      "52409/52409 [==============================] - 5s 87us/step - loss: 0.7051 - acc: 0.7509 - val_loss: 0.6524 - val_acc: 0.7787\n",
      "\n",
      "Epoch 00013: val_loss improved from 0.66179 to 0.65238, saving model to saved_models/weights.best.mlp_onehot.hdf5\n",
      "Epoch 14/75\n",
      "52409/52409 [==============================] - 5s 87us/step - loss: 0.6915 - acc: 0.7541 - val_loss: 0.6411 - val_acc: 0.7829\n",
      "\n",
      "Epoch 00014: val_loss improved from 0.65238 to 0.64111, saving model to saved_models/weights.best.mlp_onehot.hdf5\n",
      "Epoch 15/75\n",
      "52409/52409 [==============================] - 5s 87us/step - loss: 0.6862 - acc: 0.7589 - val_loss: 0.6309 - val_acc: 0.7985\n",
      "\n",
      "Epoch 00015: val_loss improved from 0.64111 to 0.63094, saving model to saved_models/weights.best.mlp_onehot.hdf5\n",
      "Epoch 16/75\n",
      "52409/52409 [==============================] - 5s 87us/step - loss: 0.6807 - acc: 0.7635 - val_loss: 0.6211 - val_acc: 0.8232\n",
      "\n",
      "Epoch 00016: val_loss improved from 0.63094 to 0.62110, saving model to saved_models/weights.best.mlp_onehot.hdf5\n",
      "Epoch 17/75\n",
      "52409/52409 [==============================] - 5s 87us/step - loss: 0.6768 - acc: 0.7656 - val_loss: 0.6119 - val_acc: 0.8252\n",
      "\n",
      "Epoch 00017: val_loss improved from 0.62110 to 0.61191, saving model to saved_models/weights.best.mlp_onehot.hdf5\n",
      "Epoch 18/75\n",
      "52409/52409 [==============================] - 5s 93us/step - loss: 0.6650 - acc: 0.7706 - val_loss: 0.6034 - val_acc: 0.8263\n",
      "\n",
      "Epoch 00018: val_loss improved from 0.61191 to 0.60343, saving model to saved_models/weights.best.mlp_onehot.hdf5\n",
      "Epoch 19/75\n",
      "52409/52409 [==============================] - 5s 87us/step - loss: 0.6645 - acc: 0.7763 - val_loss: 0.5990 - val_acc: 0.8236\n",
      "\n",
      "Epoch 00019: val_loss improved from 0.60343 to 0.59903, saving model to saved_models/weights.best.mlp_onehot.hdf5\n",
      "Epoch 20/75\n",
      "52409/52409 [==============================] - 5s 87us/step - loss: 0.6536 - acc: 0.7782 - val_loss: 0.5910 - val_acc: 0.8220\n",
      "\n",
      "Epoch 00020: val_loss improved from 0.59903 to 0.59100, saving model to saved_models/weights.best.mlp_onehot.hdf5\n",
      "Epoch 21/75\n",
      "52409/52409 [==============================] - 5s 89us/step - loss: 0.6504 - acc: 0.7818 - val_loss: 0.5822 - val_acc: 0.8216\n",
      "\n",
      "Epoch 00021: val_loss improved from 0.59100 to 0.58218, saving model to saved_models/weights.best.mlp_onehot.hdf5\n",
      "Epoch 22/75\n",
      "52409/52409 [==============================] - 5s 100us/step - loss: 0.6435 - acc: 0.7851 - val_loss: 0.5785 - val_acc: 0.8217\n",
      "\n",
      "Epoch 00022: val_loss improved from 0.58218 to 0.57846, saving model to saved_models/weights.best.mlp_onehot.hdf5\n",
      "Epoch 23/75\n",
      "52409/52409 [==============================] - 5s 97us/step - loss: 0.6398 - acc: 0.7840 - val_loss: 0.5716 - val_acc: 0.8219\n",
      "\n",
      "Epoch 00023: val_loss improved from 0.57846 to 0.57162, saving model to saved_models/weights.best.mlp_onehot.hdf5\n",
      "Epoch 24/75\n",
      "52409/52409 [==============================] - 5s 93us/step - loss: 0.6322 - acc: 0.7909 - val_loss: 0.5657 - val_acc: 0.8223\n",
      "\n",
      "Epoch 00024: val_loss improved from 0.57162 to 0.56566, saving model to saved_models/weights.best.mlp_onehot.hdf5\n",
      "Epoch 25/75\n",
      "52409/52409 [==============================] - 5s 92us/step - loss: 0.6353 - acc: 0.7888 - val_loss: 0.5616 - val_acc: 0.8226\n",
      "\n",
      "Epoch 00025: val_loss improved from 0.56566 to 0.56158, saving model to saved_models/weights.best.mlp_onehot.hdf5\n",
      "Epoch 26/75\n",
      "52409/52409 [==============================] - 5s 90us/step - loss: 0.6290 - acc: 0.7913 - val_loss: 0.5560 - val_acc: 0.8230\n",
      "\n",
      "Epoch 00026: val_loss improved from 0.56158 to 0.55601, saving model to saved_models/weights.best.mlp_onehot.hdf5\n",
      "Epoch 27/75\n",
      "52409/52409 [==============================] - 5s 90us/step - loss: 0.6244 - acc: 0.7930 - val_loss: 0.5519 - val_acc: 0.8232\n",
      "\n",
      "Epoch 00027: val_loss improved from 0.55601 to 0.55190, saving model to saved_models/weights.best.mlp_onehot.hdf5\n",
      "Epoch 28/75\n",
      "52409/52409 [==============================] - 5s 89us/step - loss: 0.6184 - acc: 0.7959 - val_loss: 0.5462 - val_acc: 0.8233\n",
      "\n",
      "Epoch 00028: val_loss improved from 0.55190 to 0.54620, saving model to saved_models/weights.best.mlp_onehot.hdf5\n",
      "Epoch 29/75\n",
      "52409/52409 [==============================] - 5s 89us/step - loss: 0.6146 - acc: 0.7965 - val_loss: 0.5420 - val_acc: 0.8237\n",
      "\n",
      "Epoch 00029: val_loss improved from 0.54620 to 0.54195, saving model to saved_models/weights.best.mlp_onehot.hdf5\n",
      "Epoch 30/75\n",
      "52409/52409 [==============================] - 5s 90us/step - loss: 0.6096 - acc: 0.7987 - val_loss: 0.5384 - val_acc: 0.8242\n",
      "\n",
      "Epoch 00030: val_loss improved from 0.54195 to 0.53840, saving model to saved_models/weights.best.mlp_onehot.hdf5\n",
      "Epoch 31/75\n",
      "52409/52409 [==============================] - 5s 90us/step - loss: 0.6081 - acc: 0.8014 - val_loss: 0.5353 - val_acc: 0.8248\n",
      "\n",
      "Epoch 00031: val_loss improved from 0.53840 to 0.53526, saving model to saved_models/weights.best.mlp_onehot.hdf5\n",
      "Epoch 32/75\n",
      "52409/52409 [==============================] - 5s 91us/step - loss: 0.6036 - acc: 0.8035 - val_loss: 0.5309 - val_acc: 0.8250\n",
      "\n",
      "Epoch 00032: val_loss improved from 0.53526 to 0.53094, saving model to saved_models/weights.best.mlp_onehot.hdf5\n",
      "Epoch 33/75\n"
     ]
    },
    {
     "name": "stdout",
     "output_type": "stream",
     "text": [
      "52409/52409 [==============================] - 5s 87us/step - loss: 0.6046 - acc: 0.8044 - val_loss: 0.5278 - val_acc: 0.8264\n",
      "\n",
      "Epoch 00033: val_loss improved from 0.53094 to 0.52776, saving model to saved_models/weights.best.mlp_onehot.hdf5\n",
      "Epoch 34/75\n",
      "52409/52409 [==============================] - 5s 87us/step - loss: 0.5964 - acc: 0.8044 - val_loss: 0.5233 - val_acc: 0.8335\n",
      "\n",
      "Epoch 00034: val_loss improved from 0.52776 to 0.52325, saving model to saved_models/weights.best.mlp_onehot.hdf5\n",
      "Epoch 35/75\n",
      "52409/52409 [==============================] - 5s 87us/step - loss: 0.5942 - acc: 0.8079 - val_loss: 0.5202 - val_acc: 0.8416\n",
      "\n",
      "Epoch 00035: val_loss improved from 0.52325 to 0.52024, saving model to saved_models/weights.best.mlp_onehot.hdf5\n",
      "Epoch 36/75\n",
      "52409/52409 [==============================] - 5s 91us/step - loss: 0.5910 - acc: 0.8077 - val_loss: 0.5173 - val_acc: 0.8461\n",
      "\n",
      "Epoch 00036: val_loss improved from 0.52024 to 0.51732, saving model to saved_models/weights.best.mlp_onehot.hdf5\n",
      "Epoch 37/75\n",
      "52409/52409 [==============================] - 5s 92us/step - loss: 0.5894 - acc: 0.8101 - val_loss: 0.5139 - val_acc: 0.8474\n",
      "\n",
      "Epoch 00037: val_loss improved from 0.51732 to 0.51392, saving model to saved_models/weights.best.mlp_onehot.hdf5\n",
      "Epoch 38/75\n",
      "52409/52409 [==============================] - 5s 98us/step - loss: 0.5858 - acc: 0.8107 - val_loss: 0.5115 - val_acc: 0.8471\n",
      "\n",
      "Epoch 00038: val_loss improved from 0.51392 to 0.51152, saving model to saved_models/weights.best.mlp_onehot.hdf5\n",
      "Epoch 39/75\n",
      "52409/52409 [==============================] - 5s 98us/step - loss: 0.5861 - acc: 0.8105 - val_loss: 0.5091 - val_acc: 0.8469\n",
      "\n",
      "Epoch 00039: val_loss improved from 0.51152 to 0.50906, saving model to saved_models/weights.best.mlp_onehot.hdf5\n",
      "Epoch 40/75\n",
      "52409/52409 [==============================] - 5s 94us/step - loss: 0.5810 - acc: 0.8140 - val_loss: 0.5057 - val_acc: 0.8473\n",
      "\n",
      "Epoch 00040: val_loss improved from 0.50906 to 0.50575, saving model to saved_models/weights.best.mlp_onehot.hdf5\n",
      "Epoch 41/75\n",
      "52409/52409 [==============================] - 5s 92us/step - loss: 0.5770 - acc: 0.8165 - val_loss: 0.5029 - val_acc: 0.8477\n",
      "\n",
      "Epoch 00041: val_loss improved from 0.50575 to 0.50288, saving model to saved_models/weights.best.mlp_onehot.hdf5\n",
      "Epoch 42/75\n",
      "52409/52409 [==============================] - 5s 103us/step - loss: 0.5773 - acc: 0.8140 - val_loss: 0.5004 - val_acc: 0.8488\n",
      "\n",
      "Epoch 00042: val_loss improved from 0.50288 to 0.50036, saving model to saved_models/weights.best.mlp_onehot.hdf5\n",
      "Epoch 43/75\n",
      "52409/52409 [==============================] - 5s 94us/step - loss: 0.5707 - acc: 0.8176 - val_loss: 0.4972 - val_acc: 0.8497\n",
      "\n",
      "Epoch 00043: val_loss improved from 0.50036 to 0.49718, saving model to saved_models/weights.best.mlp_onehot.hdf5\n",
      "Epoch 44/75\n",
      "52409/52409 [==============================] - 5s 89us/step - loss: 0.5733 - acc: 0.8171 - val_loss: 0.4960 - val_acc: 0.8500\n",
      "\n",
      "Epoch 00044: val_loss improved from 0.49718 to 0.49604, saving model to saved_models/weights.best.mlp_onehot.hdf5\n",
      "Epoch 45/75\n",
      "52409/52409 [==============================] - 5s 90us/step - loss: 0.5685 - acc: 0.8189 - val_loss: 0.4931 - val_acc: 0.8501\n",
      "\n",
      "Epoch 00045: val_loss improved from 0.49604 to 0.49312, saving model to saved_models/weights.best.mlp_onehot.hdf5\n",
      "Epoch 46/75\n",
      "52409/52409 [==============================] - 5s 89us/step - loss: 0.5683 - acc: 0.8192 - val_loss: 0.4911 - val_acc: 0.8504\n",
      "\n",
      "Epoch 00046: val_loss improved from 0.49312 to 0.49113, saving model to saved_models/weights.best.mlp_onehot.hdf5\n",
      "Epoch 47/75\n",
      "52409/52409 [==============================] - 5s 89us/step - loss: 0.5647 - acc: 0.8193 - val_loss: 0.4890 - val_acc: 0.8506\n",
      "\n",
      "Epoch 00047: val_loss improved from 0.49113 to 0.48902, saving model to saved_models/weights.best.mlp_onehot.hdf5\n",
      "Epoch 48/75\n",
      "52409/52409 [==============================] - 5s 92us/step - loss: 0.5609 - acc: 0.8212 - val_loss: 0.4861 - val_acc: 0.8503\n",
      "\n",
      "Epoch 00048: val_loss improved from 0.48902 to 0.48609, saving model to saved_models/weights.best.mlp_onehot.hdf5\n",
      "Epoch 49/75\n",
      "52409/52409 [==============================] - 5s 93us/step - loss: 0.5586 - acc: 0.8243 - val_loss: 0.4845 - val_acc: 0.8510\n",
      "\n",
      "Epoch 00049: val_loss improved from 0.48609 to 0.48451, saving model to saved_models/weights.best.mlp_onehot.hdf5\n",
      "Epoch 50/75\n",
      "52409/52409 [==============================] - 5s 97us/step - loss: 0.5578 - acc: 0.8205 - val_loss: 0.4823 - val_acc: 0.8515\n",
      "\n",
      "Epoch 00050: val_loss improved from 0.48451 to 0.48226, saving model to saved_models/weights.best.mlp_onehot.hdf5\n",
      "Epoch 51/75\n",
      "52409/52409 [==============================] - 5s 93us/step - loss: 0.5527 - acc: 0.8226 - val_loss: 0.4799 - val_acc: 0.8517\n",
      "\n",
      "Epoch 00051: val_loss improved from 0.48226 to 0.47990, saving model to saved_models/weights.best.mlp_onehot.hdf5\n",
      "Epoch 52/75\n",
      "52409/52409 [==============================] - 5s 98us/step - loss: 0.5536 - acc: 0.8233 - val_loss: 0.4774 - val_acc: 0.8518\n",
      "\n",
      "Epoch 00052: val_loss improved from 0.47990 to 0.47741, saving model to saved_models/weights.best.mlp_onehot.hdf5\n",
      "Epoch 53/75\n",
      "52409/52409 [==============================] - 5s 90us/step - loss: 0.5514 - acc: 0.8259 - val_loss: 0.4767 - val_acc: 0.8519\n",
      "\n",
      "Epoch 00053: val_loss improved from 0.47741 to 0.47669, saving model to saved_models/weights.best.mlp_onehot.hdf5\n",
      "Epoch 54/75\n",
      "52409/52409 [==============================] - 5s 89us/step - loss: 0.5488 - acc: 0.8244 - val_loss: 0.4746 - val_acc: 0.8524\n",
      "\n",
      "Epoch 00054: val_loss improved from 0.47669 to 0.47463, saving model to saved_models/weights.best.mlp_onehot.hdf5\n",
      "Epoch 55/75\n",
      "52409/52409 [==============================] - 5s 89us/step - loss: 0.5477 - acc: 0.8267 - val_loss: 0.4727 - val_acc: 0.8526\n",
      "\n",
      "Epoch 00055: val_loss improved from 0.47463 to 0.47273, saving model to saved_models/weights.best.mlp_onehot.hdf5\n",
      "Epoch 56/75\n",
      "52409/52409 [==============================] - 5s 90us/step - loss: 0.5457 - acc: 0.8276 - val_loss: 0.4706 - val_acc: 0.8528\n",
      "\n",
      "Epoch 00056: val_loss improved from 0.47273 to 0.47059, saving model to saved_models/weights.best.mlp_onehot.hdf5\n",
      "Epoch 57/75\n",
      "52409/52409 [==============================] - 5s 90us/step - loss: 0.5426 - acc: 0.8286 - val_loss: 0.4700 - val_acc: 0.8526\n",
      "\n",
      "Epoch 00057: val_loss improved from 0.47059 to 0.47002, saving model to saved_models/weights.best.mlp_onehot.hdf5\n",
      "Epoch 58/75\n",
      "52409/52409 [==============================] - 5s 89us/step - loss: 0.5424 - acc: 0.8283 - val_loss: 0.4688 - val_acc: 0.8528\n",
      "\n",
      "Epoch 00058: val_loss improved from 0.47002 to 0.46880, saving model to saved_models/weights.best.mlp_onehot.hdf5\n",
      "Epoch 59/75\n",
      "52409/52409 [==============================] - 5s 89us/step - loss: 0.5360 - acc: 0.8306 - val_loss: 0.4663 - val_acc: 0.8530\n",
      "\n",
      "Epoch 00059: val_loss improved from 0.46880 to 0.46631, saving model to saved_models/weights.best.mlp_onehot.hdf5\n",
      "Epoch 60/75\n",
      "52409/52409 [==============================] - 5s 89us/step - loss: 0.5344 - acc: 0.8308 - val_loss: 0.4636 - val_acc: 0.8532\n",
      "\n",
      "Epoch 00060: val_loss improved from 0.46631 to 0.46363, saving model to saved_models/weights.best.mlp_onehot.hdf5\n",
      "Epoch 61/75\n",
      "52409/52409 [==============================] - 5s 90us/step - loss: 0.5337 - acc: 0.8311 - val_loss: 0.4636 - val_acc: 0.8535\n",
      "\n",
      "Epoch 00061: val_loss improved from 0.46363 to 0.46361, saving model to saved_models/weights.best.mlp_onehot.hdf5\n",
      "Epoch 62/75\n",
      "52409/52409 [==============================] - 5s 89us/step - loss: 0.5343 - acc: 0.8319 - val_loss: 0.4620 - val_acc: 0.8535\n",
      "\n",
      "Epoch 00062: val_loss improved from 0.46361 to 0.46196, saving model to saved_models/weights.best.mlp_onehot.hdf5\n",
      "Epoch 63/75\n",
      "52409/52409 [==============================] - 5s 93us/step - loss: 0.5315 - acc: 0.8321 - val_loss: 0.4608 - val_acc: 0.8535\n",
      "\n",
      "Epoch 00063: val_loss improved from 0.46196 to 0.46083, saving model to saved_models/weights.best.mlp_onehot.hdf5\n",
      "Epoch 64/75\n",
      "52409/52409 [==============================] - 5s 90us/step - loss: 0.5306 - acc: 0.8326 - val_loss: 0.4591 - val_acc: 0.8538\n",
      "\n",
      "Epoch 00064: val_loss improved from 0.46083 to 0.45910, saving model to saved_models/weights.best.mlp_onehot.hdf5\n",
      "Epoch 65/75\n",
      "52409/52409 [==============================] - 5s 89us/step - loss: 0.5268 - acc: 0.8341 - val_loss: 0.4581 - val_acc: 0.8539\n"
     ]
    },
    {
     "name": "stdout",
     "output_type": "stream",
     "text": [
      "\n",
      "Epoch 00065: val_loss improved from 0.45910 to 0.45806, saving model to saved_models/weights.best.mlp_onehot.hdf5\n",
      "Epoch 66/75\n",
      "52409/52409 [==============================] - 5s 87us/step - loss: 0.5304 - acc: 0.8329 - val_loss: 0.4585 - val_acc: 0.8540\n",
      "\n",
      "Epoch 00066: val_loss did not improve from 0.45806\n",
      "Epoch 67/75\n",
      "52409/52409 [==============================] - 5s 86us/step - loss: 0.5279 - acc: 0.8339 - val_loss: 0.4558 - val_acc: 0.8545\n",
      "\n",
      "Epoch 00067: val_loss improved from 0.45806 to 0.45576, saving model to saved_models/weights.best.mlp_onehot.hdf5\n",
      "Epoch 68/75\n",
      "52409/52409 [==============================] - 5s 93us/step - loss: 0.5263 - acc: 0.8344 - val_loss: 0.4550 - val_acc: 0.8548\n",
      "\n",
      "Epoch 00068: val_loss improved from 0.45576 to 0.45498, saving model to saved_models/weights.best.mlp_onehot.hdf5\n",
      "Epoch 69/75\n",
      "52409/52409 [==============================] - 5s 89us/step - loss: 0.5222 - acc: 0.8339 - val_loss: 0.4547 - val_acc: 0.8551\n",
      "\n",
      "Epoch 00069: val_loss improved from 0.45498 to 0.45466, saving model to saved_models/weights.best.mlp_onehot.hdf5\n",
      "Epoch 70/75\n",
      "52409/52409 [==============================] - 5s 89us/step - loss: 0.5249 - acc: 0.8340 - val_loss: 0.4540 - val_acc: 0.8553\n",
      "\n",
      "Epoch 00070: val_loss improved from 0.45466 to 0.45404, saving model to saved_models/weights.best.mlp_onehot.hdf5\n",
      "Epoch 71/75\n",
      "52409/52409 [==============================] - 5s 88us/step - loss: 0.5230 - acc: 0.8369 - val_loss: 0.4526 - val_acc: 0.8558\n",
      "\n",
      "Epoch 00071: val_loss improved from 0.45404 to 0.45257, saving model to saved_models/weights.best.mlp_onehot.hdf5\n",
      "Epoch 72/75\n",
      "52409/52409 [==============================] - 5s 89us/step - loss: 0.5185 - acc: 0.8360 - val_loss: 0.4505 - val_acc: 0.8564\n",
      "\n",
      "Epoch 00072: val_loss improved from 0.45257 to 0.45054, saving model to saved_models/weights.best.mlp_onehot.hdf5\n",
      "Epoch 73/75\n",
      "52409/52409 [==============================] - 5s 95us/step - loss: 0.5174 - acc: 0.8374 - val_loss: 0.4503 - val_acc: 0.8568\n",
      "\n",
      "Epoch 00073: val_loss improved from 0.45054 to 0.45031, saving model to saved_models/weights.best.mlp_onehot.hdf5\n",
      "Epoch 74/75\n",
      "52409/52409 [==============================] - 5s 91us/step - loss: 0.5147 - acc: 0.8385 - val_loss: 0.4485 - val_acc: 0.8571\n",
      "\n",
      "Epoch 00074: val_loss improved from 0.45031 to 0.44846, saving model to saved_models/weights.best.mlp_onehot.hdf5\n",
      "Epoch 75/75\n",
      "52409/52409 [==============================] - 5s 90us/step - loss: 0.5156 - acc: 0.8383 - val_loss: 0.4473 - val_acc: 0.8571\n",
      "\n",
      "Epoch 00075: val_loss improved from 0.44846 to 0.44726, saving model to saved_models/weights.best.mlp_onehot.hdf5\n"
     ]
    },
    {
     "data": {
      "text/plain": [
       "<keras.callbacks.History at 0x26b908060b8>"
      ]
     },
     "execution_count": 206,
     "metadata": {},
     "output_type": "execute_result"
    }
   ],
   "source": [
    "# This fits the model and runs it for 100 epochs.\n",
    "mlp_onehot.fit(Xtrain_onehot, Ytrain_onehot, validation_split=0.20,\n",
    "                epochs=n_epochs, batch_size=size_of_batch, \n",
    "                callbacks = [checkpoint], verbose=1)"
   ]
  },
  {
   "cell_type": "code",
   "execution_count": 207,
   "metadata": {
    "scrolled": true
   },
   "outputs": [],
   "source": [
    "# This loads the best weights from the model.\n",
    "# This comes from Reference 6 in References.\n",
    "mlp_onehot.load_weights('saved_models/weights.best.mlp_onehot.hdf5')"
   ]
  },
  {
   "cell_type": "code",
   "execution_count": 208,
   "metadata": {},
   "outputs": [
    {
     "name": "stdout",
     "output_type": "stream",
     "text": [
      "Test acuracy: 65.0083%\n"
     ]
    }
   ],
   "source": [
    "# This prints the accuracy of the model.\n",
    "# This comes from Reference 9 in References.\n",
    "score = mlp_onehot.evaluate(Xtest_onehot, Ytest_onehot, verbose=0)\n",
    "accuracy = 100*score[1]\n",
    "print('Test acuracy: %.4f%%' %accuracy)"
   ]
  },
  {
   "cell_type": "code",
   "execution_count": 209,
   "metadata": {
    "scrolled": true
   },
   "outputs": [
    {
     "name": "stdout",
     "output_type": "stream",
     "text": [
      "The AUC score for the model is 0.6327.\n"
     ]
    }
   ],
   "source": [
    "# This prints the AUC score for the model.\n",
    "Ypred_onehot = mlp_onehot.predict(Xtest_onehot)\n",
    "ROC_mlp_onehot = roc_auc_score(Ytest_onehot, Ypred_onehot)\n",
    "print(\"The AUC score for the model is %.4f.\" % ROC_mlp_onehot)"
   ]
  },
  {
   "cell_type": "code",
   "execution_count": 210,
   "metadata": {
    "scrolled": false
   },
   "outputs": [
    {
     "data": {
      "image/png": "[encoded data removed]",
      "text/plain": [
       "<Figure size 432x432 with 1 Axes>"
      ]
     },
     "metadata": {
      "needs_background": "light"
     },
     "output_type": "display_data"
    }
   ],
   "source": [
    "# This plots the ROC curve for the model.\n",
    "roc_plot(model=mlp_onehot, x_test=Xtest_onehot,\n",
    "        y_test=Ytest_onehot,title=\"ROC: MLP One Hot\")"
   ]
  },
  {
   "cell_type": "markdown",
   "metadata": {},
   "source": [
    "### MLP Model Sum"
   ]
  },
  {
   "cell_type": "markdown",
   "metadata": {},
   "source": [
    "### MLP Model Sum, default learning rate in Stochastic Gradient Descent Optimizer.\n",
    "This is a comparison MLP model that uses the default learning rate of 0.01 to descend down the loss gradient in an attempt to find the global minimum (Reference 14)."
   ]
  },
  {
   "cell_type": "code",
   "execution_count": 211,
   "metadata": {},
   "outputs": [],
   "source": [
    "# This comes from Reference 7 in References.\n",
    "n_epochs = 75\n",
    "size_of_batch = 50\n",
    "stochastic = SGD(lr=0.001)\n",
    "DEFAULT_stochastic = SGD()\n",
    "nad = Nadam()\n",
    "RMS = RMSprop()\n",
    "\n",
    "# This builds the MLP model for SUM.\n",
    "mlp_sum_DEFAULT = build_model(drop_rate=0.5,\n",
    "                            l2_factor=0.001,\n",
    "                             first_dense=32,\n",
    "                             second_dense=16,\n",
    "                             third_dense=8,\n",
    "                            hidden_act='relu',\n",
    "                            out_act='sigmoid',\n",
    "                            x=Xtrain_sum)"
   ]
  },
  {
   "cell_type": "code",
   "execution_count": 212,
   "metadata": {},
   "outputs": [],
   "source": [
    "# This compiles the MLP model for the SUM data.\n",
    "# This comes from Reference 13 in References.\n",
    "mlp_sum_DEFAULT.compile(loss='binary_crossentropy',\n",
    "              optimizer= DEFAULT_stochastic,\n",
    "              metrics=['accuracy'])"
   ]
  },
  {
   "cell_type": "code",
   "execution_count": 213,
   "metadata": {},
   "outputs": [],
   "source": [
    "# This creates checkpointer, which uses ModelCheckpoint to store the\n",
    "# best weights of the model.\n",
    "# This comes from References 6 in References.\n",
    "checkpoint = ModelCheckpoint(filepath='saved_models/weights.best.mlp_sum_DEFAULT.hdf5',\n",
    "                             verbose=1, save_best_only=True)"
   ]
  },
  {
   "cell_type": "code",
   "execution_count": 214,
   "metadata": {
    "scrolled": true
   },
   "outputs": [
    {
     "name": "stdout",
     "output_type": "stream",
     "text": [
      "Train on 52409 samples, validate on 13103 samples\n",
      "Epoch 1/75\n",
      "52409/52409 [==============================] - 6s 121us/step - loss: 0.7281 - acc: 0.6402 - val_loss: 0.6886 - val_acc: 0.6879\n",
      "\n",
      "Epoch 00001: val_loss improved from inf to 0.68862, saving model to saved_models/weights.best.mlp_sum_DEFAULT.hdf5\n",
      "Epoch 2/75\n",
      "52409/52409 [==============================] - 4s 73us/step - loss: 0.7072 - acc: 0.6610 - val_loss: 0.6716 - val_acc: 0.6881\n",
      "\n",
      "Epoch 00002: val_loss improved from 0.68862 to 0.67157, saving model to saved_models/weights.best.mlp_sum_DEFAULT.hdf5\n",
      "Epoch 3/75\n",
      "52409/52409 [==============================] - 4s 74us/step - loss: 0.6987 - acc: 0.6645 - val_loss: 0.6682 - val_acc: 0.6883\n",
      "\n",
      "Epoch 00003: val_loss improved from 0.67157 to 0.66816, saving model to saved_models/weights.best.mlp_sum_DEFAULT.hdf5\n",
      "Epoch 4/75\n",
      "52409/52409 [==============================] - 4s 73us/step - loss: 0.6912 - acc: 0.6681 - val_loss: 0.6613 - val_acc: 0.6884\n",
      "\n",
      "Epoch 00004: val_loss improved from 0.66816 to 0.66134, saving model to saved_models/weights.best.mlp_sum_DEFAULT.hdf5\n",
      "Epoch 5/75\n",
      "52409/52409 [==============================] - 4s 73us/step - loss: 0.6863 - acc: 0.6684 - val_loss: 0.6542 - val_acc: 0.6890\n",
      "\n",
      "Epoch 00005: val_loss improved from 0.66134 to 0.65419, saving model to saved_models/weights.best.mlp_sum_DEFAULT.hdf5\n",
      "Epoch 6/75\n",
      "52409/52409 [==============================] - 4s 74us/step - loss: 0.6813 - acc: 0.6715 - val_loss: 0.6515 - val_acc: 0.6895\n",
      "\n",
      "Epoch 00006: val_loss improved from 0.65419 to 0.65150, saving model to saved_models/weights.best.mlp_sum_DEFAULT.hdf5\n",
      "Epoch 7/75\n",
      "52409/52409 [==============================] - 4s 74us/step - loss: 0.6773 - acc: 0.6732 - val_loss: 0.6468 - val_acc: 0.6908\n",
      "\n",
      "Epoch 00007: val_loss improved from 0.65150 to 0.64682, saving model to saved_models/weights.best.mlp_sum_DEFAULT.hdf5\n",
      "Epoch 8/75\n",
      "52409/52409 [==============================] - 4s 74us/step - loss: 0.6718 - acc: 0.6748 - val_loss: 0.6456 - val_acc: 0.6905\n",
      "\n",
      "Epoch 00008: val_loss improved from 0.64682 to 0.64560, saving model to saved_models/weights.best.mlp_sum_DEFAULT.hdf5\n",
      "Epoch 9/75\n",
      "52409/52409 [==============================] - 5s 89us/step - loss: 0.6680 - acc: 0.6769 - val_loss: 0.6354 - val_acc: 0.6929\n",
      "\n",
      "Epoch 00009: val_loss improved from 0.64560 to 0.63541, saving model to saved_models/weights.best.mlp_sum_DEFAULT.hdf5\n",
      "Epoch 10/75\n",
      "52409/52409 [==============================] - 4s 84us/step - loss: 0.6615 - acc: 0.6794 - val_loss: 0.6322 - val_acc: 0.6929\n",
      "\n",
      "Epoch 00010: val_loss improved from 0.63541 to 0.63223, saving model to saved_models/weights.best.mlp_sum_DEFAULT.hdf5\n",
      "Epoch 11/75\n",
      "52409/52409 [==============================] - 4s 82us/step - loss: 0.6608 - acc: 0.6805 - val_loss: 0.6307 - val_acc: 0.6936\n",
      "\n",
      "Epoch 00011: val_loss improved from 0.63223 to 0.63071, saving model to saved_models/weights.best.mlp_sum_DEFAULT.hdf5\n",
      "Epoch 12/75\n",
      "52409/52409 [==============================] - 5s 86us/step - loss: 0.6556 - acc: 0.6844 - val_loss: 0.6249 - val_acc: 0.6967\n",
      "\n",
      "Epoch 00012: val_loss improved from 0.63071 to 0.62492, saving model to saved_models/weights.best.mlp_sum_DEFAULT.hdf5\n",
      "Epoch 13/75\n",
      "52409/52409 [==============================] - 4s 83us/step - loss: 0.6500 - acc: 0.6881 - val_loss: 0.6193 - val_acc: 0.6998\n",
      "\n",
      "Epoch 00013: val_loss improved from 0.62492 to 0.61928, saving model to saved_models/weights.best.mlp_sum_DEFAULT.hdf5\n",
      "Epoch 14/75\n",
      "52409/52409 [==============================] - 4s 84us/step - loss: 0.6480 - acc: 0.6881 - val_loss: 0.6135 - val_acc: 0.7012\n",
      "\n",
      "Epoch 00014: val_loss improved from 0.61928 to 0.61350, saving model to saved_models/weights.best.mlp_sum_DEFAULT.hdf5\n",
      "Epoch 15/75\n",
      "52409/52409 [==============================] - 4s 84us/step - loss: 0.6448 - acc: 0.6892 - val_loss: 0.6151 - val_acc: 0.7011\n",
      "\n",
      "Epoch 00015: val_loss did not improve from 0.61350\n",
      "Epoch 16/75\n",
      "52409/52409 [==============================] - 4s 83us/step - loss: 0.6402 - acc: 0.6920 - val_loss: 0.6054 - val_acc: 0.7066\n",
      "\n",
      "Epoch 00016: val_loss improved from 0.61350 to 0.60536, saving model to saved_models/weights.best.mlp_sum_DEFAULT.hdf5\n",
      "Epoch 17/75\n",
      "52409/52409 [==============================] - 4s 83us/step - loss: 0.6364 - acc: 0.6969 - val_loss: 0.6032 - val_acc: 0.7073\n",
      "\n",
      "Epoch 00017: val_loss improved from 0.60536 to 0.60324, saving model to saved_models/weights.best.mlp_sum_DEFAULT.hdf5\n",
      "Epoch 18/75\n",
      "52409/52409 [==============================] - 4s 85us/step - loss: 0.6328 - acc: 0.6977 - val_loss: 0.5956 - val_acc: 0.7138\n",
      "\n",
      "Epoch 00018: val_loss improved from 0.60324 to 0.59561, saving model to saved_models/weights.best.mlp_sum_DEFAULT.hdf5\n",
      "Epoch 19/75\n",
      "52409/52409 [==============================] - 5s 88us/step - loss: 0.6267 - acc: 0.7006 - val_loss: 0.5936 - val_acc: 0.7127\n",
      "\n",
      "Epoch 00019: val_loss improved from 0.59561 to 0.59361, saving model to saved_models/weights.best.mlp_sum_DEFAULT.hdf5\n",
      "Epoch 20/75\n",
      "52409/52409 [==============================] - 5s 93us/step - loss: 0.6284 - acc: 0.7006 - val_loss: 0.5863 - val_acc: 0.7247\n",
      "\n",
      "Epoch 00020: val_loss improved from 0.59361 to 0.58629, saving model to saved_models/weights.best.mlp_sum_DEFAULT.hdf5\n",
      "Epoch 21/75\n",
      "52409/52409 [==============================] - 5s 87us/step - loss: 0.6266 - acc: 0.7019 - val_loss: 0.5839 - val_acc: 0.7269\n",
      "\n",
      "Epoch 00021: val_loss improved from 0.58629 to 0.58395, saving model to saved_models/weights.best.mlp_sum_DEFAULT.hdf5\n",
      "Epoch 22/75\n",
      "52409/52409 [==============================] - 4s 83us/step - loss: 0.6236 - acc: 0.7055 - val_loss: 0.5774 - val_acc: 0.7381\n",
      "\n",
      "Epoch 00022: val_loss improved from 0.58395 to 0.57742, saving model to saved_models/weights.best.mlp_sum_DEFAULT.hdf5\n",
      "Epoch 23/75\n",
      "52409/52409 [==============================] - 4s 85us/step - loss: 0.6184 - acc: 0.7094 - val_loss: 0.5754 - val_acc: 0.7405\n",
      "\n",
      "Epoch 00023: val_loss improved from 0.57742 to 0.57537, saving model to saved_models/weights.best.mlp_sum_DEFAULT.hdf5\n",
      "Epoch 24/75\n",
      "52409/52409 [==============================] - 5s 94us/step - loss: 0.6173 - acc: 0.7080 - val_loss: 0.5713 - val_acc: 0.7448\n",
      "\n",
      "Epoch 00024: val_loss improved from 0.57537 to 0.57126, saving model to saved_models/weights.best.mlp_sum_DEFAULT.hdf5\n",
      "Epoch 25/75\n",
      "52409/52409 [==============================] - 5s 89us/step - loss: 0.6100 - acc: 0.7110 - val_loss: 0.5674 - val_acc: 0.7465\n",
      "\n",
      "Epoch 00025: val_loss improved from 0.57126 to 0.56742, saving model to saved_models/weights.best.mlp_sum_DEFAULT.hdf5\n",
      "Epoch 26/75\n",
      "52409/52409 [==============================] - 5s 89us/step - loss: 0.6114 - acc: 0.7132 - val_loss: 0.5646 - val_acc: 0.7491\n",
      "\n",
      "Epoch 00026: val_loss improved from 0.56742 to 0.56457, saving model to saved_models/weights.best.mlp_sum_DEFAULT.hdf5\n",
      "Epoch 27/75\n",
      "52409/52409 [==============================] - 4s 85us/step - loss: 0.6061 - acc: 0.7178 - val_loss: 0.5607 - val_acc: 0.7506\n",
      "\n",
      "Epoch 00027: val_loss improved from 0.56457 to 0.56071, saving model to saved_models/weights.best.mlp_sum_DEFAULT.hdf5\n",
      "Epoch 28/75\n",
      "52409/52409 [==============================] - 4s 84us/step - loss: 0.6049 - acc: 0.7158 - val_loss: 0.5602 - val_acc: 0.7515\n",
      "\n",
      "Epoch 00028: val_loss improved from 0.56071 to 0.56023, saving model to saved_models/weights.best.mlp_sum_DEFAULT.hdf5\n",
      "Epoch 29/75\n",
      "52409/52409 [==============================] - 5s 87us/step - loss: 0.6006 - acc: 0.7186 - val_loss: 0.5531 - val_acc: 0.7627\n",
      "\n",
      "Epoch 00029: val_loss improved from 0.56023 to 0.55305, saving model to saved_models/weights.best.mlp_sum_DEFAULT.hdf5\n",
      "Epoch 30/75\n",
      "52409/52409 [==============================] - 4s 83us/step - loss: 0.6007 - acc: 0.7221 - val_loss: 0.5515 - val_acc: 0.7604\n",
      "\n",
      "Epoch 00030: val_loss improved from 0.55305 to 0.55154, saving model to saved_models/weights.best.mlp_sum_DEFAULT.hdf5\n",
      "Epoch 31/75\n",
      "52409/52409 [==============================] - 4s 83us/step - loss: 0.5954 - acc: 0.7231 - val_loss: 0.5478 - val_acc: 0.7642\n",
      "\n",
      "Epoch 00031: val_loss improved from 0.55154 to 0.54777, saving model to saved_models/weights.best.mlp_sum_DEFAULT.hdf5\n",
      "Epoch 32/75\n",
      "52409/52409 [==============================] - 4s 83us/step - loss: 0.5956 - acc: 0.7217 - val_loss: 0.5462 - val_acc: 0.7652\n",
      "\n",
      "Epoch 00032: val_loss improved from 0.54777 to 0.54622, saving model to saved_models/weights.best.mlp_sum_DEFAULT.hdf5\n",
      "Epoch 33/75\n"
     ]
    },
    {
     "name": "stdout",
     "output_type": "stream",
     "text": [
      "52409/52409 [==============================] - 4s 81us/step - loss: 0.5947 - acc: 0.7258 - val_loss: 0.5439 - val_acc: 0.7646\n",
      "\n",
      "Epoch 00033: val_loss improved from 0.54622 to 0.54388, saving model to saved_models/weights.best.mlp_sum_DEFAULT.hdf5\n",
      "Epoch 34/75\n",
      "52409/52409 [==============================] - 4s 80us/step - loss: 0.5931 - acc: 0.7258 - val_loss: 0.5403 - val_acc: 0.7725\n",
      "\n",
      "Epoch 00034: val_loss improved from 0.54388 to 0.54035, saving model to saved_models/weights.best.mlp_sum_DEFAULT.hdf5\n",
      "Epoch 35/75\n",
      "52409/52409 [==============================] - 4s 80us/step - loss: 0.5871 - acc: 0.7295 - val_loss: 0.5445 - val_acc: 0.7651\n",
      "\n",
      "Epoch 00035: val_loss did not improve from 0.54035\n",
      "Epoch 36/75\n",
      "52409/52409 [==============================] - 4s 85us/step - loss: 0.5858 - acc: 0.7283 - val_loss: 0.5363 - val_acc: 0.7696\n",
      "\n",
      "Epoch 00036: val_loss improved from 0.54035 to 0.53630, saving model to saved_models/weights.best.mlp_sum_DEFAULT.hdf5\n",
      "Epoch 37/75\n",
      "52409/52409 [==============================] - 4s 81us/step - loss: 0.5878 - acc: 0.7294 - val_loss: 0.5344 - val_acc: 0.7756\n",
      "\n",
      "Epoch 00037: val_loss improved from 0.53630 to 0.53441, saving model to saved_models/weights.best.mlp_sum_DEFAULT.hdf5\n",
      "Epoch 38/75\n",
      "52409/52409 [==============================] - 4s 81us/step - loss: 0.5835 - acc: 0.7299 - val_loss: 0.5310 - val_acc: 0.7790\n",
      "\n",
      "Epoch 00038: val_loss improved from 0.53441 to 0.53103, saving model to saved_models/weights.best.mlp_sum_DEFAULT.hdf5\n",
      "Epoch 39/75\n",
      "52409/52409 [==============================] - 5s 86us/step - loss: 0.5811 - acc: 0.7335 - val_loss: 0.5324 - val_acc: 0.7726\n",
      "\n",
      "Epoch 00039: val_loss did not improve from 0.53103\n",
      "Epoch 40/75\n",
      "52409/52409 [==============================] - 4s 83us/step - loss: 0.5799 - acc: 0.7334 - val_loss: 0.5276 - val_acc: 0.7839\n",
      "\n",
      "Epoch 00040: val_loss improved from 0.53103 to 0.52761, saving model to saved_models/weights.best.mlp_sum_DEFAULT.hdf5\n",
      "Epoch 41/75\n",
      "52409/52409 [==============================] - 5s 89us/step - loss: 0.5802 - acc: 0.7350 - val_loss: 0.5361 - val_acc: 0.7727\n",
      "\n",
      "Epoch 00041: val_loss did not improve from 0.52761\n",
      "Epoch 42/75\n",
      "52409/52409 [==============================] - 5s 92us/step - loss: 0.5767 - acc: 0.7365 - val_loss: 0.5255 - val_acc: 0.7820\n",
      "\n",
      "Epoch 00042: val_loss improved from 0.52761 to 0.52549, saving model to saved_models/weights.best.mlp_sum_DEFAULT.hdf5\n",
      "Epoch 43/75\n",
      "52409/52409 [==============================] - 5s 91us/step - loss: 0.5775 - acc: 0.7348 - val_loss: 0.5250 - val_acc: 0.7890\n",
      "\n",
      "Epoch 00043: val_loss improved from 0.52549 to 0.52499, saving model to saved_models/weights.best.mlp_sum_DEFAULT.hdf5\n",
      "Epoch 44/75\n",
      "52409/52409 [==============================] - 4s 84us/step - loss: 0.5779 - acc: 0.7357 - val_loss: 0.5223 - val_acc: 0.7906\n",
      "\n",
      "Epoch 00044: val_loss improved from 0.52499 to 0.52228, saving model to saved_models/weights.best.mlp_sum_DEFAULT.hdf5\n",
      "Epoch 45/75\n",
      "52409/52409 [==============================] - 5s 90us/step - loss: 0.5750 - acc: 0.7374 - val_loss: 0.5244 - val_acc: 0.7802\n",
      "\n",
      "Epoch 00045: val_loss did not improve from 0.52228\n",
      "Epoch 46/75\n",
      "52409/52409 [==============================] - 5s 87us/step - loss: 0.5738 - acc: 0.7414 - val_loss: 0.5190 - val_acc: 0.7923\n",
      "\n",
      "Epoch 00046: val_loss improved from 0.52228 to 0.51900, saving model to saved_models/weights.best.mlp_sum_DEFAULT.hdf5\n",
      "Epoch 47/75\n",
      "52409/52409 [==============================] - 5s 90us/step - loss: 0.5718 - acc: 0.7384 - val_loss: 0.5257 - val_acc: 0.7900\n",
      "\n",
      "Epoch 00047: val_loss did not improve from 0.51900\n",
      "Epoch 48/75\n",
      "52409/52409 [==============================] - 4s 83us/step - loss: 0.5726 - acc: 0.7386 - val_loss: 0.5169 - val_acc: 0.7926\n",
      "\n",
      "Epoch 00048: val_loss improved from 0.51900 to 0.51691, saving model to saved_models/weights.best.mlp_sum_DEFAULT.hdf5\n",
      "Epoch 49/75\n",
      "52409/52409 [==============================] - 5s 91us/step - loss: 0.5696 - acc: 0.7393 - val_loss: 0.5172 - val_acc: 0.7949\n",
      "\n",
      "Epoch 00049: val_loss did not improve from 0.51691\n",
      "Epoch 50/75\n",
      "52409/52409 [==============================] - 5s 94us/step - loss: 0.5718 - acc: 0.7405 - val_loss: 0.5158 - val_acc: 0.7955\n",
      "\n",
      "Epoch 00050: val_loss improved from 0.51691 to 0.51583, saving model to saved_models/weights.best.mlp_sum_DEFAULT.hdf5\n",
      "Epoch 51/75\n",
      "52409/52409 [==============================] - 5s 90us/step - loss: 0.5687 - acc: 0.7434 - val_loss: 0.5187 - val_acc: 0.7886\n",
      "\n",
      "Epoch 00051: val_loss did not improve from 0.51583\n",
      "Epoch 52/75\n",
      "52409/52409 [==============================] - 5s 90us/step - loss: 0.5688 - acc: 0.7405 - val_loss: 0.5160 - val_acc: 0.7906\n",
      "\n",
      "Epoch 00052: val_loss did not improve from 0.51583\n",
      "Epoch 53/75\n",
      "52409/52409 [==============================] - 5s 88us/step - loss: 0.5693 - acc: 0.7441 - val_loss: 0.5198 - val_acc: 0.7844\n",
      "\n",
      "Epoch 00053: val_loss did not improve from 0.51583\n",
      "Epoch 54/75\n",
      "52409/52409 [==============================] - 5s 89us/step - loss: 0.5691 - acc: 0.7429 - val_loss: 0.5159 - val_acc: 0.7838\n",
      "\n",
      "Epoch 00054: val_loss did not improve from 0.51583\n",
      "Epoch 55/75\n",
      "52409/52409 [==============================] - 5s 89us/step - loss: 0.5669 - acc: 0.7442 - val_loss: 0.5122 - val_acc: 0.7955\n",
      "\n",
      "Epoch 00055: val_loss improved from 0.51583 to 0.51220, saving model to saved_models/weights.best.mlp_sum_DEFAULT.hdf5\n",
      "Epoch 56/75\n",
      "52409/52409 [==============================] - 5s 92us/step - loss: 0.5643 - acc: 0.7449 - val_loss: 0.5165 - val_acc: 0.7969\n",
      "\n",
      "Epoch 00056: val_loss did not improve from 0.51220\n",
      "Epoch 57/75\n",
      "52409/52409 [==============================] - 5s 89us/step - loss: 0.5651 - acc: 0.7436 - val_loss: 0.5103 - val_acc: 0.7943\n",
      "\n",
      "Epoch 00057: val_loss improved from 0.51220 to 0.51031, saving model to saved_models/weights.best.mlp_sum_DEFAULT.hdf5\n",
      "Epoch 58/75\n",
      "52409/52409 [==============================] - 7s 135us/step - loss: 0.5636 - acc: 0.7472 - val_loss: 0.5127 - val_acc: 0.7851\n",
      "\n",
      "Epoch 00058: val_loss did not improve from 0.51031\n",
      "Epoch 59/75\n",
      "52409/52409 [==============================] - 5s 90us/step - loss: 0.5642 - acc: 0.7467 - val_loss: 0.5149 - val_acc: 0.7897\n",
      "\n",
      "Epoch 00059: val_loss did not improve from 0.51031\n",
      "Epoch 60/75\n",
      "52409/52409 [==============================] - 5s 89us/step - loss: 0.5656 - acc: 0.7451 - val_loss: 0.5093 - val_acc: 0.7937\n",
      "\n",
      "Epoch 00060: val_loss improved from 0.51031 to 0.50934, saving model to saved_models/weights.best.mlp_sum_DEFAULT.hdf5\n",
      "Epoch 61/75\n",
      "52409/52409 [==============================] - 5s 95us/step - loss: 0.5642 - acc: 0.7472 - val_loss: 0.5099 - val_acc: 0.7887\n",
      "\n",
      "Epoch 00061: val_loss did not improve from 0.50934\n",
      "Epoch 62/75\n",
      "52409/52409 [==============================] - 5s 92us/step - loss: 0.5608 - acc: 0.7502 - val_loss: 0.5085 - val_acc: 0.7900\n",
      "\n",
      "Epoch 00062: val_loss improved from 0.50934 to 0.50849, saving model to saved_models/weights.best.mlp_sum_DEFAULT.hdf5\n",
      "Epoch 63/75\n",
      "52409/52409 [==============================] - 5s 93us/step - loss: 0.5618 - acc: 0.7476 - val_loss: 0.5042 - val_acc: 0.7975\n",
      "\n",
      "Epoch 00063: val_loss improved from 0.50849 to 0.50419, saving model to saved_models/weights.best.mlp_sum_DEFAULT.hdf5\n",
      "Epoch 64/75\n",
      "52409/52409 [==============================] - 5s 86us/step - loss: 0.5629 - acc: 0.7469 - val_loss: 0.5040 - val_acc: 0.8000\n",
      "\n",
      "Epoch 00064: val_loss improved from 0.50419 to 0.50397, saving model to saved_models/weights.best.mlp_sum_DEFAULT.hdf5\n",
      "Epoch 65/75\n",
      "52409/52409 [==============================] - 4s 84us/step - loss: 0.5596 - acc: 0.7495 - val_loss: 0.5061 - val_acc: 0.7997\n",
      "\n",
      "Epoch 00065: val_loss did not improve from 0.50397\n",
      "Epoch 66/75\n",
      "52409/52409 [==============================] - 4s 84us/step - loss: 0.5639 - acc: 0.7466 - val_loss: 0.5060 - val_acc: 0.7950\n",
      "\n",
      "Epoch 00066: val_loss did not improve from 0.50397\n",
      "Epoch 67/75\n",
      "52409/52409 [==============================] - 4s 84us/step - loss: 0.5604 - acc: 0.7482 - val_loss: 0.5047 - val_acc: 0.7939\n",
      "\n",
      "Epoch 00067: val_loss did not improve from 0.50397\n",
      "Epoch 68/75\n",
      "52409/52409 [==============================] - 5s 88us/step - loss: 0.5637 - acc: 0.7488 - val_loss: 0.5071 - val_acc: 0.7878\n",
      "\n",
      "Epoch 00068: val_loss did not improve from 0.50397\n",
      "Epoch 69/75\n",
      "52409/52409 [==============================] - 5s 88us/step - loss: 0.5613 - acc: 0.7501 - val_loss: 0.5154 - val_acc: 0.7804\n",
      "\n",
      "Epoch 00069: val_loss did not improve from 0.50397\n",
      "Epoch 70/75\n"
     ]
    },
    {
     "name": "stdout",
     "output_type": "stream",
     "text": [
      "52409/52409 [==============================] - 5s 86us/step - loss: 0.5579 - acc: 0.7489 - val_loss: 0.5045 - val_acc: 0.7994\n",
      "\n",
      "Epoch 00070: val_loss did not improve from 0.50397\n",
      "Epoch 71/75\n",
      "52409/52409 [==============================] - 4s 84us/step - loss: 0.5607 - acc: 0.7468 - val_loss: 0.5039 - val_acc: 0.7968\n",
      "\n",
      "Epoch 00071: val_loss improved from 0.50397 to 0.50391, saving model to saved_models/weights.best.mlp_sum_DEFAULT.hdf5\n",
      "Epoch 72/75\n",
      "52409/52409 [==============================] - 4s 83us/step - loss: 0.5594 - acc: 0.7494 - val_loss: 0.5006 - val_acc: 0.8013\n",
      "\n",
      "Epoch 00072: val_loss improved from 0.50391 to 0.50061, saving model to saved_models/weights.best.mlp_sum_DEFAULT.hdf5\n",
      "Epoch 73/75\n",
      "52409/52409 [==============================] - 4s 83us/step - loss: 0.5589 - acc: 0.7502 - val_loss: 0.5009 - val_acc: 0.8017\n",
      "\n",
      "Epoch 00073: val_loss did not improve from 0.50061\n",
      "Epoch 74/75\n",
      "52409/52409 [==============================] - 4s 84us/step - loss: 0.5582 - acc: 0.7507 - val_loss: 0.5038 - val_acc: 0.7956\n",
      "\n",
      "Epoch 00074: val_loss did not improve from 0.50061\n",
      "Epoch 75/75\n",
      "52409/52409 [==============================] - 4s 85us/step - loss: 0.5602 - acc: 0.7490 - val_loss: 0.5002 - val_acc: 0.7992\n",
      "\n",
      "Epoch 00075: val_loss improved from 0.50061 to 0.50015, saving model to saved_models/weights.best.mlp_sum_DEFAULT.hdf5\n"
     ]
    },
    {
     "data": {
      "text/plain": [
       "<keras.callbacks.History at 0x26b91ef8c50>"
      ]
     },
     "execution_count": 214,
     "metadata": {},
     "output_type": "execute_result"
    }
   ],
   "source": [
    "# This fits the model and runs it for 100 epochs.\n",
    "mlp_sum_DEFAULT.fit(Xtrain_sum, Ytrain_sum, validation_split=0.20,\n",
    "                epochs=n_epochs, batch_size=size_of_batch, \n",
    "                callbacks = [checkpoint], verbose=1)"
   ]
  },
  {
   "cell_type": "code",
   "execution_count": 215,
   "metadata": {
    "scrolled": true
   },
   "outputs": [],
   "source": [
    "# This loads the best weights from the model.\n",
    "# This comes from Reference 6 in References.\n",
    "mlp_sum_DEFAULT.load_weights('saved_models/weights.best.mlp_sum_DEFAULT.hdf5')"
   ]
  },
  {
   "cell_type": "code",
   "execution_count": 216,
   "metadata": {},
   "outputs": [
    {
     "name": "stdout",
     "output_type": "stream",
     "text": [
      "Test acuracy: 96.2270%\n"
     ]
    }
   ],
   "source": [
    "# This prints the accuracy of the model.\n",
    "# This comes from Reference 9 in References.\n",
    "score = mlp_sum_DEFAULT.evaluate(Xtest_sum, Ytest_sum, verbose=0)\n",
    "accuracy = 100*score[1]\n",
    "print('Test acuracy: %.4f%%' %accuracy)"
   ]
  },
  {
   "cell_type": "code",
   "execution_count": 232,
   "metadata": {},
   "outputs": [
    {
     "name": "stdout",
     "output_type": "stream",
     "text": [
      "The AUC score for the model is 0.5069.\n"
     ]
    }
   ],
   "source": [
    "# This prints the AUC score for the model.\n",
    "Ypred_sum_DEFAULT = mlp_sum_DEFAULT.predict(Xtest_sum)\n",
    "ROC_mlp_sum_DEFAULT = roc_auc_score(Ytest_sum, Ypred_sum_DEFAULT)\n",
    "print(\"The AUC score for the model is %.4f.\" % ROC_mlp_sum_DEFAULT)"
   ]
  },
  {
   "cell_type": "code",
   "execution_count": 233,
   "metadata": {
    "scrolled": false
   },
   "outputs": [
    {
     "data": {
      "image/png": "[encoded data removed]",
      "text/plain": [
       "<Figure size 432x432 with 1 Axes>"
      ]
     },
     "metadata": {
      "needs_background": "light"
     },
     "output_type": "display_data"
    }
   ],
   "source": [
    "# This plots the ROC curve for the model.\n",
    "roc_plot(model=mlp_sum_DEFAULT, x_test=Xtest_sum,\n",
    "        y_test=Ytest_sum,title=\"ROC: MLP Sum\")"
   ]
  },
  {
   "cell_type": "markdown",
   "metadata": {},
   "source": [
    "### MLP Model Sum Final"
   ]
  },
  {
   "cell_type": "code",
   "execution_count": 219,
   "metadata": {},
   "outputs": [],
   "source": [
    "# This comes from Reference 7 in References.\n",
    "n_epochs = 75\n",
    "size_of_batch = 50\n",
    "stochastic = SGD(lr=0.001)\n",
    "nad = Nadam()\n",
    "RMS = RMSprop()\n",
    "\n",
    "# This builds the MLP model for SUM.\n",
    "mlp_sum = build_model(drop_rate=0.5,\n",
    "                            l2_factor=0.001,\n",
    "                             first_dense=32,\n",
    "                             second_dense=16,\n",
    "                             third_dense=8,\n",
    "                            hidden_act='relu',\n",
    "                            out_act='sigmoid',\n",
    "                            x=Xtrain_sum)"
   ]
  },
  {
   "cell_type": "code",
   "execution_count": 220,
   "metadata": {},
   "outputs": [],
   "source": [
    "# This compiles the MLP model for the SUM data.\n",
    "# This comes from Reference 13 in References.\n",
    "mlp_sum.compile(loss='binary_crossentropy',\n",
    "              optimizer= stochastic,\n",
    "              metrics=['accuracy'])"
   ]
  },
  {
   "cell_type": "code",
   "execution_count": 221,
   "metadata": {},
   "outputs": [],
   "source": [
    "# This creates checkpointer, which uses ModelCheckpoint to store the\n",
    "# best weights of the model.\n",
    "# This comes from References 6 in References.\n",
    "checkpoint = ModelCheckpoint(filepath='saved_models/weights.best.mlp_sum.hdf5',\n",
    "                             verbose=1, save_best_only=True)"
   ]
  },
  {
   "cell_type": "code",
   "execution_count": 222,
   "metadata": {
    "scrolled": true
   },
   "outputs": [
    {
     "name": "stdout",
     "output_type": "stream",
     "text": [
      "Train on 52409 samples, validate on 13103 samples\n",
      "Epoch 1/75\n",
      "52409/52409 [==============================] - 7s 126us/step - loss: 0.7861 - acc: 0.5324 - val_loss: 0.7148 - val_acc: 0.6870\n",
      "\n",
      "Epoch 00001: val_loss improved from inf to 0.71479, saving model to saved_models/weights.best.mlp_sum.hdf5\n",
      "Epoch 2/75\n",
      "52409/52409 [==============================] - 4s 78us/step - loss: 0.7509 - acc: 0.5894 - val_loss: 0.7008 - val_acc: 0.6901\n",
      "\n",
      "Epoch 00002: val_loss improved from 0.71479 to 0.70081, saving model to saved_models/weights.best.mlp_sum.hdf5\n",
      "Epoch 3/75\n",
      "52409/52409 [==============================] - 4s 78us/step - loss: 0.7430 - acc: 0.6119 - val_loss: 0.6925 - val_acc: 0.6917\n",
      "\n",
      "Epoch 00003: val_loss improved from 0.70081 to 0.69254, saving model to saved_models/weights.best.mlp_sum.hdf5\n",
      "Epoch 4/75\n",
      "52409/52409 [==============================] - 4s 75us/step - loss: 0.7393 - acc: 0.6187 - val_loss: 0.6872 - val_acc: 0.6921\n",
      "\n",
      "Epoch 00004: val_loss improved from 0.69254 to 0.68725, saving model to saved_models/weights.best.mlp_sum.hdf5\n",
      "Epoch 5/75\n",
      "52409/52409 [==============================] - 4s 75us/step - loss: 0.7343 - acc: 0.6238 - val_loss: 0.6847 - val_acc: 0.6917\n",
      "\n",
      "Epoch 00005: val_loss improved from 0.68725 to 0.68468, saving model to saved_models/weights.best.mlp_sum.hdf5\n",
      "Epoch 6/75\n",
      "52409/52409 [==============================] - 4s 84us/step - loss: 0.7278 - acc: 0.6271 - val_loss: 0.6820 - val_acc: 0.6922\n",
      "\n",
      "Epoch 00006: val_loss improved from 0.68468 to 0.68198, saving model to saved_models/weights.best.mlp_sum.hdf5\n",
      "Epoch 7/75\n",
      "52409/52409 [==============================] - 4s 86us/step - loss: 0.7260 - acc: 0.6284 - val_loss: 0.6804 - val_acc: 0.6921\n",
      "\n",
      "Epoch 00007: val_loss improved from 0.68198 to 0.68037, saving model to saved_models/weights.best.mlp_sum.hdf5\n",
      "Epoch 8/75\n",
      "52409/52409 [==============================] - 4s 85us/step - loss: 0.7255 - acc: 0.6320 - val_loss: 0.6786 - val_acc: 0.6921\n",
      "\n",
      "Epoch 00008: val_loss improved from 0.68037 to 0.67860, saving model to saved_models/weights.best.mlp_sum.hdf5\n",
      "Epoch 9/75\n",
      "52409/52409 [==============================] - 4s 85us/step - loss: 0.7221 - acc: 0.6322 - val_loss: 0.6774 - val_acc: 0.6928\n",
      "\n",
      "Epoch 00009: val_loss improved from 0.67860 to 0.67737, saving model to saved_models/weights.best.mlp_sum.hdf5\n",
      "Epoch 10/75\n",
      "52409/52409 [==============================] - 4s 85us/step - loss: 0.7207 - acc: 0.6358 - val_loss: 0.6757 - val_acc: 0.6935\n",
      "\n",
      "Epoch 00010: val_loss improved from 0.67737 to 0.67569, saving model to saved_models/weights.best.mlp_sum.hdf5\n",
      "Epoch 11/75\n",
      "52409/52409 [==============================] - 4s 84us/step - loss: 0.7197 - acc: 0.6365 - val_loss: 0.6746 - val_acc: 0.6947\n",
      "\n",
      "Epoch 00011: val_loss improved from 0.67569 to 0.67458, saving model to saved_models/weights.best.mlp_sum.hdf5\n",
      "Epoch 12/75\n",
      "52409/52409 [==============================] - 4s 85us/step - loss: 0.7189 - acc: 0.6373 - val_loss: 0.6739 - val_acc: 0.6945\n",
      "\n",
      "Epoch 00012: val_loss improved from 0.67458 to 0.67388, saving model to saved_models/weights.best.mlp_sum.hdf5\n",
      "Epoch 13/75\n",
      "52409/52409 [==============================] - 5s 87us/step - loss: 0.7151 - acc: 0.6406 - val_loss: 0.6724 - val_acc: 0.6950\n",
      "\n",
      "Epoch 00013: val_loss improved from 0.67388 to 0.67238, saving model to saved_models/weights.best.mlp_sum.hdf5\n",
      "Epoch 14/75\n",
      "52409/52409 [==============================] - 4s 85us/step - loss: 0.7155 - acc: 0.6395 - val_loss: 0.6716 - val_acc: 0.6953\n",
      "\n",
      "Epoch 00014: val_loss improved from 0.67238 to 0.67164, saving model to saved_models/weights.best.mlp_sum.hdf5\n",
      "Epoch 15/75\n",
      "52409/52409 [==============================] - 5s 91us/step - loss: 0.7123 - acc: 0.6403 - val_loss: 0.6702 - val_acc: 0.6955\n",
      "\n",
      "Epoch 00015: val_loss improved from 0.67164 to 0.67017, saving model to saved_models/weights.best.mlp_sum.hdf5\n",
      "Epoch 16/75\n",
      "52409/52409 [==============================] - 4s 83us/step - loss: 0.7106 - acc: 0.6436 - val_loss: 0.6681 - val_acc: 0.6951\n",
      "\n",
      "Epoch 00016: val_loss improved from 0.67017 to 0.66810, saving model to saved_models/weights.best.mlp_sum.hdf5\n",
      "Epoch 17/75\n",
      "52409/52409 [==============================] - 4s 82us/step - loss: 0.7088 - acc: 0.6439 - val_loss: 0.6673 - val_acc: 0.6950\n",
      "\n",
      "Epoch 00017: val_loss improved from 0.66810 to 0.66733, saving model to saved_models/weights.best.mlp_sum.hdf5\n",
      "Epoch 18/75\n",
      "52409/52409 [==============================] - 5s 89us/step - loss: 0.7113 - acc: 0.6447 - val_loss: 0.6660 - val_acc: 0.6951\n",
      "\n",
      "Epoch 00018: val_loss improved from 0.66733 to 0.66598, saving model to saved_models/weights.best.mlp_sum.hdf5\n",
      "Epoch 19/75\n",
      "52409/52409 [==============================] - 5s 92us/step - loss: 0.7055 - acc: 0.6472 - val_loss: 0.6649 - val_acc: 0.6952\n",
      "\n",
      "Epoch 00019: val_loss improved from 0.66598 to 0.66486, saving model to saved_models/weights.best.mlp_sum.hdf5\n",
      "Epoch 20/75\n",
      "52409/52409 [==============================] - 5s 89us/step - loss: 0.7056 - acc: 0.6475 - val_loss: 0.6633 - val_acc: 0.6953\n",
      "\n",
      "Epoch 00020: val_loss improved from 0.66486 to 0.66332, saving model to saved_models/weights.best.mlp_sum.hdf5\n",
      "Epoch 21/75\n",
      "52409/52409 [==============================] - 6s 111us/step - loss: 0.7059 - acc: 0.6485 - val_loss: 0.6631 - val_acc: 0.6950\n",
      "\n",
      "Epoch 00021: val_loss improved from 0.66332 to 0.66310, saving model to saved_models/weights.best.mlp_sum.hdf5\n",
      "Epoch 22/75\n",
      "52409/52409 [==============================] - 6s 107us/step - loss: 0.7033 - acc: 0.6493 - val_loss: 0.6616 - val_acc: 0.6959\n",
      "\n",
      "Epoch 00022: val_loss improved from 0.66310 to 0.66158, saving model to saved_models/weights.best.mlp_sum.hdf5\n",
      "Epoch 23/75\n",
      "52409/52409 [==============================] - 6s 106us/step - loss: 0.6992 - acc: 0.6526 - val_loss: 0.6596 - val_acc: 0.6960\n",
      "\n",
      "Epoch 00023: val_loss improved from 0.66158 to 0.65961, saving model to saved_models/weights.best.mlp_sum.hdf5\n",
      "Epoch 24/75\n",
      "52409/52409 [==============================] - 5s 103us/step - loss: 0.6998 - acc: 0.6539 - val_loss: 0.6582 - val_acc: 0.6969\n",
      "\n",
      "Epoch 00024: val_loss improved from 0.65961 to 0.65825, saving model to saved_models/weights.best.mlp_sum.hdf5\n",
      "Epoch 25/75\n",
      "52409/52409 [==============================] - 6s 108us/step - loss: 0.7006 - acc: 0.6554 - val_loss: 0.6569 - val_acc: 0.6971\n",
      "\n",
      "Epoch 00025: val_loss improved from 0.65825 to 0.65694, saving model to saved_models/weights.best.mlp_sum.hdf5\n",
      "Epoch 26/75\n",
      "52409/52409 [==============================] - 5s 93us/step - loss: 0.7001 - acc: 0.6540 - val_loss: 0.6562 - val_acc: 0.6978\n",
      "\n",
      "Epoch 00026: val_loss improved from 0.65694 to 0.65619, saving model to saved_models/weights.best.mlp_sum.hdf5\n",
      "Epoch 27/75\n",
      "52409/52409 [==============================] - 4s 82us/step - loss: 0.6959 - acc: 0.6569 - val_loss: 0.6548 - val_acc: 0.6979\n",
      "\n",
      "Epoch 00027: val_loss improved from 0.65619 to 0.65482, saving model to saved_models/weights.best.mlp_sum.hdf5\n",
      "Epoch 28/75\n",
      "52409/52409 [==============================] - 4s 82us/step - loss: 0.6959 - acc: 0.6570 - val_loss: 0.6536 - val_acc: 0.6983\n",
      "\n",
      "Epoch 00028: val_loss improved from 0.65482 to 0.65363, saving model to saved_models/weights.best.mlp_sum.hdf5\n",
      "Epoch 29/75\n",
      "52409/52409 [==============================] - 4s 82us/step - loss: 0.6931 - acc: 0.6582 - val_loss: 0.6520 - val_acc: 0.6992\n",
      "\n",
      "Epoch 00029: val_loss improved from 0.65363 to 0.65204, saving model to saved_models/weights.best.mlp_sum.hdf5\n",
      "Epoch 30/75\n",
      "52409/52409 [==============================] - 5s 90us/step - loss: 0.6934 - acc: 0.6610 - val_loss: 0.6514 - val_acc: 0.6996\n",
      "\n",
      "Epoch 00030: val_loss improved from 0.65204 to 0.65137, saving model to saved_models/weights.best.mlp_sum.hdf5\n",
      "Epoch 31/75\n",
      "52409/52409 [==============================] - 5s 86us/step - loss: 0.6927 - acc: 0.6630 - val_loss: 0.6502 - val_acc: 0.7020\n",
      "\n",
      "Epoch 00031: val_loss improved from 0.65137 to 0.65023, saving model to saved_models/weights.best.mlp_sum.hdf5\n",
      "Epoch 32/75\n",
      "52409/52409 [==============================] - 4s 83us/step - loss: 0.6922 - acc: 0.6642 - val_loss: 0.6490 - val_acc: 0.7041\n",
      "\n",
      "Epoch 00032: val_loss improved from 0.65023 to 0.64902, saving model to saved_models/weights.best.mlp_sum.hdf5\n",
      "Epoch 33/75\n",
      "52409/52409 [==============================] - 4s 81us/step - loss: 0.6893 - acc: 0.6649 - val_loss: 0.6475 - val_acc: 0.7048\n",
      "\n",
      "Epoch 00033: val_loss improved from 0.64902 to 0.64747, saving model to saved_models/weights.best.mlp_sum.hdf5\n",
      "Epoch 34/75\n"
     ]
    },
    {
     "name": "stdout",
     "output_type": "stream",
     "text": [
      "52409/52409 [==============================] - 4s 81us/step - loss: 0.6882 - acc: 0.6628 - val_loss: 0.6464 - val_acc: 0.7062\n",
      "\n",
      "Epoch 00034: val_loss improved from 0.64747 to 0.64638, saving model to saved_models/weights.best.mlp_sum.hdf5\n",
      "Epoch 35/75\n",
      "52409/52409 [==============================] - 4s 81us/step - loss: 0.6900 - acc: 0.6660 - val_loss: 0.6455 - val_acc: 0.7060\n",
      "\n",
      "Epoch 00035: val_loss improved from 0.64638 to 0.64554, saving model to saved_models/weights.best.mlp_sum.hdf5\n",
      "Epoch 36/75\n",
      "52409/52409 [==============================] - 4s 81us/step - loss: 0.6871 - acc: 0.6647 - val_loss: 0.6442 - val_acc: 0.7069\n",
      "\n",
      "Epoch 00036: val_loss improved from 0.64554 to 0.64425, saving model to saved_models/weights.best.mlp_sum.hdf5\n",
      "Epoch 37/75\n",
      "52409/52409 [==============================] - 4s 81us/step - loss: 0.6855 - acc: 0.6644 - val_loss: 0.6429 - val_acc: 0.7087\n",
      "\n",
      "Epoch 00037: val_loss improved from 0.64425 to 0.64293, saving model to saved_models/weights.best.mlp_sum.hdf5\n",
      "Epoch 38/75\n",
      "52409/52409 [==============================] - 4s 81us/step - loss: 0.6850 - acc: 0.6678 - val_loss: 0.6415 - val_acc: 0.7092\n",
      "\n",
      "Epoch 00038: val_loss improved from 0.64293 to 0.64146, saving model to saved_models/weights.best.mlp_sum.hdf5\n",
      "Epoch 39/75\n",
      "52409/52409 [==============================] - 4s 81us/step - loss: 0.6840 - acc: 0.6683 - val_loss: 0.6396 - val_acc: 0.7105\n",
      "\n",
      "Epoch 00039: val_loss improved from 0.64146 to 0.63963, saving model to saved_models/weights.best.mlp_sum.hdf5\n",
      "Epoch 40/75\n",
      "52409/52409 [==============================] - 4s 81us/step - loss: 0.6826 - acc: 0.6715 - val_loss: 0.6384 - val_acc: 0.7114\n",
      "\n",
      "Epoch 00040: val_loss improved from 0.63963 to 0.63841, saving model to saved_models/weights.best.mlp_sum.hdf5\n",
      "Epoch 41/75\n",
      "52409/52409 [==============================] - 5s 88us/step - loss: 0.6797 - acc: 0.6716 - val_loss: 0.6368 - val_acc: 0.7133\n",
      "\n",
      "Epoch 00041: val_loss improved from 0.63841 to 0.63675, saving model to saved_models/weights.best.mlp_sum.hdf5\n",
      "Epoch 42/75\n",
      "52409/52409 [==============================] - 5s 88us/step - loss: 0.6800 - acc: 0.6746 - val_loss: 0.6355 - val_acc: 0.7139\n",
      "\n",
      "Epoch 00042: val_loss improved from 0.63675 to 0.63546, saving model to saved_models/weights.best.mlp_sum.hdf5\n",
      "Epoch 43/75\n",
      "52409/52409 [==============================] - 4s 84us/step - loss: 0.6786 - acc: 0.6749 - val_loss: 0.6342 - val_acc: 0.7143\n",
      "\n",
      "Epoch 00043: val_loss improved from 0.63546 to 0.63423, saving model to saved_models/weights.best.mlp_sum.hdf5\n",
      "Epoch 44/75\n",
      "52409/52409 [==============================] - 4s 84us/step - loss: 0.6781 - acc: 0.6737 - val_loss: 0.6328 - val_acc: 0.7165\n",
      "\n",
      "Epoch 00044: val_loss improved from 0.63423 to 0.63283, saving model to saved_models/weights.best.mlp_sum.hdf5\n",
      "Epoch 45/75\n",
      "52409/52409 [==============================] - 5s 89us/step - loss: 0.6769 - acc: 0.6731 - val_loss: 0.6317 - val_acc: 0.7180\n",
      "\n",
      "Epoch 00045: val_loss improved from 0.63283 to 0.63167, saving model to saved_models/weights.best.mlp_sum.hdf5\n",
      "Epoch 46/75\n",
      "52409/52409 [==============================] - 5s 93us/step - loss: 0.6753 - acc: 0.6770 - val_loss: 0.6308 - val_acc: 0.7193\n",
      "\n",
      "Epoch 00046: val_loss improved from 0.63167 to 0.63078, saving model to saved_models/weights.best.mlp_sum.hdf5\n",
      "Epoch 47/75\n",
      "52409/52409 [==============================] - 5s 90us/step - loss: 0.6766 - acc: 0.6776 - val_loss: 0.6297 - val_acc: 0.7220\n",
      "\n",
      "Epoch 00047: val_loss improved from 0.63078 to 0.62971, saving model to saved_models/weights.best.mlp_sum.hdf5\n",
      "Epoch 48/75\n",
      "52409/52409 [==============================] - 5s 86us/step - loss: 0.6775 - acc: 0.6756 - val_loss: 0.6287 - val_acc: 0.7225\n",
      "\n",
      "Epoch 00048: val_loss improved from 0.62971 to 0.62867, saving model to saved_models/weights.best.mlp_sum.hdf5\n",
      "Epoch 49/75\n",
      "52409/52409 [==============================] - 5s 86us/step - loss: 0.6719 - acc: 0.6791 - val_loss: 0.6268 - val_acc: 0.7236\n",
      "\n",
      "Epoch 00049: val_loss improved from 0.62867 to 0.62682, saving model to saved_models/weights.best.mlp_sum.hdf5\n",
      "Epoch 50/75\n",
      "52409/52409 [==============================] - 5s 88us/step - loss: 0.6728 - acc: 0.6776 - val_loss: 0.6258 - val_acc: 0.7240\n",
      "\n",
      "Epoch 00050: val_loss improved from 0.62682 to 0.62582, saving model to saved_models/weights.best.mlp_sum.hdf5\n",
      "Epoch 51/75\n",
      "52409/52409 [==============================] - 4s 85us/step - loss: 0.6712 - acc: 0.6782 - val_loss: 0.6246 - val_acc: 0.7256\n",
      "\n",
      "Epoch 00051: val_loss improved from 0.62582 to 0.62458, saving model to saved_models/weights.best.mlp_sum.hdf5\n",
      "Epoch 52/75\n",
      "52409/52409 [==============================] - 5s 88us/step - loss: 0.6729 - acc: 0.6795 - val_loss: 0.6238 - val_acc: 0.7266\n",
      "\n",
      "Epoch 00052: val_loss improved from 0.62458 to 0.62379, saving model to saved_models/weights.best.mlp_sum.hdf5\n",
      "Epoch 53/75\n",
      "52409/52409 [==============================] - 5s 87us/step - loss: 0.6675 - acc: 0.6805 - val_loss: 0.6220 - val_acc: 0.7291\n",
      "\n",
      "Epoch 00053: val_loss improved from 0.62379 to 0.62202, saving model to saved_models/weights.best.mlp_sum.hdf5\n",
      "Epoch 54/75\n",
      "52409/52409 [==============================] - 4s 84us/step - loss: 0.6663 - acc: 0.6826 - val_loss: 0.6205 - val_acc: 0.7295\n",
      "\n",
      "Epoch 00054: val_loss improved from 0.62202 to 0.62047, saving model to saved_models/weights.best.mlp_sum.hdf5\n",
      "Epoch 55/75\n",
      "52409/52409 [==============================] - 4s 85us/step - loss: 0.6698 - acc: 0.6815 - val_loss: 0.6195 - val_acc: 0.7333\n",
      "\n",
      "Epoch 00055: val_loss improved from 0.62047 to 0.61953, saving model to saved_models/weights.best.mlp_sum.hdf5\n",
      "Epoch 56/75\n",
      "52409/52409 [==============================] - 4s 83us/step - loss: 0.6662 - acc: 0.6829 - val_loss: 0.6185 - val_acc: 0.7351\n",
      "\n",
      "Epoch 00056: val_loss improved from 0.61953 to 0.61847, saving model to saved_models/weights.best.mlp_sum.hdf5\n",
      "Epoch 57/75\n",
      "52409/52409 [==============================] - 4s 83us/step - loss: 0.6664 - acc: 0.6844 - val_loss: 0.6178 - val_acc: 0.7367\n",
      "\n",
      "Epoch 00057: val_loss improved from 0.61847 to 0.61785, saving model to saved_models/weights.best.mlp_sum.hdf5\n",
      "Epoch 58/75\n",
      "52409/52409 [==============================] - 5s 92us/step - loss: 0.6637 - acc: 0.6857 - val_loss: 0.6165 - val_acc: 0.7381\n",
      "\n",
      "Epoch 00058: val_loss improved from 0.61785 to 0.61649, saving model to saved_models/weights.best.mlp_sum.hdf5\n",
      "Epoch 59/75\n",
      "52409/52409 [==============================] - 4s 86us/step - loss: 0.6640 - acc: 0.6845 - val_loss: 0.6157 - val_acc: 0.7391\n",
      "\n",
      "Epoch 00059: val_loss improved from 0.61649 to 0.61571, saving model to saved_models/weights.best.mlp_sum.hdf5\n",
      "Epoch 60/75\n",
      "52409/52409 [==============================] - 5s 87us/step - loss: 0.6626 - acc: 0.6842 - val_loss: 0.6146 - val_acc: 0.7398\n",
      "\n",
      "Epoch 00060: val_loss improved from 0.61571 to 0.61459, saving model to saved_models/weights.best.mlp_sum.hdf5\n",
      "Epoch 61/75\n",
      "52409/52409 [==============================] - 4s 83us/step - loss: 0.6638 - acc: 0.6850 - val_loss: 0.6142 - val_acc: 0.7391\n",
      "\n",
      "Epoch 00061: val_loss improved from 0.61459 to 0.61417, saving model to saved_models/weights.best.mlp_sum.hdf5\n",
      "Epoch 62/75\n",
      "52409/52409 [==============================] - 4s 84us/step - loss: 0.6622 - acc: 0.6860 - val_loss: 0.6130 - val_acc: 0.7405\n",
      "\n",
      "Epoch 00062: val_loss improved from 0.61417 to 0.61302, saving model to saved_models/weights.best.mlp_sum.hdf5\n",
      "Epoch 63/75\n",
      "52409/52409 [==============================] - 4s 84us/step - loss: 0.6583 - acc: 0.6907 - val_loss: 0.6113 - val_acc: 0.7414\n",
      "\n",
      "Epoch 00063: val_loss improved from 0.61302 to 0.61130, saving model to saved_models/weights.best.mlp_sum.hdf5\n",
      "Epoch 64/75\n",
      "52409/52409 [==============================] - 5s 88us/step - loss: 0.6592 - acc: 0.6910 - val_loss: 0.6102 - val_acc: 0.7422\n",
      "\n",
      "Epoch 00064: val_loss improved from 0.61130 to 0.61024, saving model to saved_models/weights.best.mlp_sum.hdf5\n",
      "Epoch 65/75\n",
      "52409/52409 [==============================] - 4s 85us/step - loss: 0.6599 - acc: 0.6893 - val_loss: 0.6095 - val_acc: 0.7431\n",
      "\n",
      "Epoch 00065: val_loss improved from 0.61024 to 0.60954, saving model to saved_models/weights.best.mlp_sum.hdf5\n",
      "Epoch 66/75\n",
      "52409/52409 [==============================] - 4s 85us/step - loss: 0.6593 - acc: 0.6903 - val_loss: 0.6088 - val_acc: 0.7433\n",
      "\n",
      "Epoch 00066: val_loss improved from 0.60954 to 0.60878, saving model to saved_models/weights.best.mlp_sum.hdf5\n",
      "Epoch 67/75\n"
     ]
    },
    {
     "name": "stdout",
     "output_type": "stream",
     "text": [
      "52409/52409 [==============================] - 4s 85us/step - loss: 0.6592 - acc: 0.6894 - val_loss: 0.6076 - val_acc: 0.7457\n",
      "\n",
      "Epoch 00067: val_loss improved from 0.60878 to 0.60764, saving model to saved_models/weights.best.mlp_sum.hdf5\n",
      "Epoch 68/75\n",
      "52409/52409 [==============================] - 4s 84us/step - loss: 0.6567 - acc: 0.6906 - val_loss: 0.6069 - val_acc: 0.7460\n",
      "\n",
      "Epoch 00068: val_loss improved from 0.60764 to 0.60694, saving model to saved_models/weights.best.mlp_sum.hdf5\n",
      "Epoch 69/75\n",
      "52409/52409 [==============================] - 5s 87us/step - loss: 0.6555 - acc: 0.6916 - val_loss: 0.6060 - val_acc: 0.7459\n",
      "\n",
      "Epoch 00069: val_loss improved from 0.60694 to 0.60598, saving model to saved_models/weights.best.mlp_sum.hdf5\n",
      "Epoch 70/75\n",
      "52409/52409 [==============================] - 5s 93us/step - loss: 0.6540 - acc: 0.6926 - val_loss: 0.6049 - val_acc: 0.7471\n",
      "\n",
      "Epoch 00070: val_loss improved from 0.60598 to 0.60489, saving model to saved_models/weights.best.mlp_sum.hdf5\n",
      "Epoch 71/75\n",
      "52409/52409 [==============================] - 4s 85us/step - loss: 0.6565 - acc: 0.6909 - val_loss: 0.6045 - val_acc: 0.7485\n",
      "\n",
      "Epoch 00071: val_loss improved from 0.60489 to 0.60454, saving model to saved_models/weights.best.mlp_sum.hdf5\n",
      "Epoch 72/75\n",
      "52409/52409 [==============================] - 4s 86us/step - loss: 0.6538 - acc: 0.6944 - val_loss: 0.6037 - val_acc: 0.7480\n",
      "\n",
      "Epoch 00072: val_loss improved from 0.60454 to 0.60371, saving model to saved_models/weights.best.mlp_sum.hdf5\n",
      "Epoch 73/75\n",
      "52409/52409 [==============================] - 5s 91us/step - loss: 0.6522 - acc: 0.6938 - val_loss: 0.6025 - val_acc: 0.7490\n",
      "\n",
      "Epoch 00073: val_loss improved from 0.60371 to 0.60252, saving model to saved_models/weights.best.mlp_sum.hdf5\n",
      "Epoch 74/75\n",
      "52409/52409 [==============================] - 4s 83us/step - loss: 0.6538 - acc: 0.6954 - val_loss: 0.6022 - val_acc: 0.7494\n",
      "\n",
      "Epoch 00074: val_loss improved from 0.60252 to 0.60220, saving model to saved_models/weights.best.mlp_sum.hdf5\n",
      "Epoch 75/75\n",
      "52409/52409 [==============================] - 4s 85us/step - loss: 0.6509 - acc: 0.6949 - val_loss: 0.6012 - val_acc: 0.7491\n",
      "\n",
      "Epoch 00075: val_loss improved from 0.60220 to 0.60118, saving model to saved_models/weights.best.mlp_sum.hdf5\n"
     ]
    },
    {
     "data": {
      "text/plain": [
       "<keras.callbacks.History at 0x26b91ee0438>"
      ]
     },
     "execution_count": 222,
     "metadata": {},
     "output_type": "execute_result"
    }
   ],
   "source": [
    "# This fits the model and runs it for 100 epochs.\n",
    "mlp_sum.fit(Xtrain_sum, Ytrain_sum, validation_split=0.20,\n",
    "                epochs=n_epochs, batch_size=size_of_batch, \n",
    "                callbacks = [checkpoint], verbose=1)"
   ]
  },
  {
   "cell_type": "code",
   "execution_count": 227,
   "metadata": {
    "scrolled": true
   },
   "outputs": [],
   "source": [
    "# This loads the best weights from the model.\n",
    "# This comes from Reference 6 in References.\n",
    "mlp_sum.load_weights('saved_models/weights.best.mlp_sum.hdf5')"
   ]
  },
  {
   "cell_type": "code",
   "execution_count": 228,
   "metadata": {},
   "outputs": [
    {
     "name": "stdout",
     "output_type": "stream",
     "text": [
      "Test acuracy: 74.7579%\n"
     ]
    }
   ],
   "source": [
    "# This prints the accuracy of the model.\n",
    "# This comes from Reference 9 in References.\n",
    "score = mlp_sum.evaluate(Xtest_sum, Ytest_sum, verbose=0)\n",
    "accuracy = 100*score[1]\n",
    "print('Test acuracy: %.4f%%' %accuracy)"
   ]
  },
  {
   "cell_type": "code",
   "execution_count": 231,
   "metadata": {},
   "outputs": [
    {
     "name": "stdout",
     "output_type": "stream",
     "text": [
      "The AUC score for the model is 0.6445.\n"
     ]
    }
   ],
   "source": [
    "# This prints the AUC score for the model.\n",
    "Ypred_sum = mlp_sum.predict(Xtest_sum)\n",
    "ROC_mlp_sum = roc_auc_score(Ytest_sum, Ypred_sum)\n",
    "print(\"The AUC score for the model is %.4f.\" % ROC_mlp_sum)"
   ]
  },
  {
   "cell_type": "code",
   "execution_count": 230,
   "metadata": {
    "scrolled": false
   },
   "outputs": [
    {
     "data": {
      "image/png": "[encoded data removed]",
      "text/plain": [
       "<Figure size 432x432 with 1 Axes>"
      ]
     },
     "metadata": {
      "needs_background": "light"
     },
     "output_type": "display_data"
    }
   ],
   "source": [
    "# This plots the ROC curve for the model.\n",
    "roc_plot(model=mlp_sum, x_test=Xtest_sum,\n",
    "        y_test=Ytest_sum,title=\"ROC: MLP Sum\")"
   ]
  },
  {
   "cell_type": "markdown",
   "metadata": {},
   "source": [
    "<a id='references'></a>\n",
    "## References"
   ]
  },
  {
   "cell_type": "markdown",
   "metadata": {},
   "source": [
    "1. https://stackoverflow.com/questions/41032551/how-to-compute-receiving-operating-characteristic-roc-and-auc-in-keras\n",
    "2. https://scikit-learn.org/stable/modules/generated/sklearn.linear_model.LogisticRegressionCV.html\n",
    "3. https://towardsdatascience.com/time-series-nested-cross-validation-76adba623eb9\n",
    "4. https://dziganto.github.io/cross-validation/data%20science/machine%20learning/model%20tuning/python/Model-Tuning-with-Validation-and-Cross-Validation/\n",
    "5. https://keras.io/getting-started/sequential-model-guide/\n",
    "6. Udacity Machine Learning Engineer Nanodegree Program, Semester 2, Brian Campbell - Dog Breed Classifier Project\n",
    "7. https://keras.io/getting-started/sequential-model-guide/\n",
    "8. https://docs.scipy.org/doc/numpy/reference/generated/numpy.ma.size.html\n",
    "9. https://keras.io/models/sequential/\n",
    "10. https://machinelearningmastery.com/reproducible-results-neural-networks-keras/\n",
    "11. https://stackoverflow.com/questions/25009284/how-to-plot-roc-curve-in-python\n",
    "12. https://matplotlib.org/3.1.1/api/_as_gen/matplotlib.pyplot.figure.html#matplotlib.pyplot.figure\n",
    "13. https://stackoverflow.com/questions/273192/how-can-i-safely-create-a-nested-directory\n",
    "14. https://keras.io/optimizers/"
   ]
  }
 ],
 "metadata": {
  "kernelspec": {
   "display_name": "Python [conda env:py36]",
   "language": "python",
   "name": "conda-env-py36-py"
  },
  "language_info": {
   "codemirror_mode": {
    "name": "ipython",
    "version": 3
   },
   "file_extension": ".py",
   "mimetype": "text/x-python",
   "name": "python",
   "nbconvert_exporter": "python",
   "pygments_lexer": "ipython3",
   "version": "3.6.7"
  }
 },
 "nbformat": 4,
 "nbformat_minor": 2
}
