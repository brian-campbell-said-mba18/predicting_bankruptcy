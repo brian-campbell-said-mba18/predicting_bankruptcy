{
 "cells": [
  {
   "cell_type": "markdown",
   "metadata": {},
   "source": [
    "# Capstone Project: The Efficacy of Multilayer Perceptron Algorithms in Predicting Bankruptcy"
   ]
  },
  {
   "cell_type": "markdown",
   "metadata": {},
   "source": [
    "## Table of Contents\n",
    "\n",
    "<ul>\n",
    "<li><a href=\"#introduction\">INTRODUCTION</a></li>\n",
    "<li><a href=\"#feature\">The Feature Variables</a></li>\n",
    "<li><a href=\"#import1\">Import Data</a></li>\n",
    "<li><a href=\"#assess\">Data Assessment</a></li>\n",
    "<li><a href=\"#cleaning\">Data Cleaning</a></li>\n",
    "<li><a href=\"#target\">Separation of Target Variables</a></li>\n",
    "<li><a href=\"#no nulls\">No Nulls Data</a></li>\n",
    "<li><a href=\"#one-hot null\">Creation of One-hot Null Variable</a></li>\n",
    "<li><a href=\"#Creation of Sum Null Variables\">Creation of Sum Null Variables</a></li>\n",
    "<li><a href=\"#PIVOT\">PIVOT</a></li>\n",
    "<li><a href=\"#Data Reorganization\">Data Reorganization</a></li>\n",
    "<li><a href=\"#Data Exploration - Descriptive Statistics\">Data Exploration - Descriptive Statistics</a></li>\n",
    "<li><a href=\"#Exploratory Visualization\">Exploratory Visualization</a></li>\n",
    "<li><a href=\"#Preprocessing\">Preprocessing</a></li>\n",
    "<li><a href=\"#Benchmark: Logistic Regression\">Benchmark: Logistic Regression</a></li>\n",
    "<li><a href=\"#originalMLP\">Origial MLP</a></li>\n",
    "<li><a href=\"#conclusion\">Conclusion</a></li> \n",
    "<li><a href=\"#references\">References</a></li>\n",
    "</ul>\n",
    "\n",
    "Benchmark: Logistic Regression"
   ]
  },
  {
   "cell_type": "markdown",
   "metadata": {},
   "source": [
    "<a id='introduction'></a>\n",
    "## INTRODUCTION"
   ]
  },
  {
   "cell_type": "markdown",
   "metadata": {},
   "source": [
    "There is some research to suggest that machine learning can identify which companies are financially sound (Reference 7). Bjorn Mattsson tested gradient boosting (GB), random forest (RF), and multilayer perceptron (MLP) machine learning algorithms on a dataset of Polish companies from 2007 to 2012 (Reference 7). 64 different financial features were used to predict the binary target variable, bankruptcy (Reference 7). Out of the three algorithms, the GB algorithm was best able to predict whether a company declared bankruptcy (Reference 7).\n",
    "\n",
    "The original problem to be solved in this analysis was whether the MLP algorithm can be modified to perform better. Mattsson et al found that the RF and GB algorithms consistently outperformed the MLP algorithm (Reference 7). While Mattsson et al modified some of their hyperparameters, their MLP algorithm included weight decay in the activation function and they applied dropout to their hidden layer nodes, it is unclear whether they modified the hyperparameters beyond these measures (Reference 7). The original results of Mattson et al’s MLP model would serve as a benchmark, and this analysis would seek to improve the performance of the MLP by modifying parameters, e.g. the number of hidden layers and nodes, and the hyperparameters, e.g. the activation functions and the loss optimizers.\n",
    "\n",
    "However, upon further inspection of the dataset, Mattsson et al pre-processed the data incorrectly. Mattson et al broke down the dataset into five distinct datasets, a dataset for each of the five years (Reference 7; Reference 17). They then created three different versions of the data for each year: the first had no null values in the data, while the second and third had null values (Reference 7). Furthermore, version one had no feature variables regarding null values, version two had dummy variables created for each x feature, signaling whether a given value in the x feature was null, and version three had a null counter variable that counted the number of null values in a given row of data (Reference 7).  They then split the data for each year and each version of the data. The error that Mattson et al overlooked was that the second and fourth year datasets contained rows that contained at least one null value (see Appendices B and C). They probably imputed values for the nulls in the second and fourth years, which one cannot do in a dataset that has at least one null value in each row. If every row has at least one null value, then it is impossible to create a testing set without imputing values into it, which would introduce data leakage, model information outside the scope of the training set, into the testing set (Reference 18; Reference 19). Data leakages lead to overly optimistic models, and avoiding obvious sources of data leakages, such as imputing values into the testing data, is common practice in building machine learning models (Reference 18; Reference 19). The violation of this practice necessitates that a different methodology from Mattson et al’s be used.\n",
    "\n",
    "The new problem this analysis addresses is given that Mattson et al’s models are probably overly optimistic due to data leakage, how well should an MLP model, not corrupted by imputed values in the testing data, perform in predicting bankruptcy? Also, along with a new methodology that protects the model from data leakage, this analysis will also need a new benchmark for performance.\n",
    "Initially, this analysis sought to use Mattsson et al’s methodology and make adjustments to the MLP algorithm to determine whether such adjustments could be made to improve its ability to predict bankruptcy. However, upon discovering that Mattsson et al’s models are probably overly optimistic in the “Drop Nulls” section (see above for the section link Table of Contents), this analysis pivots and adopts a new methodology and new benchmark model. More on the pivot of the analysis can be found in the “PIVOT” section (see above for the section link in Table of Contents) where it describes the new methodology and benchmark.\n"
   ]
  },
  {
   "attachments": {},
   "cell_type": "markdown",
   "metadata": {},
   "source": [
    "<a id='feature'></a>\n",
    "## The Feature Variables\n",
    "Below is a snapshot of the feature variables in this analysis:\n",
    "\n",
    "Attribute Information:\n",
    "1. X1 net profit / total assets\n",
    "2. X2 total liabilities / total assets\n",
    "3. X3 working capital / total assets\n",
    "4. X4 current assets / short-term liabilities\n",
    "5. X5 [(cash + short-term securities + receivables - short-term liabilities) / (operating expenses - depreciation)] * 365\n",
    "6. X6 retained earnings / total assets\n",
    "7. X7 EBIT / total assets\n",
    "8. X8 book value of equity / total liabilities\n",
    "9. X9 sales / total assets\n",
    "10. X10 equity / total assets\n",
    "11. X11 (gross profit + extraordinary items + financial expenses) / total assets\n",
    "12. X12 gross profit / short-term liabilities\n",
    "13. X13 (gross profit + depreciation) / sales\n",
    "14. X14 (gross profit + interest) / total assets\n",
    "15. X15 (total liabilities * 365) / (gross profit + depreciation)\n",
    "16. X16 (gross profit + depreciation) / total liabilities\n",
    "17. X17 total assets / total liabilities\n",
    "18. X18 gross profit / total assets\n",
    "19. X19 gross profit / sales\n",
    "20. X20 (inventory * 365) / sales\n",
    "21. X21 sales (n) / sales (n-1)\n",
    "22. X22 profit on operating activities / total assets\n",
    "23. X23 net profit / sales\n",
    "24. X24 gross profit (in 3 years) / total assets\n",
    "25. X25 (equity - share capital) / total assets\n",
    "26. X26 (net profit + depreciation) / total liabilities\n",
    "27. X27 profit on operating activities / financial expenses\n",
    "28. X28 working capital / fixed assets\n",
    "29. X29 logarithm of total assets\n",
    "30. X30 (total liabilities - cash) / sales\n",
    "31. X31 (gross profit + interest) / sales\n",
    "32. X32 (current liabilities * 365) / cost of products sold\n",
    "33. X33 operating expenses / short-term liabilities\n",
    "34. X34 operating expenses / total liabilities\n",
    "35. X35 profit on sales / total assets\n",
    "36. X36 total sales / total assets\n",
    "37. X37 (current assets - inventories) / long-term liabilities\n",
    "38. X38 constant capital / total assets\n",
    "39. X39 profit on sales / sales\n",
    "40. X40 (current assets - inventory - receivables) / short-term liabilities\n",
    "41. X41 total liabilities / ((profit on operating activities + depreciation) * (12/365))\n",
    "42. X42 profit on operating activities / sales\n",
    "43. X43 rotation receivables + inventory turnover in days\n",
    "44. X44 (receivables * 365) / sales\n",
    "45. X45 net profit / inventory\n",
    "46. X46 (current assets - inventory) / short-term liabilities\n",
    "47. X47 (inventory * 365) / cost of products sold\n",
    "48. X48 EBITDA (profit on operating activities - depreciation) / total assets\n",
    "49. X49 EBITDA (profit on operating activities - depreciation) / sales\n",
    "50. X50 current assets / total liabilities\n",
    "51. X51 short-term liabilities / total assets\n",
    "52. X52 (short-term liabilities * 365) / cost of products sold)\n",
    "53. X53 equity / fixed assets\n",
    "54. X54 constant capital / fixed assets\n",
    "55. X55 working capital\n",
    "56. X56 (sales - cost of products sold) / sales\n",
    "57. X57 (current assets - inventory - short-term liabilities) / (sales - gross profit - depreciation)\n",
    "58. X58 total costs /total sales\n",
    "59. X59 long-term liabilities / equity\n",
    "60. X60 sales / inventory\n",
    "61. X61 sales / receivables\n",
    "62. X62 (short-term liabilities *365) / sales\n",
    "63. X63 sales / short-term liabilities\n",
    "64. X64 sales / fixed assets\n",
    "\n",
    "\n",
    "This  comes from Reference 7 of the References Section."
   ]
  },
  {
   "cell_type": "markdown",
   "metadata": {},
   "source": [
    "<a id='import1'></a>\n",
    "## Import Data\n",
    "This section imports the csv files to pandas dataframes."
   ]
  },
  {
   "cell_type": "code",
   "execution_count": null,
   "metadata": {},
   "outputs": [],
   "source": [
    "# This imports the libraries needed to upload the \n",
    "# csv.files.\n",
    "import os\n",
    "import numpy as np\n",
    "import pandas as pd\n",
    "\n",
    "# This checks the current working directory.\n",
    "os.getcwd()"
   ]
  },
  {
   "cell_type": "code",
   "execution_count": null,
   "metadata": {},
   "outputs": [],
   "source": [
    "# This changes the working directory in order to \n",
    "# upload the csv files.\n",
    "\n",
    "new_path = \"data\"\n",
    "os.chdir(new_path)\n",
    "\n",
    "# This confirms that the current working directory\n",
    "# was changed to new_path.\n",
    "os.getcwd()"
   ]
  },
  {
   "cell_type": "code",
   "execution_count": null,
   "metadata": {},
   "outputs": [],
   "source": [
    "# This converts the csv files to pandas dataframes\n",
    "# for each of the five years.\n",
    "year_one_df = pd.read_csv(\"1year.csv\")\n",
    "year_two_df = pd.read_csv(\"2year.csv\")\n",
    "year_three_df = pd.read_csv(\"3year.csv\")\n",
    "year_four_df = pd.read_csv(\"4year.csv\")\n",
    "year_five_df = pd.read_csv(\"5year.csv\")"
   ]
  },
  {
   "cell_type": "markdown",
   "metadata": {},
   "source": [
    "<a id='assess'></a>\n",
    "## Data Assessment\n",
    "This section identifies tidiness and quality issues that need to be cleaned for each dataframe from the five years.\n"
   ]
  },
  {
   "cell_type": "markdown",
   "metadata": {},
   "source": [
    "### Assessment: year_one_df"
   ]
  },
  {
   "cell_type": "code",
   "execution_count": null,
   "metadata": {},
   "outputs": [],
   "source": [
    "# This tells us the number of rows\n",
    "# and columns in year_one_df.\n",
    "\n",
    "print(\"The number of rows and columns (rows, columns) are: {}.\"\n",
    "      .format(year_one_df.shape))"
   ]
  },
  {
   "cell_type": "markdown",
   "metadata": {},
   "source": [
    "**Visual Assessment**"
   ]
  },
  {
   "cell_type": "code",
   "execution_count": null,
   "metadata": {},
   "outputs": [],
   "source": [
    "# This eliminates the \"max_columns\" and \n",
    "# \"max_rows\" in visual displays of dataframes.\n",
    "# This comes from Reference 1.\n",
    "pd.set_option('display.max_columns', None)\n",
    "pd.set_option('display.max_rows', None)\n",
    "\n",
    "# This returns a visual assessment of year_one_df.\n",
    "# This comes from Reference 2.\n",
    "year_one_df.sample(20)"
   ]
  },
  {
   "cell_type": "markdown",
   "metadata": {},
   "source": [
    "**Visual Assessment - Results:**"
   ]
  },
  {
   "cell_type": "markdown",
   "metadata": {},
   "source": [
    "From the visual assessment, I identified tidiness issue 1; the feature columns are named \"attr\" when they should be \"X\". I Identified quality issue 1: \"attr21\" and \"attr37\" appear to have null values in the form of \"?\". I also identified tidiness issue 2: the \"class\" variable should be renamed to \"bankrupt\"."
   ]
  },
  {
   "cell_type": "markdown",
   "metadata": {},
   "source": [
    "**Data Type Assessment**"
   ]
  },
  {
   "cell_type": "code",
   "execution_count": null,
   "metadata": {
    "scrolled": true
   },
   "outputs": [],
   "source": [
    "# This identifies the data types for each column.\n",
    "# This comes from Reference 2.\n",
    "year_one_df.info()"
   ]
  },
  {
   "cell_type": "markdown",
   "metadata": {},
   "source": [
    "**Data Type Assessment - Results:**"
   ]
  },
  {
   "cell_type": "markdown",
   "metadata": {},
   "source": [
    "From the data type assessment, I identified one quality issue (quality issue 2): \"attr1-12\", \"attr14-18\", \"attr21-22\", \"attr24-29\", \"attr32-38\", \"attr40-41\", \"attr45-48\", \"attr50-54\", \"attr57\", \"attr59-61\", and \"attr63-64\" are in string format when they should be in float format."
   ]
  },
  {
   "cell_type": "markdown",
   "metadata": {},
   "source": [
    "**Duplicate Assessment**"
   ]
  },
  {
   "cell_type": "code",
   "execution_count": null,
   "metadata": {},
   "outputs": [],
   "source": [
    "# This is a query to determine whether there are\n",
    "# duplicated rows in year_one_df.\n",
    "# This comes from Reference 3.\n",
    "yr_one_duplicated = year_one_df[year_one_df.duplicated()]\n",
    "\n",
    "print(\"Number of duplicates:\", \n",
    "      \"{}\".format(yr_one_duplicated.shape[0]))"
   ]
  },
  {
   "cell_type": "markdown",
   "metadata": {},
   "source": [
    "**Duplicate Assessment - Results:** "
   ]
  },
  {
   "cell_type": "markdown",
   "metadata": {},
   "source": [
    "From the duplicate assessment, I identified quality issue 3, there are 82 duplicates that need to be removed."
   ]
  },
  {
   "cell_type": "markdown",
   "metadata": {},
   "source": [
    "### Issues: year_one_df"
   ]
  },
  {
   "cell_type": "markdown",
   "metadata": {},
   "source": [
    "> **Tidininess Issues**\n",
    "\n",
    ">> 1. The feature columns are incorrectly named \"attr\" when they should be \"X.\"\n",
    ">> 2. The \"class' variable should be renamed to \"bankrupt.\""
   ]
  },
  {
   "cell_type": "markdown",
   "metadata": {},
   "source": [
    "> **Quality Issues**\n",
    "\n",
    ">> 1. \"Attr21\" and \"attr37\" and possibly other feature variables have null values in the form of \"?\".\n",
    ">> 2. \"Attr1-12\", \"attr14-18\", \"attr21-22\", \"attr24-29\", \"attr32-38\", \"attr40-41\", \"attr45-48\", \"attr50-54\", \"attr57\", \"attr59-61\", and \"attr63-64\" are in string format when they should be in float format.\n",
    ">> 3. There are 82 duplicates that need to be removed."
   ]
  },
  {
   "cell_type": "markdown",
   "metadata": {},
   "source": [
    "### Assessment: year_two_df"
   ]
  },
  {
   "cell_type": "code",
   "execution_count": null,
   "metadata": {},
   "outputs": [],
   "source": [
    "# This tells us the number of rows\n",
    "# and columns in year_two_df.\n",
    "\n",
    "print(\"The number of rows and columns (rows, columns) are: {}.\"\n",
    "      .format(year_two_df.shape))"
   ]
  },
  {
   "cell_type": "markdown",
   "metadata": {},
   "source": [
    "**Visual Assessment**"
   ]
  },
  {
   "cell_type": "code",
   "execution_count": null,
   "metadata": {},
   "outputs": [],
   "source": [
    "# This returns a visual assessment of year_two_df.\n",
    "# This comes from Reference 2.\n",
    "year_two_df.sample(20)"
   ]
  },
  {
   "cell_type": "markdown",
   "metadata": {},
   "source": [
    "**Visual Assessment - Results:**"
   ]
  },
  {
   "cell_type": "markdown",
   "metadata": {},
   "source": [
    "From the visual assessment, I identified tidiness issue 1; the feature columns are named \"attr\" when they should be \"X\". I Identified quality issue 1: \"attr21\", \"attr27,\" \"attr37\", and \"attr41\" appear to have null values in the form of \"?\". I also identified tidiness issue 2: the \"class\" variable should be renamed to \"bankrupt\"."
   ]
  },
  {
   "cell_type": "markdown",
   "metadata": {},
   "source": [
    "**Data Type Assessment**"
   ]
  },
  {
   "cell_type": "code",
   "execution_count": null,
   "metadata": {
    "scrolled": true
   },
   "outputs": [],
   "source": [
    "# This identifies the data types for each column.\n",
    "# This comes from Reference 2.\n",
    "year_two_df.info()"
   ]
  },
  {
   "cell_type": "markdown",
   "metadata": {},
   "source": [
    "**Data Type Assessment - Results:**"
   ]
  },
  {
   "cell_type": "markdown",
   "metadata": {},
   "source": [
    "From the data type assessment, I identified one quality issue (quality issue 2): all the feature variables are in string format when they should be in float format."
   ]
  },
  {
   "cell_type": "markdown",
   "metadata": {},
   "source": [
    "**Duplicate Assessment**"
   ]
  },
  {
   "cell_type": "code",
   "execution_count": null,
   "metadata": {},
   "outputs": [],
   "source": [
    "# This is a query to determine whether there are\n",
    "# duplicated rows in year_two_df.\n",
    "# This comes from Reference 3.\n",
    "yr_two_duplicated = year_two_df[year_two_df.duplicated()]\n",
    "\n",
    "print(\"Number of duplicates:\", \n",
    "      \"{}\".format(yr_two_duplicated.shape[0]))"
   ]
  },
  {
   "cell_type": "markdown",
   "metadata": {},
   "source": [
    "**Duplicate Assessment - Results:** "
   ]
  },
  {
   "cell_type": "markdown",
   "metadata": {},
   "source": [
    "From the duplicate assessment, I identified quality issue 3, there are 78 duplicates that need to be removed."
   ]
  },
  {
   "cell_type": "markdown",
   "metadata": {},
   "source": [
    "### Issues: year_two_df"
   ]
  },
  {
   "cell_type": "markdown",
   "metadata": {},
   "source": [
    "> **Tidininess Issues**\n",
    "\n",
    ">> 1. The feature columns are incorrectly named \"attr\" when they should be \"X.\"\n",
    ">> 2. The \"class' variable should be renamed to \"bankrupt.\""
   ]
  },
  {
   "cell_type": "markdown",
   "metadata": {},
   "source": [
    "> **Quality Issues**\n",
    "\n",
    ">> 1. \"Attr21\", \"attr27,\" \"attr37\", and \"attr41\" appear to have null values in the form of \"?\" that need to be changed to actual null values.\n",
    ">> 2. All the feature variables are in string format when they should be in float format.\n",
    ">> 3. There are 78 duplicates that need to be removed."
   ]
  },
  {
   "cell_type": "markdown",
   "metadata": {},
   "source": [
    "### Assessment: year_three_df"
   ]
  },
  {
   "cell_type": "code",
   "execution_count": null,
   "metadata": {},
   "outputs": [],
   "source": [
    "# This tells us the number of rows\n",
    "# and columns in year_three_df.\n",
    "\n",
    "print(\"The number of rows and columns (rows, columns) are: {}.\"\n",
    "      .format(year_three_df.shape))"
   ]
  },
  {
   "cell_type": "markdown",
   "metadata": {},
   "source": [
    "**Visual Assessment**"
   ]
  },
  {
   "cell_type": "code",
   "execution_count": null,
   "metadata": {
    "scrolled": true
   },
   "outputs": [],
   "source": [
    "# This returns a visual assessment of year_three_df.\n",
    "# This comes from Reference 2.\n",
    "year_three_df.sample(20)"
   ]
  },
  {
   "cell_type": "markdown",
   "metadata": {},
   "source": [
    "**Visual Assessment - Results:**"
   ]
  },
  {
   "cell_type": "markdown",
   "metadata": {},
   "source": [
    "From the visual assessment, I identified tidiness issue 1; the feature columns are named \"attr\" when they should be \"X\". I Identified quality issue 1: \"attr21\", \"attr27,\" \"attr37\", \"attr41,\" and \"attr 60\" appear to have null values in the form of \"?\". I also identified tidiness issue 2: the \"class\" variable should be renamed to \"bankrupt\"."
   ]
  },
  {
   "cell_type": "markdown",
   "metadata": {},
   "source": [
    "**Data Type Assessment**"
   ]
  },
  {
   "cell_type": "code",
   "execution_count": null,
   "metadata": {
    "scrolled": false
   },
   "outputs": [],
   "source": [
    "# This identifies the data types for each column.\n",
    "# This comes from Reference 2.c\n",
    "year_three_df.info()"
   ]
  },
  {
   "cell_type": "markdown",
   "metadata": {},
   "source": [
    "**Data Type Assessment - Results:**"
   ]
  },
  {
   "cell_type": "markdown",
   "metadata": {},
   "source": [
    "From the data type assessment, I identified one quality issue (quality issue 2): \"attr4-5\", \"attr8-9\", \"attr12-13\", \"attr15-17\", \"attr19-21\", \"attr23-24\", \"attr26-28\", \"attr23-24\", \"attr30-34\", \"attr37\", \"attr39-47\", \"attr49-50\", \"attr52-54\", \"attr56\", \"attr58\", and \"attr60-64\", are in string format when they should be in float format."
   ]
  },
  {
   "cell_type": "markdown",
   "metadata": {},
   "source": [
    "**Duplicate Assessment**"
   ]
  },
  {
   "cell_type": "code",
   "execution_count": null,
   "metadata": {},
   "outputs": [],
   "source": [
    "# This is a query to determine whether there are\n",
    "# duplicated rows in year_three_df.\n",
    "# This comes from Reference 3.\n",
    "yr_three_duplicated = year_three_df[year_three_df.duplicated()]\n",
    "\n",
    "print(\"Number of duplicates:\", \n",
    "      \"{}\".format(yr_three_duplicated.shape[0]))"
   ]
  },
  {
   "cell_type": "markdown",
   "metadata": {},
   "source": [
    "**Duplicate Assessment - Results:** "
   ]
  },
  {
   "cell_type": "markdown",
   "metadata": {},
   "source": [
    "From the duplicate assessment, I identified quality issue 3, there are 75 duplicates that need to be removed."
   ]
  },
  {
   "cell_type": "markdown",
   "metadata": {},
   "source": [
    "### Issues: year_three_df"
   ]
  },
  {
   "cell_type": "markdown",
   "metadata": {},
   "source": [
    "> **Tidininess Issues**\n",
    "\n",
    ">> 1. The feature columns are incorrectly named \"attr\" when they should be \"X.\"\n",
    ">> 2. The \"class' variable should be renamed to \"bankrupt.\""
   ]
  },
  {
   "cell_type": "markdown",
   "metadata": {},
   "source": [
    "> **Quality Issues**\n",
    "\n",
    ">> 1. \"Attr21\", \"attr27,\" \"attr37\",\"attr41\", and \"attr60\" appear to have null values in the form of \"?\" that need to be changed to actual null values.\n",
    ">> 2. \"Attr4-5\", \"attr8-9\", \"attr12-13\", \"attr15-17\", \"attr19-21\", \"attr23-24\", \"attr26-28\", \"attr23-24\", \"attr30-34\", \"attr37\", \"attr39-47\", \"attr49-50\", \"attr52-54\", \"attr56\", \"attr58\", and \"attr60-64\", are in string format when they should be in float format.\n",
    ">> 3. There are 75 duplicates that need to be removed."
   ]
  },
  {
   "cell_type": "markdown",
   "metadata": {},
   "source": [
    "### Assessment: year_four_df"
   ]
  },
  {
   "cell_type": "code",
   "execution_count": null,
   "metadata": {},
   "outputs": [],
   "source": [
    "# This tells us the number of rows\n",
    "# and columns in year_four_df.\n",
    "\n",
    "print(\"The number of rows and columns (rows, columns) are: {}.\"\n",
    "      .format(year_four_df.shape))"
   ]
  },
  {
   "cell_type": "markdown",
   "metadata": {},
   "source": [
    "**Visual Assessment**"
   ]
  },
  {
   "cell_type": "code",
   "execution_count": null,
   "metadata": {
    "scrolled": true
   },
   "outputs": [],
   "source": [
    "# This returns a visual assessment of year_four_df.\n",
    "# This comes from Reference 2.\n",
    "year_four_df.sample(20)"
   ]
  },
  {
   "cell_type": "markdown",
   "metadata": {},
   "source": [
    "**Visual Assessment - Results:**"
   ]
  },
  {
   "cell_type": "markdown",
   "metadata": {},
   "source": [
    "From the visual assessment, I identified tidiness issue 1; the feature columns are named \"attr\" when they should be \"X\". I Identified quality issue 1: \"attr28\", \"attr37\", \"attr53\", \"attr54\", and \"attr64\" appear to have null values in the form of \"?\". I also identified tidiness issue 2: the \"class\" variable should be renamed to \"bankrupt\"."
   ]
  },
  {
   "cell_type": "markdown",
   "metadata": {},
   "source": [
    "**Data Type Assessment**"
   ]
  },
  {
   "cell_type": "code",
   "execution_count": null,
   "metadata": {
    "scrolled": true
   },
   "outputs": [],
   "source": [
    "# This identifies the data types for each column.\n",
    "# This comes from Reference 2.\n",
    "year_four_df.info()"
   ]
  },
  {
   "cell_type": "markdown",
   "metadata": {},
   "source": [
    "**Data Type Assessment - Results:**"
   ]
  },
  {
   "cell_type": "markdown",
   "metadata": {},
   "source": [
    "From the data type assessment, I identified one quality issue (quality issue 2): \"attr1-8\", \"attr10-54\",  and \"attr56-64\" are in string format when they should be in float format."
   ]
  },
  {
   "cell_type": "markdown",
   "metadata": {},
   "source": [
    "**Duplicate Assessment**"
   ]
  },
  {
   "cell_type": "code",
   "execution_count": null,
   "metadata": {},
   "outputs": [],
   "source": [
    "# This is a query to determine whether there are\n",
    "# duplicated rows in year_four_df.\n",
    "# This comes from Reference 3.\n",
    "yr_four_duplicated = year_four_df[year_four_df.duplicated()]\n",
    "\n",
    "print(\"Number of duplicates:\", \n",
    "      \"{}\".format(yr_four_duplicated.shape[0]))"
   ]
  },
  {
   "cell_type": "markdown",
   "metadata": {},
   "source": [
    "**Duplicate Assessment - Results:** "
   ]
  },
  {
   "cell_type": "markdown",
   "metadata": {},
   "source": [
    "From the duplicate assessment, I identified quality issue 3, there are 82 duplicates that need to be removed."
   ]
  },
  {
   "cell_type": "markdown",
   "metadata": {},
   "source": [
    "### Issues: year_four_df"
   ]
  },
  {
   "cell_type": "markdown",
   "metadata": {},
   "source": [
    "> **Tidininess Issues**\n",
    "\n",
    ">> 1. The feature columns are incorrectly named \"attr\" when they should be \"X.\"\n",
    ">> 2. The \"class' variable should be renamed to \"bankrupt.\""
   ]
  },
  {
   "cell_type": "markdown",
   "metadata": {},
   "source": [
    "> **Quality Issues**\n",
    "\n",
    ">> 1. \"Attr28\", \"attr37\", \"attr53\", \"attr54\", and \"attr64\" appear to have null values in the form of \"?\" that need to be changed to actual null values.\n",
    ">> 2. \"Attr1-8\", \"attr10-54\", and \"attr56-64\" are in string format when they should be in float format.\n",
    ">> 3. There are 82 duplicates that need to be removed."
   ]
  },
  {
   "cell_type": "markdown",
   "metadata": {},
   "source": [
    "### Assessment: year_five_df"
   ]
  },
  {
   "cell_type": "code",
   "execution_count": null,
   "metadata": {},
   "outputs": [],
   "source": [
    "# This tells us the number of rows\n",
    "# and columns in year_five_df.\n",
    "\n",
    "print(\"The number of rows and columns (rows, columns) are: {}.\"\n",
    "      .format(year_five_df.shape))"
   ]
  },
  {
   "cell_type": "markdown",
   "metadata": {},
   "source": [
    "**Visual Assessment**"
   ]
  },
  {
   "cell_type": "code",
   "execution_count": null,
   "metadata": {
    "scrolled": false
   },
   "outputs": [],
   "source": [
    "# This returns a visual assessment of year_five_df.\n",
    "# This comes from Reference 2.\n",
    "year_five_df.sample(20)"
   ]
  },
  {
   "cell_type": "markdown",
   "metadata": {},
   "source": [
    "**Visual Assessment - Results:**"
   ]
  },
  {
   "cell_type": "markdown",
   "metadata": {},
   "source": [
    "From the visual assessment, I identified tidiness issue 1; the feature columns are named \"attr\" when they should be \"X\". I Identified quality issue 1: \"attr27\", \"attr28\", \"attr37\", \"attr45\", \"attr53\", \"attr54\", \"attr60\", and \"attr64\" appear to have null values in the form of \"?\". I also identified tidiness issue 2: the \"class\" variable should be renamed to \"bankrupt\"."
   ]
  },
  {
   "cell_type": "markdown",
   "metadata": {},
   "source": [
    "**Data Type Assessment**"
   ]
  },
  {
   "cell_type": "code",
   "execution_count": null,
   "metadata": {
    "scrolled": true
   },
   "outputs": [],
   "source": [
    "# This identifies the data types for each column.\n",
    "# This comes from Reference 2.\n",
    "year_five_df.info()"
   ]
  },
  {
   "cell_type": "markdown",
   "metadata": {},
   "source": [
    "**Data Type Assessment - Results:**"
   ]
  },
  {
   "cell_type": "markdown",
   "metadata": {},
   "source": [
    "From the data type assessment, I identified one quality issue (quality issue 2): \"attr1-12\", \"attr14-18\", \"attr21-22\", \"attr24-29\", \"attr32-38\", \"attr40-41\", \"attr45-48\", \"attr50-54\", \"attr57\", \"attr59-61\", and \"attr63-64\" are in string format when they should be in float format."
   ]
  },
  {
   "cell_type": "markdown",
   "metadata": {},
   "source": [
    "**Duplicate Assessment**"
   ]
  },
  {
   "cell_type": "code",
   "execution_count": null,
   "metadata": {},
   "outputs": [],
   "source": [
    "# This is a query to determine whether there are\n",
    "# duplicated rows in year_five_df.\n",
    "# This comes from Reference 3.\n",
    "yr_five_duplicated = year_five_df[year_five_df.duplicated()]\n",
    "\n",
    "print(\"Number of duplicates:\", \n",
    "      \"{}\".format(yr_five_duplicated.shape[0]))"
   ]
  },
  {
   "cell_type": "markdown",
   "metadata": {},
   "source": [
    "**Duplicate Assessment - Results:** "
   ]
  },
  {
   "cell_type": "markdown",
   "metadata": {},
   "source": [
    "From the duplicate assessment, I identified quality issue 3, there are 60 duplicates that need to be removed."
   ]
  },
  {
   "cell_type": "markdown",
   "metadata": {},
   "source": [
    "### Issues: year_five_df"
   ]
  },
  {
   "cell_type": "markdown",
   "metadata": {},
   "source": [
    "> **Tidininess Issues**\n",
    "\n",
    ">> 1. The feature columns are incorrectly named \"attr\" when they should be \"X.\"\n",
    ">> 2. The \"class' variable should be renamed to \"bankrupt.\""
   ]
  },
  {
   "cell_type": "markdown",
   "metadata": {},
   "source": [
    "> **Quality Issues**\n",
    "\n",
    ">> 1. \"Attr27\", \"attr28\", \"attr37\", \"attr45\", \"attr53\", \"attr54\", \"attr60\", and \"attr64\" appear to have null values in the form of \"?\" that need to be changed to actual null values.\n",
    ">> 2. \"Attr1-12\", \"attr14-18\", \"attr21-22\", \"attr24-29\", \"attr32-38\", \"attr40-41\", \"attr45-48\", \"attr50-54\", \"attr57\", \"attr59-61\", and \"attr63-64\" are in string format when they should be in float format.\n",
    ">> 3. There are 60 duplicates that need to be removed."
   ]
  },
  {
   "cell_type": "markdown",
   "metadata": {},
   "source": [
    "<a id='cleaning'></a>\n",
    "## Data Cleaning\n",
    "This section resolves the tidiness and quality issues identified in the Data Assessment section for each dataframe from the five years."
   ]
  },
  {
   "cell_type": "markdown",
   "metadata": {},
   "source": [
    "### First Year Data Solutions"
   ]
  },
  {
   "cell_type": "markdown",
   "metadata": {},
   "source": [
    "> **Tidininess Solutions**\n",
    "\n",
    ">> 1. Convert feature columns' names from  \"attr\" to \"X.\"\n",
    ">> 2. Rename \"class\" variable to \"bankrupt.\""
   ]
  },
  {
   "cell_type": "markdown",
   "metadata": {},
   "source": [
    "> **Quality Solutions**\n",
    "\n",
    ">> 1. Convert \"?\" to null values  in features \"Attr21\" and \"attr37\" and possibly other feature variables.\n",
    ">> 2. Convert \"Attr1-12\", \"attr14-18\", \"attr21-22\", \"attr24-29\", \"attr32-38\", \"attr40-41\", \"attr45-48\", \"attr50-54\", \"attr57\", \"attr59-61\", and \"attr63-64\" from string to float format.\n",
    ">> 3. Remove the 82 duplicate values."
   ]
  },
  {
   "cell_type": "markdown",
   "metadata": {},
   "source": [
    "### First Year Data Cleaning"
   ]
  },
  {
   "cell_type": "code",
   "execution_count": null,
   "metadata": {},
   "outputs": [],
   "source": [
    "# This creates a copy of the year_one_df.\n",
    "yr1_cleaning_df = year_one_df.copy()"
   ]
  },
  {
   "cell_type": "markdown",
   "metadata": {},
   "source": [
    "**Tidiness Solution 1 Code:**\n",
    "\n",
    "***Convert feature columns' names from \"attr\" to \"X.\"***"
   ]
  },
  {
   "cell_type": "code",
   "execution_count": null,
   "metadata": {},
   "outputs": [],
   "source": [
    "# This is a funtion that creates a list of\n",
    "# feature1 - feature64.\n",
    "def create_feature_list(x):\n",
    "    '''\n",
    "    This creates a list of: x1 to\n",
    "    x64 with the x values formatted \n",
    "    as strings.\n",
    "    '''\n",
    "    x = str(x)\n",
    "    num = 1\n",
    "    x_list = []\n",
    "    for i in range(64):\n",
    "        num = str(num)\n",
    "        x_var = x + num\n",
    "        x_list.append(x_var)\n",
    "        num = int(num)\n",
    "        num +=1\n",
    "    return x_list\n",
    "        "
   ]
  },
  {
   "cell_type": "code",
   "execution_count": null,
   "metadata": {},
   "outputs": [],
   "source": [
    "# This creates the following list:\n",
    "# X1 to X64.\n",
    "x = \"X\"\n",
    "x_list = create_feature_list(x)"
   ]
  },
  {
   "cell_type": "code",
   "execution_count": null,
   "metadata": {},
   "outputs": [],
   "source": [
    "# This creates the following list:\n",
    "# attr1 to attr64.\n",
    "attr = \"Attr\"\n",
    "attr_list = create_feature_list(attr)"
   ]
  },
  {
   "cell_type": "code",
   "execution_count": null,
   "metadata": {},
   "outputs": [],
   "source": [
    "# This creates the function that converts all the \"attr\"\n",
    "# variables to \"X\" variables.\n",
    "def attr_to_x(df):\n",
    "    for i in range(64):\n",
    "        df = df.rename(columns={attr_list[i]:x_list[i]})\n",
    "    return df"
   ]
  },
  {
   "cell_type": "code",
   "execution_count": null,
   "metadata": {},
   "outputs": [],
   "source": [
    "# This converts the \"attr\" variables to \"X\" variables\n",
    "# for yr1_cleaning_df.\n",
    "yr1_cleaning_df = attr_to_x(yr1_cleaning_df)"
   ]
  },
  {
   "cell_type": "markdown",
   "metadata": {},
   "source": [
    "**Tidiness Solution 1 Test:**\n",
    "\n",
    "***Convert feature columns' names from \"attr\" to \"X.\"***"
   ]
  },
  {
   "cell_type": "code",
   "execution_count": null,
   "metadata": {
    "scrolled": true
   },
   "outputs": [],
   "source": [
    "# This tests to determine whether the \"attr\" variables\n",
    "# were successfully converted to \"X\" variables in\n",
    "# yr1_cleaning_df.\n",
    "yr1_cleaning_df.columns"
   ]
  },
  {
   "cell_type": "markdown",
   "metadata": {},
   "source": [
    "**Tidiness Solution 1 Results:**\n",
    "\n",
    "***Convert feature columns' names from \"attr\" to \"X.\"***\n",
    "\n",
    "> Conversion from \"attr\" to \"X\" was successful."
   ]
  },
  {
   "cell_type": "markdown",
   "metadata": {},
   "source": [
    "**Tidiness Solution 2 Code:**\n",
    "\n",
    "***Rename \"class\" variable to \"bankrupt.\"***"
   ]
  },
  {
   "cell_type": "code",
   "execution_count": null,
   "metadata": {},
   "outputs": [],
   "source": [
    "# This creates the function that coverts the\n",
    "# \"class\" variable to \"bankrupt\"\n",
    "def class_to_target(df):\n",
    "    df = df.rename(columns={\"class\":\"bankrupt\"})\n",
    "    return df"
   ]
  },
  {
   "cell_type": "code",
   "execution_count": null,
   "metadata": {},
   "outputs": [],
   "source": [
    "# This converts the \"class\" variable to the\n",
    "# \"bankrupt\" variable.\n",
    "yr1_cleaning_df = class_to_target(yr1_cleaning_df)"
   ]
  },
  {
   "cell_type": "markdown",
   "metadata": {},
   "source": [
    "**Tidiness Solution 2 Test:**\n",
    "\n",
    "***Rename \"class\" variable to \"bankrupt.\"***"
   ]
  },
  {
   "cell_type": "code",
   "execution_count": null,
   "metadata": {},
   "outputs": [],
   "source": [
    "# This tests to determine whether the \"class\" variable\n",
    "# was successfully converted to \"bankrupt\" in\n",
    "# yr1_cleaning_df.\n",
    "yr1_cleaning_df.columns"
   ]
  },
  {
   "cell_type": "markdown",
   "metadata": {},
   "source": [
    "**Tidiness Solution 2 Results:**\n",
    "\n",
    "***Rename \"class\" variable to \"bankrupt.\"***\n",
    "> The conversion from \"class\" to \"bankrupt\" was successful."
   ]
  },
  {
   "cell_type": "markdown",
   "metadata": {},
   "source": [
    "**Quality Solution 1 Code:**\n",
    "\n",
    "***Convert \"?\" to null values in features \"X21\" and \"X37\" and possibly other feature variables.***\n",
    "> All instances of \"?\" are replaced by null values in \"X1-12\", \"X14-18\", \"X21-22\", \"X24-29\", \"X32-38\", \"X40-41\", \"X45-48\", \"X50-54\", \"X57\", \"X59-61\", and \"X63-64.\""
   ]
  },
  {
   "cell_type": "code",
   "execution_count": null,
   "metadata": {},
   "outputs": [],
   "source": [
    "# This creates the function that creates a list\n",
    "# of the feature variables that will have their\n",
    "# \"?\" values replaced by null values.\n",
    "\n",
    "question_numbers_yr_1 = [1,2,3,4,5,6,7,8,9,10,11,\n",
    "           12,14,15,16,17,18,21,22,\n",
    "           24,25,26,27,28,29,32,33,34,\n",
    "           35,36,37,38,40,41,45,46,47,\n",
    "           48,50,51,52,53,54,57,59,60,\n",
    "           61,63,64]\n",
    "def create_qmark_vars(num_list):\n",
    "    '''\n",
    "    This function takes a list of numbers\n",
    "    and relabels them as \"X\" features.\n",
    "    '''\n",
    "    qmark_list =[]\n",
    "    for i in num_list:\n",
    "        x = \"X\" + str(i)\n",
    "        qmark_list.append(x)\n",
    "    return qmark_list"
   ]
  },
  {
   "cell_type": "code",
   "execution_count": null,
   "metadata": {},
   "outputs": [],
   "source": [
    "# This creates the names of the \"X\" feature \n",
    "# variables that will have their \"?\" values converted\n",
    "# to null values for yr1_cleaning_df.\n",
    "features_with_qmark_yr_1 = create_qmark_vars(question_numbers_yr_1)"
   ]
  },
  {
   "cell_type": "code",
   "execution_count": null,
   "metadata": {},
   "outputs": [],
   "source": [
    "# This creates the function that converts the \"?\" values\n",
    "# to null values for all \"X\" feature variables that are\n",
    "# in string format.\n",
    "\n",
    "def qmark_converter(features, df):\n",
    "    '''\n",
    "    This converts \"?\" to null values for \n",
    "    each of the \"X\" feature variables in string\n",
    "    format.\n",
    "    '''\n",
    "    for i in features:\n",
    "        df[i] = df[i].str.replace(\"?\", str(np.nan))\n",
    "        \n",
    "    return df"
   ]
  },
  {
   "cell_type": "code",
   "execution_count": null,
   "metadata": {},
   "outputs": [],
   "source": [
    "# This converts all the \"?\" values to null values\n",
    "# in yr1_cleaning_df.\n",
    "yr1_cleaning_df = qmark_converter(features_with_qmark_yr_1,\n",
    "                                 yr1_cleaning_df)"
   ]
  },
  {
   "cell_type": "markdown",
   "metadata": {},
   "source": [
    "**Quality Solution 1Test:**\n",
    "\n",
    "***Convert \"?\" to null values in features \"X21\" and \"X37\" and possibly other feature variables.***"
   ]
  },
  {
   "cell_type": "code",
   "execution_count": null,
   "metadata": {
    "scrolled": true
   },
   "outputs": [],
   "source": [
    "# This visually assesses whether the \"?\" values were\n",
    "# converted to null (\"nan\") values in the\n",
    "# yr1_cleaning_df.\n",
    "yr1_cleaning_df.sample(20)"
   ]
  },
  {
   "cell_type": "code",
   "execution_count": null,
   "metadata": {},
   "outputs": [],
   "source": [
    "# This function examines each \"X\" feature in string\n",
    "# format and determines whether there are any \n",
    "# individual \"?\" values remaining.\n",
    "\n",
    "def qmark_test(features, df):\n",
    "    '''\n",
    "    This function examines the \"X\" columns in string format\n",
    "    in a dataframe to determine whether there are any invdividual\n",
    "    \"?\" values remaining. If so, this function prints an alert. If\n",
    "    there are no \"?\" remaining, this function prints nothing.\n",
    "    '''\n",
    "    for i in features:\n",
    "        var = df[i]\n",
    "        for inq in var:\n",
    "            if inq == \"?\":\n",
    "                print(\"There is a question mark in {}.\\n\".format(i))\n",
    "                break"
   ]
  },
  {
   "cell_type": "code",
   "execution_count": null,
   "metadata": {},
   "outputs": [],
   "source": [
    "# This determines whether there are any \n",
    "# \"?\" values remaining in yr1_cleaning_df.\n",
    "# If nothing is printed, then there are no\n",
    "# remaining \"?\" values.\n",
    "qmark_test(features_with_qmark_yr_1, \n",
    "          yr1_cleaning_df)"
   ]
  },
  {
   "cell_type": "markdown",
   "metadata": {},
   "source": [
    "**Quality Solution 1 Results:**\n",
    "\n",
    "***Convert \"?\" to null values in features \"X21\" and \"X37\" and possibly other feature variables.***\n",
    "> The conversion of \"?\" to null values was successful. The visual assessment showed no \"?\" values, only null values (\"nan\"). Furthermore, the qmark_test that assessed every value in each \"X\" feature in string format revealed that there were no remaining \"?\" values."
   ]
  },
  {
   "cell_type": "markdown",
   "metadata": {},
   "source": [
    "**Quality Solution 2 Code:**\n",
    "\n",
    "***Convert \"Attr1-12\", \"attr14-18\", \"attr21-22\", \"attr24-29\", \"attr32-38\", \"attr40-41\", \"attr45-48\", \"attr50-54\", \"attr57\", \"attr59-61\", and \"attr63-64\" from string to float format.***"
   ]
  },
  {
   "cell_type": "code",
   "execution_count": null,
   "metadata": {},
   "outputs": [],
   "source": [
    "# This creates the function that converts \n",
    "# string values to float values for all the\n",
    "# columns in string format.\n",
    "\n",
    "# This comes from Reference 4 in the References Section.\n",
    "\n",
    "def str_to_flt(features, df):\n",
    "    '''\n",
    "    This function converts string values to\n",
    "    float values for all the columns in string \n",
    "    format.\n",
    "    '''\n",
    "    for i in features:\n",
    "        df[i] = df[i].astype(float)\n",
    "    return df"
   ]
  },
  {
   "cell_type": "code",
   "execution_count": null,
   "metadata": {},
   "outputs": [],
   "source": [
    "# This converts all the columns in string format\n",
    "# to float format for yr1_cleaning_df.\n",
    "yr1_cleaning_df = str_to_flt(features_with_qmark_yr_1, yr1_cleaning_df)"
   ]
  },
  {
   "cell_type": "markdown",
   "metadata": {},
   "source": [
    "**Quality Solution 2 Test:**\n",
    "\n",
    "***Convert \"Attr1-12\", \"attr14-18\", \"attr21-22\", \"attr24-29\", \"attr32-38\", \"attr40-41\", \"attr45-48\", \"attr50-54\", \"attr57\", \"attr59-61\", and \"attr63-64\" from string to float format.***"
   ]
  },
  {
   "cell_type": "code",
   "execution_count": null,
   "metadata": {
    "scrolled": true
   },
   "outputs": [],
   "source": [
    "# This tests whether the string columns\n",
    "# were converted to floats.\n",
    "yr1_cleaning_df.info()"
   ]
  },
  {
   "cell_type": "markdown",
   "metadata": {},
   "source": [
    "**Quality Solution 2 Results:**\n",
    "\n",
    "***Convert \"Attr1-12\", \"attr14-18\", \"attr21-22\", \"attr24-29\", \"attr32-38\", \"attr40-41\", \"attr45-48\", \"attr50-54\", \"attr57\", \"attr59-61\", and \"attr63-64\" from string to float format.***\n",
    "> All the string columns were converted to floats."
   ]
  },
  {
   "cell_type": "markdown",
   "metadata": {},
   "source": [
    "**Quality Solution 3 Code:**\n",
    "\n",
    "***Remove the 82 duplicate values.***"
   ]
  },
  {
   "cell_type": "code",
   "execution_count": null,
   "metadata": {},
   "outputs": [],
   "source": [
    "# This drops the duplicate values for \n",
    "# yr1_cleaning_df.\n",
    "\n",
    "# This comes from Reference 5 in the References Section.\n",
    "\n",
    "yr1_cleaning_df = yr1_cleaning_df.drop_duplicates()"
   ]
  },
  {
   "cell_type": "markdown",
   "metadata": {},
   "source": [
    "**Quality Solution 3 Test:**\n",
    "\n",
    "***Remove the 82 duplicate values.***"
   ]
  },
  {
   "cell_type": "code",
   "execution_count": null,
   "metadata": {},
   "outputs": [],
   "source": [
    "# This is a query to determine whether there are\n",
    "# duplicated rows in yr1_cleaning_df.\n",
    "# This comes from Reference 3.\n",
    "yr1_cleaning_duplicated = yr1_cleaning_df[yr1_cleaning_df.duplicated()]\n",
    "\n",
    "print(\"Number of duplicates:\", \n",
    "      \"{}\".format(yr1_cleaning_duplicated.shape[0]))"
   ]
  },
  {
   "cell_type": "markdown",
   "metadata": {},
   "source": [
    "**Quality Solution 3 Results:**\n",
    "\n",
    "***Remove the 82 duplicate values.***\n",
    "> There are no remaining duplicate values in yr1_cleaning_df."
   ]
  },
  {
   "cell_type": "markdown",
   "metadata": {},
   "source": [
    "**Create clean_yr1 from yr1_cleaning_df**"
   ]
  },
  {
   "cell_type": "code",
   "execution_count": null,
   "metadata": {},
   "outputs": [],
   "source": [
    "clean_yr1 = yr1_cleaning_df.copy()"
   ]
  },
  {
   "cell_type": "markdown",
   "metadata": {},
   "source": [
    "### Second Year Data Solutions"
   ]
  },
  {
   "cell_type": "markdown",
   "metadata": {},
   "source": [
    "> **Tidininess Solutions**\n",
    "\n",
    ">> 1. Convert feature columns' names from  \"attr\" to \"X.\"\n",
    ">> 2. Rename \"class\" variable to \"bankrupt.\""
   ]
  },
  {
   "cell_type": "markdown",
   "metadata": {},
   "source": [
    "> **Quality Solutions**\n",
    "\n",
    ">> 1. Convert \"?\" to null values  in features \"Attr21\", \"attr27,\" \"attr37\", and \"attr41 and possibly other feature variables.\n",
    ">> 2. Convert all the feature variables from string to float format.\n",
    ">> 3. Remove the 78 duplicate values."
   ]
  },
  {
   "cell_type": "markdown",
   "metadata": {},
   "source": [
    "### Second Year Data Cleaning"
   ]
  },
  {
   "cell_type": "code",
   "execution_count": null,
   "metadata": {},
   "outputs": [],
   "source": [
    "# This creates a copy of the year_two_df.\n",
    "yr2_cleaning_df = year_two_df.copy()"
   ]
  },
  {
   "cell_type": "markdown",
   "metadata": {},
   "source": [
    "**Tidiness Solution 1 Code:**\n",
    "\n",
    "***Convert feature columns' names from \"attr\" to \"X.\"***"
   ]
  },
  {
   "cell_type": "code",
   "execution_count": null,
   "metadata": {},
   "outputs": [],
   "source": [
    "# This converts the \"attr\" variables to \"X\" variables\n",
    "# for yr2_cleaning_df.\n",
    "yr2_cleaning_df = attr_to_x(yr2_cleaning_df)"
   ]
  },
  {
   "cell_type": "markdown",
   "metadata": {},
   "source": [
    "**Tidiness Solution 1 Test:**\n",
    "\n",
    "***Convert feature columns' names from \"attr\" to \"X.\"***"
   ]
  },
  {
   "cell_type": "code",
   "execution_count": null,
   "metadata": {},
   "outputs": [],
   "source": [
    "# This tests to determine whether the \"attr\" variables\n",
    "# were successfully converted to \"X\" variables in\n",
    "# yr2_cleaning_df.\n",
    "yr2_cleaning_df.columns"
   ]
  },
  {
   "cell_type": "markdown",
   "metadata": {},
   "source": [
    "**Tidiness Solution 1 Results:**\n",
    "\n",
    "***Convert feature columns' names from \"attr\" to \"X.\"***\n",
    "\n",
    "> Conversion from \"attr\" to \"X\" was successful."
   ]
  },
  {
   "cell_type": "markdown",
   "metadata": {},
   "source": [
    "**Tidiness Solution 2 Code:**\n",
    "\n",
    "***Rename \"class\" variable to \"bankrupt.\"***"
   ]
  },
  {
   "cell_type": "code",
   "execution_count": null,
   "metadata": {},
   "outputs": [],
   "source": [
    "# This converts the \"class\" variable to the\n",
    "# \"bankrupt\" variable for yr2_cleaning_df.\n",
    "yr2_cleaning_df = class_to_target(yr2_cleaning_df)"
   ]
  },
  {
   "cell_type": "markdown",
   "metadata": {},
   "source": [
    "**Tidiness Solution 2 Test:**\n",
    "\n",
    "***Rename \"class\" variable to \"bankrupt.\"***"
   ]
  },
  {
   "cell_type": "code",
   "execution_count": null,
   "metadata": {},
   "outputs": [],
   "source": [
    "# This tests to determine whether the \"class\" variable\n",
    "# was successfully converted to \"bankrupt\" in\n",
    "# yr2_cleaning_df.\n",
    "yr2_cleaning_df.columns"
   ]
  },
  {
   "cell_type": "markdown",
   "metadata": {},
   "source": [
    "**Tidiness Solution 2 Results:**\n",
    "\n",
    "***Rename \"class\" variable to \"bankrupt.\"***\n",
    "> The conversion from \"class\" to \"bankrupt\" was successful."
   ]
  },
  {
   "cell_type": "markdown",
   "metadata": {},
   "source": [
    "**Quality Solution 1 Code:**\n",
    "\n",
    "***Convert \"?\" to null values in features \"X21\" and \"X37\" and possibly other feature variables.***"
   ]
  },
  {
   "cell_type": "code",
   "execution_count": null,
   "metadata": {},
   "outputs": [],
   "source": [
    "# This makes a list that will be put into the\n",
    "# creat_qmark_vars function.\n",
    "\n",
    "question_numbers_yr_2 = list(range(1,65))"
   ]
  },
  {
   "cell_type": "code",
   "execution_count": null,
   "metadata": {},
   "outputs": [],
   "source": [
    "# This creates the names of the \"X\" feature \n",
    "# variables that will have their \"?\" values converted\n",
    "# to null values for yr2_cleaning_df.\n",
    "features_with_qmark_yr_2 = create_qmark_vars(question_numbers_yr_2)"
   ]
  },
  {
   "cell_type": "code",
   "execution_count": null,
   "metadata": {},
   "outputs": [],
   "source": [
    "# This converts all the \"?\" values to null values\n",
    "# in yr2_cleaning_df.\n",
    "yr2_cleaning_df = qmark_converter(features_with_qmark_yr_2,\n",
    "                                 yr2_cleaning_df)"
   ]
  },
  {
   "cell_type": "markdown",
   "metadata": {},
   "source": [
    "**Quality Solution 1Test:**\n",
    "\n",
    "***Convert \"?\" to null values in features \"X21\" and \"X37\" and possibly other feature variables.***"
   ]
  },
  {
   "cell_type": "code",
   "execution_count": null,
   "metadata": {
    "scrolled": false
   },
   "outputs": [],
   "source": [
    "# This visually assesses whether the \"?\" values were\n",
    "# converted to null (\"nan\") values in the\n",
    "# yr2_cleaning_df.\n",
    "yr2_cleaning_df.sample(20)"
   ]
  },
  {
   "cell_type": "code",
   "execution_count": null,
   "metadata": {},
   "outputs": [],
   "source": [
    "# This determines whether there are any \n",
    "# \"?\" values remaining in yr2_cleaning_df.\n",
    "# If nothing is printed, then there are no\n",
    "# remaining \"?\" values.\n",
    "qmark_test(features_with_qmark_yr_2, \n",
    "          yr2_cleaning_df)"
   ]
  },
  {
   "cell_type": "markdown",
   "metadata": {},
   "source": [
    "**Quality Solution 1 Results:**\n",
    "\n",
    "***Convert \"?\" to null values in features \"X21\" and \"X37\" and possibly other feature variables.***\n",
    "> The conversion of \"?\" to null values was successful. The visual assessment showed no \"?\" values, only null values (\"nan\"). Furthermore, the qmark_test that assessed every value in each \"X\" feature in string format revealed that there were no remaining \"?\" values."
   ]
  },
  {
   "cell_type": "markdown",
   "metadata": {},
   "source": [
    "**Quality Solution 2 Code:**\n",
    "\n",
    "***Convert all the feature variables from string to float format.***"
   ]
  },
  {
   "cell_type": "code",
   "execution_count": null,
   "metadata": {},
   "outputs": [],
   "source": [
    "# This converts all the columns in string format\n",
    "# to float format for yr2_cleaning_df.\n",
    "yr2_cleaning_df = str_to_flt(features_with_qmark_yr_2, yr2_cleaning_df)"
   ]
  },
  {
   "cell_type": "markdown",
   "metadata": {},
   "source": [
    "**Quality Solution 2 Test:**\n",
    "\n",
    "***Convert all the feature variables from string to float format.***"
   ]
  },
  {
   "cell_type": "code",
   "execution_count": null,
   "metadata": {
    "scrolled": true
   },
   "outputs": [],
   "source": [
    "# This tests whether the string columns\n",
    "# were converted to floats for\n",
    "# yr2_cleaning_df.\n",
    "yr2_cleaning_df.info()"
   ]
  },
  {
   "cell_type": "markdown",
   "metadata": {},
   "source": [
    "**Quality Solution 2 Results:**\n",
    "\n",
    "***Convert all the feature variables from string to float format.***\n",
    "> All the string columns were converted to floats."
   ]
  },
  {
   "cell_type": "markdown",
   "metadata": {},
   "source": [
    "**Quality Solution 3 Code:**\n",
    "\n",
    "***Remove the 78 duplicate values.***"
   ]
  },
  {
   "cell_type": "code",
   "execution_count": null,
   "metadata": {},
   "outputs": [],
   "source": [
    "# This drops the duplicate values for \n",
    "# yr2_cleaning_df.\n",
    "\n",
    "# This comes from Reference 5 in the References Section.\n",
    "\n",
    "yr2_cleaning_df = yr2_cleaning_df.drop_duplicates()"
   ]
  },
  {
   "cell_type": "markdown",
   "metadata": {},
   "source": [
    "**Quality Solution 3 Test:**\n",
    "\n",
    "***Remove the 78 duplicate values.***"
   ]
  },
  {
   "cell_type": "code",
   "execution_count": null,
   "metadata": {},
   "outputs": [],
   "source": [
    "# This is a query to determine whether there are\n",
    "# duplicated rows in yr2_cleaning_df.\n",
    "# This comes from Reference 3.\n",
    "yr2_cleaning_duplicated = yr2_cleaning_df[yr2_cleaning_df.duplicated()]\n",
    "\n",
    "print(\"Number of duplicates:\", \n",
    "      \"{}\".format(yr2_cleaning_duplicated.shape[0]))"
   ]
  },
  {
   "cell_type": "markdown",
   "metadata": {},
   "source": [
    "**Quality Solution 3 Results:**\n",
    "\n",
    "***Remove the 78 duplicate values.***\n",
    "> There are no remaining duplicate values in yr2_cleaning_df."
   ]
  },
  {
   "cell_type": "markdown",
   "metadata": {},
   "source": [
    "**Create clean_yr2 from yr2_cleaning_df**"
   ]
  },
  {
   "cell_type": "code",
   "execution_count": null,
   "metadata": {},
   "outputs": [],
   "source": [
    "clean_yr2 = yr2_cleaning_df.copy()"
   ]
  },
  {
   "cell_type": "markdown",
   "metadata": {},
   "source": [
    "### Third Year Data Solutions"
   ]
  },
  {
   "cell_type": "markdown",
   "metadata": {},
   "source": [
    "> **Tidininess Solutions**\n",
    "\n",
    ">> 1. Convert feature columns' names from  \"attr\" to \"X.\"\n",
    ">> 2. Rename \"class\" variable to \"bankrupt.\""
   ]
  },
  {
   "cell_type": "markdown",
   "metadata": {},
   "source": [
    "> **Quality Solutions**\n",
    "\n",
    ">> 1. Convert \"?\" to null values  in features \"Attr21\", \"attr27,\" \"attr37\",\"attr41\", and \"attr60\" and possibly other feature variables.\n",
    ">> 2. Convert \"Attr4-5\", \"attr8-9\", \"attr12-13\", \"attr15-17\", \"attr19-21\", \"attr23-24\", \"attr26-28\", \"attr23-24\", \"attr30-34\", \"attr37\", \"attr39-47\", \"attr49-50\", \"attr52-54\", \"attr56\", \"attr58\", and \"attr60-64\" feature variables from string to float format.\n",
    ">> 3. Remove the 75 duplicate values."
   ]
  },
  {
   "cell_type": "code",
   "execution_count": null,
   "metadata": {},
   "outputs": [],
   "source": [
    "# This creates a copy of the year_three_df.\n",
    "yr3_cleaning_df = year_three_df.copy()"
   ]
  },
  {
   "cell_type": "markdown",
   "metadata": {},
   "source": [
    "**Tidiness Solution 1 Code:**\n",
    "\n",
    "***Convert feature columns' names from \"attr\" to \"X.\"***"
   ]
  },
  {
   "cell_type": "code",
   "execution_count": null,
   "metadata": {},
   "outputs": [],
   "source": [
    "# This converts the \"attr\" variables to \"X\" variables\n",
    "# for yr3_cleaning_df.\n",
    "yr3_cleaning_df = attr_to_x(yr3_cleaning_df)"
   ]
  },
  {
   "cell_type": "markdown",
   "metadata": {},
   "source": [
    "**Tidiness Solution 1 Test:**\n",
    "\n",
    "***Convert feature columns' names from \"attr\" to \"X.\"***"
   ]
  },
  {
   "cell_type": "code",
   "execution_count": null,
   "metadata": {},
   "outputs": [],
   "source": [
    "# This tests to determine whether the \"attr\" variables\n",
    "# were successfully converted to \"X\" variables in\n",
    "# yr3_cleaning_df.\n",
    "yr3_cleaning_df.columns"
   ]
  },
  {
   "cell_type": "markdown",
   "metadata": {},
   "source": [
    "**Tidiness Solution 1 Results:**\n",
    "\n",
    "***Convert feature columns' names from \"attr\" to \"X.\"***\n",
    "\n",
    "> Conversion from \"attr\" to \"X\" was successful."
   ]
  },
  {
   "cell_type": "markdown",
   "metadata": {},
   "source": [
    "**Tidiness Solution 2 Code:**\n",
    "\n",
    "***Rename \"class\" variable to \"bankrupt.\"***"
   ]
  },
  {
   "cell_type": "code",
   "execution_count": null,
   "metadata": {},
   "outputs": [],
   "source": [
    "# This converts the \"class\" variable to the\n",
    "# \"bankrupt\" variable for yr3_cleaning_df.\n",
    "yr3_cleaning_df = class_to_target(yr3_cleaning_df)"
   ]
  },
  {
   "cell_type": "markdown",
   "metadata": {},
   "source": [
    "**Tidiness Solution 2 Test:**\n",
    "\n",
    "***Rename \"class\" variable to \"bankrupt.\"***"
   ]
  },
  {
   "cell_type": "code",
   "execution_count": null,
   "metadata": {},
   "outputs": [],
   "source": [
    "# This tests to determine whether the \"class\" variable\n",
    "# was successfully converted to \"bankrupt\" in\n",
    "# yr3_cleaning_df.\n",
    "yr3_cleaning_df.columns"
   ]
  },
  {
   "cell_type": "markdown",
   "metadata": {},
   "source": [
    "**Tidiness Solution 2 Results:**\n",
    "\n",
    "***Rename \"class\" variable to \"bankrupt.\"***\n",
    "> The conversion from \"class\" to \"bankrupt\" was successful."
   ]
  },
  {
   "cell_type": "markdown",
   "metadata": {},
   "source": [
    "**Quality Solution 1 Code:**\n",
    "\n",
    "***Convert \"?\" to null values in features \"Attr21\", \"attr27,\" \"attr37\",\"attr41\", and \"attr60\" and possibly other feature variables.***"
   ]
  },
  {
   "cell_type": "code",
   "execution_count": null,
   "metadata": {},
   "outputs": [],
   "source": [
    "# This makes a list that will be put into the\n",
    "# creat_qmark_vars function.\n",
    "\n",
    "question_numbers_yr_3 = [4,5,8,9,12,13,15,16,17,\n",
    "                        19,20,21,23,24,26,27,28,30,31,32,\n",
    "                         33,34,37,39,40,41,42,43,44,45,\n",
    "                         46,47,49,50,52,53,54,56,58,60,\n",
    "                         61,62,63,64]"
   ]
  },
  {
   "cell_type": "code",
   "execution_count": null,
   "metadata": {},
   "outputs": [],
   "source": [
    "# This creates the names of the \"X\" feature \n",
    "# variables that will have their \"?\" values converted\n",
    "# to null values for yr3_cleaning_df.\n",
    "features_with_qmark_yr_3 = create_qmark_vars(question_numbers_yr_3)"
   ]
  },
  {
   "cell_type": "code",
   "execution_count": null,
   "metadata": {},
   "outputs": [],
   "source": [
    "# This converts all the \"?\" values to null values\n",
    "# in yr3_cleaning_df.\n",
    "yr3_cleaning_df = qmark_converter(features_with_qmark_yr_3,\n",
    "                                 yr3_cleaning_df)"
   ]
  },
  {
   "cell_type": "markdown",
   "metadata": {},
   "source": [
    "**Quality Solution 1Test:**\n",
    "\n",
    "***Convert \"?\" to null values in features \"Attr21\", \"attr27,\" \"attr37\",\"attr41\", and \"attr60\" and possibly other feature variables.***"
   ]
  },
  {
   "cell_type": "code",
   "execution_count": null,
   "metadata": {
    "scrolled": false
   },
   "outputs": [],
   "source": [
    "# This visually assesses whether the \"?\" values were\n",
    "# converted to null (\"nan\") values in the\n",
    "# yr3_cleaning_df.\n",
    "yr3_cleaning_df.sample(20)"
   ]
  },
  {
   "cell_type": "code",
   "execution_count": null,
   "metadata": {},
   "outputs": [],
   "source": [
    "# This determines whether there are any \n",
    "# \"?\" values remaining in yr3_cleaning_df.\n",
    "# If nothing is printed, then there are no\n",
    "# remaining \"?\" values.\n",
    "qmark_test(features_with_qmark_yr_3, \n",
    "          yr3_cleaning_df)"
   ]
  },
  {
   "cell_type": "markdown",
   "metadata": {},
   "source": [
    "**Quality Solution 1 Results:**\n",
    "\n",
    "***Convert \"?\" to null values in features \"Attr21\", \"attr27,\" \"attr37\",\"attr41\", and \"attr60\" and possibly other feature variables.***\n",
    "> The conversion of \"?\" to null values was successful. The visual assessment showed no \"?\" values, only null values (\"nan\"). Furthermore, the qmark_test that assessed every value in each \"X\" feature in string format revealed that there were no remaining \"?\" values."
   ]
  },
  {
   "cell_type": "markdown",
   "metadata": {},
   "source": [
    "**Quality Solution 2 Code:**\n",
    "\n",
    "***Convert all the feature variables from string to float format.***"
   ]
  },
  {
   "cell_type": "code",
   "execution_count": null,
   "metadata": {},
   "outputs": [],
   "source": [
    "# This converts all the columns in string format\n",
    "# to float format for yr3_cleaning_df.\n",
    "yr3_cleaning_df = str_to_flt(features_with_qmark_yr_3, yr3_cleaning_df)"
   ]
  },
  {
   "cell_type": "markdown",
   "metadata": {},
   "source": [
    "**Quality Solution 2 Test:**\n",
    "\n",
    "***Convert all the feature variables from string to float format.***"
   ]
  },
  {
   "cell_type": "code",
   "execution_count": null,
   "metadata": {
    "scrolled": true
   },
   "outputs": [],
   "source": [
    "# This tests whether the string columns\n",
    "# were converted to floats for\n",
    "# yr3_cleaning_df.\n",
    "yr3_cleaning_df.info()"
   ]
  },
  {
   "cell_type": "markdown",
   "metadata": {},
   "source": [
    "**Quality Solution 2 Results:**\n",
    "\n",
    "***Convert all the feature variables from string to float format.***\n",
    "> All the string columns were converted to floats."
   ]
  },
  {
   "cell_type": "markdown",
   "metadata": {},
   "source": [
    "**Quality Solution 3 Code:**\n",
    "\n",
    "***Remove the 75 duplicate values.***"
   ]
  },
  {
   "cell_type": "code",
   "execution_count": null,
   "metadata": {},
   "outputs": [],
   "source": [
    "# This drops the duplicate values for \n",
    "# yr3_cleaning_df.\n",
    "\n",
    "# This comes from Reference 5 in the References Section.\n",
    "\n",
    "yr3_cleaning_df = yr3_cleaning_df.drop_duplicates()"
   ]
  },
  {
   "cell_type": "markdown",
   "metadata": {},
   "source": [
    "**Quality Solution 3 Test:**\n",
    "\n",
    "***Remove the 75 duplicate values.***"
   ]
  },
  {
   "cell_type": "code",
   "execution_count": null,
   "metadata": {},
   "outputs": [],
   "source": [
    "# This is a query to determine whether there are\n",
    "# duplicated rows in yr3_cleaning_df.\n",
    "# This comes from Reference 3.\n",
    "yr3_cleaning_duplicated = yr3_cleaning_df[yr3_cleaning_df.duplicated()]\n",
    "\n",
    "print(\"Number of duplicates:\", \n",
    "      \"{}\".format(yr3_cleaning_duplicated.shape[0]))"
   ]
  },
  {
   "cell_type": "markdown",
   "metadata": {},
   "source": [
    "**Quality Solution 3 Results:**\n",
    "\n",
    "***Remove the 75 duplicate values.***\n",
    "> There are no remaining duplicate values in yr3_cleaning_df."
   ]
  },
  {
   "cell_type": "markdown",
   "metadata": {},
   "source": [
    "**Create clean_yr3 from yr3_cleaning_df**"
   ]
  },
  {
   "cell_type": "code",
   "execution_count": null,
   "metadata": {},
   "outputs": [],
   "source": [
    "clean_yr3 = yr3_cleaning_df.copy()"
   ]
  },
  {
   "cell_type": "markdown",
   "metadata": {},
   "source": [
    "### Fourth Year Data Solutions"
   ]
  },
  {
   "cell_type": "markdown",
   "metadata": {},
   "source": [
    "> **Tidininess Solutions**\n",
    "\n",
    ">> 1. Convert feature columns' names from  \"attr\" to \"X.\"\n",
    ">> 2. Rename \"class\" variable to \"bankrupt.\""
   ]
  },
  {
   "cell_type": "markdown",
   "metadata": {},
   "source": [
    "> **Quality Solutions**\n",
    "\n",
    ">> 1. Convert \"?\" to null values  in features \"Attr28\", \"attr37\", \"attr53\", \"attr54\", and \"attr64\" and possibly other feature variables.\n",
    ">> 2. Convert \"Attr1-8\", \"attr10-54\", and \"attr56-64\" feature variables from string to float format.\n",
    ">> 3. Remove the 82 duplicate values."
   ]
  },
  {
   "cell_type": "code",
   "execution_count": null,
   "metadata": {},
   "outputs": [],
   "source": [
    "# This creates a copy of the year_four_df.\n",
    "yr4_cleaning_df = year_four_df.copy()"
   ]
  },
  {
   "cell_type": "markdown",
   "metadata": {},
   "source": [
    "**Tidiness Solution 1 Code:**\n",
    "\n",
    "***Convert feature columns' names from \"attr\" to \"X.\"***"
   ]
  },
  {
   "cell_type": "code",
   "execution_count": null,
   "metadata": {},
   "outputs": [],
   "source": [
    "# This converts the \"attr\" variables to \"X\" variables\n",
    "# for yr4_cleaning_df.\n",
    "yr4_cleaning_df = attr_to_x(yr4_cleaning_df)"
   ]
  },
  {
   "cell_type": "markdown",
   "metadata": {},
   "source": [
    "**Tidiness Solution 1 Test:**\n",
    "\n",
    "***Convert feature columns' names from \"attr\" to \"X.\"***"
   ]
  },
  {
   "cell_type": "code",
   "execution_count": null,
   "metadata": {},
   "outputs": [],
   "source": [
    "# This tests to determine whether the \"attr\" variables\n",
    "# were successfully converted to \"X\" variables in\n",
    "# yr4_cleaning_df.\n",
    "yr4_cleaning_df.columns"
   ]
  },
  {
   "cell_type": "markdown",
   "metadata": {},
   "source": [
    "**Tidiness Solution 1 Results:**\n",
    "\n",
    "***Convert feature columns' names from \"attr\" to \"X.\"***\n",
    "\n",
    "> Conversion from \"attr\" to \"X\" was successful."
   ]
  },
  {
   "cell_type": "markdown",
   "metadata": {},
   "source": [
    "**Tidiness Solution 2 Code:**\n",
    "\n",
    "***Rename \"class\" variable to \"bankrupt.\"***"
   ]
  },
  {
   "cell_type": "code",
   "execution_count": null,
   "metadata": {},
   "outputs": [],
   "source": [
    "# This converts the \"class\" variable to the\n",
    "# \"bankrupt\" variable for yr4_cleaning_df.\n",
    "yr4_cleaning_df = class_to_target(yr4_cleaning_df)"
   ]
  },
  {
   "cell_type": "markdown",
   "metadata": {},
   "source": [
    "**Tidiness Solution 2 Test:**\n",
    "\n",
    "***Rename \"class\" variable to \"bankrupt.\"***"
   ]
  },
  {
   "cell_type": "code",
   "execution_count": null,
   "metadata": {},
   "outputs": [],
   "source": [
    "# This tests to determine whether the \"class\" variable\n",
    "# was successfully converted to \"bankrupt\" in\n",
    "# yr4_cleaning_df.\n",
    "yr4_cleaning_df.columns"
   ]
  },
  {
   "cell_type": "markdown",
   "metadata": {},
   "source": [
    "**Tidiness Solution 2 Results:**\n",
    "\n",
    "***Rename \"class\" variable to \"bankrupt.\"***\n",
    "> The conversion from \"class\" to \"bankrupt\" was successful."
   ]
  },
  {
   "cell_type": "markdown",
   "metadata": {},
   "source": [
    "**Quality Solution 1 Code:**\n",
    "\n",
    "***Convert \"?\" to null values in features \"Attr28\", \"attr37\", \"attr53\", \"attr54\", and \"attr64\" and possibly other feature variables.***"
   ]
  },
  {
   "cell_type": "code",
   "execution_count": null,
   "metadata": {},
   "outputs": [],
   "source": [
    "# This makes a list that will be put into the\n",
    "# creat_qmark_vars function.\n",
    "\n",
    "question_numbers_yr_4 = [1,2,3,4,5,6,7,8,10,11,12,13,\n",
    "                         14,15,16,17,18,19,20,21,22,23,\n",
    "                         24,25,26,27,28,29,30,31,32,33,\n",
    "                         34,35,36,37,38,39,40,41,42,43,\n",
    "                         44,45,46,47,48,49,50,51,52,53,\n",
    "                         54,56,57,58,59,60,61,62,63,64]"
   ]
  },
  {
   "cell_type": "code",
   "execution_count": null,
   "metadata": {},
   "outputs": [],
   "source": [
    "# This creates the names of the \"X\" feature \n",
    "# variables that will have their \"?\" values converted\n",
    "# to null values for yr4_cleaning_df.\n",
    "features_with_qmark_yr_4 = create_qmark_vars(question_numbers_yr_4)"
   ]
  },
  {
   "cell_type": "code",
   "execution_count": null,
   "metadata": {},
   "outputs": [],
   "source": [
    "# This converts all the \"?\" values to null values\n",
    "# in yr4_cleaning_df.\n",
    "yr4_cleaning_df = qmark_converter(features_with_qmark_yr_4,\n",
    "                                 yr4_cleaning_df)"
   ]
  },
  {
   "cell_type": "markdown",
   "metadata": {},
   "source": [
    "**Quality Solution 1Test:**\n",
    "\n",
    "***Convert \"?\" to null values in features \"Attr28\", \"attr37\", \"attr53\", \"attr54\", and \"attr64\" and possibly other feature variables.***"
   ]
  },
  {
   "cell_type": "code",
   "execution_count": null,
   "metadata": {
    "scrolled": false
   },
   "outputs": [],
   "source": [
    "# This visually assesses whether the \"?\" values were\n",
    "# converted to null (\"nan\") values in the\n",
    "# yr4_cleaning_df.\n",
    "yr4_cleaning_df.sample(20)"
   ]
  },
  {
   "cell_type": "code",
   "execution_count": null,
   "metadata": {},
   "outputs": [],
   "source": [
    "# This determines whether there are any \n",
    "# \"?\" values remaining in yr4_cleaning_df.\n",
    "# If nothing is printed, then there are no\n",
    "# remaining \"?\" values.\n",
    "qmark_test(features_with_qmark_yr_4, \n",
    "          yr4_cleaning_df)"
   ]
  },
  {
   "cell_type": "markdown",
   "metadata": {},
   "source": [
    "**Quality Solution 1 Results:**\n",
    "\n",
    "***Convert \"?\" to null values in features \"Attr28\", \"attr37\", \"attr53\", \"attr54\", and \"attr64\" and possibly other feature variables.***\n",
    "> The conversion of \"?\" to null values was successful. The visual assessment showed no \"?\" values, only null values (\"nan\"). Furthermore, the qmark_test that assessed every value in each \"X\" feature in string format revealed that there were no remaining \"?\" values."
   ]
  },
  {
   "cell_type": "markdown",
   "metadata": {},
   "source": [
    "**Quality Solution 2 Code:**\n",
    "\n",
    "***Convert \"Attr1-8\", \"attr10-54\", and \"attr56-64\" feature variables from string to float format.***"
   ]
  },
  {
   "cell_type": "code",
   "execution_count": null,
   "metadata": {},
   "outputs": [],
   "source": [
    "# This converts all the columns in string format\n",
    "# to float format for yr4_cleaning_df.\n",
    "yr4_cleaning_df = str_to_flt(features_with_qmark_yr_4, yr4_cleaning_df)"
   ]
  },
  {
   "cell_type": "markdown",
   "metadata": {},
   "source": [
    "**Quality Solution 2 Test:**\n",
    "\n",
    "***Convert \"Attr1-8\", \"attr10-54\", and \"attr56-64\" feature variables from string to float format.***"
   ]
  },
  {
   "cell_type": "code",
   "execution_count": null,
   "metadata": {
    "scrolled": true
   },
   "outputs": [],
   "source": [
    "# This tests whether the string columns\n",
    "# were converted to floats for\n",
    "# yr4_cleaning_df.\n",
    "yr4_cleaning_df.info()"
   ]
  },
  {
   "cell_type": "markdown",
   "metadata": {},
   "source": [
    "**Quality Solution 2 Results:**\n",
    "\n",
    "***Convert \"Attr1-8\", \"attr10-54\", and \"attr56-64\" feature variables from string to float format.***\n",
    "> All the string columns were converted to floats."
   ]
  },
  {
   "cell_type": "markdown",
   "metadata": {},
   "source": [
    "**Quality Solution 3 Code:**\n",
    "\n",
    "***Remove the 82 duplicate values.***"
   ]
  },
  {
   "cell_type": "code",
   "execution_count": null,
   "metadata": {},
   "outputs": [],
   "source": [
    "# This drops the duplicate values for \n",
    "# yr4_cleaning_df.\n",
    "\n",
    "# This comes from Reference 5 in the References Section.\n",
    "\n",
    "yr4_cleaning_df = yr4_cleaning_df.drop_duplicates()"
   ]
  },
  {
   "cell_type": "markdown",
   "metadata": {},
   "source": [
    "**Quality Solution 3 Test:**\n",
    "\n",
    "***Remove the 82 duplicate values.***"
   ]
  },
  {
   "cell_type": "code",
   "execution_count": null,
   "metadata": {},
   "outputs": [],
   "source": [
    "# This is a query to determine whether there are\n",
    "# duplicated rows in yr4_cleaning_df.\n",
    "# This comes from Reference 3.\n",
    "yr4_cleaning_duplicated = yr4_cleaning_df[yr4_cleaning_df.duplicated()]\n",
    "\n",
    "print(\"Number of duplicates:\", \n",
    "      \"{}\".format(yr4_cleaning_duplicated.shape[0]))"
   ]
  },
  {
   "cell_type": "markdown",
   "metadata": {},
   "source": [
    "**Quality Solution 3 Results:**\n",
    "\n",
    "***Remove the 82 duplicate values.***\n",
    "> There are no remaining duplicate values in yr4_cleaning_df."
   ]
  },
  {
   "cell_type": "markdown",
   "metadata": {},
   "source": [
    "**Create clean_yr4 from yr4_cleaning_df**"
   ]
  },
  {
   "cell_type": "code",
   "execution_count": null,
   "metadata": {},
   "outputs": [],
   "source": [
    "clean_yr4 = yr4_cleaning_df.copy()"
   ]
  },
  {
   "cell_type": "markdown",
   "metadata": {},
   "source": [
    "### Fifth Year Data Solutions"
   ]
  },
  {
   "cell_type": "markdown",
   "metadata": {},
   "source": [
    "> **Tidininess Solutions**\n",
    "\n",
    ">> 1. Convert feature columns' names from  \"attr\" to \"X.\"\n",
    ">> 2. Rename \"class\" variable to \"bankrupt.\""
   ]
  },
  {
   "cell_type": "markdown",
   "metadata": {},
   "source": [
    "> **Quality Solutions**\n",
    "\n",
    ">> 1. Convert \"?\" to null values  in features \"attr27\", \"attr28\", \"attr37\", \"attr45\", \"attr53\", \"attr54\", \"attr60\", and \"attr64\" and possibly other feature variables.\n",
    ">> 2. Convert \"Attr1-12\", \"attr14-18\", \"attr21-22\", \"attr24-29\", \"attr32-38\", \"attr40-41\", \"attr45-48\", \"attr50-54\", \"attr57\", \"attr59-61\", and \"attr63-64\" feature variables from string to float format.\n",
    ">> 3. Remove the 60 duplicate values."
   ]
  },
  {
   "cell_type": "code",
   "execution_count": null,
   "metadata": {},
   "outputs": [],
   "source": [
    "# This creates a copy of the year_five_df.\n",
    "yr5_cleaning_df = year_five_df.copy()"
   ]
  },
  {
   "cell_type": "markdown",
   "metadata": {},
   "source": [
    "**Tidiness Solution 1 Code:**\n",
    "\n",
    "***Convert feature columns' names from \"attr\" to \"X.\"***"
   ]
  },
  {
   "cell_type": "code",
   "execution_count": null,
   "metadata": {},
   "outputs": [],
   "source": [
    "# This converts the \"attr\" variables to \"X\" variables\n",
    "# for yr5_cleaning_df.\n",
    "yr5_cleaning_df = attr_to_x(yr5_cleaning_df)"
   ]
  },
  {
   "cell_type": "markdown",
   "metadata": {},
   "source": [
    "**Tidiness Solution 1 Test:**\n",
    "\n",
    "***Convert feature columns' names from \"attr\" to \"X.\"***"
   ]
  },
  {
   "cell_type": "code",
   "execution_count": null,
   "metadata": {},
   "outputs": [],
   "source": [
    "# This tests to determine whether the \"attr\" variables\n",
    "# were successfully converted to \"X\" variables in\n",
    "# yr5_cleaning_df.\n",
    "yr5_cleaning_df.columns"
   ]
  },
  {
   "cell_type": "markdown",
   "metadata": {},
   "source": [
    "**Tidiness Solution 1 Results:**\n",
    "\n",
    "***Convert feature columns' names from \"attr\" to \"X.\"***\n",
    "\n",
    "> Conversion from \"attr\" to \"X\" was successful."
   ]
  },
  {
   "cell_type": "markdown",
   "metadata": {},
   "source": [
    "**Tidiness Solution 2 Code:**\n",
    "\n",
    "***Rename \"class\" variable to \"bankrupt.\"***"
   ]
  },
  {
   "cell_type": "code",
   "execution_count": null,
   "metadata": {},
   "outputs": [],
   "source": [
    "# This converts the \"class\" variable to the\n",
    "# \"bankrupt\" variable for yr5_cleaning_df.\n",
    "yr5_cleaning_df = class_to_target(yr5_cleaning_df)"
   ]
  },
  {
   "cell_type": "markdown",
   "metadata": {},
   "source": [
    "**Tidiness Solution 2 Test:**\n",
    "\n",
    "***Rename \"class\" variable to \"bankrupt.\"***"
   ]
  },
  {
   "cell_type": "code",
   "execution_count": null,
   "metadata": {},
   "outputs": [],
   "source": [
    "# This tests to determine whether the \"class\" variable\n",
    "# was successfully converted to \"bankrupt\" in\n",
    "# yr5_cleaning_df.\n",
    "yr5_cleaning_df.columns"
   ]
  },
  {
   "cell_type": "markdown",
   "metadata": {},
   "source": [
    "**Tidiness Solution 2 Results:**\n",
    "\n",
    "***Rename \"class\" variable to \"bankrupt.\"***\n",
    "> The conversion from \"class\" to \"bankrupt\" was successful."
   ]
  },
  {
   "cell_type": "markdown",
   "metadata": {},
   "source": [
    "**Quality Solution 1 Code:**\n",
    "\n",
    "***Convert \"?\" to null values in features \"attr27\", \"attr28\", \"attr37\", \"attr45\", \"attr53\", \"attr54\", \"attr60\", and \"attr64\" and possibly other feature variables.***"
   ]
  },
  {
   "cell_type": "code",
   "execution_count": null,
   "metadata": {},
   "outputs": [],
   "source": [
    "# This makes a list that will be put into the\n",
    "# creat_qmark_vars function.\n",
    "\n",
    "question_numbers_yr_5 = [1,2,3,4,5,6,7,8,9,10,\n",
    "                         11,12,14,15,16,17,18,\n",
    "                         21,22,24,25,26,27,28,\n",
    "                         29,32,33,34,35,36,37,\n",
    "                         38,40,41,45,46,47,48,\n",
    "                         50,51,52,53,54,57,59,\n",
    "                         60,61,63,64]"
   ]
  },
  {
   "cell_type": "code",
   "execution_count": null,
   "metadata": {},
   "outputs": [],
   "source": [
    "# This creates the names of the \"X\" feature \n",
    "# variables that will have their \"?\" values converted\n",
    "# to null values for yr5_cleaning_df.\n",
    "features_with_qmark_yr_5 = create_qmark_vars(question_numbers_yr_5)"
   ]
  },
  {
   "cell_type": "code",
   "execution_count": null,
   "metadata": {},
   "outputs": [],
   "source": [
    "# This converts all the \"?\" values to null values\n",
    "# in yr5_cleaning_df.\n",
    "yr5_cleaning_df = qmark_converter(features_with_qmark_yr_5,\n",
    "                                 yr5_cleaning_df)"
   ]
  },
  {
   "cell_type": "markdown",
   "metadata": {},
   "source": [
    "**Quality Solution 1 Test:**\n",
    "\n",
    "***Convert \"?\" to null values in features \"attr27\", \"attr28\", \"attr37\", \"attr45\", \"attr53\", \"attr54\", \"attr60\", and \"attr64\" and possibly other feature variables.***"
   ]
  },
  {
   "cell_type": "code",
   "execution_count": null,
   "metadata": {
    "scrolled": false
   },
   "outputs": [],
   "source": [
    "# This visually assesses whether the \"?\" values were\n",
    "# converted to null (\"nan\") values in the\n",
    "# yr5_cleaning_df.\n",
    "yr5_cleaning_df.sample(20)"
   ]
  },
  {
   "cell_type": "code",
   "execution_count": null,
   "metadata": {},
   "outputs": [],
   "source": [
    "# This determines whether there are any \n",
    "# \"?\" values remaining in yr5_cleaning_df.\n",
    "# If nothing is printed, then there are no\n",
    "# remaining \"?\" values.\n",
    "qmark_test(features_with_qmark_yr_5, \n",
    "          yr5_cleaning_df)"
   ]
  },
  {
   "cell_type": "markdown",
   "metadata": {},
   "source": [
    "**Quality Solution 1 Results:**\n",
    "\n",
    "***Convert \"?\" to null values in features \"attr27\", \"attr28\", \"attr37\", \"attr45\", \"attr53\", \"attr54\", \"attr60\", and \"attr64\" and possibly other feature variables.***\n",
    "> The conversion of \"?\" to null values was successful. The visual assessment showed no \"?\" values, only null values (\"nan\"). Furthermore, the qmark_test that assessed every value in each \"X\" feature in string format revealed that there were no remaining \"?\" values."
   ]
  },
  {
   "cell_type": "markdown",
   "metadata": {},
   "source": [
    "**Quality Solution 2 Code:**\n",
    "\n",
    "***Convert \"Attr1-12\", \"attr14-18\", \"attr21-22\", \"attr24-29\", \"attr32-38\", \"attr40-41\", \"attr45-48\", \"attr50-54\", \"attr57\", \"attr59-61\", and \"attr63-64\" feature variables from string to float format.***"
   ]
  },
  {
   "cell_type": "code",
   "execution_count": null,
   "metadata": {},
   "outputs": [],
   "source": [
    "# This converts all the columns in string format\n",
    "# to float format for yr5_cleaning_df.\n",
    "yr5_cleaning_df = str_to_flt(features_with_qmark_yr_5, yr5_cleaning_df)"
   ]
  },
  {
   "cell_type": "markdown",
   "metadata": {},
   "source": [
    "**Quality Solution 2 Test:**\n",
    "\n",
    "***Convert \"Attr1-12\", \"attr14-18\", \"attr21-22\", \"attr24-29\", \"attr32-38\", \"attr40-41\", \"attr45-48\", \"attr50-54\", \"attr57\", \"attr59-61\", and \"attr63-64\" feature variables from string to float format.***"
   ]
  },
  {
   "cell_type": "code",
   "execution_count": null,
   "metadata": {
    "scrolled": true
   },
   "outputs": [],
   "source": [
    "# This tests whether the string columns\n",
    "# were converted to floats for\n",
    "# yr5_cleaning_df.\n",
    "yr5_cleaning_df.info()"
   ]
  },
  {
   "cell_type": "markdown",
   "metadata": {},
   "source": [
    "**Quality Solution 2 Results:**\n",
    "\n",
    "***Convert \"Attr1-12\", \"attr14-18\", \"attr21-22\", \"attr24-29\", \"attr32-38\", \"attr40-41\", \"attr45-48\", \"attr50-54\", \"attr57\", \"attr59-61\", and \"attr63-64\" feature variables from string to float format.***\n",
    "> All the string columns were converted to floats."
   ]
  },
  {
   "cell_type": "markdown",
   "metadata": {},
   "source": [
    "**Quality Solution 3 Code:**\n",
    "\n",
    "***Remove the 60 duplicate values.***"
   ]
  },
  {
   "cell_type": "code",
   "execution_count": null,
   "metadata": {},
   "outputs": [],
   "source": [
    "# This drops the duplicate values for \n",
    "# yr5_cleaning_df.\n",
    "\n",
    "# This comes from Reference 5 in the References Section.\n",
    "\n",
    "yr5_cleaning_df = yr5_cleaning_df.drop_duplicates()"
   ]
  },
  {
   "cell_type": "markdown",
   "metadata": {},
   "source": [
    "**Quality Solution 3 Test:**\n",
    "\n",
    "***Remove the 60 duplicate values.***"
   ]
  },
  {
   "cell_type": "code",
   "execution_count": null,
   "metadata": {},
   "outputs": [],
   "source": [
    "# This is a query to determine whether there are\n",
    "# duplicated rows in yr5_cleaning_df.\n",
    "# This comes from Reference 3.\n",
    "yr5_cleaning_duplicated = yr5_cleaning_df[yr5_cleaning_df.duplicated()]\n",
    "\n",
    "print(\"Number of duplicates:\", \n",
    "      \"{}\".format(yr5_cleaning_duplicated.shape[0]))"
   ]
  },
  {
   "cell_type": "markdown",
   "metadata": {},
   "source": [
    "**Quality Solution 3 Results:**\n",
    "\n",
    "***Remove the 60 duplicate values.***\n",
    "> There are no remaining duplicate values in yr5_cleaning_df."
   ]
  },
  {
   "cell_type": "markdown",
   "metadata": {},
   "source": [
    "**Create clean_yr5 from yr5_cleaning_df**"
   ]
  },
  {
   "cell_type": "code",
   "execution_count": null,
   "metadata": {},
   "outputs": [],
   "source": [
    "clean_yr5 = yr5_cleaning_df.copy()"
   ]
  },
  {
   "cell_type": "markdown",
   "metadata": {},
   "source": [
    "<a id='target'></a>\n",
    "## Separation of Target Variables\n",
    "This separates the bankrupt variables from each dataframe from each of the five years"
   ]
  },
  {
   "cell_type": "code",
   "execution_count": null,
   "metadata": {},
   "outputs": [],
   "source": [
    "# This creates the target variable from each of the\n",
    "# clean_yr dataframes.\n",
    "target_yr1 = clean_yr1['bankrupt']\n",
    "target_yr2 = clean_yr2['bankrupt']\n",
    "target_yr3 = clean_yr3['bankrupt']\n",
    "target_yr4 = clean_yr4['bankrupt']\n",
    "target_yr5 = clean_yr5['bankrupt']\n",
    "\n",
    "# This drops target from the clean_yr dataframes\n",
    "clean_yr1 = clean_yr1.drop(columns = 'bankrupt')\n",
    "clean_yr2 = clean_yr2.drop(columns = 'bankrupt')\n",
    "clean_yr3 = clean_yr3.drop(columns = 'bankrupt')\n",
    "clean_yr4 = clean_yr4.drop(columns = 'bankrupt')\n",
    "clean_yr5 = clean_yr5.drop(columns = 'bankrupt')"
   ]
  },
  {
   "attachments": {
    "image.png": {
     "image/png": "[encoded data removed]"
    }
   },
   "cell_type": "markdown",
   "metadata": {},
   "source": [
    "<a id='no nulls'></a>\n",
    "## No Nulls Data\n",
    "Björn Mattsson and Olof Steinert performed an experiment with an MLP to identify if they could use it to identify instances of bankruptcy in Polish manufacturing companies. They experimented with running the algorithm with null values. See a description below (Reference 7):\n",
    "\n",
    "![image.png](attachment:image.png)"
   ]
  },
  {
   "attachments": {
    "image.png": {
     "image/png": "[encoded data removed]"
    }
   },
   "cell_type": "markdown",
   "metadata": {},
   "source": [
    "Mattson and Steinert had a control group, an MLP with no null data, and two experimental groups, an MLP with a sum variable (a variable that sums the number of null values in a row of data), and an MLP that that creates a dummy variable (1-hot) for each column with a null value (IE, X feature 1, 2, and 3 have corresponding missing dummy variables). Below are the AUC scores of the control and two experimental groups (Reference 7).\n",
    "\n",
    "![image.png](attachment:image.png)"
   ]
  },
  {
   "cell_type": "code",
   "execution_count": null,
   "metadata": {},
   "outputs": [],
   "source": [
    "# This creates datasets with no_nulls.\n",
    "NO_NULLS_year1 = clean_yr1.copy()\n",
    "NO_NULLS_year2 = clean_yr2.copy()\n",
    "NO_NULLS_year3 = clean_yr3.copy()\n",
    "NO_NULLS_year4 = clean_yr4.copy()\n",
    "NO_NULLS_year5 = clean_yr5.copy()"
   ]
  },
  {
   "cell_type": "markdown",
   "metadata": {},
   "source": [
    "<a id='one-hot null'></a>\n",
    "## Creation of One-hot Null Variables\n",
    "This creates the null dummy variables (one-hot) for each column and a variable that counts the number of nulls per row."
   ]
  },
  {
   "cell_type": "code",
   "execution_count": null,
   "metadata": {},
   "outputs": [],
   "source": [
    "# This creates the objects that will be the datasets\n",
    "# with one-hot encoded variables for each X feature.\n",
    "ONE_HOT_yr1 = clean_yr1.copy()\n",
    "ONE_HOT_yr2 = clean_yr2.copy()\n",
    "ONE_HOT_yr3 = clean_yr3.copy()\n",
    "ONE_HOT_yr4 = clean_yr4.copy()\n",
    "ONE_HOT_yr5 = clean_yr5.copy()"
   ]
  },
  {
   "cell_type": "markdown",
   "metadata": {},
   "source": [
    "### Creation of X_missing\n",
    "The X_missing variable is a dummy variable that signifies for a given column of X whether a row in the X column is missing (given a value of 1) or not (a value of 0)."
   ]
  },
  {
   "cell_type": "code",
   "execution_count": null,
   "metadata": {},
   "outputs": [],
   "source": [
    "# This creates the path needed to import functions from\n",
    "# nulls.py.\n",
    "null_path = \"..\""
   ]
  },
  {
   "cell_type": "code",
   "execution_count": null,
   "metadata": {},
   "outputs": [],
   "source": [
    "# This changes the current working directory in order to import\n",
    "# functions from nulls.py.\n",
    "os.chdir(null_path)\n",
    "\n",
    "# This imports the necessary functions from nulls.py.\n",
    "from nulls import xnames_creator, missing_names_converter, actual_null_creator\n",
    "\n",
    "# This creates the variable initial_xnames.\n",
    "initial_xnames = xnames_creator()\n",
    "\n",
    "# This creates the initial_xmissings variable.\n",
    "initial_xmissings = missing_names_converter(initial_xnames)"
   ]
  },
  {
   "cell_type": "markdown",
   "metadata": {},
   "source": [
    "### clean_yr1 x_missing"
   ]
  },
  {
   "cell_type": "code",
   "execution_count": null,
   "metadata": {},
   "outputs": [],
   "source": [
    "# This checks initial_xnames, which is necessary for \n",
    "# the creation of x_missings.\n",
    "print(initial_xnames[0:5], initial_xnames[-5:])"
   ]
  },
  {
   "cell_type": "code",
   "execution_count": null,
   "metadata": {},
   "outputs": [],
   "source": [
    "# This checks initial_xmissings. These are simply the names\n",
    "# of the X_missing variables.\n",
    "print(initial_xmissings[0:5], initial_xmissings[-5:])"
   ]
  },
  {
   "cell_type": "code",
   "execution_count": null,
   "metadata": {},
   "outputs": [],
   "source": [
    "# This creates the dummy variables, X_missings for\n",
    "# clean_yr1.\n",
    "ONE_HOT_yr1 = actual_null_creator(ONE_HOT_yr1, initial_xnames, initial_xmissings)"
   ]
  },
  {
   "cell_type": "code",
   "execution_count": null,
   "metadata": {},
   "outputs": [],
   "source": [
    "# This determines whether the variables were created.\n",
    "list(ONE_HOT_yr1.columns)"
   ]
  },
  {
   "cell_type": "code",
   "execution_count": null,
   "metadata": {},
   "outputs": [],
   "source": [
    "# This assesses the \"NaN\" values of \"X4.\"\n",
    "# This comes from Reference 6 in the References Section.\n",
    "ONE_HOT_yr1['X4'].value_counts(dropna=False)"
   ]
  },
  {
   "cell_type": "code",
   "execution_count": null,
   "metadata": {},
   "outputs": [],
   "source": [
    "# Notice that the number of \"NaN\" values for \"X4\"\n",
    "# of clean_yr1 were 29. The number of 1 values should\n",
    "# also be 29.\n",
    "ONE_HOT_yr1['X4_missing'].value_counts()"
   ]
  },
  {
   "cell_type": "markdown",
   "metadata": {},
   "source": [
    "### clean_yr1 x_missing results:\n",
    "The X_missing dummy variables were successfully created."
   ]
  },
  {
   "cell_type": "markdown",
   "metadata": {},
   "source": [
    "### clean_yr2 x_missing:"
   ]
  },
  {
   "cell_type": "code",
   "execution_count": null,
   "metadata": {},
   "outputs": [],
   "source": [
    "# This creates the dummy variables, X_missings for\n",
    "# clean_yr2.\n",
    "ONE_HOT_yr2= actual_null_creator(ONE_HOT_yr2, initial_xnames, initial_xmissings)"
   ]
  },
  {
   "cell_type": "code",
   "execution_count": null,
   "metadata": {},
   "outputs": [],
   "source": [
    "# This determines whether the variables were created.\n",
    "list(ONE_HOT_yr2.columns)"
   ]
  },
  {
   "cell_type": "code",
   "execution_count": null,
   "metadata": {},
   "outputs": [],
   "source": [
    "# This assesses the \"NaN\" values of \"X4.\"\n",
    "# This comes from Reference 6 in the References Section.\n",
    "ONE_HOT_yr2['X4'].value_counts(dropna=False)"
   ]
  },
  {
   "cell_type": "code",
   "execution_count": null,
   "metadata": {},
   "outputs": [],
   "source": [
    "# Notice that the number of \"NaN\" values for \"X4\"\n",
    "# of clean_yr2 were 22. The number of 1 values should\n",
    "# also be 22.v\n",
    "ONE_HOT_yr2['X4_missing'].value_counts()"
   ]
  },
  {
   "cell_type": "markdown",
   "metadata": {},
   "source": [
    "### clean_yr2 x_missing results:\n",
    "The X_missing dummy variables were successfully created."
   ]
  },
  {
   "cell_type": "markdown",
   "metadata": {},
   "source": [
    "### clean_yr3 x_missing"
   ]
  },
  {
   "cell_type": "code",
   "execution_count": null,
   "metadata": {},
   "outputs": [],
   "source": [
    "# This creates the dummy variables, X_missings for\n",
    "# clean_yr3.\n",
    "ONE_HOT_yr3 = actual_null_creator(ONE_HOT_yr3, initial_xnames, initial_xmissings)"
   ]
  },
  {
   "cell_type": "code",
   "execution_count": null,
   "metadata": {},
   "outputs": [],
   "source": [
    "# This determines whether the variables were created.\n",
    "list(ONE_HOT_yr3.columns)"
   ]
  },
  {
   "cell_type": "code",
   "execution_count": null,
   "metadata": {},
   "outputs": [],
   "source": [
    "# This assesses the \"NaN\" values of \"X4.\"\n",
    "# This comes from Reference 6 in the References Section.\n",
    "ONE_HOT_yr3['X4'].value_counts(dropna=False)"
   ]
  },
  {
   "cell_type": "code",
   "execution_count": null,
   "metadata": {},
   "outputs": [],
   "source": [
    "# Notice that the number of \"NaN\" values for \"X4\"\n",
    "# of clean_yr3 were 18. The number of 1 values should\n",
    "# also be 18.\n",
    "ONE_HOT_yr3['X4_missing'].value_counts()"
   ]
  },
  {
   "cell_type": "markdown",
   "metadata": {},
   "source": [
    "### clean_yr3 x_missing results:\n",
    "The X_missing dummy variables were successfully created."
   ]
  },
  {
   "cell_type": "markdown",
   "metadata": {},
   "source": [
    "### clean_yr4 x_missing"
   ]
  },
  {
   "cell_type": "code",
   "execution_count": null,
   "metadata": {},
   "outputs": [],
   "source": [
    "# This creates the dummy variables, X_missings for\n",
    "# clean_yr4.\n",
    "ONE_HOT_yr4 = actual_null_creator(ONE_HOT_yr4, initial_xnames, initial_xmissings)"
   ]
  },
  {
   "cell_type": "code",
   "execution_count": null,
   "metadata": {},
   "outputs": [],
   "source": [
    "# This determines whether the variables were created.\n",
    "list(ONE_HOT_yr4.columns)"
   ]
  },
  {
   "cell_type": "code",
   "execution_count": null,
   "metadata": {},
   "outputs": [],
   "source": [
    "# This assesses the \"NaN\" values of \"X4.\"\n",
    "# This comes from Reference 6 in the References Section.\n",
    "ONE_HOT_yr4['X4'].value_counts(dropna=False)"
   ]
  },
  {
   "cell_type": "code",
   "execution_count": null,
   "metadata": {},
   "outputs": [],
   "source": [
    "# Notice that the number of \"NaN\" values for \"X4\"\n",
    "# of clean_yr4 were 43. The number of 1 values should\n",
    "# also be 43.\n",
    "ONE_HOT_yr4['X4_missing'].value_counts()"
   ]
  },
  {
   "cell_type": "markdown",
   "metadata": {},
   "source": [
    "### clean_yr4 x_missing results:\n",
    "The X_missing dummy variables were successfully created."
   ]
  },
  {
   "cell_type": "markdown",
   "metadata": {},
   "source": [
    "### clean_yr5 x_missing"
   ]
  },
  {
   "cell_type": "code",
   "execution_count": null,
   "metadata": {},
   "outputs": [],
   "source": [
    "# This creates the dummy variables, X_missings for\n",
    "# clean_yr5.\n",
    "ONE_HOT_yr5 = actual_null_creator(ONE_HOT_yr5, initial_xnames, initial_xmissings)"
   ]
  },
  {
   "cell_type": "code",
   "execution_count": null,
   "metadata": {},
   "outputs": [],
   "source": [
    "# This determines whether the variables were created.\n",
    "list(ONE_HOT_yr5.columns)"
   ]
  },
  {
   "cell_type": "code",
   "execution_count": null,
   "metadata": {},
   "outputs": [],
   "source": [
    "# This assesses the \"NaN\" values of \"X4.\"\n",
    "# This comes from Reference 6 in the References Section.\n",
    "ONE_HOT_yr5['X4'].value_counts(dropna=False)"
   ]
  },
  {
   "cell_type": "code",
   "execution_count": null,
   "metadata": {},
   "outputs": [],
   "source": [
    "# Notice that the number of \"NaN\" values for \"X4\"\n",
    "# of clean_yr5 were 21. The number of 1 values should\n",
    "# also be 21.\n",
    "ONE_HOT_yr5['X4_missing'].value_counts()"
   ]
  },
  {
   "cell_type": "markdown",
   "metadata": {},
   "source": [
    "### clean_yr5 x_missing results:\n",
    "The X_missing dummy variables were successfully created."
   ]
  },
  {
   "cell_type": "markdown",
   "metadata": {},
   "source": [
    "<a id='Creation of Sum Null Variables'></a>\n",
    "## Creation of Sum Null Variables\n",
    "This creates the sum null variables, which counts the number of nulls for each row of data."
   ]
  },
  {
   "cell_type": "code",
   "execution_count": null,
   "metadata": {},
   "outputs": [],
   "source": [
    "# This creates the objects that will be the datasets\n",
    "# with sum variables indicating the number of missing\n",
    "# variables there are in each row of data.\n",
    "SUM_yr1 = ONE_HOT_yr1.copy()\n",
    "SUM_yr2 = ONE_HOT_yr2.copy()\n",
    "SUM_yr3 = ONE_HOT_yr3.copy()\n",
    "SUM_yr4 = ONE_HOT_yr4.copy()\n",
    "SUM_yr5 = ONE_HOT_yr5.copy()"
   ]
  },
  {
   "cell_type": "markdown",
   "metadata": {},
   "source": [
    "### clean_yr1 missing_count:\n"
   ]
  },
  {
   "cell_type": "code",
   "execution_count": null,
   "metadata": {},
   "outputs": [],
   "source": [
    "# This imports the missing_counter function from\n",
    "# nulls.py.\n",
    "from nulls import missing_counter"
   ]
  },
  {
   "cell_type": "code",
   "execution_count": null,
   "metadata": {},
   "outputs": [],
   "source": [
    "# This creates the 'missing_count' variable in \n",
    "# clean_yr_1.\n",
    "SUM_yr1 = missing_counter(SUM_yr1)"
   ]
  },
  {
   "cell_type": "code",
   "execution_count": null,
   "metadata": {},
   "outputs": [],
   "source": [
    "# This determines whether 'missing_count'\n",
    "# was successfully created in clean_yr_1.\n",
    "SUM_yr1['missing_count'].value_counts(dropna = False)"
   ]
  },
  {
   "cell_type": "code",
   "execution_count": null,
   "metadata": {},
   "outputs": [],
   "source": [
    "# This determines whether the data type for 'missing_count'\n",
    "# is in integer format in clean_yr1.\n",
    "SUM_yr1['missing_count'].dtype"
   ]
  },
  {
   "cell_type": "code",
   "execution_count": null,
   "metadata": {},
   "outputs": [],
   "source": [
    "# This drops the individiual x_missing variables.\n",
    "SUM_yr1= SUM_yr1.drop(columns = initial_xmissings)"
   ]
  },
  {
   "cell_type": "code",
   "execution_count": null,
   "metadata": {},
   "outputs": [],
   "source": [
    "# This checks whether the individual x_missing\n",
    "# variables were dropped.\n",
    "list(SUM_yr1.columns)"
   ]
  },
  {
   "cell_type": "markdown",
   "metadata": {},
   "source": [
    "### clean_yr1 missing_count results:\n",
    "The missing count variable was successfully created."
   ]
  },
  {
   "cell_type": "markdown",
   "metadata": {},
   "source": [
    "### clean_yr2 missing_count:"
   ]
  },
  {
   "cell_type": "code",
   "execution_count": null,
   "metadata": {},
   "outputs": [],
   "source": [
    "# This creates the 'missing_count' variable in \n",
    "# clean_yr2.\n",
    "SUM_yr2 = missing_counter(SUM_yr2)"
   ]
  },
  {
   "cell_type": "code",
   "execution_count": null,
   "metadata": {},
   "outputs": [],
   "source": [
    "# This determines whether 'missing_count'\n",
    "# was successfully created in clean_yr2.\n",
    "SUM_yr2['missing_count'].value_counts(dropna = False)"
   ]
  },
  {
   "cell_type": "code",
   "execution_count": null,
   "metadata": {},
   "outputs": [],
   "source": [
    "# This determines whether the data type for 'missing_count'\n",
    "# is in integer format in clean_yr2.\n",
    "SUM_yr2['missing_count'].dtype"
   ]
  },
  {
   "cell_type": "code",
   "execution_count": null,
   "metadata": {},
   "outputs": [],
   "source": [
    "# This drops the individiual x_missing variables.\n",
    "SUM_yr2= SUM_yr2.drop(columns = initial_xmissings)"
   ]
  },
  {
   "cell_type": "code",
   "execution_count": null,
   "metadata": {},
   "outputs": [],
   "source": [
    "# This checks whether the individual x_missing\n",
    "# variables were dropped.\n",
    "list(SUM_yr2.columns)"
   ]
  },
  {
   "cell_type": "markdown",
   "metadata": {},
   "source": [
    "### clean_yr2 missing_count results:\n",
    "The missing count variable was successfully created."
   ]
  },
  {
   "cell_type": "markdown",
   "metadata": {},
   "source": [
    "### clean_yr3 missing_count:"
   ]
  },
  {
   "cell_type": "code",
   "execution_count": null,
   "metadata": {},
   "outputs": [],
   "source": [
    "# This creates the 'missing_count' variable in \n",
    "# clean_yr3.\n",
    "SUM_yr3 = missing_counter(SUM_yr3)"
   ]
  },
  {
   "cell_type": "code",
   "execution_count": null,
   "metadata": {},
   "outputs": [],
   "source": [
    "# This determines whether 'missing_count'\n",
    "# was successfully created in clean_yr3.\n",
    "SUM_yr3['missing_count'].value_counts(dropna = False)"
   ]
  },
  {
   "cell_type": "code",
   "execution_count": null,
   "metadata": {},
   "outputs": [],
   "source": [
    "# This determines whether the data type for 'missing_count'\n",
    "# is in integer format in clean_yr4.\n",
    "SUM_yr3['missing_count'].dtype"
   ]
  },
  {
   "cell_type": "code",
   "execution_count": null,
   "metadata": {},
   "outputs": [],
   "source": [
    "# This drops the individiual x_missing variables.\n",
    "SUM_yr3= SUM_yr3.drop(columns = initial_xmissings)"
   ]
  },
  {
   "cell_type": "code",
   "execution_count": null,
   "metadata": {},
   "outputs": [],
   "source": [
    "# This checks whether the individual x_missing\n",
    "# variables were dropped.\n",
    "list(SUM_yr3.columns)"
   ]
  },
  {
   "cell_type": "markdown",
   "metadata": {},
   "source": [
    "### clean_yr3 missing_count results:\n",
    "The missing count variable was successfully created."
   ]
  },
  {
   "cell_type": "markdown",
   "metadata": {},
   "source": [
    "### clean_yr4 missing_count:"
   ]
  },
  {
   "cell_type": "code",
   "execution_count": null,
   "metadata": {},
   "outputs": [],
   "source": [
    "# This creates the 'missing_count' variable in \n",
    "# clean_yr4.\n",
    "SUM_yr4 = missing_counter(SUM_yr4)"
   ]
  },
  {
   "cell_type": "code",
   "execution_count": null,
   "metadata": {},
   "outputs": [],
   "source": [
    "# This determines whether 'missing_count'\n",
    "# was successfully created in clean_yr4.\n",
    "SUM_yr4['missing_count'].value_counts(dropna = False)"
   ]
  },
  {
   "cell_type": "code",
   "execution_count": null,
   "metadata": {},
   "outputs": [],
   "source": [
    "# This determines whether the data type for 'missing_count'\n",
    "# is in integer format in clean_yr4.\n",
    "SUM_yr4['missing_count'].dtype"
   ]
  },
  {
   "cell_type": "code",
   "execution_count": null,
   "metadata": {},
   "outputs": [],
   "source": [
    "# This drops the individiual x_missing variables.\n",
    "SUM_yr4= SUM_yr4.drop(columns = initial_xmissings)"
   ]
  },
  {
   "cell_type": "code",
   "execution_count": null,
   "metadata": {},
   "outputs": [],
   "source": [
    "# This checks whether the individual x_missing\n",
    "# variables were dropped.\n",
    "list(SUM_yr4.columns)"
   ]
  },
  {
   "cell_type": "markdown",
   "metadata": {},
   "source": [
    "### clean_yr4 missing_count results:\n",
    "The missing count variable was successfully created."
   ]
  },
  {
   "cell_type": "markdown",
   "metadata": {},
   "source": [
    "### clean_yr5 missing_count:"
   ]
  },
  {
   "cell_type": "code",
   "execution_count": null,
   "metadata": {},
   "outputs": [],
   "source": [
    "# This creates the 'missing_count' variable in \n",
    "# clean_yr5.\n",
    "SUM_yr5 = missing_counter(SUM_yr5)"
   ]
  },
  {
   "cell_type": "code",
   "execution_count": null,
   "metadata": {},
   "outputs": [],
   "source": [
    "# This determines whether 'missing_count'\n",
    "# was successfully created in clean_yr5.\n",
    "SUM_yr5['missing_count'].value_counts(dropna = False)"
   ]
  },
  {
   "cell_type": "code",
   "execution_count": null,
   "metadata": {},
   "outputs": [],
   "source": [
    "# This determines whether the data type for 'missing_count'\n",
    "# is in integer format in clean_yr5.\n",
    "SUM_yr5['missing_count'].dtype"
   ]
  },
  {
   "cell_type": "code",
   "execution_count": null,
   "metadata": {},
   "outputs": [],
   "source": [
    "# This drops the individiual x_missing variables.\n",
    "SUM_yr5= SUM_yr5.drop(columns = initial_xmissings)"
   ]
  },
  {
   "cell_type": "code",
   "execution_count": null,
   "metadata": {},
   "outputs": [],
   "source": [
    "# This checks whether the individual x_missing\n",
    "# variables were dropped.\n",
    "list(SUM_yr5.columns)"
   ]
  },
  {
   "cell_type": "markdown",
   "metadata": {},
   "source": [
    "### clean_yr5 missing_count results:\n",
    "The missing count variable was successfully created."
   ]
  },
  {
   "cell_type": "markdown",
   "metadata": {},
   "source": [
    "<a id='PIVOT'></a>\n",
    "## PIVOT\n",
    "The original solution for the original problem statement would have been to test several MLP algorithms with varying parameters and hyperparameters to determine whether modifications to the MLP algorithm can improve performance when compared to Mattson et al’s benchmark. However, the new solution is to create a new methodology and a new benchmark. The new methodology would do away with breaking down the datasets by year, and simply use the final year’s data as the testing data. The Udacity mentor who suggested this concept said:\n",
    "\n",
    ">Typically, with time series data like this, we just use the first three years as the training data and the last as the testing data. Think about 'future' data here, as we couldn't do this for year 5 (future data). We need the testing set to be as similar as possible to 'real world' data as possible (Reference 20).\n",
    "\n",
    "This analysis uses the concept described by the Udacity mentor, but it does not use data from year four as testing data, because year four does not have any rows of data that do not contain a null value (see Appendix C). However, this methodology is still feasible, because year 5 has 2,995 rows of data with no null values (see Appendix D) and these non-null rows will serve as the testing data. While the new methodology does away with breaking down the data into subsets by year, there will still be three versions of the dataset: the first has no null values, the second imputes null values and has a dummy variable for each X feature that signifies whether a value is null for that specific X feature (null = 1, non-null = 0), and the third imputes null values and has a single variable (“missing_counter”) that counts the number of null values in a given row (Reference 7). Finally, the benchmark model will be a simple logistic regression model, as suggested by the Udacity mentor in the first review of the analysis (Reference 20). An MLP with Mattson et al’s parameters and hyperparameters will be implemented and compared to the benchmark, and then these hyperparameters will be adjusted in another MLP model to determine whether the MLP performance can be further improved.\n"
   ]
  },
  {
   "cell_type": "markdown",
   "metadata": {},
   "source": [
    "<a id='Data Reorganization'></a>\n",
    "## Data Reorganization\n",
    "This section reorganizes the datasets into three datasets. The first datset has no null values. The second dataset has dummy variables for each X feature identifying whether a value in the X feature is a null value (null = 1, non-null = 0). The third dataset has a variable (\"missing_counter) that identifies the number of null values in a given row of data. The training data is the data from years 1-4, while the testing data is the year 5 data."
   ]
  },
  {
   "cell_type": "markdown",
   "metadata": {},
   "source": [
    "### No Nulls"
   ]
  },
  {
   "cell_type": "code",
   "execution_count": null,
   "metadata": {
    "scrolled": true
   },
   "outputs": [],
   "source": [
    "## This concatenates the target variale to the NO_NULLS data for each of the five years.\n",
    "NO_NULLS_year1['bankrupt'] = target_yr1\n",
    "NO_NULLS_year2['bankrupt'] = target_yr2\n",
    "NO_NULLS_year3['bankrupt'] = target_yr3\n",
    "NO_NULLS_year4['bankrupt'] = target_yr4\n",
    "NO_NULLS_year5['bankrupt'] = target_yr5"
   ]
  },
  {
   "cell_type": "code",
   "execution_count": null,
   "metadata": {},
   "outputs": [],
   "source": [
    "# This splits the testing and training data for NO_NULLS.\n",
    "\n",
    "# This creates the \"no nulls\" testing dataset. \n",
    "NO_NULLS_testing_fulldataset = NO_NULLS_year5.dropna()\n",
    "\n",
    "# This splits the testing data into X_test and Y_test data for the \"no null\"\n",
    "# data.\n",
    "NO_NULLS_y_test = NO_NULLS_testing_fulldataset['bankrupt']\n",
    "NO_NULLS_x_test = NO_NULLS_testing_fulldataset.drop(columns='bankrupt')\n",
    "\n",
    "# This creates the \"no nulls\" training dataset\n",
    "# This code comes from Reference 21 from References..\n",
    "NO_NULLS_full_training = pd.concat([NO_NULLS_year1,\n",
    "                                  NO_NULLS_year2,\n",
    "                                  NO_NULLS_year3,\n",
    "                                  NO_NULLS_year4,\n",
    "                                  NO_NULLS_year5])\n",
    "\n",
    "# This drops the null values from the newly created training set.\n",
    "NO_NULLS_full_training = NO_NULLS_full_training.dropna()\n",
    "\n",
    "# This splits the training data into X_train and y_train data for the\n",
    "# \"no null\" data.\n",
    "NO_NULLS_y_train = NO_NULLS_full_training['bankrupt']\n",
    "NO_NULLS_x_train = NO_NULLS_full_training.drop(columns='bankrupt')\n",
    "\n",
    "# This concatenates the training and testing data for an exploratory dataset.\n",
    "EXPLORE_no_nulls = pd.concat([NO_NULLS_full_training, NO_NULLS_testing_fulldataset])"
   ]
  },
  {
   "cell_type": "markdown",
   "metadata": {},
   "source": [
    "### One-Hot"
   ]
  },
  {
   "cell_type": "code",
   "execution_count": null,
   "metadata": {},
   "outputs": [],
   "source": [
    "# This concatenates the target variale to the ONE_HOT data for each of the five years.\n",
    "ONE_HOT_yr1['bankrupt'] = target_yr1\n",
    "ONE_HOT_yr2['bankrupt'] = target_yr2\n",
    "ONE_HOT_yr3['bankrupt'] = target_yr3\n",
    "ONE_HOT_yr4['bankrupt'] = target_yr4\n",
    "ONE_HOT_yr5['bankrupt'] = target_yr5"
   ]
  },
  {
   "cell_type": "code",
   "execution_count": null,
   "metadata": {},
   "outputs": [],
   "source": [
    "# This splits the testing and training data for \"one hot\".\n",
    "\n",
    "# This creates the \"ONE HOT\" testing data. \n",
    "ONE_HOT_testing_fulldataset = ONE_HOT_yr5.dropna()\n",
    "\n",
    "# This splits the testing data into X_test and Y_test data for the \"ONE_HOT\"\n",
    "# data.\n",
    "ONE_HOT_y_test = ONE_HOT_testing_fulldataset['bankrupt']\n",
    "ONE_HOT_x_test = ONE_HOT_testing_fulldataset.drop(columns='bankrupt')\n",
    "\n",
    "# This creates the \"ONE_HOT\" training dataset.\n",
    "# This code comes from Reference 21 from References.\n",
    "ONE_HOT_full_training = pd.concat([ONE_HOT_yr1,\n",
    "                                  ONE_HOT_yr2,\n",
    "                                  ONE_HOT_yr3,\n",
    "                                  ONE_HOT_yr4,\n",
    "                                  ONE_HOT_yr5])\n",
    "\n",
    "# This splits the training data into X_train and y_train data for the\n",
    "# \"ONE_HOT\" data.\n",
    "ONE_HOT_y_train = ONE_HOT_full_training['bankrupt']\n",
    "ONE_HOT_x_train = ONE_HOT_full_training.drop(columns='bankrupt')\n",
    "\n",
    "# This concatenates the training and testing data for an exploratory dataset.\n",
    "EXPLORE_one_hot = pd.concat([ONE_HOT_full_training, ONE_HOT_testing_fulldataset])"
   ]
  },
  {
   "cell_type": "markdown",
   "metadata": {},
   "source": [
    "### Missing_Count"
   ]
  },
  {
   "cell_type": "code",
   "execution_count": null,
   "metadata": {},
   "outputs": [],
   "source": [
    "# This concatenates the target variale to the \"Missing_Count\"/\"SUM\" \n",
    "# data for each of the five years.\n",
    "SUM_yr1['bankrupt'] = target_yr1\n",
    "SUM_yr2['bankrupt'] = target_yr2\n",
    "SUM_yr3['bankrupt'] = target_yr3\n",
    "SUM_yr4['bankrupt'] = target_yr4\n",
    "SUM_yr5['bankrupt'] = target_yr5"
   ]
  },
  {
   "cell_type": "code",
   "execution_count": null,
   "metadata": {},
   "outputs": [],
   "source": [
    "# This splits the testing and training data for \"SUM\".\n",
    "\n",
    "# This creates the \"SUM\" testing data. \n",
    "SUM_testing_fulldataset = SUM_yr5.dropna()\n",
    "\n",
    "# This splits the testing data into X_test and Y_test data for the \"SUM\"\n",
    "# data.\n",
    "SUM_y_test = SUM_testing_fulldataset['bankrupt']\n",
    "SUM_x_test = SUM_testing_fulldataset.drop(columns='bankrupt')\n",
    "\n",
    "# This creates the \"SUM\" training dataset.\n",
    "# This code comes from Reference 21 from References.\n",
    "SUM_full_training = pd.concat([SUM_yr1,\n",
    "                                  SUM_yr2,\n",
    "                                  SUM_yr3,\n",
    "                                  SUM_yr4,\n",
    "                                  SUM_yr5])\n",
    "\n",
    "# This splits the training data into X_train and y_train data for the\n",
    "# \"SUM\" data.\n",
    "SUM_y_train = SUM_full_training['bankrupt']\n",
    "SUM_x_train = SUM_full_training.drop(columns='bankrupt')\n",
    "\n",
    "# This concatenates the training and testing data for an exploratory dataset.\n",
    "EXPLORE_sum = pd.concat([SUM_full_training, SUM_testing_fulldataset])"
   ]
  },
  {
   "cell_type": "markdown",
   "metadata": {},
   "source": [
    "<a id='Data Exploration - Descriptive Statistics'></a>\n",
    "## Data Exploration - Descriptive Statistics\n",
    "This sections peforms some descriptive statistics on the \"no nulls\", \"one-hot\", and \"sum\" datasets."
   ]
  },
  {
   "cell_type": "markdown",
   "metadata": {},
   "source": [
    "### Ranges and Standard Deviations for the X feature variables"
   ]
  },
  {
   "cell_type": "code",
   "execution_count": null,
   "metadata": {},
   "outputs": [],
   "source": [
    "# This imports range_funtion, which finds the ranges\n",
    "# of each X feature in the N0_NULLS dataset.\n",
    "from basic_stats import range_function\n",
    "columns_list = list(EXPLORE_no_nulls.columns)\n",
    "\n",
    "range_data = []\n",
    "std_data =[]\n",
    "for i in columns_list:\n",
    "    x = range_function(EXPLORE_no_nulls[i])\n",
    "    std = EXPLORE_no_nulls[i].std()\n",
    "    range_data.append(x)\n",
    "    std_data.append(std)\n",
    "\n",
    "# This creates a dictionary that will be converted to a pandas dataframe.\n",
    "range_dictionary = {'X_feature': columns_list, \"Range\": range_data,\n",
    "                    \"STD\": std_data}\n",
    "\n",
    "# This converts the dictionary to a pandas dataframe.\n",
    "# It also creates a query that eliminates the bankruptcy\n",
    "# variable.\n",
    "describe_no_nulls = pd.DataFrame(range_dictionary)\n",
    "describe_no_nulls = describe_no_nulls[(describe_no_nulls['X_feature'] != 'bankrupt')]"
   ]
  },
  {
   "cell_type": "code",
   "execution_count": null,
   "metadata": {},
   "outputs": [],
   "source": [
    "# This descirbes the range and the standard\n",
    "# deviations for each of the X_features.\n",
    "describe_no_nulls.describe()"
   ]
  },
  {
   "cell_type": "code",
   "execution_count": null,
   "metadata": {},
   "outputs": [],
   "source": [
    "# This imports range_funtion, which finds the ranges\n",
    "# of each X feature in the ONE_HOT and SUM\n",
    "# datasets.\n",
    "from basic_stats import range_function\n",
    "columns_list = list(EXPLORE_no_nulls.columns)\n",
    "\n",
    "range_data = []\n",
    "std_data =[]\n",
    "for i in columns_list:\n",
    "    x = range_function(EXPLORE_one_hot[i])\n",
    "    std = EXPLORE_one_hot[i].std()\n",
    "    range_data.append(x)\n",
    "    std_data.append(std)\n",
    "\n",
    "# This creates a dictionary that will be converted to a pandas dataframe.\n",
    "range_dictionary = {'X_feature': columns_list, \"Range\": range_data,\n",
    "                    \"STD\": std_data}\n",
    "\n",
    "# This converts the dictionary to a pandas dataframe.\n",
    "# It also creates a query that eliminates the bankruptcy\n",
    "# variable.\n",
    "describe_one_hot = pd.DataFrame(range_dictionary)\n",
    "describe_one_hot = describe_one_hot[(describe_one_hot['X_feature'] != 'bankrupt')]"
   ]
  },
  {
   "cell_type": "code",
   "execution_count": null,
   "metadata": {},
   "outputs": [],
   "source": [
    "# This descirbes the range and the standard\n",
    "# deviations for each of the X_features.\n",
    "describe_one_hot.describe()"
   ]
  },
  {
   "cell_type": "markdown",
   "metadata": {},
   "source": [
    "### Variable Counts"
   ]
  },
  {
   "cell_type": "code",
   "execution_count": null,
   "metadata": {},
   "outputs": [],
   "source": [
    "# This finds the variable count for the \"no nulls\" dataset.\n",
    "var_count_no_nulls = list(EXPLORE_no_nulls.columns)\n",
    "len(var_count_no_nulls)"
   ]
  },
  {
   "cell_type": "code",
   "execution_count": null,
   "metadata": {},
   "outputs": [],
   "source": [
    "# This finds the variable count for the \"one hot\" dataset.\n",
    "var_count_one_hot = list(EXPLORE_one_hot.columns)\n",
    "len(var_count_one_hot)"
   ]
  },
  {
   "cell_type": "code",
   "execution_count": null,
   "metadata": {},
   "outputs": [],
   "source": [
    "# This finds the variable count for the \"sum\" dataset.\n",
    "var_count_sum = list(EXPLORE_sum.columns)\n",
    "len(var_count_sum)"
   ]
  },
  {
   "cell_type": "markdown",
   "metadata": {},
   "source": [
    "### Row Counts"
   ]
  },
  {
   "cell_type": "code",
   "execution_count": null,
   "metadata": {},
   "outputs": [],
   "source": [
    "# This counts the number of rows in EXPLORE_no_nulls.\n",
    "EXPLORE_no_nulls.shape[0]"
   ]
  },
  {
   "cell_type": "code",
   "execution_count": null,
   "metadata": {},
   "outputs": [],
   "source": [
    "# This counts the number of rows in EXPLORE_one_hot.\n",
    "EXPLORE_one_hot.shape[0]"
   ]
  },
  {
   "cell_type": "code",
   "execution_count": null,
   "metadata": {},
   "outputs": [],
   "source": [
    "# This counts the number of rows in EXPLORE_sum.\n",
    "EXPLORE_sum.shape[0]"
   ]
  },
  {
   "cell_type": "markdown",
   "metadata": {},
   "source": [
    "### Testing data as a percentage of the datasets."
   ]
  },
  {
   "cell_type": "code",
   "execution_count": null,
   "metadata": {},
   "outputs": [],
   "source": [
    "# This determines the percentage size of the testing\n",
    "# dataset out of the entire dataset for No Nulls.\n",
    "test_perc_no_nulls = (NO_NULLS_testing_fulldataset.shape[0] /\n",
    "                      EXPLORE_no_nulls.shape[0]) * 100\n",
    "print(\"The percentage of the testing size out of the total dataset is: \",\n",
    "      test_perc_no_nulls, \"%.\" )"
   ]
  },
  {
   "cell_type": "code",
   "execution_count": null,
   "metadata": {},
   "outputs": [],
   "source": [
    "# This determines the percentage size of the testing\n",
    "# dataset out of the entire dataset for No Nulls.\n",
    "test_perc_one_hot = (ONE_HOT_testing_fulldataset.shape[0] /\n",
    "                      EXPLORE_one_hot.shape[0]) * 100\n",
    "print(\"The percentage of the testing size out of the total dataset is: \",\n",
    "      test_perc_one_hot, \"%.\" )"
   ]
  },
  {
   "cell_type": "code",
   "execution_count": null,
   "metadata": {},
   "outputs": [],
   "source": [
    "# This determines the percentage size of the testing\n",
    "# dataset out of the entire dataset for No Nulls.\n",
    "test_perc_sum = (SUM_testing_fulldataset.shape[0] /\n",
    "                      EXPLORE_sum.shape[0]) * 100\n",
    "print(\"The percentage of the testing size out of the total dataset is: \",\n",
    "      test_perc_sum, \"%.\" )"
   ]
  },
  {
   "cell_type": "markdown",
   "metadata": {},
   "source": [
    "### Minority Class Analysis"
   ]
  },
  {
   "cell_type": "code",
   "execution_count": null,
   "metadata": {},
   "outputs": [],
   "source": [
    "# This querires the size of the bankrupt class in the NO NULLs\n",
    "# dataset.\n",
    "bankrupt_data = EXPLORE_no_nulls[(EXPLORE_no_nulls['bankrupt'] == 1)]\n",
    "bankrupt_data.shape[0]"
   ]
  },
  {
   "cell_type": "code",
   "execution_count": null,
   "metadata": {},
   "outputs": [],
   "source": [
    "# This identifies what the minority class size is as a percentage\n",
    "# of the total dataset.\n",
    "minority_perc_no_nulls = (bankrupt_data.shape[0] / EXPLORE_no_nulls.shape[0]) * 100\n",
    "print(\"The minority class size as a percentage of the total dataset is \",\n",
    "     minority_perc_no_nulls, '%.')"
   ]
  },
  {
   "cell_type": "code",
   "execution_count": null,
   "metadata": {},
   "outputs": [],
   "source": [
    "# This querires the size of the bankrupt class of the SUM and\n",
    "# ONE-HOT datasets\n",
    "bankrupt_data_SUM = EXPLORE_sum[(EXPLORE_sum['bankrupt'] == 1)]\n",
    "bankrupt_data_SUM.shape[0]"
   ]
  },
  {
   "cell_type": "code",
   "execution_count": null,
   "metadata": {},
   "outputs": [],
   "source": [
    "# This identifies what the minority class size is as a percentage\n",
    "# of the total dataset.\n",
    "minority_perc_sum = (bankrupt_data_SUM.shape[0] / EXPLORE_sum.shape[0]) * 100\n",
    "print(\"The minority class size as a percentage of the total dataset is \",\n",
    "     minority_perc_sum, '%.')"
   ]
  },
  {
   "cell_type": "markdown",
   "metadata": {},
   "source": [
    "<a id='Exploratory Visualization'></a>\n",
    "## Exploratory Visualization\n",
    "This examines the effect of two X features on bankruptcy (true = 1, false = 0).The first X feature is X1, or Net Profit/Total Assets. This is a measure of how efficiently a company uses assets. Lower ratios should realize more bankruptcies while higher ratios should realize less bankruptcies. The second X feature is X10, or equity/total assets. This ratio shows how much a company depends upon debt financing (a highly leveraged company could go bankrupt because it is unable to pay its creditors). A lower ratio should realize more bankruptcies while a higher ratio should realize less bankruptcies. These two ratios are tested on the X features of both the no null dataset and the datasets that include nulls."
   ]
  },
  {
   "cell_type": "code",
   "execution_count": null,
   "metadata": {},
   "outputs": [],
   "source": [
    "# This imports the necessary libraries for data visualization.\n",
    "import seaborn as sns\n",
    "import matplotlib.pyplot as plt\n",
    "%matplotlib inline"
   ]
  },
  {
   "cell_type": "code",
   "execution_count": null,
   "metadata": {},
   "outputs": [],
   "source": [
    "# This creates the x1_plot and x_10 scatterplot functions\n",
    "#for the visual analysis.\n",
    "\n",
    "def x1_plot(the_data):\n",
    "    '''\n",
    "    This scatterplot plots Net Profit/Total Assets in the \n",
    "    X axis and Bankrupt (true = 1, false = 0) in the y-axis.\n",
    "    '''\n",
    "    # This adjust the figure size.\n",
    "    # This comes from Reference 24 in References.\n",
    "    plt.figure(figsize=(12.0, 4.0))\n",
    "\n",
    "    # This creates the scatterplot.\n",
    "    # This comes from Reference 1 in References.\n",
    "    sns.scatterplot(x='X1', y='bankrupt', data = the_data)\n",
    "\n",
    "    # This adds a title to the graph\n",
    "    # and labels to the x and y axes.\n",
    "    # This comes from Reference 23 in References.\n",
    "    plt.title(\"The Effect of Net Profit/Total Assets on Bankruptcy\")\n",
    "    plt.xlabel('Net Profit/Total Assets Ratio')\n",
    "    plt.ylabel('Bankrupt (True = 1, False = 0)')\n",
    "    \n",
    "def x10_plot(the_data):\n",
    "    '''\n",
    "    This scatterplot plots Equity/Total Assets in the \n",
    "    X axis and Bankrupt (true = 1, false = 0) in the y-axis.\n",
    "    '''\n",
    "    \n",
    "    # This comes from Reference 24 in References.\n",
    "    plt.figure(figsize=(12.0, 4.0))\n",
    "\n",
    "    # This creates the scatterplot.\n",
    "    # This comes from Reference 22 in References.\n",
    "    sns.scatterplot(x='X10', y='bankrupt', data = the_data)\n",
    "\n",
    "    # This adds a title to the graph\n",
    "    # and labels to the x and y axes.\n",
    "    # This comes from Reference 23 in References.\n",
    "    plt.title(\"The Effect of Equity/Total Assets on Bankruptcy\")\n",
    "    plt.xlabel('Equity/Total Assets Ratio')\n",
    "    plt.ylabel('Bankrupt (True = 1, False = 0)')"
   ]
  },
  {
   "cell_type": "markdown",
   "metadata": {},
   "source": [
    "### No Nulls Dataset"
   ]
  },
  {
   "cell_type": "code",
   "execution_count": null,
   "metadata": {
    "scrolled": false
   },
   "outputs": [],
   "source": [
    "# This creates the plot with Net Profit/Total Assets in\n",
    "# the x-axis and Bankrupt in the y-axis for the \"No Nulls\"\n",
    "# dataset.\n",
    "x1_plot(EXPLORE_no_nulls)"
   ]
  },
  {
   "cell_type": "code",
   "execution_count": null,
   "metadata": {
    "scrolled": true
   },
   "outputs": [],
   "source": [
    "# This creates the plot with Equity/Total Assets in\n",
    "# the x-axis and Bankrupt in the y-axis for the \"No Nulls\"\n",
    "# dataset.\n",
    "x10_plot(EXPLORE_no_nulls)"
   ]
  },
  {
   "cell_type": "markdown",
   "metadata": {},
   "source": [
    "### Dataset With Nulls"
   ]
  },
  {
   "cell_type": "code",
   "execution_count": null,
   "metadata": {
    "scrolled": true
   },
   "outputs": [],
   "source": [
    "# This creates the plot with Net Profit/Total Assets in\n",
    "# the x-axis and Bankrupt in the y-axis for the \"SUM\"\n",
    "# dataset.\n",
    "x1_plot(EXPLORE_sum)"
   ]
  },
  {
   "cell_type": "code",
   "execution_count": null,
   "metadata": {
    "scrolled": true
   },
   "outputs": [],
   "source": [
    "# This creates the plot with Equity/Total Assets in\n",
    "# the x-axis and Bankrupt in the y-axis for the \"SUM\"\n",
    "# dataset.\n",
    "x10_plot(EXPLORE_sum)"
   ]
  },
  {
   "cell_type": "markdown",
   "metadata": {},
   "source": [
    "<a id='Preprocessing'></a>\n",
    "## Preprocessing\n",
    "This section preprocesses the no nulls, the dummy variables, and missing counter datasets. First, for the dummy variables and the missing counter datasets, values are imputed for the null values. Next, feature scaling is applied to the data.  Finally, The training data for all three datasets are oversampled to remedy the data imbalance between the minority (bankrupt) and majority (not bankrupt) classes."
   ]
  },
  {
   "cell_type": "markdown",
   "metadata": {},
   "source": [
    "### Impute Null Values"
   ]
  },
  {
   "cell_type": "code",
   "execution_count": null,
   "metadata": {},
   "outputs": [],
   "source": [
    "# This imports the libraries that will impute the training data.\n",
    "from sklearn.experimental import enable_iterative_imputer\n",
    "from sklearn.impute import IterativeImputer"
   ]
  },
  {
   "cell_type": "code",
   "execution_count": null,
   "metadata": {},
   "outputs": [],
   "source": [
    "## This imputes the ONE_HOT training data.\n",
    "IMPUTER_one = IterativeImputer(random_state=42)\n",
    "IMPUTER_one.fit(ONE_HOT_x_train)\n",
    "IMPUTED_onehot_Xtrain = IMPUTER_one.transform(ONE_HOT_x_train)"
   ]
  },
  {
   "cell_type": "code",
   "execution_count": null,
   "metadata": {},
   "outputs": [],
   "source": [
    "# This imputes the SUM training data.\n",
    "IMPUTER_sum = IterativeImputer(random_state=42)\n",
    "IMPUTER_sum.fit(SUM_x_train)\n",
    "IMPUTED_sum_Xtrain = IMPUTER_sum.transform(SUM_x_train)"
   ]
  },
  {
   "cell_type": "markdown",
   "metadata": {},
   "source": [
    "### Standardization"
   ]
  },
  {
   "cell_type": "code",
   "execution_count": null,
   "metadata": {},
   "outputs": [],
   "source": [
    "# This comes from Reference 10 from References\n",
    "\n",
    "# This standardizes the no nulls X_training data.\n",
    "scaler_nonulls_Xtrain = StandardScaler()\n",
    "scaler_nonulls_Xtrain.fit(NO_NULLS_x_train)\n",
    "SCALED_nonulls_Xtrain = scaler_nonulls_Xtrain.transform(NO_NULLS_x_train)\n",
    "\n",
    "# This standardizes the no nulls X_testing data.\n",
    "scaler_nonulls_Xtest = StandardScaler()\n",
    "scaler_nonulls_Xtest.fit(NO_NULLS_x_test)\n",
    "SCALED_nonulls_Xtest = scaler_nonulls_Xtest.transform(NO_NULLS_x_test)"
   ]
  },
  {
   "cell_type": "code",
   "execution_count": null,
   "metadata": {},
   "outputs": [],
   "source": [
    "# This comes from Reference 10 from References\n",
    "\n",
    "# This standardizes the ONE HOT X_training data.\n",
    "# Note that the one hot training data has imputed values.\n",
    "scaler_onehot_Xtrain = StandardScaler()\n",
    "scaler_onehot_Xtrain.fit(IMPUTED_onehot_Xtrain)\n",
    "SCALED_onehot_Xtrain = scaler_onehot_Xtrain.transform(IMPUTED_onehot_Xtrain)\n",
    "\n",
    "# This standardizes the ONE HOT X_testing data.\n",
    "# Note that the one hot testing dating does not have\n",
    "# imputed values.\n",
    "scaler_onehot_Xtest = StandardScaler()\n",
    "scaler_onehot_Xtest.fit(ONE_HOT_x_test)\n",
    "SCALED_onehot_Xtest = scaler_onehot_Xtest.transform(ONE_HOT_x_test)"
   ]
  },
  {
   "cell_type": "code",
   "execution_count": null,
   "metadata": {},
   "outputs": [],
   "source": [
    "# This comes from Reference 10 from References\n",
    "\n",
    "# This standardizes the SUM X_training data.\n",
    "# Note that the SUM training data has imputed values.\n",
    "scaler_sum_Xtrain = StandardScaler()\n",
    "scaler_sum_Xtrain.fit(IMPUTED_sum_Xtrain)\n",
    "SCALED_sum_Xtrain = scaler_sum_Xtrain.transform(IMPUTED_sum_Xtrain)\n",
    "\n",
    "# This standardizes the SUM X_testing data.\n",
    "# Note that the one hot testing dating does not have\n",
    "# imputed values.\n",
    "scaler_sum_Xtest = StandardScaler()\n",
    "scaler_sum_Xtest.fit(SUM_x_test)\n",
    "SCALED_sum_Xtest = scaler_sum_Xtest.transform(SUM_x_test)"
   ]
  },
  {
   "cell_type": "markdown",
   "metadata": {},
   "source": [
    "### Oversampling"
   ]
  },
  {
   "cell_type": "code",
   "execution_count": null,
   "metadata": {},
   "outputs": [],
   "source": [
    "# This imports the necessary library for oversampling.\n",
    "from imblearn.over_sampling import SMOTE"
   ]
  },
  {
   "cell_type": "code",
   "execution_count": null,
   "metadata": {},
   "outputs": [],
   "source": [
    "# This oversamples the NO NULLS training set.\n",
    "# This comes from Reference 25 in References.\n",
    "SM_nonulls = SMOTE(random_state=42, ratio = 1.0)\n",
    "OS_nonulls_Xtrain, OS_nonulls_Ytrain = SM_nonulls.fit_sample(\n",
    "                SCALED_nonulls_Xtrain, NO_NULLS_y_train)"
   ]
  },
  {
   "cell_type": "code",
   "execution_count": null,
   "metadata": {},
   "outputs": [],
   "source": [
    "# This oversamples the ONE HOT training set.\n",
    "# This comes from Reference 25 in References.\n",
    "SM_onehot = SMOTE(random_state=42, ratio = 1.0)\n",
    "OS_onehot_Xtrain, OS_onehot_Ytrain = SM_nonulls.fit_sample(\n",
    "                SCALED_onehot_Xtrain, ONE_HOT_y_train)"
   ]
  },
  {
   "cell_type": "code",
   "execution_count": null,
   "metadata": {},
   "outputs": [],
   "source": [
    "np.unique(OS_onehot_Ytrain, return_counts=True)"
   ]
  },
  {
   "cell_type": "code",
   "execution_count": null,
   "metadata": {},
   "outputs": [],
   "source": [
    "# This oversamples the SUM training set.\n",
    "# This comes from Reference 25 in References.\n",
    "SM_sum = SMOTE(random_state=42, ratio = 1.0)\n",
    "OS_sum_Xtrain, OS_sum_Ytrain = SM_nonulls.fit_sample(\n",
    "                SCALED_sum_Xtrain, SUM_y_train)"
   ]
  },
  {
   "cell_type": "markdown",
   "metadata": {},
   "source": [
    "### Preprocessed to CSV\n",
    "This takes all the cleaned and preprocessed data and downloads them as CSVs. THIS SECTION IS NOT IN USE."
   ]
  },
  {
   "cell_type": "code",
   "execution_count": null,
   "metadata": {},
   "outputs": [],
   "source": [
    "'''\n",
    "# This writes the no nulls data as a csv.\n",
    "\n",
    "# This writes the null Xtraining data to a csv.\n",
    "OS_nonulls_Xtrain = pd.DataFrame(OS_nonulls_Xtrain)\n",
    "OS_nonulls_Xtrain.to_csv(\"data/Xtrain_nonulls.csv\", index=False)\n",
    "\n",
    "# This writes the null Xtraining data to a csv.\n",
    "OS_nonulls_Ytrain = pd.DataFrame(OS_nonulls_Ytrain)\n",
    "OS_nonulls_Ytrain.to_csv('data/Ytrain_nonulls.csv', index=False)\n",
    "\n",
    "# This writes the null X and y testing data to a csv.\n",
    "NO_NULLS_x_test.to_csv('data/Xtest_nonulls.csv', index=False)\n",
    "NO_NULLS_y_test.to_csv('data/Ytest_nonulls.csv', index=False, header=True)\n",
    "'''"
   ]
  },
  {
   "cell_type": "code",
   "execution_count": null,
   "metadata": {},
   "outputs": [],
   "source": [
    "\n",
    "'''# This writes the ONE HOT data as a csv.\n",
    "\n",
    "# This writes the ONE HOT Xtraining data as a csv.\n",
    "OS_onehot_Xtrain = pd.DataFrame(OS_onehot_Xtrain)\n",
    "OS_onehot_Xtrain.to_csv('data/Xtrain_onehot.csv', index=False)\n",
    "\n",
    "# This writes the ONE HOT Ytraining data as a csv.\n",
    "OS_onehot_Ytrain = pd.DataFrame(OS_onehot_Ytrain)\n",
    "OS_onehot_Ytrain.to_csv('data/Ytrain_onehot.csv', index=False)\n",
    "\n",
    "# This writes the ONEHOT x and y testing data to a csv.\n",
    "ONE_HOT_x_test.to_csv('data/Xtest_onehot.csv', index=False)\n",
    "ONE_HOT_y_test.to_csv(\"data/Ytest_onehot.csv\", index=False, header=True)'''"
   ]
  },
  {
   "cell_type": "code",
   "execution_count": null,
   "metadata": {},
   "outputs": [],
   "source": [
    "'''\n",
    "# This writes the SUM data as a csv.\n",
    "\n",
    "# This writes the SUM Xtraining data as a csv.\n",
    "OS_sum_Xtrain = pd.DataFrame(OS_sum_Xtrain)\n",
    "OS_sum_Xtrain.to_csv('data/Xtrain_sum.csv', index=False)\n",
    "\n",
    "# This writes the SUM Ytraining data as a csv.\n",
    "OS_sum_Ytrain = pd.DataFrame(OS_sum_Ytrain)\n",
    "OS_sum_Ytrain.to_csv('data/Ytrain_sum.csv', index=False)\n",
    "\n",
    "# This writes the SUM x and y testing data to a csv.\n",
    "SUM_x_test.to_csv('data/Xtest_sum.csv', index=False)\n",
    "SUM_y_test.to_csv('data/Ytest_sum.csv', index=False, header=True)\n",
    "'''"
   ]
  },
  {
   "cell_type": "markdown",
   "metadata": {},
   "source": [
    "### Preparing Data for the Algorithms\n",
    "This ensures that the data is clearly labled and in the correct format for the algorithms."
   ]
  },
  {
   "cell_type": "code",
   "execution_count": null,
   "metadata": {},
   "outputs": [],
   "source": [
    "'''\n",
    "# This writes the no nulls data as a csv.\n",
    "\n",
    "# This writes the null Xtraining data to a csv.\n",
    "OS_nonulls_Xtrain = pd.DataFrame(OS_nonulls_Xtrain)\n",
    "OS_nonulls_Xtrain.to_csv(\"data/Xtrain_nonulls.csv\", index=False)\n",
    "\n",
    "# This writes the null Xtraining data to a csv.\n",
    "OS_nonulls_Ytrain = pd.DataFrame(OS_nonulls_Ytrain)\n",
    "OS_nonulls_Ytrain.to_csv('data/Ytrain_nonulls.csv', index=False)\n",
    "\n",
    "# This writes the null X and y testing data to a csv.\n",
    "NO_NULLS_x_test.to_csv('data/Xtest_nonulls.csv', index=False)\n",
    "NO_NULLS_y_test.to_csv('data/Ytest_nonulls.csv', index=False, header=True)\n",
    "'''"
   ]
  },
  {
   "cell_type": "code",
   "execution_count": null,
   "metadata": {},
   "outputs": [],
   "source": [
    "# This creates copies and relabels the no_nulls data.\n",
    "\n",
    "# This creates Xtrain_nonulls and turns it into a np.array()\n",
    "Xtrain_nonulls = OS_nonulls_Xtrain.copy()\n",
    "Xtrain_nonulls = np.array(Xtrain_nonulls)\n",
    " \n",
    "# This creates Xtest_nonulls and turns it into a np.array()\n",
    "Xtest_nonulls = NO_NULLS_x_test.copy()\n",
    "Xtest_nonulls = np.array(Xtest_nonulls)\n",
    "\n",
    "# This creates Ytrain_nonulls and turns it into a np.array()\n",
    "Ytrain_nonulls = OS_nonulls_Ytrain.copy()\n",
    "Ytrain_nonulls = np.array(Ytrain_nonulls)\n",
    "\n",
    "# This creates Ytest_nonulls and turns it into a np.array()\n",
    "Ytest_nonulls = NO_NULLS_y_test.copy()\n",
    "Ytest_nonulls = np.array(Ytest_nonulls)"
   ]
  },
  {
   "cell_type": "code",
   "execution_count": null,
   "metadata": {},
   "outputs": [],
   "source": [
    "Xtrain_nonulls.shape"
   ]
  },
  {
   "cell_type": "code",
   "execution_count": null,
   "metadata": {},
   "outputs": [],
   "source": [
    "Ytrain_nonulls.shape"
   ]
  },
  {
   "cell_type": "code",
   "execution_count": null,
   "metadata": {},
   "outputs": [],
   "source": [
    "Xtest_nonulls.shape"
   ]
  },
  {
   "cell_type": "code",
   "execution_count": null,
   "metadata": {},
   "outputs": [],
   "source": [
    "Ytest_nonulls.shape"
   ]
  },
  {
   "cell_type": "code",
   "execution_count": null,
   "metadata": {},
   "outputs": [],
   "source": [
    "\n",
    "'''# This writes the ONE HOT data as a csv.\n",
    "\n",
    "# This writes the ONE HOT Xtraining data as a csv.\n",
    "OS_onehot_Xtrain = pd.DataFrame(OS_onehot_Xtrain)\n",
    "OS_onehot_Xtrain.to_csv('data/Xtrain_onehot.csv', index=False)\n",
    "\n",
    "# This writes the ONE HOT Ytraining data as a csv.\n",
    "OS_onehot_Ytrain = pd.DataFrame(OS_onehot_Ytrain)\n",
    "OS_onehot_Ytrain.to_csv('data/Ytrain_onehot.csv', index=False)\n",
    "\n",
    "# This writes the ONEHOT x and y testing data to a csv.\n",
    "ONE_HOT_x_test.to_csv('data/Xtest_onehot.csv', index=False)\n",
    "ONE_HOT_y_test.to_csv(\"data/Ytest_onehot.csv\", index=False, header=True)'''"
   ]
  },
  {
   "cell_type": "code",
   "execution_count": null,
   "metadata": {},
   "outputs": [],
   "source": [
    "# This creates copies and relabels the ONEHOT data.\n",
    "\n",
    "# This creates Xtrain_onehot and turns it into a np.array()\n",
    "Xtrain_onehot = OS_onehot_Xtrain.copy()\n",
    "Xtrain_onehot = np.array(Xtrain_onehot)\n",
    "\n",
    "# This create Xtest_onehot and turns it into a np.array()\n",
    "Xtest_onehot = ONE_HOT_x_test.copy()\n",
    "Xtest_onehot = np.array(Xtest_onehot)\n",
    "\n",
    "# This creates Ytrain_onehot and turns it into a np.array()\n",
    "Ytrain_onehot = OS_onehot_Ytrain.copy()\n",
    "Ytrain_onehot = np.array(Ytrain_onehot)\n",
    "\n",
    "# This create Ytest_onehot and turns it into a np.array()\n",
    "Ytest_onehot = ONE_HOT_y_test.copy()\n",
    "Ytest_onehot = np.array(Ytest_onehot)"
   ]
  },
  {
   "cell_type": "code",
   "execution_count": null,
   "metadata": {},
   "outputs": [],
   "source": [
    "Xtrain_onehot.shape"
   ]
  },
  {
   "cell_type": "code",
   "execution_count": null,
   "metadata": {},
   "outputs": [],
   "source": [
    "Ytrain_onehot.shape"
   ]
  },
  {
   "cell_type": "code",
   "execution_count": null,
   "metadata": {},
   "outputs": [],
   "source": [
    "Xtest_onehot.shape"
   ]
  },
  {
   "cell_type": "code",
   "execution_count": null,
   "metadata": {},
   "outputs": [],
   "source": [
    "Ytest_onehot.shape"
   ]
  },
  {
   "cell_type": "code",
   "execution_count": null,
   "metadata": {},
   "outputs": [],
   "source": [
    "'''\n",
    "# This writes the SUM data as a csv.\n",
    "\n",
    "# This writes the SUM Xtraining data as a csv.\n",
    "OS_sum_Xtrain = pd.DataFrame(OS_sum_Xtrain)\n",
    "OS_sum_Xtrain.to_csv('data/Xtrain_sum.csv', index=False)\n",
    "\n",
    "# This writes the SUM Ytraining data as a csv.\n",
    "OS_sum_Ytrain = pd.DataFrame(OS_sum_Ytrain)\n",
    "OS_sum_Ytrain.to_csv('data/Ytrain_sum.csv', index=False)\n",
    "\n",
    "# This writes the SUM x and y testing data to a csv.\n",
    "SUM_x_test.to_csv('data/Xtest_sum.csv', index=False)\n",
    "SUM_y_test.to_csv('data/Ytest_sum.csv', index=False, header=True)\n",
    "'''"
   ]
  },
  {
   "cell_type": "code",
   "execution_count": null,
   "metadata": {},
   "outputs": [],
   "source": [
    "    # This creates copies and relabels the SUM data.\n",
    "\n",
    "# This creates Xtrain_sum and turns it into a np.array()\n",
    "Xtrain_sum = OS_sum_Xtrain.copy()\n",
    "Xtrain_sum = np.array(Xtrain_sum)\n",
    "\n",
    "# This create Xtest_sum and turns it into a np.array()\n",
    "Xtest_sum = SUM_x_test.copy()\n",
    "Xtest_sum = np.array(Xtest_sum)\n",
    "\n",
    "# This creates Ytrain_sum and turns it into a np.array()\n",
    "Ytrain_sum = OS_sum_Ytrain.copy()\n",
    "Ytrain_sum = np.array(Ytrain_sum)\n",
    "\n",
    "# This create Ytest_sum and turns it into a np.array()\n",
    "Ytest_sum = SUM_y_test.copy()\n",
    "Ytest_sum = np.array(Ytest_sum)"
   ]
  },
  {
   "cell_type": "code",
   "execution_count": null,
   "metadata": {},
   "outputs": [],
   "source": [
    "Xtrain_sum.shape"
   ]
  },
  {
   "cell_type": "code",
   "execution_count": null,
   "metadata": {
    "scrolled": true
   },
   "outputs": [],
   "source": [
    "Ytrain_sum.shape"
   ]
  },
  {
   "cell_type": "code",
   "execution_count": null,
   "metadata": {},
   "outputs": [],
   "source": [
    "Xtest_sum.shape"
   ]
  },
  {
   "cell_type": "code",
   "execution_count": null,
   "metadata": {},
   "outputs": [],
   "source": [
    "Ytest_sum.shape"
   ]
  },
  {
   "cell_type": "markdown",
   "metadata": {},
   "source": [
    "<a id='Benchmark: Logistic Regression'></a>\n",
    "## Benchmark: Logistic Regression"
   ]
  },
  {
   "cell_type": "code",
   "execution_count": null,
   "metadata": {},
   "outputs": [],
   "source": [
    "# This imports the necessary libraries for the logistic regression models.\n",
    "from sklearn.linear_model import LogisticRegressionCV\n",
    "\n",
    "# This imports the AUC score for scoring the models.\n",
    "# This comes from Reference 27 in References.\n",
    "from sklearn.metrics import roc_auc_score\n",
    "\n",
    "# This code is somewhat redundant. If the viewer didn't want to look at\n",
    "# the full script and simply wanted to run the code here, this code\n",
    "# imports the necessary libraries the analysis will need.\n",
    "'''\n",
    "import numpy as np \n",
    "import pandas as pd\n",
    "import matplotlib.pyplot as plt\n",
    "import seaborn as sns\n",
    "import os\n",
    "%matplotlib inline\n",
    "'''"
   ]
  },
  {
   "cell_type": "markdown",
   "metadata": {},
   "source": [
    "### Load Data"
   ]
  },
  {
   "cell_type": "code",
   "execution_count": null,
   "metadata": {},
   "outputs": [],
   "source": [
    "'''\n",
    "# This loads the no_nulls X training and testing data\n",
    "# from the CSVs and converts the data to np.arrays.\n",
    "Xtrain_nonulls = pd.read_csv('data/Xtrain_nonulls.csv')\n",
    "Xtrain_nonulls = np.array(Xtrain_nonulls)\n",
    "Xtest_nonulls = pd.read_csv('data/Xtest_nonulls.csv')\n",
    "Xtest_nonulls = np.array(Xtest_nonulls)\n",
    "\n",
    "# This loads the no_nulls Y training and testing data\n",
    "# from the CSVs. It also ravels the y_data, so only \n",
    "# rows are shown, not columns.\n",
    "Ytrain_nonulls = pd.read_csv('data/Ytrain_nonulls.csv')\n",
    "Ytrain_nonulls = np.array(Ytrain_nonulls)\n",
    "Ytrain_nonulls = Ytrain_nonulls.ravel() \n",
    "Ytest_nonulls = pd.read_csv('data/Ytest_nonulls.csv')\n",
    "Ytest_nonulls = np.array(Ytest_nonulls)\n",
    "Ytest_nonulls = Ytest_nonulls.ravel()\n",
    "'''"
   ]
  },
  {
   "cell_type": "code",
   "execution_count": null,
   "metadata": {},
   "outputs": [],
   "source": [
    "# This loads the ONE HOT X training and testing data\n",
    "# from the CSVs.\n",
    "Xtrain_onehot = pd.read_csv('data/Xtrain_onehot.csv')\n",
    "Xtrain_onehot = np.array(Xtrain_onehot)\n",
    "Xtest_onehot = pd.read_csv('data/Xtest_onehot.csv')\n",
    "Xtest_onehot = np.array(Xtest_onehot)\n",
    "\n",
    "# This loads the ONE HOT Y training and testing data\n",
    "# from the CSVs. It also ravels the y_data, so only \n",
    "# rows are shown, not columns.\n",
    "Ytrain_onehot = pd.read_csv('data/Ytrain_onehot.csv')\n",
    "Ytrain_onehot = np.array(Ytrain_onehot)\n",
    "Ytrain_onehot = Ytrain_onehot.ravel()\n",
    "Ytest_onehot = pd.read_csv('data/Ytest_onehot.csv')\n",
    "Ytest_onehot =np.array(Ytest_onehot)\n",
    "Ytest_onehot = Ytest_onehot.ravel()"
   ]
  },
  {
   "cell_type": "code",
   "execution_count": null,
   "metadata": {},
   "outputs": [],
   "source": [
    "# This loads the SUM X training and testing data\n",
    "# from the CSVs.\n",
    "Xtrain_sum = pd.read_csv('data/Xtrain_sum.csv')\n",
    "Xtrain_sum = np.array(Xtrain_sum)\n",
    "Xtest_sum = pd.read_csv('data/Xtest_sum.csv')\n",
    "Xtest_sum = np.array(Xtest_sum)\n",
    "\n",
    "# This loads the SUM Y training and testing data\n",
    "# from the CSVs. It also ravels the y_data, so only \n",
    "# rows are shown, not columns.\n",
    "Ytrain_sum = pd.read_csv('data/Ytrain_sum.csv')\n",
    "Ytrain_sum = np.array(Ytrain_sum)\n",
    "Ytrain_sum = Ytrain_sum.ravel()\n",
    "Ytest_sum = pd.read_csv('data/Ytest_sum.csv')\n",
    "Ytest_sum = np.array(Ytest_sum)\n",
    "Ytest_sum = Ytest_sum.ravel()"
   ]
  },
  {
   "cell_type": "markdown",
   "metadata": {},
   "source": [
    "## Running the model"
   ]
  },
  {
   "cell_type": "code",
   "execution_count": null,
   "metadata": {},
   "outputs": [],
   "source": [
    "# This fits the Logistic Regression Model\n",
    "# for the no nulls data.\n",
    "# This model uses cross validation with 10 k-folds.\n",
    "# This model also penalizes the X feature weights with\n",
    "# 'l2' regularization.\n",
    "# This model has a max iteration of 100.\n",
    "# This comes from Reference 26 in References.\n",
    "LogReg_nonulls = LogisticRegressionCV(cv=10, penalty='l2', max_iter=100)\n",
    "LogReg_nonulls.fit(Xtrain_nonulls, Ytrain_nonulls)\n",
    "\n",
    "# This predicts the y_values for the Logistic Regression Model\n",
    "# for the no nulls data.\n",
    "# This comes from Reference 26 in References.\n",
    "PREDICTED_Ynonulls = LogReg_nonulls.predict(Xtest_nonulls)\n",
    "AUCscore_LogReg_nonulls = roc_auc_score(Ytest_nonulls, PREDICTED_Ynonulls)"
   ]
  },
  {
   "attachments": {},
   "cell_type": "markdown",
   "metadata": {},
   "source": [
    "<a id='originalMLP'></a>\n",
    "## Original MLP\n",
    "Mattson and Steinert created an MLP with the following hyperparameters: a stochastic gradient descent loss optimizer, the use of the ReLU activation function on the input and hidden layers, the use of dropout (with 0.5 probability) on the input and hidden layers, L2 regularization on the weights (with a factor of 0.001), 100 hidden layers, 100 epochs, and a batch size of 50 (Reference 7). While the algorithm in this section attempts to replicate their MLP, there are a few hyperparameters that they did not specify in their research, such as the output of each hidden layer. While this algorithm uses their defined hyperparameters, the other hyperparemeters are set to my discretion. Also, I attempt to duplicate the results that they found with their MLP, which can be found in the top row of the table below.\n",
    "\n",
    "This image comes from Reference 7 in References."
   ]
  },
  {
   "cell_type": "code",
   "execution_count": null,
   "metadata": {},
   "outputs": [],
   "source": [
    "# This imports the sequential model, the layers,\n",
    "# the SGD optimizer, the regularizers from keras.\n",
    "# This comes from Reference 13 in Referenes.\n",
    "from keras.models import Sequential\n",
    "from keras.layers import Dense, Dropout, Activation\n",
    "from keras.optimizers import SGD\n",
    "from keras import regularizers\n",
    "\n",
    "# This imports checkpointer, which records the best weights\n",
    "# for the algorithm.\n",
    "# This comes from Reference 15 in References.\n",
    "from keras.callbacks import ModelCheckpoint\n",
    "import matplotlib.pyplot as plt"
   ]
  },
  {
   "cell_type": "code",
   "execution_count": null,
   "metadata": {},
   "outputs": [],
   "source": [
    "# This sets the original hyperparameters from Mattson and Steinert\n",
    "# model.\n",
    "# This comes from Reference 7 in References.\n",
    "n_epochs = 100\n",
    "size_of_batch = 50\n",
    "stochastic = SGD()\n",
    "\n",
    "# This imports the build_model function.\n",
    "from MLP import build_model\n",
    "\n",
    "# This builds the original MLP model for year 1.\n",
    "# using Mattson and Steinart's original hyperparameters.\n",
    "model_OG_year1 = build_model(drop_rate=0.5,\n",
    "                            l2_factor=0.001,\n",
    "                            hidden_act='relu',\n",
    "                            out_act='sigmoid',\n",
    "                            num_hidden=100,\n",
    "                            in_dense=32,\n",
    "                            hid_dense= 16,\n",
    "                            x=X_1_oversampled)"
   ]
  },
  {
   "cell_type": "code",
   "execution_count": null,
   "metadata": {},
   "outputs": [],
   "source": [
    "# This compiles the original MLP model for year 1.\n",
    "# This is the binary output (bankrupt or not bankrupt) layer.\n",
    "# This comes from Reference 13 in References.\n",
    "model_OG_year1.compile(loss='binary_crossentropy',\n",
    "              optimizer= stochastic,\n",
    "              metrics=['accuracy'])"
   ]
  },
  {
   "cell_type": "code",
   "execution_count": null,
   "metadata": {},
   "outputs": [],
   "source": [
    "# This creates checkpointer, which uses ModelCheckpoint to store the\n",
    "# best weights of the model.\n",
    "# This comes from References 15 & 16 in References.\n",
    "checkpoint = ModelCheckpoint(filepath='saved_models/weights.best.model_OG_year1.hdf5',\n",
    "                              monitor='val_accuracy', verbose=1, save_best_only=True,\n",
    "                            mode='max')\n",
    "callbacks_list = [checkpoint]"
   ]
  },
  {
   "cell_type": "code",
   "execution_count": null,
   "metadata": {},
   "outputs": [],
   "source": [
    "# This fits the model and runs it for 100 epochs.\n",
    "model_OG_year1.fit(X_1_oversampled, y_1_oversampled, validation_split=0.2,\n",
    "                epochs=n_epochs, batch_size=size_of_batch, \n",
    "                callbacks = callbacks_list, verbose=1)"
   ]
  },
  {
   "cell_type": "code",
   "execution_count": null,
   "metadata": {},
   "outputs": [],
   "source": [
    "model_OG_year1.load_weights('saved_models/weights.best.model_OG_year1.hdf5')"
   ]
  },
  {
   "cell_type": "markdown",
   "metadata": {},
   "source": [
    "<a id='references'></a>\n",
    "## References"
   ]
  },
  {
   "cell_type": "markdown",
   "metadata": {},
   "source": [
    "1. https://discuss.analyticsvidhya.com/t/how-to-display-full-dataframe-in-pandas/23298\n",
    "2. https://github.com/brian-campbell-said-mba18/Udacity-DAND-Project-7-Dog-Tweet-Analysis/blob/master/wrangle_act.ipynb\n",
    "3. https://thispointer.com/pandas-find-duplicate-rows-in-a-dataframe-based-on-all-or-selected-columns-using-dataframe-duplicated-in-python/\n",
    "4. https://datatofish.com/convert-string-to-float-dataframe/\n",
    "5. https://www.geeksforgeeks.org/python-pandas-dataframe-drop_duplicates/\n",
    "6. https://pandas.pydata.org/pandas-docs/stable/reference/api/pandas.Series.value_counts.html\n",
    "7. https://pdfs.semanticscholar.org/cd5f/aff7c02bcba0b3f7f438d4d1c38c3d30d43e.pdf\n",
    "8. https://stackoverflow.com/questions/13610074/is-there-a-rule-of-thumb-for-how-to-divide-a-dataset-into-training-and-validatio\n",
    "9. https://becominghuman.ai/demystifying-feature-scaling-baff53e9b3fd\n",
    "10. https://machinelearningmastery.com/how-to-improve-neural-network-stability-and-modeling-performance-with-data-scaling/\n",
    "11. https://towardsdatascience.com/methods-for-dealing-with-imbalanced-data-5b761be45a18\n",
    "12. https://www.w3resource.com/python-exercises/numpy/python-numpy-exercise-94.php\n",
    "13. https://keras.io/getting-started/sequential-model-guide/\n",
    "14. https://docs.scipy.org/doc/numpy/reference/generated/numpy.ma.size.html\n",
    "15. Udacity Machine Learning Engineer Nanodegree Program, Semester 2, Brian Campbell - Dog Breed Classifier Project\n",
    "16. https://machinelearningmastery.com/check-point-deep-learning-models-keras/\n",
    "17. https://archive.ics.uci.edu/ml/datasets/Polish+companies+bankruptcy+data\n",
    "18. https://machinelearningmastery.com/data-leakage-machine-learning/\n",
    "19. https://stats.stackexchange.com/questions/301350/imputing-missing-values-on-a-testing-set [Accessed 6 Nov. 2019].\n",
    "20. Udacity Mentor Review # 1. (2019). Capstone Project: The Efficacy of Multilayer Perceptron Algorithms in Predicting Bankruptcy.\n",
    "21. https://pandas.pydata.org/pandas-docs/stable/user_guide/merging.html\n",
    "22. https://seaborn.pydata.org/generated/seaborn.scatterplot.html\n",
    "23. Udacity Data Analyst Nanodegree, Semester 1, Brian Campbell – Project 3, Determining Factors that Correlate to Movie Profitability\n",
    "24. https://matplotlib.org/3.1.1/api/_as_gen/matplotlib.pyplot.figure.html#matplotlib.pyplot.figure\n",
    "25. https://beckernick.github.io/oversampling-modeling/\n",
    "26. https://scikit-learn.org/stable/modules/generated/sklearn.linear_model.LogisticRegressionCV.html#sklearn.linear_model.LogisticRegressionCV\n",
    "27. https://stackoverflow.com/questions/41032551/how-to-compute-receiving-operating-characteristic-roc-and-auc-in-keras"
   ]
  }
 ],
 "metadata": {
  "kernelspec": {
   "display_name": "Python [conda env:py36]",
   "language": "python",
   "name": "conda-env-py36-py"
  },
  "language_info": {
   "codemirror_mode": {
    "name": "ipython",
    "version": 3
   },
   "file_extension": ".py",
   "mimetype": "text/x-python",
   "name": "python",
   "nbconvert_exporter": "python",
   "pygments_lexer": "ipython3",
   "version": "3.6.7"
  }
 },
 "nbformat": 4,
 "nbformat_minor": 2
}
